{
 "cells": [
  {
   "cell_type": "code",
   "execution_count": 2,
   "id": "3d5d6d58-6b44-4249-b716-0e080ec969ee",
   "metadata": {},
   "outputs": [
    {
     "name": "stderr",
     "output_type": "stream",
     "text": [
      "/home/spirali/.local/lib/python3.10/site-packages/scipy/__init__.py:155: UserWarning: A NumPy version >=1.18.5 and <1.26.0 is required for this version of SciPy (detected version 1.26.4\n",
      "  warnings.warn(f\"A NumPy version >={np_minversion} and <{np_maxversion}\"\n"
     ]
    }
   ],
   "source": [
    "import pandas as pd\n",
    "from scipy.stats import beta\n",
    "import plotly.express as px\n",
    "import numpy as np"
   ]
  },
  {
   "cell_type": "code",
   "execution_count": 3,
   "id": "5207076e-b6ef-4cd9-977a-7e27feeefbbe",
   "metadata": {},
   "outputs": [],
   "source": [
    "DATA = {\n",
    "    \"GPT-4\": {\n",
    "        \"products - list.\": {\n",
    "            \"Humans\": [],\n",
    "            \"LLMs\": [0.87, 0.90, 0.96, 0.56, 0.82, 0.86, 0.86, 0.79],\n",
    "            \"LLM-samples\": 440,\n",
    "        },\n",
    "        \"products - det.\": {\n",
    "            \"Humans\": [0.29],\n",
    "            \"Humans-samples\": 214,\n",
    "            \"LLMs\": [0.88, 0.89, 0.95, 0.53, 0.84, 0.83, 0.84, 0.89],\n",
    "            \"LLM-samples\": 440,\n",
    "        },\n",
    "        \"papers\": {\n",
    "            \"Humans\": [0.46],\n",
    "            \"Humans-samples\": 249,\n",
    "            \"LLMs\": [0.77, 0.70, 0.82, 0.52, 0.71, 0.79, 0.73, 0.82],\n",
    "            \"LLM-samples\": 664 / 2,\n",
    "        },\n",
    "    },\n",
    "    \"GPT-3.5\": {\n",
    "        \"products - list.\": {\n",
    "            \"Humans\": [],\n",
    "            \"LLMs\": [0.55, 0.70, 0.69, 0.52, 0.59, 0.60, 0.64, 0.59],\n",
    "            \"LLM-samples\": 440,\n",
    "        },\n",
    "        \"products - det.\": {\n",
    "            \"Humans\": [0.28],\n",
    "            \"Humans-samples\": 428,\n",
    "            \"LLMs\": [0.62, 0.74, 0.79, 0.52, 0.67, 0.64, 0.70, 0.64],\n",
    "            \"LLM-samples\": 440,\n",
    "        },\n",
    "        \"papers\": {\n",
    "            \"Humans\": [0.60],\n",
    "            \"Humans-samples\": 321,\n",
    "            \"LLMs\": [0.60, 0.52, 0.67, 0.50, 0.61, 0.64, 0.55, 0.54],\n",
    "            \"LLM-samples\": 744 / 2,\n",
    "        },\n",
    "    },\n",
    "}\n",
    "\n",
    "MODELS = [\n",
    "    \"GPT-4\",\n",
    "    \"GPT-3.5\",\n",
    "    \"Mixtral-8x22B\",\n",
    "    \"Qwen1.5-4B\",\n",
    "    \"Qwen1.5-14B\",\n",
    "    \"Qwen1.5-72B\",\n",
    "    \"Llama-3-8b\",\n",
    "    \"Llama-3-70b\",\n",
    "]\n",
    "\n",
    "OFFSET_NAMES = [\"Humans\"] + MODELS\n",
    "\n",
    "rows = []\n",
    "for gen_name, value in sorted(DATA.items()):\n",
    "    for etype, value2 in sorted(value.items()):\n",
    "        if value2[\"Humans\"]:\n",
    "            rows.append([gen_name, etype, \"Humans\", value2[\"Humans\"][0], value2[\"Humans-samples\"]])\n",
    "        for model, val in zip(MODELS, value2[\"LLMs\"]):\n",
    "            rows.append([gen_name, etype, model, val, value2[\"LLM-samples\"]])            \n",
    "df = pd.DataFrame(rows, columns=[\"gen_name\", \"etype\", \"model\", \"ratio\", \"size\"])\n",
    "def compute_ci(value, size):\n",
    "    alpha = value * size\n",
    "    beta_ = (1 - value) * size\n",
    "    a, b = beta.interval(0.95, alpha, beta_)\n",
    "    return value - a, b - value \n",
    "\n",
    "df[[\"ci0\", \"ci1\"]] = df.apply(lambda x: compute_ci(x[\"ratio\"], x[\"size\"]), axis=1, result_type='expand')\n",
    "#df[\"Evaluator\"] = df.model.apply(lambda x: x if (\"Human\" in x or \"GPT\" in x) else \"Other LLM\")\n",
    "df[\"Evaluator\"] = df.model\n",
    "df[\"offset\"] = df.model.apply(lambda x: (OFFSET_NAMES.index(x) - len(OFFSET_NAMES) / 2) / (len(OFFSET_NAMES) * 2))"
   ]
  },
  {
   "cell_type": "code",
   "execution_count": 13,
   "id": "e7a8359b-441e-4bd3-8e7c-f70ec6f94079",
   "metadata": {},
   "outputs": [
    {
     "data": {
      "application/vnd.plotly.v1+json": {
       "config": {
        "plotlyServerURL": "https://plot.ly"
       },
       "data": [
        {
         "error_y": {
          "array": [
           0.052880924327161516,
           0.0434322079966839
          ],
          "arrayminus": [
           0.054061338868387376,
           0.04148484950825801
          ]
         },
         "hovertemplate": "Evaluator=Humans<br>Generator=GPT-3.5<br>Dataset & Prompts=%{x}<br>ratio=%{y}<extra></extra>",
         "legendgroup": "Humans",
         "marker": {
          "color": "#636efa",
          "size": 10,
          "symbol": "circle"
         },
         "mode": "markers",
         "name": "Humans",
         "orientation": "v",
         "showlegend": true,
         "type": "scatter",
         "x": [
          -0.25,
          0.75
         ],
         "xaxis": "x2",
         "y": [
          0.6,
          0.28
         ],
         "yaxis": "y2"
        },
        {
         "error_y": {
          "array": [
           0.062031993654300066,
           0.06243114274782435
          ],
          "arrayminus": [
           0.06142325071211863,
           0.05871348390570977
          ]
         },
         "hovertemplate": "Evaluator=Humans<br>Generator=GPT-4<br>Dataset & Prompts=%{x}<br>ratio=%{y}<extra></extra>",
         "legendgroup": "Humans",
         "marker": {
          "color": "#636efa",
          "size": 10,
          "symbol": "circle"
         },
         "mode": "markers",
         "name": "Humans",
         "orientation": "v",
         "showlegend": false,
         "type": "scatter",
         "x": [
          -0.25,
          0.75
         ],
         "xaxis": "x",
         "y": [
          0.46,
          0.29
         ],
         "yaxis": "y"
        },
        {
         "error_y": {
          "array": [
           0.04917684350007612,
           0.044761257923305875,
           0.04619391886055069
          ],
          "arrayminus": [
           0.05019540893420127,
           0.04579460744133079,
           0.04662449563288362
          ]
         },
         "hovertemplate": "Evaluator=GPT-4<br>Generator=GPT-3.5<br>Dataset & Prompts=%{x}<br>ratio=%{y}<extra></extra>",
         "legendgroup": "GPT-4",
         "marker": {
          "color": "#EF553B",
          "size": 10,
          "symbol": "square"
         },
         "mode": "markers",
         "name": "GPT-4",
         "orientation": "v",
         "showlegend": true,
         "type": "scatter",
         "x": [
          -0.19444444444444445,
          0.8055555555555556,
          1.8055555555555556
         ],
         "xaxis": "x2",
         "y": [
          0.6,
          0.62,
          0.55
         ],
         "yaxis": "y2"
        },
        {
         "error_y": {
          "array": [
           0.04361104545739414,
           0.028647038267394342,
           0.029750687819637855
          ],
          "arrayminus": [
           0.04669155459139773,
           0.03191648297759819,
           0.03293442675747604
          ]
         },
         "hovertemplate": "Evaluator=GPT-4<br>Generator=GPT-4<br>Dataset & Prompts=%{x}<br>ratio=%{y}<extra></extra>",
         "legendgroup": "GPT-4",
         "marker": {
          "color": "#EF553B",
          "size": 10,
          "symbol": "square"
         },
         "mode": "markers",
         "name": "GPT-4",
         "orientation": "v",
         "showlegend": false,
         "type": "scatter",
         "x": [
          -0.19444444444444445,
          0.8055555555555556,
          1.8055555555555556
         ],
         "xaxis": "x",
         "y": [
          0.77,
          0.88,
          0.87
         ],
         "yaxis": "y"
        },
        {
         "error_y": {
          "array": [
           0.05057015187022196,
           0.03987585544450534,
           0.04188184811333373
          ],
          "arrayminus": [
           0.05077387132578215,
           0.04194222975303119,
           0.04360395044231524
          ]
         },
         "hovertemplate": "Evaluator=GPT-3.5<br>Generator=GPT-3.5<br>Dataset & Prompts=%{x}<br>ratio=%{y}<extra></extra>",
         "legendgroup": "GPT-3.5",
         "marker": {
          "color": "#00cc96",
          "size": 10,
          "symbol": "diamond"
         },
         "mode": "markers",
         "name": "GPT-3.5",
         "orientation": "v",
         "showlegend": true,
         "type": "scatter",
         "x": [
          -0.1388888888888889,
          0.8611111111111112,
          1.8611111111111112
         ],
         "xaxis": "x2",
         "y": [
          0.52,
          0.74,
          0.7
         ],
         "yaxis": "y2"
        },
        {
         "error_y": {
          "array": [
           0.04803692223423861,
           0.027475015814294346,
           0.026226342507105094
          ],
          "arrayminus": [
           0.05031922378652087,
           0.03083008271463894,
           0.029666922668981743
          ]
         },
         "hovertemplate": "Evaluator=GPT-3.5<br>Generator=GPT-4<br>Dataset & Prompts=%{x}<br>ratio=%{y}<extra></extra>",
         "legendgroup": "GPT-3.5",
         "marker": {
          "color": "#00cc96",
          "size": 10,
          "symbol": "diamond"
         },
         "mode": "markers",
         "name": "GPT-3.5",
         "orientation": "v",
         "showlegend": false,
         "type": "scatter",
         "x": [
          -0.1388888888888889,
          0.8611111111111112,
          1.8611111111111112
         ],
         "xaxis": "x",
         "y": [
          0.7,
          0.89,
          0.9
         ],
         "yaxis": "y"
        },
        {
         "error_y": {
          "array": [
           0.04681991632749927,
           0.03673291588859784,
           0.0423207050091603
          ],
          "arrayminus": [
           0.0485513571912527,
           0.03922944253058969,
           0.043956725641904226
          ]
         },
         "hovertemplate": "Evaluator=Mixtral-8x22B<br>Generator=GPT-3.5<br>Dataset & Prompts=%{x}<br>ratio=%{y}<extra></extra>",
         "legendgroup": "Mixtral-8x22B",
         "marker": {
          "color": "#ab63fa",
          "size": 10,
          "symbol": "x"
         },
         "mode": "markers",
         "name": "Mixtral-8x22B",
         "orientation": "v",
         "showlegend": true,
         "type": "scatter",
         "x": [
          -0.08333333333333333,
          0.9166666666666666,
          1.9166666666666667
         ],
         "xaxis": "x2",
         "y": [
          0.67,
          0.79,
          0.69
         ],
         "yaxis": "y2"
        },
        {
         "error_y": {
          "array": [
           0.039382401587660154,
           0.018330976880561733,
           0.01622785296325735
          ],
          "arrayminus": [
           0.04303246931739724,
           0.02219516049705994,
           0.020174548827762928
          ]
         },
         "hovertemplate": "Evaluator=Mixtral-8x22B<br>Generator=GPT-4<br>Dataset & Prompts=%{x}<br>ratio=%{y}<extra></extra>",
         "legendgroup": "Mixtral-8x22B",
         "marker": {
          "color": "#ab63fa",
          "size": 10,
          "symbol": "x"
         },
         "mode": "markers",
         "name": "Mixtral-8x22B",
         "orientation": "v",
         "showlegend": false,
         "type": "scatter",
         "x": [
          -0.08333333333333333,
          0.9166666666666666,
          1.9166666666666667
         ],
         "xaxis": "x",
         "y": [
          0.82,
          0.95,
          0.96
         ],
         "yaxis": "y"
        },
        {
         "error_y": {
          "array": [
           0.05071267423224368,
           0.046519877749314764,
           0.046519877749314764
          ],
          "arrayminus": [
           0.05071267423224374,
           0.04669210942239299,
           0.04669210942239299
          ]
         },
         "hovertemplate": "Evaluator=Qwen1.5-4B<br>Generator=GPT-3.5<br>Dataset & Prompts=%{x}<br>ratio=%{y}<extra></extra>",
         "legendgroup": "Qwen1.5-4B",
         "marker": {
          "color": "#FFA15A",
          "size": 10,
          "symbol": "triangle-left"
         },
         "mode": "markers",
         "name": "Qwen1.5-4B",
         "orientation": "v",
         "showlegend": true,
         "type": "scatter",
         "x": [
          -0.027777777777777776,
          0.9722222222222222,
          1.9722222222222223
         ],
         "xaxis": "x2",
         "y": [
          0.5,
          0.52,
          0.52
         ],
         "yaxis": "y2"
        },
        {
         "error_y": {
          "array": [
           0.05351124509917948,
           0.046430041551499324,
           0.0460474496425366
          ],
          "arrayminus": [
           0.053739513015807816,
           0.046688388718998,
           0.04656414023450961
          ]
         },
         "hovertemplate": "Evaluator=Qwen1.5-4B<br>Generator=GPT-4<br>Dataset & Prompts=%{x}<br>ratio=%{y}<extra></extra>",
         "legendgroup": "Qwen1.5-4B",
         "marker": {
          "color": "#FFA15A",
          "size": 10,
          "symbol": "triangle-left"
         },
         "mode": "markers",
         "name": "Qwen1.5-4B",
         "orientation": "v",
         "showlegend": false,
         "type": "scatter",
         "x": [
          -0.027777777777777776,
          0.9722222222222222,
          1.9722222222222223
         ],
         "xaxis": "x",
         "y": [
          0.52,
          0.53,
          0.56
         ],
         "yaxis": "y"
        },
        {
         "error_y": {
          "array": [
           0.04890763778387908,
           0.04312814693444944,
           0.045492804374778095
          ],
          "arrayminus": [
           0.050028051720674704,
           0.04459199160572769,
           0.04626783062572126
          ]
         },
         "hovertemplate": "Evaluator=Qwen1.5-14B<br>Generator=GPT-3.5<br>Dataset & Prompts=%{x}<br>ratio=%{y}<extra></extra>",
         "legendgroup": "Qwen1.5-14B",
         "marker": {
          "color": "#19d3f3",
          "size": 10,
          "symbol": "triangle-up"
         },
         "mode": "markers",
         "name": "Qwen1.5-14B",
         "orientation": "v",
         "showlegend": true,
         "type": "scatter",
         "x": [
          0.027777777777777776,
          1.0277777777777777,
          2.0277777777777777
         ],
         "xaxis": "x2",
         "y": [
          0.61,
          0.67,
          0.59
         ],
         "yaxis": "y2"
        },
        {
         "error_y": {
          "array": [
           0.047496238660954204,
           0.03271302105797358,
           0.0344426521723421
          ],
          "arrayminus": [
           0.0498926054815102,
           0.03563929915549524,
           0.037197099739052164
          ]
         },
         "hovertemplate": "Evaluator=Qwen1.5-14B<br>Generator=GPT-4<br>Dataset & Prompts=%{x}<br>ratio=%{y}<extra></extra>",
         "legendgroup": "Qwen1.5-14B",
         "marker": {
          "color": "#19d3f3",
          "size": 10,
          "symbol": "triangle-up"
         },
         "mode": "markers",
         "name": "Qwen1.5-14B",
         "orientation": "v",
         "showlegend": false,
         "type": "scatter",
         "x": [
          0.027777777777777776,
          1.0277777777777777,
          2.0277777777777777
         ],
         "xaxis": "x",
         "y": [
          0.71,
          0.84,
          0.82
         ],
         "yaxis": "y"
        },
        {
         "error_y": {
          "array": [
           0.047967307321098995,
           0.044171843687025425,
           0.04526891430669
          ],
          "arrayminus": [
           0.049393250617165374,
           0.045377399097470295,
           0.04613004994347625
          ]
         },
         "hovertemplate": "Evaluator=Qwen1.5-72B<br>Generator=GPT-3.5<br>Dataset & Prompts=%{x}<br>ratio=%{y}<extra></extra>",
         "legendgroup": "Qwen1.5-72B",
         "marker": {
          "color": "#FF6692",
          "size": 10,
          "symbol": "triangle-down"
         },
         "mode": "markers",
         "name": "Qwen1.5-72B",
         "orientation": "v",
         "showlegend": true,
         "type": "scatter",
         "x": [
          0.08333333333333333,
          1.0833333333333333,
          2.0833333333333335
         ],
         "xaxis": "x2",
         "y": [
          0.64,
          0.64,
          0.6
         ],
         "yaxis": "y2"
        },
        {
         "error_y": {
          "array": [
           0.0420416949079403,
           0.033599924201695885,
           0.030792687320077672
          ],
          "arrayminus": [
           0.04535011276815104,
           0.03644030150618682,
           0.033890654968756095
          ]
         },
         "hovertemplate": "Evaluator=Qwen1.5-72B<br>Generator=GPT-4<br>Dataset & Prompts=%{x}<br>ratio=%{y}<extra></extra>",
         "legendgroup": "Qwen1.5-72B",
         "marker": {
          "color": "#FF6692",
          "size": 10,
          "symbol": "triangle-down"
         },
         "mode": "markers",
         "name": "Qwen1.5-72B",
         "orientation": "v",
         "showlegend": false,
         "type": "scatter",
         "x": [
          0.08333333333333333,
          1.0833333333333333,
          2.0833333333333335
         ],
         "xaxis": "x",
         "y": [
          0.79,
          0.83,
          0.86
         ],
         "yaxis": "y"
        },
        {
         "error_y": {
          "array": [
           0.050203347537223886,
           0.04188184811333373,
           0.044171843687025425
          ],
          "arrayminus": [
           0.050712642799173646,
           0.04360395044231524,
           0.045377399097470295
          ]
         },
         "hovertemplate": "Evaluator=Llama-3-8b<br>Generator=GPT-3.5<br>Dataset & Prompts=%{x}<br>ratio=%{y}<extra></extra>",
         "legendgroup": "Llama-3-8b",
         "marker": {
          "color": "#B6E880",
          "size": 10,
          "symbol": "star"
         },
         "mode": "markers",
         "name": "Llama-3-8b",
         "orientation": "v",
         "showlegend": true,
         "type": "scatter",
         "x": [
          0.1388888888888889,
          1.1388888888888888,
          2.138888888888889
         ],
         "xaxis": "x2",
         "y": [
          0.55,
          0.7,
          0.64
         ],
         "yaxis": "y2"
        },
        {
         "error_y": {
          "array": [
           0.04632753239422338,
           0.03271302105797358,
           0.030792687320077672
          ],
          "arrayminus": [
           0.04895199983156884,
           0.03563929915549524,
           0.033890654968756095
          ]
         },
         "hovertemplate": "Evaluator=Llama-3-8b<br>Generator=GPT-4<br>Dataset & Prompts=%{x}<br>ratio=%{y}<extra></extra>",
         "legendgroup": "Llama-3-8b",
         "marker": {
          "color": "#B6E880",
          "size": 10,
          "symbol": "star"
         },
         "mode": "markers",
         "name": "Llama-3-8b",
         "orientation": "v",
         "showlegend": false,
         "type": "scatter",
         "x": [
          0.1388888888888889,
          1.1388888888888888,
          2.138888888888889
         ],
         "xaxis": "x",
         "y": [
          0.73,
          0.84,
          0.86
         ],
         "yaxis": "y"
        },
        {
         "error_y": {
          "array": [
           0.050346108757264196,
           0.044171843687025425,
           0.045492804374778095
          ],
          "arrayminus": [
           0.05075354613025007,
           0.045377399097470295,
           0.04626783062572126
          ]
         },
         "hovertemplate": "Evaluator=Llama-3-70b<br>Generator=GPT-3.5<br>Dataset & Prompts=%{x}<br>ratio=%{y}<extra></extra>",
         "legendgroup": "Llama-3-70b",
         "marker": {
          "color": "#FF97FF",
          "size": 10,
          "symbol": "pentagon"
         },
         "mode": "markers",
         "name": "Llama-3-70b",
         "orientation": "v",
         "showlegend": true,
         "type": "scatter",
         "x": [
          0.19444444444444445,
          1.1944444444444444,
          2.1944444444444446
         ],
         "xaxis": "x2",
         "y": [
          0.54,
          0.64,
          0.59
         ],
         "yaxis": "y2"
        },
        {
         "error_y": {
          "array": [
           0.039382401587660154,
           0.027475015814294346,
           0.03673291588859784
          ],
          "arrayminus": [
           0.04303246931739724,
           0.03083008271463894,
           0.03922944253058969
          ]
         },
         "hovertemplate": "Evaluator=Llama-3-70b<br>Generator=GPT-4<br>Dataset & Prompts=%{x}<br>ratio=%{y}<extra></extra>",
         "legendgroup": "Llama-3-70b",
         "marker": {
          "color": "#FF97FF",
          "size": 10,
          "symbol": "pentagon"
         },
         "mode": "markers",
         "name": "Llama-3-70b",
         "orientation": "v",
         "showlegend": false,
         "type": "scatter",
         "x": [
          0.19444444444444445,
          1.1944444444444444,
          2.1944444444444446
         ],
         "xaxis": "x",
         "y": [
          0.82,
          0.89,
          0.79
         ],
         "yaxis": "y"
        }
       ],
       "layout": {
        "annotations": [
         {
          "showarrow": false,
          "text": "Generator GPT-4",
          "x": 0.5,
          "xanchor": "center",
          "xref": "paper",
          "y": 0.46499999999999997,
          "yanchor": "bottom",
          "yref": "paper"
         },
         {
          "showarrow": false,
          "text": "Generator GPT-3.5",
          "x": 0.5,
          "xanchor": "center",
          "xref": "paper",
          "y": 0.9999999999999999,
          "yanchor": "bottom",
          "yref": "paper"
         }
        ],
        "height": 800,
        "legend": {
         "title": {
          "text": "Evaluator"
         },
         "tracegroupgap": 0,
         "x": 1.02,
         "y": 0.5,
         "yanchor": "middle"
        },
        "margin": {
         "t": 60
        },
        "plot_bgcolor": "rgba(0, 0, 0, 0)",
        "shapes": [
         {
          "line": {
           "width": 0.5
          },
          "type": "line",
          "x0": 0,
          "x1": 1,
          "xref": "x domain",
          "y0": 0.5,
          "y1": 0.5,
          "yref": "y"
         },
         {
          "line": {
           "width": 0.5
          },
          "type": "line",
          "x0": 0,
          "x1": 1,
          "xref": "x2 domain",
          "y0": 0.5,
          "y1": 0.5,
          "yref": "y2"
         },
         {
          "line": {
           "width": 1
          },
          "type": "line",
          "x0": 0,
          "x1": 1,
          "xref": "x domain",
          "y0": 1,
          "y1": 1,
          "yref": "y"
         },
         {
          "line": {
           "width": 1
          },
          "type": "line",
          "x0": 0,
          "x1": 1,
          "xref": "x2 domain",
          "y0": 1,
          "y1": 1,
          "yref": "y2"
         },
         {
          "line": {
           "dash": "10px 10px",
           "width": 0.5
          },
          "type": "line",
          "x0": 0,
          "x1": 1,
          "xref": "x domain",
          "y0": 0.25,
          "y1": 0.25,
          "yref": "y"
         },
         {
          "line": {
           "dash": "10px 10px",
           "width": 0.5
          },
          "type": "line",
          "x0": 0,
          "x1": 1,
          "xref": "x2 domain",
          "y0": 0.25,
          "y1": 0.25,
          "yref": "y2"
         },
         {
          "line": {
           "dash": "10px 10px",
           "width": 0.5
          },
          "type": "line",
          "x0": 0,
          "x1": 1,
          "xref": "x domain",
          "y0": 0.75,
          "y1": 0.75,
          "yref": "y"
         },
         {
          "line": {
           "dash": "10px 10px",
           "width": 0.5
          },
          "type": "line",
          "x0": 0,
          "x1": 1,
          "xref": "x2 domain",
          "y0": 0.75,
          "y1": 0.75,
          "yref": "y2"
         }
        ],
        "template": {
         "data": {
          "bar": [
           {
            "error_x": {
             "color": "#2a3f5f"
            },
            "error_y": {
             "color": "#2a3f5f"
            },
            "marker": {
             "line": {
              "color": "#E5ECF6",
              "width": 0.5
             },
             "pattern": {
              "fillmode": "overlay",
              "size": 10,
              "solidity": 0.2
             }
            },
            "type": "bar"
           }
          ],
          "barpolar": [
           {
            "marker": {
             "line": {
              "color": "#E5ECF6",
              "width": 0.5
             },
             "pattern": {
              "fillmode": "overlay",
              "size": 10,
              "solidity": 0.2
             }
            },
            "type": "barpolar"
           }
          ],
          "carpet": [
           {
            "aaxis": {
             "endlinecolor": "#2a3f5f",
             "gridcolor": "white",
             "linecolor": "white",
             "minorgridcolor": "white",
             "startlinecolor": "#2a3f5f"
            },
            "baxis": {
             "endlinecolor": "#2a3f5f",
             "gridcolor": "white",
             "linecolor": "white",
             "minorgridcolor": "white",
             "startlinecolor": "#2a3f5f"
            },
            "type": "carpet"
           }
          ],
          "choropleth": [
           {
            "colorbar": {
             "outlinewidth": 0,
             "ticks": ""
            },
            "type": "choropleth"
           }
          ],
          "contour": [
           {
            "colorbar": {
             "outlinewidth": 0,
             "ticks": ""
            },
            "colorscale": [
             [
              0,
              "#0d0887"
             ],
             [
              0.1111111111111111,
              "#46039f"
             ],
             [
              0.2222222222222222,
              "#7201a8"
             ],
             [
              0.3333333333333333,
              "#9c179e"
             ],
             [
              0.4444444444444444,
              "#bd3786"
             ],
             [
              0.5555555555555556,
              "#d8576b"
             ],
             [
              0.6666666666666666,
              "#ed7953"
             ],
             [
              0.7777777777777778,
              "#fb9f3a"
             ],
             [
              0.8888888888888888,
              "#fdca26"
             ],
             [
              1,
              "#f0f921"
             ]
            ],
            "type": "contour"
           }
          ],
          "contourcarpet": [
           {
            "colorbar": {
             "outlinewidth": 0,
             "ticks": ""
            },
            "type": "contourcarpet"
           }
          ],
          "heatmap": [
           {
            "colorbar": {
             "outlinewidth": 0,
             "ticks": ""
            },
            "colorscale": [
             [
              0,
              "#0d0887"
             ],
             [
              0.1111111111111111,
              "#46039f"
             ],
             [
              0.2222222222222222,
              "#7201a8"
             ],
             [
              0.3333333333333333,
              "#9c179e"
             ],
             [
              0.4444444444444444,
              "#bd3786"
             ],
             [
              0.5555555555555556,
              "#d8576b"
             ],
             [
              0.6666666666666666,
              "#ed7953"
             ],
             [
              0.7777777777777778,
              "#fb9f3a"
             ],
             [
              0.8888888888888888,
              "#fdca26"
             ],
             [
              1,
              "#f0f921"
             ]
            ],
            "type": "heatmap"
           }
          ],
          "heatmapgl": [
           {
            "colorbar": {
             "outlinewidth": 0,
             "ticks": ""
            },
            "colorscale": [
             [
              0,
              "#0d0887"
             ],
             [
              0.1111111111111111,
              "#46039f"
             ],
             [
              0.2222222222222222,
              "#7201a8"
             ],
             [
              0.3333333333333333,
              "#9c179e"
             ],
             [
              0.4444444444444444,
              "#bd3786"
             ],
             [
              0.5555555555555556,
              "#d8576b"
             ],
             [
              0.6666666666666666,
              "#ed7953"
             ],
             [
              0.7777777777777778,
              "#fb9f3a"
             ],
             [
              0.8888888888888888,
              "#fdca26"
             ],
             [
              1,
              "#f0f921"
             ]
            ],
            "type": "heatmapgl"
           }
          ],
          "histogram": [
           {
            "marker": {
             "pattern": {
              "fillmode": "overlay",
              "size": 10,
              "solidity": 0.2
             }
            },
            "type": "histogram"
           }
          ],
          "histogram2d": [
           {
            "colorbar": {
             "outlinewidth": 0,
             "ticks": ""
            },
            "colorscale": [
             [
              0,
              "#0d0887"
             ],
             [
              0.1111111111111111,
              "#46039f"
             ],
             [
              0.2222222222222222,
              "#7201a8"
             ],
             [
              0.3333333333333333,
              "#9c179e"
             ],
             [
              0.4444444444444444,
              "#bd3786"
             ],
             [
              0.5555555555555556,
              "#d8576b"
             ],
             [
              0.6666666666666666,
              "#ed7953"
             ],
             [
              0.7777777777777778,
              "#fb9f3a"
             ],
             [
              0.8888888888888888,
              "#fdca26"
             ],
             [
              1,
              "#f0f921"
             ]
            ],
            "type": "histogram2d"
           }
          ],
          "histogram2dcontour": [
           {
            "colorbar": {
             "outlinewidth": 0,
             "ticks": ""
            },
            "colorscale": [
             [
              0,
              "#0d0887"
             ],
             [
              0.1111111111111111,
              "#46039f"
             ],
             [
              0.2222222222222222,
              "#7201a8"
             ],
             [
              0.3333333333333333,
              "#9c179e"
             ],
             [
              0.4444444444444444,
              "#bd3786"
             ],
             [
              0.5555555555555556,
              "#d8576b"
             ],
             [
              0.6666666666666666,
              "#ed7953"
             ],
             [
              0.7777777777777778,
              "#fb9f3a"
             ],
             [
              0.8888888888888888,
              "#fdca26"
             ],
             [
              1,
              "#f0f921"
             ]
            ],
            "type": "histogram2dcontour"
           }
          ],
          "mesh3d": [
           {
            "colorbar": {
             "outlinewidth": 0,
             "ticks": ""
            },
            "type": "mesh3d"
           }
          ],
          "parcoords": [
           {
            "line": {
             "colorbar": {
              "outlinewidth": 0,
              "ticks": ""
             }
            },
            "type": "parcoords"
           }
          ],
          "pie": [
           {
            "automargin": true,
            "type": "pie"
           }
          ],
          "scatter": [
           {
            "fillpattern": {
             "fillmode": "overlay",
             "size": 10,
             "solidity": 0.2
            },
            "type": "scatter"
           }
          ],
          "scatter3d": [
           {
            "line": {
             "colorbar": {
              "outlinewidth": 0,
              "ticks": ""
             }
            },
            "marker": {
             "colorbar": {
              "outlinewidth": 0,
              "ticks": ""
             }
            },
            "type": "scatter3d"
           }
          ],
          "scattercarpet": [
           {
            "marker": {
             "colorbar": {
              "outlinewidth": 0,
              "ticks": ""
             }
            },
            "type": "scattercarpet"
           }
          ],
          "scattergeo": [
           {
            "marker": {
             "colorbar": {
              "outlinewidth": 0,
              "ticks": ""
             }
            },
            "type": "scattergeo"
           }
          ],
          "scattergl": [
           {
            "marker": {
             "colorbar": {
              "outlinewidth": 0,
              "ticks": ""
             }
            },
            "type": "scattergl"
           }
          ],
          "scattermapbox": [
           {
            "marker": {
             "colorbar": {
              "outlinewidth": 0,
              "ticks": ""
             }
            },
            "type": "scattermapbox"
           }
          ],
          "scatterpolar": [
           {
            "marker": {
             "colorbar": {
              "outlinewidth": 0,
              "ticks": ""
             }
            },
            "type": "scatterpolar"
           }
          ],
          "scatterpolargl": [
           {
            "marker": {
             "colorbar": {
              "outlinewidth": 0,
              "ticks": ""
             }
            },
            "type": "scatterpolargl"
           }
          ],
          "scatterternary": [
           {
            "marker": {
             "colorbar": {
              "outlinewidth": 0,
              "ticks": ""
             }
            },
            "type": "scatterternary"
           }
          ],
          "surface": [
           {
            "colorbar": {
             "outlinewidth": 0,
             "ticks": ""
            },
            "colorscale": [
             [
              0,
              "#0d0887"
             ],
             [
              0.1111111111111111,
              "#46039f"
             ],
             [
              0.2222222222222222,
              "#7201a8"
             ],
             [
              0.3333333333333333,
              "#9c179e"
             ],
             [
              0.4444444444444444,
              "#bd3786"
             ],
             [
              0.5555555555555556,
              "#d8576b"
             ],
             [
              0.6666666666666666,
              "#ed7953"
             ],
             [
              0.7777777777777778,
              "#fb9f3a"
             ],
             [
              0.8888888888888888,
              "#fdca26"
             ],
             [
              1,
              "#f0f921"
             ]
            ],
            "type": "surface"
           }
          ],
          "table": [
           {
            "cells": {
             "fill": {
              "color": "#EBF0F8"
             },
             "line": {
              "color": "white"
             }
            },
            "header": {
             "fill": {
              "color": "#C8D4E3"
             },
             "line": {
              "color": "white"
             }
            },
            "type": "table"
           }
          ]
         },
         "layout": {
          "annotationdefaults": {
           "arrowcolor": "#2a3f5f",
           "arrowhead": 0,
           "arrowwidth": 1
          },
          "autotypenumbers": "strict",
          "coloraxis": {
           "colorbar": {
            "outlinewidth": 0,
            "ticks": ""
           }
          },
          "colorscale": {
           "diverging": [
            [
             0,
             "#8e0152"
            ],
            [
             0.1,
             "#c51b7d"
            ],
            [
             0.2,
             "#de77ae"
            ],
            [
             0.3,
             "#f1b6da"
            ],
            [
             0.4,
             "#fde0ef"
            ],
            [
             0.5,
             "#f7f7f7"
            ],
            [
             0.6,
             "#e6f5d0"
            ],
            [
             0.7,
             "#b8e186"
            ],
            [
             0.8,
             "#7fbc41"
            ],
            [
             0.9,
             "#4d9221"
            ],
            [
             1,
             "#276419"
            ]
           ],
           "sequential": [
            [
             0,
             "#0d0887"
            ],
            [
             0.1111111111111111,
             "#46039f"
            ],
            [
             0.2222222222222222,
             "#7201a8"
            ],
            [
             0.3333333333333333,
             "#9c179e"
            ],
            [
             0.4444444444444444,
             "#bd3786"
            ],
            [
             0.5555555555555556,
             "#d8576b"
            ],
            [
             0.6666666666666666,
             "#ed7953"
            ],
            [
             0.7777777777777778,
             "#fb9f3a"
            ],
            [
             0.8888888888888888,
             "#fdca26"
            ],
            [
             1,
             "#f0f921"
            ]
           ],
           "sequentialminus": [
            [
             0,
             "#0d0887"
            ],
            [
             0.1111111111111111,
             "#46039f"
            ],
            [
             0.2222222222222222,
             "#7201a8"
            ],
            [
             0.3333333333333333,
             "#9c179e"
            ],
            [
             0.4444444444444444,
             "#bd3786"
            ],
            [
             0.5555555555555556,
             "#d8576b"
            ],
            [
             0.6666666666666666,
             "#ed7953"
            ],
            [
             0.7777777777777778,
             "#fb9f3a"
            ],
            [
             0.8888888888888888,
             "#fdca26"
            ],
            [
             1,
             "#f0f921"
            ]
           ]
          },
          "colorway": [
           "#636efa",
           "#EF553B",
           "#00cc96",
           "#ab63fa",
           "#FFA15A",
           "#19d3f3",
           "#FF6692",
           "#B6E880",
           "#FF97FF",
           "#FECB52"
          ],
          "font": {
           "color": "#2a3f5f"
          },
          "geo": {
           "bgcolor": "white",
           "lakecolor": "white",
           "landcolor": "#E5ECF6",
           "showlakes": true,
           "showland": true,
           "subunitcolor": "white"
          },
          "hoverlabel": {
           "align": "left"
          },
          "hovermode": "closest",
          "mapbox": {
           "style": "light"
          },
          "paper_bgcolor": "white",
          "plot_bgcolor": "#E5ECF6",
          "polar": {
           "angularaxis": {
            "gridcolor": "white",
            "linecolor": "white",
            "ticks": ""
           },
           "bgcolor": "#E5ECF6",
           "radialaxis": {
            "gridcolor": "white",
            "linecolor": "white",
            "ticks": ""
           }
          },
          "scene": {
           "xaxis": {
            "backgroundcolor": "#E5ECF6",
            "gridcolor": "white",
            "gridwidth": 2,
            "linecolor": "white",
            "showbackground": true,
            "ticks": "",
            "zerolinecolor": "white"
           },
           "yaxis": {
            "backgroundcolor": "#E5ECF6",
            "gridcolor": "white",
            "gridwidth": 2,
            "linecolor": "white",
            "showbackground": true,
            "ticks": "",
            "zerolinecolor": "white"
           },
           "zaxis": {
            "backgroundcolor": "#E5ECF6",
            "gridcolor": "white",
            "gridwidth": 2,
            "linecolor": "white",
            "showbackground": true,
            "ticks": "",
            "zerolinecolor": "white"
           }
          },
          "shapedefaults": {
           "line": {
            "color": "#2a3f5f"
           }
          },
          "ternary": {
           "aaxis": {
            "gridcolor": "white",
            "linecolor": "white",
            "ticks": ""
           },
           "baxis": {
            "gridcolor": "white",
            "linecolor": "white",
            "ticks": ""
           },
           "bgcolor": "#E5ECF6",
           "caxis": {
            "gridcolor": "white",
            "linecolor": "white",
            "ticks": ""
           }
          },
          "title": {
           "x": 0.05
          },
          "xaxis": {
           "automargin": true,
           "gridcolor": "white",
           "linecolor": "white",
           "ticks": "",
           "title": {
            "standoff": 15
           },
           "zerolinecolor": "white",
           "zerolinewidth": 2
          },
          "yaxis": {
           "automargin": true,
           "gridcolor": "white",
           "linecolor": "white",
           "ticks": "",
           "title": {
            "standoff": 15
           },
           "zerolinecolor": "white",
           "zerolinewidth": 2
          }
         }
        },
        "width": 900,
        "xaxis": {
         "anchor": "y",
         "autorange": true,
         "domain": [
          0,
          1
         ],
         "linecolor": "black",
         "linewidth": 2,
         "mirror": false,
         "range": [
          -0.41433239962651724,
          2.3587768440709618
         ],
         "showline": true,
         "ticktext": [
          "papers",
          "products - det.",
          "products - list."
         ],
         "tickvals": [
          0,
          1,
          2
         ],
         "title": {
          "text": "Dataset & Prompts"
         },
         "type": "linear"
        },
        "xaxis2": {
         "anchor": "y2",
         "autorange": true,
         "domain": [
          0,
          1
         ],
         "linecolor": "black",
         "linewidth": 2,
         "matches": "x",
         "mirror": false,
         "range": [
          -0.41433239962651724,
          2.3587768440709618
         ],
         "showline": true,
         "showticklabels": false,
         "ticktext": [
          "papers",
          "products - det.",
          "products - list."
         ],
         "tickvals": [
          0,
          1,
          2
         ],
         "type": "linear"
        },
        "yaxis": {
         "anchor": "x",
         "domain": [
          0,
          0.46499999999999997
         ],
         "dtick": 0.25,
         "linecolor": "black",
         "linewidth": 2,
         "mirror": false,
         "range": [
          0,
          1
         ],
         "showline": true,
         "title": {
          "text": "ratio"
         },
         "type": "linear"
        },
        "yaxis2": {
         "anchor": "x2",
         "domain": [
          0.5349999999999999,
          0.9999999999999999
         ],
         "dtick": 0.25,
         "linecolor": "black",
         "linewidth": 2,
         "matches": "y",
         "mirror": false,
         "range": [
          0,
          1
         ],
         "showline": true,
         "title": {
          "text": "ratio"
         },
         "type": "linear"
        }
       }
      },
      "image/png": "[encoded data removed]",
      "text/html": [
       "<div>                            <div id=\"c24f2248-ef99-4f70-9c0c-32925831c204\" class=\"plotly-graph-div\" style=\"height:800px; width:900px;\"></div>            <script type=\"text/javascript\">                require([\"plotly\"], function(Plotly) {                    window.PLOTLYENV=window.PLOTLYENV || {};                                    if (document.getElementById(\"c24f2248-ef99-4f70-9c0c-32925831c204\")) {                    Plotly.newPlot(                        \"c24f2248-ef99-4f70-9c0c-32925831c204\",                        [{\"error_y\":{\"array\":[0.052880924327161516,0.0434322079966839],\"arrayminus\":[0.054061338868387376,0.04148484950825801]},\"hovertemplate\":\"Evaluator=Humans\\u003cbr\\u003eGenerator=GPT-3.5\\u003cbr\\u003eDataset & Prompts=%{x}\\u003cbr\\u003eratio=%{y}\\u003cextra\\u003e\\u003c\\u002fextra\\u003e\",\"legendgroup\":\"Humans\",\"marker\":{\"color\":\"#636efa\",\"symbol\":\"circle\",\"size\":10},\"mode\":\"markers\",\"name\":\"Humans\",\"orientation\":\"v\",\"showlegend\":true,\"x\":[-0.25,0.75],\"xaxis\":\"x2\",\"y\":[0.6,0.28],\"yaxis\":\"y2\",\"type\":\"scatter\"},{\"error_y\":{\"array\":[0.062031993654300066,0.06243114274782435],\"arrayminus\":[0.06142325071211863,0.05871348390570977]},\"hovertemplate\":\"Evaluator=Humans\\u003cbr\\u003eGenerator=GPT-4\\u003cbr\\u003eDataset & Prompts=%{x}\\u003cbr\\u003eratio=%{y}\\u003cextra\\u003e\\u003c\\u002fextra\\u003e\",\"legendgroup\":\"Humans\",\"marker\":{\"color\":\"#636efa\",\"symbol\":\"circle\",\"size\":10},\"mode\":\"markers\",\"name\":\"Humans\",\"orientation\":\"v\",\"showlegend\":false,\"x\":[-0.25,0.75],\"xaxis\":\"x\",\"y\":[0.46,0.29],\"yaxis\":\"y\",\"type\":\"scatter\"},{\"error_y\":{\"array\":[0.04917684350007612,0.044761257923305875,0.04619391886055069],\"arrayminus\":[0.05019540893420127,0.04579460744133079,0.04662449563288362]},\"hovertemplate\":\"Evaluator=GPT-4\\u003cbr\\u003eGenerator=GPT-3.5\\u003cbr\\u003eDataset & Prompts=%{x}\\u003cbr\\u003eratio=%{y}\\u003cextra\\u003e\\u003c\\u002fextra\\u003e\",\"legendgroup\":\"GPT-4\",\"marker\":{\"color\":\"#EF553B\",\"symbol\":\"square\",\"size\":10},\"mode\":\"markers\",\"name\":\"GPT-4\",\"orientation\":\"v\",\"showlegend\":true,\"x\":[-0.19444444444444445,0.8055555555555556,1.8055555555555556],\"xaxis\":\"x2\",\"y\":[0.6,0.62,0.55],\"yaxis\":\"y2\",\"type\":\"scatter\"},{\"error_y\":{\"array\":[0.04361104545739414,0.028647038267394342,0.029750687819637855],\"arrayminus\":[0.04669155459139773,0.03191648297759819,0.03293442675747604]},\"hovertemplate\":\"Evaluator=GPT-4\\u003cbr\\u003eGenerator=GPT-4\\u003cbr\\u003eDataset & Prompts=%{x}\\u003cbr\\u003eratio=%{y}\\u003cextra\\u003e\\u003c\\u002fextra\\u003e\",\"legendgroup\":\"GPT-4\",\"marker\":{\"color\":\"#EF553B\",\"symbol\":\"square\",\"size\":10},\"mode\":\"markers\",\"name\":\"GPT-4\",\"orientation\":\"v\",\"showlegend\":false,\"x\":[-0.19444444444444445,0.8055555555555556,1.8055555555555556],\"xaxis\":\"x\",\"y\":[0.77,0.88,0.87],\"yaxis\":\"y\",\"type\":\"scatter\"},{\"error_y\":{\"array\":[0.05057015187022196,0.03987585544450534,0.04188184811333373],\"arrayminus\":[0.05077387132578215,0.04194222975303119,0.04360395044231524]},\"hovertemplate\":\"Evaluator=GPT-3.5\\u003cbr\\u003eGenerator=GPT-3.5\\u003cbr\\u003eDataset & Prompts=%{x}\\u003cbr\\u003eratio=%{y}\\u003cextra\\u003e\\u003c\\u002fextra\\u003e\",\"legendgroup\":\"GPT-3.5\",\"marker\":{\"color\":\"#00cc96\",\"symbol\":\"diamond\",\"size\":10},\"mode\":\"markers\",\"name\":\"GPT-3.5\",\"orientation\":\"v\",\"showlegend\":true,\"x\":[-0.1388888888888889,0.8611111111111112,1.8611111111111112],\"xaxis\":\"x2\",\"y\":[0.52,0.74,0.7],\"yaxis\":\"y2\",\"type\":\"scatter\"},{\"error_y\":{\"array\":[0.04803692223423861,0.027475015814294346,0.026226342507105094],\"arrayminus\":[0.05031922378652087,0.03083008271463894,0.029666922668981743]},\"hovertemplate\":\"Evaluator=GPT-3.5\\u003cbr\\u003eGenerator=GPT-4\\u003cbr\\u003eDataset & Prompts=%{x}\\u003cbr\\u003eratio=%{y}\\u003cextra\\u003e\\u003c\\u002fextra\\u003e\",\"legendgroup\":\"GPT-3.5\",\"marker\":{\"color\":\"#00cc96\",\"symbol\":\"diamond\",\"size\":10},\"mode\":\"markers\",\"name\":\"GPT-3.5\",\"orientation\":\"v\",\"showlegend\":false,\"x\":[-0.1388888888888889,0.8611111111111112,1.8611111111111112],\"xaxis\":\"x\",\"y\":[0.7,0.89,0.9],\"yaxis\":\"y\",\"type\":\"scatter\"},{\"error_y\":{\"array\":[0.04681991632749927,0.03673291588859784,0.0423207050091603],\"arrayminus\":[0.0485513571912527,0.03922944253058969,0.043956725641904226]},\"hovertemplate\":\"Evaluator=Mixtral-8x22B\\u003cbr\\u003eGenerator=GPT-3.5\\u003cbr\\u003eDataset & Prompts=%{x}\\u003cbr\\u003eratio=%{y}\\u003cextra\\u003e\\u003c\\u002fextra\\u003e\",\"legendgroup\":\"Mixtral-8x22B\",\"marker\":{\"color\":\"#ab63fa\",\"symbol\":\"x\",\"size\":10},\"mode\":\"markers\",\"name\":\"Mixtral-8x22B\",\"orientation\":\"v\",\"showlegend\":true,\"x\":[-0.08333333333333333,0.9166666666666666,1.9166666666666667],\"xaxis\":\"x2\",\"y\":[0.67,0.79,0.69],\"yaxis\":\"y2\",\"type\":\"scatter\"},{\"error_y\":{\"array\":[0.039382401587660154,0.018330976880561733,0.01622785296325735],\"arrayminus\":[0.04303246931739724,0.02219516049705994,0.020174548827762928]},\"hovertemplate\":\"Evaluator=Mixtral-8x22B\\u003cbr\\u003eGenerator=GPT-4\\u003cbr\\u003eDataset & Prompts=%{x}\\u003cbr\\u003eratio=%{y}\\u003cextra\\u003e\\u003c\\u002fextra\\u003e\",\"legendgroup\":\"Mixtral-8x22B\",\"marker\":{\"color\":\"#ab63fa\",\"symbol\":\"x\",\"size\":10},\"mode\":\"markers\",\"name\":\"Mixtral-8x22B\",\"orientation\":\"v\",\"showlegend\":false,\"x\":[-0.08333333333333333,0.9166666666666666,1.9166666666666667],\"xaxis\":\"x\",\"y\":[0.82,0.95,0.96],\"yaxis\":\"y\",\"type\":\"scatter\"},{\"error_y\":{\"array\":[0.05071267423224368,0.046519877749314764,0.046519877749314764],\"arrayminus\":[0.05071267423224374,0.04669210942239299,0.04669210942239299]},\"hovertemplate\":\"Evaluator=Qwen1.5-4B\\u003cbr\\u003eGenerator=GPT-3.5\\u003cbr\\u003eDataset & Prompts=%{x}\\u003cbr\\u003eratio=%{y}\\u003cextra\\u003e\\u003c\\u002fextra\\u003e\",\"legendgroup\":\"Qwen1.5-4B\",\"marker\":{\"color\":\"#FFA15A\",\"symbol\":\"triangle-left\",\"size\":10},\"mode\":\"markers\",\"name\":\"Qwen1.5-4B\",\"orientation\":\"v\",\"showlegend\":true,\"x\":[-0.027777777777777776,0.9722222222222222,1.9722222222222223],\"xaxis\":\"x2\",\"y\":[0.5,0.52,0.52],\"yaxis\":\"y2\",\"type\":\"scatter\"},{\"error_y\":{\"array\":[0.05351124509917948,0.046430041551499324,0.0460474496425366],\"arrayminus\":[0.053739513015807816,0.046688388718998,0.04656414023450961]},\"hovertemplate\":\"Evaluator=Qwen1.5-4B\\u003cbr\\u003eGenerator=GPT-4\\u003cbr\\u003eDataset & Prompts=%{x}\\u003cbr\\u003eratio=%{y}\\u003cextra\\u003e\\u003c\\u002fextra\\u003e\",\"legendgroup\":\"Qwen1.5-4B\",\"marker\":{\"color\":\"#FFA15A\",\"symbol\":\"triangle-left\",\"size\":10},\"mode\":\"markers\",\"name\":\"Qwen1.5-4B\",\"orientation\":\"v\",\"showlegend\":false,\"x\":[-0.027777777777777776,0.9722222222222222,1.9722222222222223],\"xaxis\":\"x\",\"y\":[0.52,0.53,0.56],\"yaxis\":\"y\",\"type\":\"scatter\"},{\"error_y\":{\"array\":[0.04890763778387908,0.04312814693444944,0.045492804374778095],\"arrayminus\":[0.050028051720674704,0.04459199160572769,0.04626783062572126]},\"hovertemplate\":\"Evaluator=Qwen1.5-14B\\u003cbr\\u003eGenerator=GPT-3.5\\u003cbr\\u003eDataset & Prompts=%{x}\\u003cbr\\u003eratio=%{y}\\u003cextra\\u003e\\u003c\\u002fextra\\u003e\",\"legendgroup\":\"Qwen1.5-14B\",\"marker\":{\"color\":\"#19d3f3\",\"symbol\":\"triangle-up\",\"size\":10},\"mode\":\"markers\",\"name\":\"Qwen1.5-14B\",\"orientation\":\"v\",\"showlegend\":true,\"x\":[0.027777777777777776,1.0277777777777777,2.0277777777777777],\"xaxis\":\"x2\",\"y\":[0.61,0.67,0.59],\"yaxis\":\"y2\",\"type\":\"scatter\"},{\"error_y\":{\"array\":[0.047496238660954204,0.03271302105797358,0.0344426521723421],\"arrayminus\":[0.0498926054815102,0.03563929915549524,0.037197099739052164]},\"hovertemplate\":\"Evaluator=Qwen1.5-14B\\u003cbr\\u003eGenerator=GPT-4\\u003cbr\\u003eDataset & Prompts=%{x}\\u003cbr\\u003eratio=%{y}\\u003cextra\\u003e\\u003c\\u002fextra\\u003e\",\"legendgroup\":\"Qwen1.5-14B\",\"marker\":{\"color\":\"#19d3f3\",\"symbol\":\"triangle-up\",\"size\":10},\"mode\":\"markers\",\"name\":\"Qwen1.5-14B\",\"orientation\":\"v\",\"showlegend\":false,\"x\":[0.027777777777777776,1.0277777777777777,2.0277777777777777],\"xaxis\":\"x\",\"y\":[0.71,0.84,0.82],\"yaxis\":\"y\",\"type\":\"scatter\"},{\"error_y\":{\"array\":[0.047967307321098995,0.044171843687025425,0.04526891430669],\"arrayminus\":[0.049393250617165374,0.045377399097470295,0.04613004994347625]},\"hovertemplate\":\"Evaluator=Qwen1.5-72B\\u003cbr\\u003eGenerator=GPT-3.5\\u003cbr\\u003eDataset & Prompts=%{x}\\u003cbr\\u003eratio=%{y}\\u003cextra\\u003e\\u003c\\u002fextra\\u003e\",\"legendgroup\":\"Qwen1.5-72B\",\"marker\":{\"color\":\"#FF6692\",\"symbol\":\"triangle-down\",\"size\":10},\"mode\":\"markers\",\"name\":\"Qwen1.5-72B\",\"orientation\":\"v\",\"showlegend\":true,\"x\":[0.08333333333333333,1.0833333333333333,2.0833333333333335],\"xaxis\":\"x2\",\"y\":[0.64,0.64,0.6],\"yaxis\":\"y2\",\"type\":\"scatter\"},{\"error_y\":{\"array\":[0.0420416949079403,0.033599924201695885,0.030792687320077672],\"arrayminus\":[0.04535011276815104,0.03644030150618682,0.033890654968756095]},\"hovertemplate\":\"Evaluator=Qwen1.5-72B\\u003cbr\\u003eGenerator=GPT-4\\u003cbr\\u003eDataset & Prompts=%{x}\\u003cbr\\u003eratio=%{y}\\u003cextra\\u003e\\u003c\\u002fextra\\u003e\",\"legendgroup\":\"Qwen1.5-72B\",\"marker\":{\"color\":\"#FF6692\",\"symbol\":\"triangle-down\",\"size\":10},\"mode\":\"markers\",\"name\":\"Qwen1.5-72B\",\"orientation\":\"v\",\"showlegend\":false,\"x\":[0.08333333333333333,1.0833333333333333,2.0833333333333335],\"xaxis\":\"x\",\"y\":[0.79,0.83,0.86],\"yaxis\":\"y\",\"type\":\"scatter\"},{\"error_y\":{\"array\":[0.050203347537223886,0.04188184811333373,0.044171843687025425],\"arrayminus\":[0.050712642799173646,0.04360395044231524,0.045377399097470295]},\"hovertemplate\":\"Evaluator=Llama-3-8b\\u003cbr\\u003eGenerator=GPT-3.5\\u003cbr\\u003eDataset & Prompts=%{x}\\u003cbr\\u003eratio=%{y}\\u003cextra\\u003e\\u003c\\u002fextra\\u003e\",\"legendgroup\":\"Llama-3-8b\",\"marker\":{\"color\":\"#B6E880\",\"symbol\":\"star\",\"size\":10},\"mode\":\"markers\",\"name\":\"Llama-3-8b\",\"orientation\":\"v\",\"showlegend\":true,\"x\":[0.1388888888888889,1.1388888888888888,2.138888888888889],\"xaxis\":\"x2\",\"y\":[0.55,0.7,0.64],\"yaxis\":\"y2\",\"type\":\"scatter\"},{\"error_y\":{\"array\":[0.04632753239422338,0.03271302105797358,0.030792687320077672],\"arrayminus\":[0.04895199983156884,0.03563929915549524,0.033890654968756095]},\"hovertemplate\":\"Evaluator=Llama-3-8b\\u003cbr\\u003eGenerator=GPT-4\\u003cbr\\u003eDataset & Prompts=%{x}\\u003cbr\\u003eratio=%{y}\\u003cextra\\u003e\\u003c\\u002fextra\\u003e\",\"legendgroup\":\"Llama-3-8b\",\"marker\":{\"color\":\"#B6E880\",\"symbol\":\"star\",\"size\":10},\"mode\":\"markers\",\"name\":\"Llama-3-8b\",\"orientation\":\"v\",\"showlegend\":false,\"x\":[0.1388888888888889,1.1388888888888888,2.138888888888889],\"xaxis\":\"x\",\"y\":[0.73,0.84,0.86],\"yaxis\":\"y\",\"type\":\"scatter\"},{\"error_y\":{\"array\":[0.050346108757264196,0.044171843687025425,0.045492804374778095],\"arrayminus\":[0.05075354613025007,0.045377399097470295,0.04626783062572126]},\"hovertemplate\":\"Evaluator=Llama-3-70b\\u003cbr\\u003eGenerator=GPT-3.5\\u003cbr\\u003eDataset & Prompts=%{x}\\u003cbr\\u003eratio=%{y}\\u003cextra\\u003e\\u003c\\u002fextra\\u003e\",\"legendgroup\":\"Llama-3-70b\",\"marker\":{\"color\":\"#FF97FF\",\"symbol\":\"pentagon\",\"size\":10},\"mode\":\"markers\",\"name\":\"Llama-3-70b\",\"orientation\":\"v\",\"showlegend\":true,\"x\":[0.19444444444444445,1.1944444444444444,2.1944444444444446],\"xaxis\":\"x2\",\"y\":[0.54,0.64,0.59],\"yaxis\":\"y2\",\"type\":\"scatter\"},{\"error_y\":{\"array\":[0.039382401587660154,0.027475015814294346,0.03673291588859784],\"arrayminus\":[0.04303246931739724,0.03083008271463894,0.03922944253058969]},\"hovertemplate\":\"Evaluator=Llama-3-70b\\u003cbr\\u003eGenerator=GPT-4\\u003cbr\\u003eDataset & Prompts=%{x}\\u003cbr\\u003eratio=%{y}\\u003cextra\\u003e\\u003c\\u002fextra\\u003e\",\"legendgroup\":\"Llama-3-70b\",\"marker\":{\"color\":\"#FF97FF\",\"symbol\":\"pentagon\",\"size\":10},\"mode\":\"markers\",\"name\":\"Llama-3-70b\",\"orientation\":\"v\",\"showlegend\":false,\"x\":[0.19444444444444445,1.1944444444444444,2.1944444444444446],\"xaxis\":\"x\",\"y\":[0.82,0.89,0.79],\"yaxis\":\"y\",\"type\":\"scatter\"}],                        {\"template\":{\"data\":{\"histogram2dcontour\":[{\"type\":\"histogram2dcontour\",\"colorbar\":{\"outlinewidth\":0,\"ticks\":\"\"},\"colorscale\":[[0.0,\"#0d0887\"],[0.1111111111111111,\"#46039f\"],[0.2222222222222222,\"#7201a8\"],[0.3333333333333333,\"#9c179e\"],[0.4444444444444444,\"#bd3786\"],[0.5555555555555556,\"#d8576b\"],[0.6666666666666666,\"#ed7953\"],[0.7777777777777778,\"#fb9f3a\"],[0.8888888888888888,\"#fdca26\"],[1.0,\"#f0f921\"]]}],\"choropleth\":[{\"type\":\"choropleth\",\"colorbar\":{\"outlinewidth\":0,\"ticks\":\"\"}}],\"histogram2d\":[{\"type\":\"histogram2d\",\"colorbar\":{\"outlinewidth\":0,\"ticks\":\"\"},\"colorscale\":[[0.0,\"#0d0887\"],[0.1111111111111111,\"#46039f\"],[0.2222222222222222,\"#7201a8\"],[0.3333333333333333,\"#9c179e\"],[0.4444444444444444,\"#bd3786\"],[0.5555555555555556,\"#d8576b\"],[0.6666666666666666,\"#ed7953\"],[0.7777777777777778,\"#fb9f3a\"],[0.8888888888888888,\"#fdca26\"],[1.0,\"#f0f921\"]]}],\"heatmap\":[{\"type\":\"heatmap\",\"colorbar\":{\"outlinewidth\":0,\"ticks\":\"\"},\"colorscale\":[[0.0,\"#0d0887\"],[0.1111111111111111,\"#46039f\"],[0.2222222222222222,\"#7201a8\"],[0.3333333333333333,\"#9c179e\"],[0.4444444444444444,\"#bd3786\"],[0.5555555555555556,\"#d8576b\"],[0.6666666666666666,\"#ed7953\"],[0.7777777777777778,\"#fb9f3a\"],[0.8888888888888888,\"#fdca26\"],[1.0,\"#f0f921\"]]}],\"heatmapgl\":[{\"type\":\"heatmapgl\",\"colorbar\":{\"outlinewidth\":0,\"ticks\":\"\"},\"colorscale\":[[0.0,\"#0d0887\"],[0.1111111111111111,\"#46039f\"],[0.2222222222222222,\"#7201a8\"],[0.3333333333333333,\"#9c179e\"],[0.4444444444444444,\"#bd3786\"],[0.5555555555555556,\"#d8576b\"],[0.6666666666666666,\"#ed7953\"],[0.7777777777777778,\"#fb9f3a\"],[0.8888888888888888,\"#fdca26\"],[1.0,\"#f0f921\"]]}],\"contourcarpet\":[{\"type\":\"contourcarpet\",\"colorbar\":{\"outlinewidth\":0,\"ticks\":\"\"}}],\"contour\":[{\"type\":\"contour\",\"colorbar\":{\"outlinewidth\":0,\"ticks\":\"\"},\"colorscale\":[[0.0,\"#0d0887\"],[0.1111111111111111,\"#46039f\"],[0.2222222222222222,\"#7201a8\"],[0.3333333333333333,\"#9c179e\"],[0.4444444444444444,\"#bd3786\"],[0.5555555555555556,\"#d8576b\"],[0.6666666666666666,\"#ed7953\"],[0.7777777777777778,\"#fb9f3a\"],[0.8888888888888888,\"#fdca26\"],[1.0,\"#f0f921\"]]}],\"surface\":[{\"type\":\"surface\",\"colorbar\":{\"outlinewidth\":0,\"ticks\":\"\"},\"colorscale\":[[0.0,\"#0d0887\"],[0.1111111111111111,\"#46039f\"],[0.2222222222222222,\"#7201a8\"],[0.3333333333333333,\"#9c179e\"],[0.4444444444444444,\"#bd3786\"],[0.5555555555555556,\"#d8576b\"],[0.6666666666666666,\"#ed7953\"],[0.7777777777777778,\"#fb9f3a\"],[0.8888888888888888,\"#fdca26\"],[1.0,\"#f0f921\"]]}],\"mesh3d\":[{\"type\":\"mesh3d\",\"colorbar\":{\"outlinewidth\":0,\"ticks\":\"\"}}],\"scatter\":[{\"fillpattern\":{\"fillmode\":\"overlay\",\"size\":10,\"solidity\":0.2},\"type\":\"scatter\"}],\"parcoords\":[{\"type\":\"parcoords\",\"line\":{\"colorbar\":{\"outlinewidth\":0,\"ticks\":\"\"}}}],\"scatterpolargl\":[{\"type\":\"scatterpolargl\",\"marker\":{\"colorbar\":{\"outlinewidth\":0,\"ticks\":\"\"}}}],\"bar\":[{\"error_x\":{\"color\":\"#2a3f5f\"},\"error_y\":{\"color\":\"#2a3f5f\"},\"marker\":{\"line\":{\"color\":\"#E5ECF6\",\"width\":0.5},\"pattern\":{\"fillmode\":\"overlay\",\"size\":10,\"solidity\":0.2}},\"type\":\"bar\"}],\"scattergeo\":[{\"type\":\"scattergeo\",\"marker\":{\"colorbar\":{\"outlinewidth\":0,\"ticks\":\"\"}}}],\"scatterpolar\":[{\"type\":\"scatterpolar\",\"marker\":{\"colorbar\":{\"outlinewidth\":0,\"ticks\":\"\"}}}],\"histogram\":[{\"marker\":{\"pattern\":{\"fillmode\":\"overlay\",\"size\":10,\"solidity\":0.2}},\"type\":\"histogram\"}],\"scattergl\":[{\"type\":\"scattergl\",\"marker\":{\"colorbar\":{\"outlinewidth\":0,\"ticks\":\"\"}}}],\"scatter3d\":[{\"type\":\"scatter3d\",\"line\":{\"colorbar\":{\"outlinewidth\":0,\"ticks\":\"\"}},\"marker\":{\"colorbar\":{\"outlinewidth\":0,\"ticks\":\"\"}}}],\"scattermapbox\":[{\"type\":\"scattermapbox\",\"marker\":{\"colorbar\":{\"outlinewidth\":0,\"ticks\":\"\"}}}],\"scatterternary\":[{\"type\":\"scatterternary\",\"marker\":{\"colorbar\":{\"outlinewidth\":0,\"ticks\":\"\"}}}],\"scattercarpet\":[{\"type\":\"scattercarpet\",\"marker\":{\"colorbar\":{\"outlinewidth\":0,\"ticks\":\"\"}}}],\"carpet\":[{\"aaxis\":{\"endlinecolor\":\"#2a3f5f\",\"gridcolor\":\"white\",\"linecolor\":\"white\",\"minorgridcolor\":\"white\",\"startlinecolor\":\"#2a3f5f\"},\"baxis\":{\"endlinecolor\":\"#2a3f5f\",\"gridcolor\":\"white\",\"linecolor\":\"white\",\"minorgridcolor\":\"white\",\"startlinecolor\":\"#2a3f5f\"},\"type\":\"carpet\"}],\"table\":[{\"cells\":{\"fill\":{\"color\":\"#EBF0F8\"},\"line\":{\"color\":\"white\"}},\"header\":{\"fill\":{\"color\":\"#C8D4E3\"},\"line\":{\"color\":\"white\"}},\"type\":\"table\"}],\"barpolar\":[{\"marker\":{\"line\":{\"color\":\"#E5ECF6\",\"width\":0.5},\"pattern\":{\"fillmode\":\"overlay\",\"size\":10,\"solidity\":0.2}},\"type\":\"barpolar\"}],\"pie\":[{\"automargin\":true,\"type\":\"pie\"}]},\"layout\":{\"autotypenumbers\":\"strict\",\"colorway\":[\"#636efa\",\"#EF553B\",\"#00cc96\",\"#ab63fa\",\"#FFA15A\",\"#19d3f3\",\"#FF6692\",\"#B6E880\",\"#FF97FF\",\"#FECB52\"],\"font\":{\"color\":\"#2a3f5f\"},\"hovermode\":\"closest\",\"hoverlabel\":{\"align\":\"left\"},\"paper_bgcolor\":\"white\",\"plot_bgcolor\":\"#E5ECF6\",\"polar\":{\"bgcolor\":\"#E5ECF6\",\"angularaxis\":{\"gridcolor\":\"white\",\"linecolor\":\"white\",\"ticks\":\"\"},\"radialaxis\":{\"gridcolor\":\"white\",\"linecolor\":\"white\",\"ticks\":\"\"}},\"ternary\":{\"bgcolor\":\"#E5ECF6\",\"aaxis\":{\"gridcolor\":\"white\",\"linecolor\":\"white\",\"ticks\":\"\"},\"baxis\":{\"gridcolor\":\"white\",\"linecolor\":\"white\",\"ticks\":\"\"},\"caxis\":{\"gridcolor\":\"white\",\"linecolor\":\"white\",\"ticks\":\"\"}},\"coloraxis\":{\"colorbar\":{\"outlinewidth\":0,\"ticks\":\"\"}},\"colorscale\":{\"sequential\":[[0.0,\"#0d0887\"],[0.1111111111111111,\"#46039f\"],[0.2222222222222222,\"#7201a8\"],[0.3333333333333333,\"#9c179e\"],[0.4444444444444444,\"#bd3786\"],[0.5555555555555556,\"#d8576b\"],[0.6666666666666666,\"#ed7953\"],[0.7777777777777778,\"#fb9f3a\"],[0.8888888888888888,\"#fdca26\"],[1.0,\"#f0f921\"]],\"sequentialminus\":[[0.0,\"#0d0887\"],[0.1111111111111111,\"#46039f\"],[0.2222222222222222,\"#7201a8\"],[0.3333333333333333,\"#9c179e\"],[0.4444444444444444,\"#bd3786\"],[0.5555555555555556,\"#d8576b\"],[0.6666666666666666,\"#ed7953\"],[0.7777777777777778,\"#fb9f3a\"],[0.8888888888888888,\"#fdca26\"],[1.0,\"#f0f921\"]],\"diverging\":[[0,\"#8e0152\"],[0.1,\"#c51b7d\"],[0.2,\"#de77ae\"],[0.3,\"#f1b6da\"],[0.4,\"#fde0ef\"],[0.5,\"#f7f7f7\"],[0.6,\"#e6f5d0\"],[0.7,\"#b8e186\"],[0.8,\"#7fbc41\"],[0.9,\"#4d9221\"],[1,\"#276419\"]]},\"xaxis\":{\"gridcolor\":\"white\",\"linecolor\":\"white\",\"ticks\":\"\",\"title\":{\"standoff\":15},\"zerolinecolor\":\"white\",\"automargin\":true,\"zerolinewidth\":2},\"yaxis\":{\"gridcolor\":\"white\",\"linecolor\":\"white\",\"ticks\":\"\",\"title\":{\"standoff\":15},\"zerolinecolor\":\"white\",\"automargin\":true,\"zerolinewidth\":2},\"scene\":{\"xaxis\":{\"backgroundcolor\":\"#E5ECF6\",\"gridcolor\":\"white\",\"linecolor\":\"white\",\"showbackground\":true,\"ticks\":\"\",\"zerolinecolor\":\"white\",\"gridwidth\":2},\"yaxis\":{\"backgroundcolor\":\"#E5ECF6\",\"gridcolor\":\"white\",\"linecolor\":\"white\",\"showbackground\":true,\"ticks\":\"\",\"zerolinecolor\":\"white\",\"gridwidth\":2},\"zaxis\":{\"backgroundcolor\":\"#E5ECF6\",\"gridcolor\":\"white\",\"linecolor\":\"white\",\"showbackground\":true,\"ticks\":\"\",\"zerolinecolor\":\"white\",\"gridwidth\":2}},\"shapedefaults\":{\"line\":{\"color\":\"#2a3f5f\"}},\"annotationdefaults\":{\"arrowcolor\":\"#2a3f5f\",\"arrowhead\":0,\"arrowwidth\":1},\"geo\":{\"bgcolor\":\"white\",\"landcolor\":\"#E5ECF6\",\"subunitcolor\":\"white\",\"showland\":true,\"showlakes\":true,\"lakecolor\":\"white\"},\"title\":{\"x\":0.05},\"mapbox\":{\"style\":\"light\"}}},\"xaxis\":{\"anchor\":\"y\",\"domain\":[0.0,1.0],\"title\":{\"text\":\"Dataset & Prompts\"},\"tickvals\":[0,1,2],\"ticktext\":[\"papers\",\"products - det.\",\"products - list.\"],\"showline\":true,\"linewidth\":2,\"linecolor\":\"black\",\"mirror\":false},\"yaxis\":{\"anchor\":\"x\",\"domain\":[0.0,0.46499999999999997],\"title\":{\"text\":\"ratio\"},\"range\":[0,1],\"dtick\":0.25,\"showline\":true,\"linewidth\":2,\"linecolor\":\"black\",\"mirror\":false},\"xaxis2\":{\"anchor\":\"y2\",\"domain\":[0.0,1.0],\"matches\":\"x\",\"showticklabels\":false,\"tickvals\":[0,1,2],\"ticktext\":[\"papers\",\"products - det.\",\"products - list.\"],\"showline\":true,\"linewidth\":2,\"linecolor\":\"black\",\"mirror\":false},\"yaxis2\":{\"anchor\":\"x2\",\"domain\":[0.5349999999999999,0.9999999999999999],\"matches\":\"y\",\"title\":{\"text\":\"ratio\"},\"range\":[0,1],\"dtick\":0.25,\"showline\":true,\"linewidth\":2,\"linecolor\":\"black\",\"mirror\":false},\"annotations\":[{\"showarrow\":false,\"text\":\"Generator GPT-4\",\"x\":0.5,\"xanchor\":\"center\",\"xref\":\"paper\",\"y\":0.46499999999999997,\"yanchor\":\"bottom\",\"yref\":\"paper\"},{\"showarrow\":false,\"text\":\"Generator GPT-3.5\",\"x\":0.5,\"xanchor\":\"center\",\"xref\":\"paper\",\"y\":0.9999999999999999,\"yanchor\":\"bottom\",\"yref\":\"paper\"}],\"legend\":{\"title\":{\"text\":\"Evaluator\"},\"tracegroupgap\":0,\"yanchor\":\"middle\",\"y\":0.5},\"margin\":{\"t\":60},\"height\":800,\"width\":900,\"plot_bgcolor\":\"rgba(0, 0, 0, 0)\",\"shapes\":[{\"line\":{\"width\":0.5},\"type\":\"line\",\"x0\":0,\"x1\":1,\"xref\":\"x domain\",\"y0\":0.5,\"y1\":0.5,\"yref\":\"y\"},{\"line\":{\"width\":0.5},\"type\":\"line\",\"x0\":0,\"x1\":1,\"xref\":\"x2 domain\",\"y0\":0.5,\"y1\":0.5,\"yref\":\"y2\"},{\"line\":{\"width\":1},\"type\":\"line\",\"x0\":0,\"x1\":1,\"xref\":\"x domain\",\"y0\":1,\"y1\":1,\"yref\":\"y\"},{\"line\":{\"width\":1},\"type\":\"line\",\"x0\":0,\"x1\":1,\"xref\":\"x2 domain\",\"y0\":1,\"y1\":1,\"yref\":\"y2\"},{\"line\":{\"dash\":\"10px 10px\",\"width\":0.5},\"type\":\"line\",\"x0\":0,\"x1\":1,\"xref\":\"x domain\",\"y0\":0.25,\"y1\":0.25,\"yref\":\"y\"},{\"line\":{\"dash\":\"10px 10px\",\"width\":0.5},\"type\":\"line\",\"x0\":0,\"x1\":1,\"xref\":\"x2 domain\",\"y0\":0.25,\"y1\":0.25,\"yref\":\"y2\"},{\"line\":{\"dash\":\"10px 10px\",\"width\":0.5},\"type\":\"line\",\"x0\":0,\"x1\":1,\"xref\":\"x domain\",\"y0\":0.75,\"y1\":0.75,\"yref\":\"y\"},{\"line\":{\"dash\":\"10px 10px\",\"width\":0.5},\"type\":\"line\",\"x0\":0,\"x1\":1,\"xref\":\"x2 domain\",\"y0\":0.75,\"y1\":0.75,\"yref\":\"y2\"}]},                        {\"responsive\": true}                    ).then(function(){\n",
       "                            \n",
       "var gd = document.getElementById('c24f2248-ef99-4f70-9c0c-32925831c204');\n",
       "var x = new MutationObserver(function (mutations, observer) {{\n",
       "        var display = window.getComputedStyle(gd).display;\n",
       "        if (!display || display === 'none') {{\n",
       "            console.log([gd, 'removed!']);\n",
       "            Plotly.purge(gd);\n",
       "            observer.disconnect();\n",
       "        }}\n",
       "}});\n",
       "\n",
       "// Listen for the removal of the full notebook cells\n",
       "var notebookContainer = gd.closest('#notebook-container');\n",
       "if (notebookContainer) {{\n",
       "    x.observe(notebookContainer, {childList: true});\n",
       "}}\n",
       "\n",
       "// Listen for the clearing of the current output cell\n",
       "var outputEl = gd.closest('.output');\n",
       "if (outputEl) {{\n",
       "    x.observe(outputEl, {childList: true});\n",
       "}}\n",
       "\n",
       "                        })                };                });            </script>        </div>"
      ]
     },
     "metadata": {},
     "output_type": "display_data"
    }
   ],
   "source": [
    "etype_order = {etype: i for i, etype in enumerate(df[\"etype\"].unique())}\n",
    "df[\"etype_numeric\"] = df[\"etype\"].map(etype_order)\n",
    "np.random.seed(125)\n",
    "df[\"etype_jittered\"] = df[\"etype_numeric\"] + df[\"offset\"]\n",
    "\n",
    "syms = [\"circle\", \"square\", \"diamond\", \"x\", \"triangle-left\", \"triangle-up\", \"triangle-down\", \"star\", \"pentagon\"]\n",
    "\n",
    "fig = px.scatter(df, y=\"ratio\", x=\"etype_jittered\", error_y=\"ci1\", error_y_minus=\"ci0\", symbol=\"Evaluator\", color=\"Evaluator\", facet_col=\"gen_name\", facet_col_wrap=1, width=900, height=800, labels={\"etype_jittered\": \"Dataset & Prompts\", \"gen_name\": \"Generator\"}, symbol_sequence=syms)\n",
    "fig.update_traces(marker=dict(size=10))\n",
    "fig.update_yaxes(range=[0, 1], dtick = 0.25)\n",
    "fig.update_layout(\n",
    "    plot_bgcolor=\"rgba(0, 0, 0, 0)\",\n",
    ")\n",
    "\n",
    "fig.update_xaxes(\n",
    "    tickvals=list(etype_order.values()),\n",
    "    ticktext=list(etype_order.keys()))\n",
    "fig.add_hline(0.5, line_width=0.5)\n",
    "fig.add_hline(1, line_width=1)\n",
    "fig.add_hline(0.25, line_width=0.5, line_dash=\"10px 10px\")\n",
    "fig.add_hline(0.75, line_width=0.5, line_dash=\"10px 10px\")\n",
    "\n",
    "fig.update_xaxes(showline=True, linewidth=2, linecolor='black', mirror=False)\n",
    "fig.update_yaxes(showline=True, linewidth=2, linecolor='black', mirror=False)\n",
    "fig.for_each_annotation(lambda a: a.update(text=a.text.replace(\"=\", \" \")))\n",
    "fig.update_layout(legend={\"yanchor\": \"middle\", \"y\": 0.5})"
   ]
  },
  {
   "cell_type": "code",
   "execution_count": 5,
   "id": "f0ccba6a-ccc6-4d04-a16e-48520983582a",
   "metadata": {},
   "outputs": [],
   "source": [
    "fig.write_image(\"results.svg\")"
   ]
  }
 ],
 "metadata": {
  "kernelspec": {
   "display_name": "Python 3 (ipykernel)",
   "language": "python",
   "name": "python3"
  },
  "language_info": {
   "codemirror_mode": {
    "name": "ipython",
    "version": 3
   },
   "file_extension": ".py",
   "mimetype": "text/x-python",
   "name": "python",
   "nbconvert_exporter": "python",
   "pygments_lexer": "ipython3",
   "version": "3.10.12"
  }
 },
 "nbformat": 4,
 "nbformat_minor": 5
}
