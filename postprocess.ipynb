{
 "cells": [
  {
   "cell_type": "code",
   "execution_count": 1,
   "id": "2b46fa0f-c4f5-48cc-af91-570c07b0ee9e",
   "metadata": {},
   "outputs": [],
   "source": [
    "import json\n",
    "import pandas as pd\n",
    "import plotly.express as px\n",
    "import os"
   ]
  },
  {
   "cell_type": "code",
   "execution_count": 2,
   "id": "f9bb60e9-abf7-4d60-ac3b-e3cc541dcbfb",
   "metadata": {},
   "outputs": [],
   "source": [
    "def read_file(path):\n",
    "    with open(path, \"r\") as f:\n",
    "        data = f.read()\n",
    "    return json.loads(data)[\"results\"]\n",
    "\n",
    "\n",
    "def short_name(name):\n",
    "    if name == \"gpt-3.5-turbo-1106\":\n",
    "        return \"gpt-3.5-turbo\"\n",
    "    if \"/\" in name:\n",
    "        name = name.split(\"/\")[1]\n",
    "    for k in [\"-Instruct\", \"-preview\"]:\n",
    "        if k in name:\n",
    "            name = name.split(k)[0]\n",
    "    return name"
   ]
  },
  {
   "cell_type": "code",
   "execution_count": null,
   "id": "312e7bab-33b4-4f0d-b379-c3287baf5962",
   "metadata": {},
   "outputs": [],
   "source": [
    "\n"
   ]
  },
  {
   "cell_type": "code",
   "execution_count": 30,
   "id": "c3f2751f-10d0-440e-b2a4-00c98b724a76",
   "metadata": {},
   "outputs": [],
   "source": [
    "# root = \"tmp_for_viz\"\n",
    "# files = {}\n",
    "# keys = []\n",
    "# for name in sorted(os.listdir(root), reverse=True):\n",
    "#     if not name.endswith(\".json\"):\n",
    "#         continue\n",
    "#     fname = os.path.join(root, name)\n",
    "#     r = read_file(fname)\n",
    "#     my_keys = set(r.keys())\n",
    "#     cur_keys = my_keys.difference(keys)\n",
    "#     if not cur_keys:\n",
    "#         print(\"DROP\", name)\n",
    "#         continue\n",
    "#     if len(my_keys) != len(cur_keys):\n",
    "#         print(\"OLD\", name, len(my_keys) - len(cur_keys), len(cur_keys))\n",
    "#     keys += cur_keys\n",
    "#     files[fname] = cur_keys"
   ]
  },
  {
   "cell_type": "code",
   "execution_count": 3,
   "id": "db2555c5-e781-42f3-9eed-37cee6f48b76",
   "metadata": {},
   "outputs": [],
   "source": [
    "with open(\"merged_run_outputs/merged.json\") as f:\n",
    "    results = json.loads(f.read())"
   ]
  },
  {
   "cell_type": "code",
   "execution_count": null,
   "id": "27129462-db21-458d-9aba-1197dac12eab",
   "metadata": {},
   "outputs": [],
   "source": []
  },
  {
   "cell_type": "code",
   "execution_count": 13,
   "id": "8c8efd81-0d10-4641-bebf-d4f0d4cf8756",
   "metadata": {},
   "outputs": [
    {
     "data": {
      "text/plain": [
       "array(['gpt-4-1106', 'Mixtral-8x22B', 'Meta-Llama-3.1-70B', 'Qwen2.5-72B',\n",
       "       'gpt-3.5-turbo', 'Meta-Llama-3.1-8B', 'Qwen2.5-7B', 'Humans'],\n",
       "      dtype=object)"
      ]
     },
     "execution_count": 13,
     "metadata": {},
     "output_type": "execute_result"
    }
   ],
   "source": [
    "data = []\n",
    "# fnames = [\n",
    "#     \"full_run_outputs/250109T1800.json\",\n",
    "#     \"full_run_outputs/250109T1802.json\",\n",
    "#     \"full_run_outputs/250109T1803.json\",\n",
    "#     \"full_run_outputs/250109T1804.json\",\n",
    "#     \"full_run_outputs/250109T1806.json\",\n",
    "#     \"full_run_outputs/250109T1808.json\",\n",
    "#     #    \"full_run_outputs/250108T2041.json\",\n",
    "# ]\n",
    "\n",
    "data2 = []\n",
    "\n",
    "for key, value in results.items():\n",
    "    x = key.split(\"|\")\n",
    "    name, fromtype = x[0].split(\"---DESCRIPTION-\")\n",
    "    desc_model = x[1].split(\"---COMPARISON\")[0]\n",
    "    cmp_model = x[2]\n",
    "    values = value[\"total_tallies\"]\n",
    "    desc_model = short_name(desc_model)\n",
    "    cmp_model = short_name(cmp_model)\n",
    "    row = (name, fromtype, desc_model, cmp_model)\n",
    "    data.append(row + (\"human\", values[\"Human\"]))\n",
    "    data.append(row + (\"llm\", values[\"LLM\"]))\n",
    "    data.append(row + (\"invalid\", values[\"Invalid\"]))\n",
    "\n",
    "    total = values[\"Human\"] + values[\"LLM\"] + values[\"Invalid\"]\n",
    "    data2.append((desc_model, cmp_model, name, fromtype, float(values[\"LLM\"]) / total))\n",
    "\n",
    "data2.append((\"gpt-4-1106\", \"Humans\", \"product\", \"from_json_details\", 0.29))\n",
    "data2.append((\"gpt-4-1106\", \"Humans\", \"paper\", \"write_xml_paper_abstract_control_word_count\", 0.46))\n",
    "data2.append((\"gpt-3.5-turbo\", \"Humans\", \"product\", \"from_json_details\", 0.28))\n",
    "data2.append((\"gpt-3.5-turbo\", \"Humans\", \"paper\", \"write_xml_paper_abstract_control_word_count\", 0.60))\n",
    "\n",
    "df = pd.DataFrame(data, columns=[\"name\", \"ftype\", \"desc_model\", \"cmp_model\", \"rtype\", \"rvalue\"])\n",
    "df2 = pd.DataFrame(data2, columns=[\"desc_model\", \"cmp_model\", \"name\", \"ftype\", \"value\"])\n",
    "df2.cmp_model.unique()"
   ]
  },
  {
   "cell_type": "code",
   "execution_count": 12,
   "id": "afac8f5f-b64b-4887-8e54-5f2cf70c4c20",
   "metadata": {},
   "outputs": [],
   "source": [
    "# MODELS = [\n",
    "#     \"gpt-4-1106\",\n",
    "#     \"gpt-3.5-turbo\",\n",
    "#     \"Mixtral-8x22B\",\n",
    "#     \"Qwen1.5-4B\",\n",
    "#     \"Qwen1.5-14B\",\n",
    "#     \"Qwen1.5-72B\",\n",
    "#     \"Meta-Llama-3.1-8B\",\n",
    "#     \"Meta-Llama-3.1-70B\",\n",
    "# ]\n",
    "# def add(name, desc_model, ftype, data):\n",
    "#    for m, v in zip(MODELS, data):\n",
    "#        data2.append((desc_model, m, name, ftype, v))\n",
    "# # add(\"product\", \"gpt-4-1106\", \"from_json_product_listing\", [0.87, 0.90, 0.96, 0.56, 0.82, 0.86, 0.86, 0.79])\n",
    "# # add(\"product\", \"gpt-4-1106\", \"from_json_details\", [0.88, 0.89, 0.95, 0.53, 0.84, 0.83, 0.84, 0.89])\n",
    "# # add(\"product\", \"gpt-3.5-turbo\", \"from_json_details\", [0.62, 0.74, 0.79, 0.52, 0.67, 0.64, 0.70, 0.64])\n",
    "\n",
    "\n"
   ]
  },
  {
   "cell_type": "code",
   "execution_count": null,
   "id": "6f1734b8-9164-4259-814f-3504923c5cc2",
   "metadata": {},
   "outputs": [],
   "source": []
  },
  {
   "cell_type": "code",
   "execution_count": null,
   "id": "6f8af8b4-341c-4c63-85be-6eb33fba085d",
   "metadata": {},
   "outputs": [],
   "source": []
  },
  {
   "cell_type": "code",
   "execution_count": 11,
   "id": "b93d9933-7780-4a44-8dd4-d4dd9340500e",
   "metadata": {},
   "outputs": [
    {
     "name": "stdout",
     "output_type": "stream",
     "text": [
      "paper write_xml_paper_abstract_control_word_count\n"
     ]
    },
    {
     "ename": "ValueError",
     "evalue": "Index contains duplicate entries, cannot reshape",
     "output_type": "error",
     "traceback": [
      "\u001b[0;31m---------------------------------------------------------------------------\u001b[0m",
      "\u001b[0;31mValueError\u001b[0m                                Traceback (most recent call last)",
      "Cell \u001b[0;32mIn[11], line 9\u001b[0m\n\u001b[1;32m      7\u001b[0m \u001b[38;5;66;03m#d = df2[(df2.ftype == ftype) & (df.name == name)]\u001b[39;00m\n\u001b[1;32m      8\u001b[0m d \u001b[38;5;241m=\u001b[39m df2[(df2\u001b[38;5;241m.\u001b[39mftype \u001b[38;5;241m==\u001b[39m ftype) \u001b[38;5;241m&\u001b[39m (df2\u001b[38;5;241m.\u001b[39mname \u001b[38;5;241m==\u001b[39m name)]\n\u001b[0;32m----> 9\u001b[0m tab \u001b[38;5;241m=\u001b[39m \u001b[43md\u001b[49m\u001b[38;5;241;43m.\u001b[39;49m\u001b[43mpivot\u001b[49m\u001b[43m(\u001b[49m\u001b[43mindex\u001b[49m\u001b[38;5;241;43m=\u001b[39;49m\u001b[38;5;124;43m'\u001b[39;49m\u001b[38;5;124;43mdesc_model\u001b[39;49m\u001b[38;5;124;43m'\u001b[39;49m\u001b[43m,\u001b[49m\u001b[43m \u001b[49m\u001b[43mcolumns\u001b[49m\u001b[38;5;241;43m=\u001b[39;49m\u001b[38;5;124;43m'\u001b[39;49m\u001b[38;5;124;43mcmp_model\u001b[39;49m\u001b[38;5;124;43m'\u001b[39;49m\u001b[43m,\u001b[49m\u001b[43m \u001b[49m\u001b[43mvalues\u001b[49m\u001b[38;5;241;43m=\u001b[39;49m\u001b[38;5;124;43m'\u001b[39;49m\u001b[38;5;124;43mvalue\u001b[39;49m\u001b[38;5;124;43m'\u001b[39;49m\u001b[43m)\u001b[49m\n\u001b[1;32m     10\u001b[0m \u001b[38;5;66;03m#print(tab)\u001b[39;00m\n\u001b[1;32m     11\u001b[0m fig \u001b[38;5;241m=\u001b[39m px\u001b[38;5;241m.\u001b[39mimshow(tab, text_auto\u001b[38;5;241m=\u001b[39m\u001b[38;5;124m\"\u001b[39m\u001b[38;5;124m.2f\u001b[39m\u001b[38;5;124m\"\u001b[39m, color_continuous_scale\u001b[38;5;241m=\u001b[39m\u001b[38;5;124m'\u001b[39m\u001b[38;5;124mRdBu_r\u001b[39m\u001b[38;5;124m'\u001b[39m, height\u001b[38;5;241m=\u001b[39m\u001b[38;5;241m700\u001b[39m, color_continuous_midpoint\u001b[38;5;241m=\u001b[39m\u001b[38;5;241m0.5\u001b[39m)\n",
      "File \u001b[0;32m~/.cache/pypoetry/virtualenvs/ai-ai-bias-sJknUogv-py3.11/lib/python3.11/site-packages/pandas/core/frame.py:9339\u001b[0m, in \u001b[0;36mDataFrame.pivot\u001b[0;34m(self, columns, index, values)\u001b[0m\n\u001b[1;32m   9332\u001b[0m \u001b[38;5;129m@Substitution\u001b[39m(\u001b[38;5;124m\"\u001b[39m\u001b[38;5;124m\"\u001b[39m)\n\u001b[1;32m   9333\u001b[0m \u001b[38;5;129m@Appender\u001b[39m(_shared_docs[\u001b[38;5;124m\"\u001b[39m\u001b[38;5;124mpivot\u001b[39m\u001b[38;5;124m\"\u001b[39m])\n\u001b[1;32m   9334\u001b[0m \u001b[38;5;28;01mdef\u001b[39;00m\u001b[38;5;250m \u001b[39m\u001b[38;5;21mpivot\u001b[39m(\n\u001b[1;32m   9335\u001b[0m     \u001b[38;5;28mself\u001b[39m, \u001b[38;5;241m*\u001b[39m, columns, index\u001b[38;5;241m=\u001b[39mlib\u001b[38;5;241m.\u001b[39mno_default, values\u001b[38;5;241m=\u001b[39mlib\u001b[38;5;241m.\u001b[39mno_default\n\u001b[1;32m   9336\u001b[0m ) \u001b[38;5;241m-\u001b[39m\u001b[38;5;241m>\u001b[39m DataFrame:\n\u001b[1;32m   9337\u001b[0m     \u001b[38;5;28;01mfrom\u001b[39;00m\u001b[38;5;250m \u001b[39m\u001b[38;5;21;01mpandas\u001b[39;00m\u001b[38;5;21;01m.\u001b[39;00m\u001b[38;5;21;01mcore\u001b[39;00m\u001b[38;5;21;01m.\u001b[39;00m\u001b[38;5;21;01mreshape\u001b[39;00m\u001b[38;5;21;01m.\u001b[39;00m\u001b[38;5;21;01mpivot\u001b[39;00m\u001b[38;5;250m \u001b[39m\u001b[38;5;28;01mimport\u001b[39;00m pivot\n\u001b[0;32m-> 9339\u001b[0m     \u001b[38;5;28;01mreturn\u001b[39;00m \u001b[43mpivot\u001b[49m\u001b[43m(\u001b[49m\u001b[38;5;28;43mself\u001b[39;49m\u001b[43m,\u001b[49m\u001b[43m \u001b[49m\u001b[43mindex\u001b[49m\u001b[38;5;241;43m=\u001b[39;49m\u001b[43mindex\u001b[49m\u001b[43m,\u001b[49m\u001b[43m \u001b[49m\u001b[43mcolumns\u001b[49m\u001b[38;5;241;43m=\u001b[39;49m\u001b[43mcolumns\u001b[49m\u001b[43m,\u001b[49m\u001b[43m \u001b[49m\u001b[43mvalues\u001b[49m\u001b[38;5;241;43m=\u001b[39;49m\u001b[43mvalues\u001b[49m\u001b[43m)\u001b[49m\n",
      "File \u001b[0;32m~/.cache/pypoetry/virtualenvs/ai-ai-bias-sJknUogv-py3.11/lib/python3.11/site-packages/pandas/core/reshape/pivot.py:570\u001b[0m, in \u001b[0;36mpivot\u001b[0;34m(data, columns, index, values)\u001b[0m\n\u001b[1;32m    566\u001b[0m         indexed \u001b[38;5;241m=\u001b[39m data\u001b[38;5;241m.\u001b[39m_constructor_sliced(data[values]\u001b[38;5;241m.\u001b[39m_values, index\u001b[38;5;241m=\u001b[39mmultiindex)\n\u001b[1;32m    567\u001b[0m \u001b[38;5;66;03m# error: Argument 1 to \"unstack\" of \"DataFrame\" has incompatible type \"Union\u001b[39;00m\n\u001b[1;32m    568\u001b[0m \u001b[38;5;66;03m# [List[Any], ExtensionArray, ndarray[Any, Any], Index, Series]\"; expected\u001b[39;00m\n\u001b[1;32m    569\u001b[0m \u001b[38;5;66;03m# \"Hashable\"\u001b[39;00m\n\u001b[0;32m--> 570\u001b[0m result \u001b[38;5;241m=\u001b[39m \u001b[43mindexed\u001b[49m\u001b[38;5;241;43m.\u001b[39;49m\u001b[43munstack\u001b[49m\u001b[43m(\u001b[49m\u001b[43mcolumns_listlike\u001b[49m\u001b[43m)\u001b[49m  \u001b[38;5;66;03m# type: ignore[arg-type]\u001b[39;00m\n\u001b[1;32m    571\u001b[0m result\u001b[38;5;241m.\u001b[39mindex\u001b[38;5;241m.\u001b[39mnames \u001b[38;5;241m=\u001b[39m [\n\u001b[1;32m    572\u001b[0m     name \u001b[38;5;28;01mif\u001b[39;00m name \u001b[38;5;129;01mis\u001b[39;00m \u001b[38;5;129;01mnot\u001b[39;00m lib\u001b[38;5;241m.\u001b[39mno_default \u001b[38;5;28;01melse\u001b[39;00m \u001b[38;5;28;01mNone\u001b[39;00m \u001b[38;5;28;01mfor\u001b[39;00m name \u001b[38;5;129;01min\u001b[39;00m result\u001b[38;5;241m.\u001b[39mindex\u001b[38;5;241m.\u001b[39mnames\n\u001b[1;32m    573\u001b[0m ]\n\u001b[1;32m    575\u001b[0m \u001b[38;5;28;01mreturn\u001b[39;00m result\n",
      "File \u001b[0;32m~/.cache/pypoetry/virtualenvs/ai-ai-bias-sJknUogv-py3.11/lib/python3.11/site-packages/pandas/core/series.py:4615\u001b[0m, in \u001b[0;36mSeries.unstack\u001b[0;34m(self, level, fill_value, sort)\u001b[0m\n\u001b[1;32m   4570\u001b[0m \u001b[38;5;250m\u001b[39m\u001b[38;5;124;03m\"\"\"\u001b[39;00m\n\u001b[1;32m   4571\u001b[0m \u001b[38;5;124;03mUnstack, also known as pivot, Series with MultiIndex to produce DataFrame.\u001b[39;00m\n\u001b[1;32m   4572\u001b[0m \n\u001b[0;32m   (...)\u001b[0m\n\u001b[1;32m   4611\u001b[0m \u001b[38;5;124;03mb    2    4\u001b[39;00m\n\u001b[1;32m   4612\u001b[0m \u001b[38;5;124;03m\"\"\"\u001b[39;00m\n\u001b[1;32m   4613\u001b[0m \u001b[38;5;28;01mfrom\u001b[39;00m\u001b[38;5;250m \u001b[39m\u001b[38;5;21;01mpandas\u001b[39;00m\u001b[38;5;21;01m.\u001b[39;00m\u001b[38;5;21;01mcore\u001b[39;00m\u001b[38;5;21;01m.\u001b[39;00m\u001b[38;5;21;01mreshape\u001b[39;00m\u001b[38;5;21;01m.\u001b[39;00m\u001b[38;5;21;01mreshape\u001b[39;00m\u001b[38;5;250m \u001b[39m\u001b[38;5;28;01mimport\u001b[39;00m unstack\n\u001b[0;32m-> 4615\u001b[0m \u001b[38;5;28;01mreturn\u001b[39;00m \u001b[43munstack\u001b[49m\u001b[43m(\u001b[49m\u001b[38;5;28;43mself\u001b[39;49m\u001b[43m,\u001b[49m\u001b[43m \u001b[49m\u001b[43mlevel\u001b[49m\u001b[43m,\u001b[49m\u001b[43m \u001b[49m\u001b[43mfill_value\u001b[49m\u001b[43m,\u001b[49m\u001b[43m \u001b[49m\u001b[43msort\u001b[49m\u001b[43m)\u001b[49m\n",
      "File \u001b[0;32m~/.cache/pypoetry/virtualenvs/ai-ai-bias-sJknUogv-py3.11/lib/python3.11/site-packages/pandas/core/reshape/reshape.py:517\u001b[0m, in \u001b[0;36munstack\u001b[0;34m(obj, level, fill_value, sort)\u001b[0m\n\u001b[1;32m    515\u001b[0m \u001b[38;5;28;01mif\u001b[39;00m is_1d_only_ea_dtype(obj\u001b[38;5;241m.\u001b[39mdtype):\n\u001b[1;32m    516\u001b[0m     \u001b[38;5;28;01mreturn\u001b[39;00m _unstack_extension_series(obj, level, fill_value, sort\u001b[38;5;241m=\u001b[39msort)\n\u001b[0;32m--> 517\u001b[0m unstacker \u001b[38;5;241m=\u001b[39m \u001b[43m_Unstacker\u001b[49m\u001b[43m(\u001b[49m\n\u001b[1;32m    518\u001b[0m \u001b[43m    \u001b[49m\u001b[43mobj\u001b[49m\u001b[38;5;241;43m.\u001b[39;49m\u001b[43mindex\u001b[49m\u001b[43m,\u001b[49m\u001b[43m \u001b[49m\u001b[43mlevel\u001b[49m\u001b[38;5;241;43m=\u001b[39;49m\u001b[43mlevel\u001b[49m\u001b[43m,\u001b[49m\u001b[43m \u001b[49m\u001b[43mconstructor\u001b[49m\u001b[38;5;241;43m=\u001b[39;49m\u001b[43mobj\u001b[49m\u001b[38;5;241;43m.\u001b[39;49m\u001b[43m_constructor_expanddim\u001b[49m\u001b[43m,\u001b[49m\u001b[43m \u001b[49m\u001b[43msort\u001b[49m\u001b[38;5;241;43m=\u001b[39;49m\u001b[43msort\u001b[49m\n\u001b[1;32m    519\u001b[0m \u001b[43m\u001b[49m\u001b[43m)\u001b[49m\n\u001b[1;32m    520\u001b[0m \u001b[38;5;28;01mreturn\u001b[39;00m unstacker\u001b[38;5;241m.\u001b[39mget_result(\n\u001b[1;32m    521\u001b[0m     obj\u001b[38;5;241m.\u001b[39m_values, value_columns\u001b[38;5;241m=\u001b[39m\u001b[38;5;28;01mNone\u001b[39;00m, fill_value\u001b[38;5;241m=\u001b[39mfill_value\n\u001b[1;32m    522\u001b[0m )\n",
      "File \u001b[0;32m~/.cache/pypoetry/virtualenvs/ai-ai-bias-sJknUogv-py3.11/lib/python3.11/site-packages/pandas/core/reshape/reshape.py:154\u001b[0m, in \u001b[0;36m_Unstacker.__init__\u001b[0;34m(self, index, level, constructor, sort)\u001b[0m\n\u001b[1;32m    146\u001b[0m \u001b[38;5;28;01mif\u001b[39;00m num_cells \u001b[38;5;241m>\u001b[39m np\u001b[38;5;241m.\u001b[39miinfo(np\u001b[38;5;241m.\u001b[39mint32)\u001b[38;5;241m.\u001b[39mmax:\n\u001b[1;32m    147\u001b[0m     warnings\u001b[38;5;241m.\u001b[39mwarn(\n\u001b[1;32m    148\u001b[0m         \u001b[38;5;124mf\u001b[39m\u001b[38;5;124m\"\u001b[39m\u001b[38;5;124mThe following operation may generate \u001b[39m\u001b[38;5;132;01m{\u001b[39;00mnum_cells\u001b[38;5;132;01m}\u001b[39;00m\u001b[38;5;124m cells \u001b[39m\u001b[38;5;124m\"\u001b[39m\n\u001b[1;32m    149\u001b[0m         \u001b[38;5;124mf\u001b[39m\u001b[38;5;124m\"\u001b[39m\u001b[38;5;124min the resulting pandas object.\u001b[39m\u001b[38;5;124m\"\u001b[39m,\n\u001b[1;32m    150\u001b[0m         PerformanceWarning,\n\u001b[1;32m    151\u001b[0m         stacklevel\u001b[38;5;241m=\u001b[39mfind_stack_level(),\n\u001b[1;32m    152\u001b[0m     )\n\u001b[0;32m--> 154\u001b[0m \u001b[38;5;28;43mself\u001b[39;49m\u001b[38;5;241;43m.\u001b[39;49m\u001b[43m_make_selectors\u001b[49m\u001b[43m(\u001b[49m\u001b[43m)\u001b[49m\n",
      "File \u001b[0;32m~/.cache/pypoetry/virtualenvs/ai-ai-bias-sJknUogv-py3.11/lib/python3.11/site-packages/pandas/core/reshape/reshape.py:210\u001b[0m, in \u001b[0;36m_Unstacker._make_selectors\u001b[0;34m(self)\u001b[0m\n\u001b[1;32m    207\u001b[0m mask\u001b[38;5;241m.\u001b[39mput(selector, \u001b[38;5;28;01mTrue\u001b[39;00m)\n\u001b[1;32m    209\u001b[0m \u001b[38;5;28;01mif\u001b[39;00m mask\u001b[38;5;241m.\u001b[39msum() \u001b[38;5;241m<\u001b[39m \u001b[38;5;28mlen\u001b[39m(\u001b[38;5;28mself\u001b[39m\u001b[38;5;241m.\u001b[39mindex):\n\u001b[0;32m--> 210\u001b[0m     \u001b[38;5;28;01mraise\u001b[39;00m \u001b[38;5;167;01mValueError\u001b[39;00m(\u001b[38;5;124m\"\u001b[39m\u001b[38;5;124mIndex contains duplicate entries, cannot reshape\u001b[39m\u001b[38;5;124m\"\u001b[39m)\n\u001b[1;32m    212\u001b[0m \u001b[38;5;28mself\u001b[39m\u001b[38;5;241m.\u001b[39mgroup_index \u001b[38;5;241m=\u001b[39m comp_index\n\u001b[1;32m    213\u001b[0m \u001b[38;5;28mself\u001b[39m\u001b[38;5;241m.\u001b[39mmask \u001b[38;5;241m=\u001b[39m mask\n",
      "\u001b[0;31mValueError\u001b[0m: Index contains duplicate entries, cannot reshape"
     ]
    }
   ],
   "source": [
    "\n",
    "# df2 = pd.DataFrame(data2, columns=[\"desc_model\", \"cmp_model\", \"ftype\", \"value\"])\n",
    "# df2 = df2[df2.ftype == \"from_json_details\"].pivot(index='desc_model', columns='cmp_model', values='value')\n",
    "# df2\n",
    "\n",
    "for name, ftype in list(df[[\"name\", \"ftype\"]].value_counts().index):\n",
    "    print(name, ftype)\n",
    "    #d = df2[(df2.ftype == ftype) & (df.name == name)]\n",
    "    d = df2[(df2.ftype == ftype) & (df2.name == name)]\n",
    "    tab = d.pivot(index='desc_model', columns='cmp_model', values='value')\n",
    "    #print(tab)\n",
    "    fig = px.imshow(tab, text_auto=\".2f\", color_continuous_scale='RdBu_r', height=700, color_continuous_midpoint=0.5)\n",
    "    fig.update_layout(\n",
    "        plot_bgcolor=\"rgba(0, 0, 0, 0)\",\n",
    "    )\n",
    "    fig.show()\n",
    "    \n"
   ]
  },
  {
   "cell_type": "code",
   "execution_count": 18,
   "id": "4cf17ccb-6337-4fdc-82a1-3ba827af2c32",
   "metadata": {},
   "outputs": [
    {
     "data": {
      "application/vnd.plotly.v1+json": {
       "config": {
        "plotlyServerURL": "https://plot.ly"
       },
       "data": [
        {
         "coloraxis": "coloraxis",
         "hovertemplate": "x: %{x}<br>y: %{y}<br>color: %{z}<extra></extra>",
         "name": "0",
         "texttemplate": "%{z:.2f}",
         "type": "heatmap",
         "x": [
          "desc_model",
          "cmp_model",
          "name",
          "ftype",
          "value"
         ],
         "xaxis": "x",
         "y": [
          0,
          1,
          2,
          3,
          4,
          5,
          6,
          7,
          8,
          9,
          10,
          11,
          12,
          13,
          14,
          15,
          16,
          17,
          18,
          19,
          20,
          21,
          22,
          23,
          24,
          25,
          26,
          27,
          28,
          29,
          30,
          31,
          32,
          33,
          34,
          35,
          36,
          37,
          38,
          39,
          40,
          41,
          42,
          43,
          44,
          45,
          46,
          47,
          48,
          49,
          50,
          51,
          52,
          53,
          54,
          55,
          56,
          57,
          58,
          59,
          60,
          61,
          62,
          63,
          64,
          65,
          66,
          67,
          68
         ],
         "yaxis": "y",
         "z": [
          [
           "gpt-4-1106",
           "gpt-4-1106",
           "proposal",
           "from_json_details",
           0.5
          ],
          [
           "gpt-3.5-turbo-1106",
           "Mixtral-8x22B",
           "paper",
           "write_xml_paper_abstract_control_word_count",
           0.6927710843373494
          ],
          [
           "gpt-4-1106",
           "Mixtral-8x22B",
           "paper",
           "write_xml_paper_abstract_control_word_count",
           0.7903225806451613
          ],
          [
           "Llama-3.3-70B",
           "Mixtral-8x22B",
           "paper",
           "write_xml_paper_abstract_control_word_count",
           0.08064516129032258
          ],
          [
           "gpt-3.5-turbo",
           "Meta-Llama-3.1-70B",
           "proposal",
           "from_json_details",
           0.4
          ],
          [
           "gpt-4-1106",
           "Meta-Llama-3.1-70B",
           "proposal",
           "from_json_details",
           0.504
          ],
          [
           "Qwen2.5-72B",
           "Meta-Llama-3.1-70B",
           "proposal",
           "from_json_details",
           0.482
          ],
          [
           "gpt-3.5-turbo",
           "Mixtral-8x22B",
           "proposal",
           "from_json_details",
           0.096
          ],
          [
           "gpt-4-1106",
           "Mixtral-8x22B",
           "proposal",
           "from_json_details",
           0.408
          ],
          [
           "Qwen2.5-72B",
           "Mixtral-8x22B",
           "proposal",
           "from_json_details",
           0.216
          ],
          [
           "gpt-3.5-turbo-1106",
           "Meta-Llama-3.1-70B",
           "paper",
           "write_xml_paper_abstract_control_word_count",
           0.6265060240963856
          ],
          [
           "gpt-4-1106",
           "Meta-Llama-3.1-70B",
           "paper",
           "write_xml_paper_abstract_control_word_count",
           0.8172043010752689
          ],
          [
           "Qwen2.5-72B",
           "Meta-Llama-3.1-70B",
           "paper",
           "write_xml_paper_abstract_control_word_count",
           0.6505376344086021
          ],
          [
           "gpt-3.5-turbo",
           "Qwen2.5-72B",
           "proposal",
           "from_json_details",
           0.126
          ],
          [
           "gpt-4-1106",
           "Qwen2.5-72B",
           "proposal",
           "from_json_details",
           0.598
          ],
          [
           "Qwen2.5-72B",
           "Qwen2.5-72B",
           "proposal",
           "from_json_details",
           0.566
          ],
          [
           "Qwen2.5-72B",
           "Mixtral-8x22B",
           "paper",
           "write_xml_paper_abstract_control_word_count",
           0.5967741935483871
          ],
          [
           "gpt-3.5-turbo-1106",
           "Qwen2.5-72B",
           "paper",
           "write_xml_paper_abstract_control_word_count",
           0.4879518072289157
          ],
          [
           "gpt-4-1106",
           "Qwen2.5-72B",
           "paper",
           "write_xml_paper_abstract_control_word_count",
           0.7688172043010753
          ],
          [
           "Qwen2.5-72B",
           "Qwen2.5-72B",
           "paper",
           "write_xml_paper_abstract_control_word_count",
           0.5860215053763441
          ],
          [
           "gpt-3.5-turbo",
           "gpt-3.5-turbo",
           "proposal",
           "from_json_details",
           0.226
          ],
          [
           "gpt-4-1106",
           "gpt-3.5-turbo",
           "proposal",
           "from_json_details",
           0.426
          ],
          [
           "Qwen2.5-72B",
           "gpt-3.5-turbo",
           "proposal",
           "from_json_details",
           0.278
          ],
          [
           "gpt-3.5-turbo-1106",
           "gpt-3.5-turbo",
           "paper",
           "write_xml_paper_abstract_control_word_count",
           0.3795180722891566
          ],
          [
           "gpt-4-1106",
           "gpt-3.5-turbo",
           "paper",
           "write_xml_paper_abstract_control_word_count",
           0.5645161290322581
          ],
          [
           "Qwen2.5-72B",
           "gpt-3.5-turbo",
           "paper",
           "write_xml_paper_abstract_control_word_count",
           0.43548387096774194
          ],
          [
           "gpt-3.5-turbo-1106",
           "gpt-4-1106",
           "paper",
           "write_xml_paper_abstract_control_word_count",
           0.5180722891566265
          ],
          [
           "gpt-4-1106",
           "gpt-4-1106",
           "paper",
           "write_xml_paper_abstract_control_word_count",
           0.7096774193548387
          ],
          [
           "Qwen2.5-72B",
           "gpt-4-1106",
           "paper",
           "write_xml_paper_abstract_control_word_count",
           0.553763440860215
          ],
          [
           "gpt-3.5-turbo-1106",
           "Meta-Llama-3.1-8B",
           "paper",
           "write_xml_paper_abstract_control_word_count",
           0.024096385542168676
          ],
          [
           "gpt-4-1106",
           "Meta-Llama-3.1-8B",
           "paper",
           "write_xml_paper_abstract_control_word_count",
           0.04838709677419355
          ],
          [
           "Qwen2.5-72B",
           "Meta-Llama-3.1-8B",
           "paper",
           "write_xml_paper_abstract_control_word_count",
           0.03763440860215054
          ],
          [
           "gpt-3.5-turbo",
           "Meta-Llama-3.1-8B",
           "proposal",
           "from_json_details",
           0.166
          ],
          [
           "gpt-4-1106",
           "Meta-Llama-3.1-8B",
           "proposal",
           "from_json_details",
           0.188
          ],
          [
           "Qwen2.5-72B",
           "Meta-Llama-3.1-8B",
           "proposal",
           "from_json_details",
           0.12
          ],
          [
           "gpt-3.5-turbo-1106",
           "Qwen2.5-7B",
           "paper",
           "write_xml_paper_abstract_control_word_count",
           0.572289156626506
          ],
          [
           "gpt-4-1106",
           "Qwen2.5-7B",
           "paper",
           "write_xml_paper_abstract_control_word_count",
           0.7580645161290323
          ],
          [
           "Qwen2.5-72B",
           "Qwen2.5-7B",
           "paper",
           "write_xml_paper_abstract_control_word_count",
           0.6129032258064516
          ],
          [
           "Mixtral-8x22B",
           "Meta-Llama-3.1-70B",
           "proposal",
           "from_json_details",
           0.474
          ],
          [
           "Qwen2.5-7B",
           "Meta-Llama-3.1-70B",
           "proposal",
           "from_json_details",
           0.44
          ],
          [
           "Meta-Llama-3.1-70B",
           "Meta-Llama-3.1-70B",
           "proposal",
           "from_json_details",
           0.488
          ],
          [
           "Mixtral-8x22B",
           "Mixtral-8x22B",
           "paper",
           "write_xml_paper_abstract_control_word_count",
           0.6290322580645161
          ],
          [
           "Meta-Llama-3.1-70B",
           "Mixtral-8x22B",
           "paper",
           "write_xml_paper_abstract_control_word_count",
           0.5645161290322581
          ],
          [
           "Meta-Llama-3.1-8B",
           "Mixtral-8x22B",
           "paper",
           "write_xml_paper_abstract_control_word_count",
           0.6505376344086021
          ],
          [
           "Mixtral-8x22B",
           "Mixtral-8x22B",
           "proposal",
           "from_json_details",
           0.19
          ],
          [
           "Qwen2.5-7B",
           "Mixtral-8x22B",
           "proposal",
           "from_json_details",
           0.126
          ],
          [
           "Meta-Llama-3.1-70B",
           "Mixtral-8x22B",
           "proposal",
           "from_json_details",
           0.266
          ],
          [
           "Meta-Llama-3.1-8B",
           "Mixtral-8x22B",
           "proposal",
           "from_json_details",
           0.232
          ],
          [
           "Mixtral-8x22B",
           "Qwen2.5-72B",
           "paper",
           "write_xml_paper_abstract_control_word_count",
           0.5645161290322581
          ],
          [
           "Meta-Llama-3.1-70B",
           "Qwen2.5-72B",
           "paper",
           "write_xml_paper_abstract_control_word_count",
           0.5
          ],
          [
           "Meta-Llama-3.1-8B",
           "Qwen2.5-72B",
           "paper",
           "write_xml_paper_abstract_control_word_count",
           0.5053763440860215
          ],
          [
           "Mixtral-8x22B",
           "Meta-Llama-3.1-70B",
           "paper",
           "write_xml_paper_abstract_control_word_count",
           0.6290322580645161
          ],
          [
           "Meta-Llama-3.1-70B",
           "Meta-Llama-3.1-70B",
           "paper",
           "write_xml_paper_abstract_control_word_count",
           0.5591397849462365
          ],
          [
           "Meta-Llama-3.1-8B",
           "Meta-Llama-3.1-70B",
           "paper",
           "write_xml_paper_abstract_control_word_count",
           0.553763440860215
          ],
          [
           "Mixtral-8x22B",
           "gpt-4-1106",
           "paper",
           "write_xml_paper_abstract_control_word_count",
           0.543010752688172
          ],
          [
           "Meta-Llama-3.1-70B",
           "gpt-4-1106",
           "paper",
           "write_xml_paper_abstract_control_word_count",
           0.46236559139784944
          ],
          [
           "Meta-Llama-3.1-8B",
           "gpt-4-1106",
           "paper",
           "write_xml_paper_abstract_control_word_count",
           0.40860215053763443
          ],
          [
           "Mixtral-8x22B",
           "Qwen2.5-7B",
           "paper",
           "write_xml_paper_abstract_control_word_count",
           0.5913978494623656
          ],
          [
           "Meta-Llama-3.1-70B",
           "Qwen2.5-7B",
           "paper",
           "write_xml_paper_abstract_control_word_count",
           0.543010752688172
          ],
          [
           "Meta-Llama-3.1-8B",
           "Qwen2.5-7B",
           "paper",
           "write_xml_paper_abstract_control_word_count",
           0.7526881720430108
          ],
          [
           "Mixtral-8x22B",
           "Qwen2.5-72B",
           "proposal",
           "from_json_details",
           0.232
          ],
          [
           "Qwen2.5-7B",
           "Qwen2.5-72B",
           "proposal",
           "from_json_details",
           0.266
          ],
          [
           "Meta-Llama-3.1-70B",
           "Qwen2.5-72B",
           "proposal",
           "from_json_details",
           0.354
          ],
          [
           "Meta-Llama-3.1-8B",
           "Qwen2.5-72B",
           "proposal",
           "from_json_details",
           0.316
          ],
          [
           "Meta-Llama-3.1-8B",
           "Meta-Llama-3.1-70B",
           "proposal",
           "from_json_details",
           0.458
          ],
          [
           "Mixtral-8x22B",
           "gpt-3.5-turbo",
           "proposal",
           "from_json_details",
           0.47
          ],
          [
           "Qwen2.5-7B",
           "gpt-3.5-turbo",
           "proposal",
           "from_json_details",
           0.272
          ],
          [
           "Meta-Llama-3.1-70B",
           "gpt-3.5-turbo",
           "proposal",
           "from_json_details",
           0.342
          ],
          [
           "Meta-Llama-3.1-8B",
           "gpt-3.5-turbo",
           "proposal",
           "from_json_details",
           0.312
          ]
         ]
        }
       ],
       "layout": {
        "coloraxis": {
         "colorscale": [
          [
           0,
           "rgb(5,48,97)"
          ],
          [
           0.1,
           "rgb(33,102,172)"
          ],
          [
           0.2,
           "rgb(67,147,195)"
          ],
          [
           0.3,
           "rgb(146,197,222)"
          ],
          [
           0.4,
           "rgb(209,229,240)"
          ],
          [
           0.5,
           "rgb(247,247,247)"
          ],
          [
           0.6,
           "rgb(253,219,199)"
          ],
          [
           0.7,
           "rgb(244,165,130)"
          ],
          [
           0.8,
           "rgb(214,96,77)"
          ],
          [
           0.9,
           "rgb(178,24,43)"
          ],
          [
           1,
           "rgb(103,0,31)"
          ]
         ]
        },
        "margin": {
         "t": 60
        },
        "template": {
         "data": {
          "bar": [
           {
            "error_x": {
             "color": "#2a3f5f"
            },
            "error_y": {
             "color": "#2a3f5f"
            },
            "marker": {
             "line": {
              "color": "#E5ECF6",
              "width": 0.5
             },
             "pattern": {
              "fillmode": "overlay",
              "size": 10,
              "solidity": 0.2
             }
            },
            "type": "bar"
           }
          ],
          "barpolar": [
           {
            "marker": {
             "line": {
              "color": "#E5ECF6",
              "width": 0.5
             },
             "pattern": {
              "fillmode": "overlay",
              "size": 10,
              "solidity": 0.2
             }
            },
            "type": "barpolar"
           }
          ],
          "carpet": [
           {
            "aaxis": {
             "endlinecolor": "#2a3f5f",
             "gridcolor": "white",
             "linecolor": "white",
             "minorgridcolor": "white",
             "startlinecolor": "#2a3f5f"
            },
            "baxis": {
             "endlinecolor": "#2a3f5f",
             "gridcolor": "white",
             "linecolor": "white",
             "minorgridcolor": "white",
             "startlinecolor": "#2a3f5f"
            },
            "type": "carpet"
           }
          ],
          "choropleth": [
           {
            "colorbar": {
             "outlinewidth": 0,
             "ticks": ""
            },
            "type": "choropleth"
           }
          ],
          "contour": [
           {
            "colorbar": {
             "outlinewidth": 0,
             "ticks": ""
            },
            "colorscale": [
             [
              0,
              "#0d0887"
             ],
             [
              0.1111111111111111,
              "#46039f"
             ],
             [
              0.2222222222222222,
              "#7201a8"
             ],
             [
              0.3333333333333333,
              "#9c179e"
             ],
             [
              0.4444444444444444,
              "#bd3786"
             ],
             [
              0.5555555555555556,
              "#d8576b"
             ],
             [
              0.6666666666666666,
              "#ed7953"
             ],
             [
              0.7777777777777778,
              "#fb9f3a"
             ],
             [
              0.8888888888888888,
              "#fdca26"
             ],
             [
              1,
              "#f0f921"
             ]
            ],
            "type": "contour"
           }
          ],
          "contourcarpet": [
           {
            "colorbar": {
             "outlinewidth": 0,
             "ticks": ""
            },
            "type": "contourcarpet"
           }
          ],
          "heatmap": [
           {
            "colorbar": {
             "outlinewidth": 0,
             "ticks": ""
            },
            "colorscale": [
             [
              0,
              "#0d0887"
             ],
             [
              0.1111111111111111,
              "#46039f"
             ],
             [
              0.2222222222222222,
              "#7201a8"
             ],
             [
              0.3333333333333333,
              "#9c179e"
             ],
             [
              0.4444444444444444,
              "#bd3786"
             ],
             [
              0.5555555555555556,
              "#d8576b"
             ],
             [
              0.6666666666666666,
              "#ed7953"
             ],
             [
              0.7777777777777778,
              "#fb9f3a"
             ],
             [
              0.8888888888888888,
              "#fdca26"
             ],
             [
              1,
              "#f0f921"
             ]
            ],
            "type": "heatmap"
           }
          ],
          "heatmapgl": [
           {
            "colorbar": {
             "outlinewidth": 0,
             "ticks": ""
            },
            "colorscale": [
             [
              0,
              "#0d0887"
             ],
             [
              0.1111111111111111,
              "#46039f"
             ],
             [
              0.2222222222222222,
              "#7201a8"
             ],
             [
              0.3333333333333333,
              "#9c179e"
             ],
             [
              0.4444444444444444,
              "#bd3786"
             ],
             [
              0.5555555555555556,
              "#d8576b"
             ],
             [
              0.6666666666666666,
              "#ed7953"
             ],
             [
              0.7777777777777778,
              "#fb9f3a"
             ],
             [
              0.8888888888888888,
              "#fdca26"
             ],
             [
              1,
              "#f0f921"
             ]
            ],
            "type": "heatmapgl"
           }
          ],
          "histogram": [
           {
            "marker": {
             "pattern": {
              "fillmode": "overlay",
              "size": 10,
              "solidity": 0.2
             }
            },
            "type": "histogram"
           }
          ],
          "histogram2d": [
           {
            "colorbar": {
             "outlinewidth": 0,
             "ticks": ""
            },
            "colorscale": [
             [
              0,
              "#0d0887"
             ],
             [
              0.1111111111111111,
              "#46039f"
             ],
             [
              0.2222222222222222,
              "#7201a8"
             ],
             [
              0.3333333333333333,
              "#9c179e"
             ],
             [
              0.4444444444444444,
              "#bd3786"
             ],
             [
              0.5555555555555556,
              "#d8576b"
             ],
             [
              0.6666666666666666,
              "#ed7953"
             ],
             [
              0.7777777777777778,
              "#fb9f3a"
             ],
             [
              0.8888888888888888,
              "#fdca26"
             ],
             [
              1,
              "#f0f921"
             ]
            ],
            "type": "histogram2d"
           }
          ],
          "histogram2dcontour": [
           {
            "colorbar": {
             "outlinewidth": 0,
             "ticks": ""
            },
            "colorscale": [
             [
              0,
              "#0d0887"
             ],
             [
              0.1111111111111111,
              "#46039f"
             ],
             [
              0.2222222222222222,
              "#7201a8"
             ],
             [
              0.3333333333333333,
              "#9c179e"
             ],
             [
              0.4444444444444444,
              "#bd3786"
             ],
             [
              0.5555555555555556,
              "#d8576b"
             ],
             [
              0.6666666666666666,
              "#ed7953"
             ],
             [
              0.7777777777777778,
              "#fb9f3a"
             ],
             [
              0.8888888888888888,
              "#fdca26"
             ],
             [
              1,
              "#f0f921"
             ]
            ],
            "type": "histogram2dcontour"
           }
          ],
          "mesh3d": [
           {
            "colorbar": {
             "outlinewidth": 0,
             "ticks": ""
            },
            "type": "mesh3d"
           }
          ],
          "parcoords": [
           {
            "line": {
             "colorbar": {
              "outlinewidth": 0,
              "ticks": ""
             }
            },
            "type": "parcoords"
           }
          ],
          "pie": [
           {
            "automargin": true,
            "type": "pie"
           }
          ],
          "scatter": [
           {
            "fillpattern": {
             "fillmode": "overlay",
             "size": 10,
             "solidity": 0.2
            },
            "type": "scatter"
           }
          ],
          "scatter3d": [
           {
            "line": {
             "colorbar": {
              "outlinewidth": 0,
              "ticks": ""
             }
            },
            "marker": {
             "colorbar": {
              "outlinewidth": 0,
              "ticks": ""
             }
            },
            "type": "scatter3d"
           }
          ],
          "scattercarpet": [
           {
            "marker": {
             "colorbar": {
              "outlinewidth": 0,
              "ticks": ""
             }
            },
            "type": "scattercarpet"
           }
          ],
          "scattergeo": [
           {
            "marker": {
             "colorbar": {
              "outlinewidth": 0,
              "ticks": ""
             }
            },
            "type": "scattergeo"
           }
          ],
          "scattergl": [
           {
            "marker": {
             "colorbar": {
              "outlinewidth": 0,
              "ticks": ""
             }
            },
            "type": "scattergl"
           }
          ],
          "scattermapbox": [
           {
            "marker": {
             "colorbar": {
              "outlinewidth": 0,
              "ticks": ""
             }
            },
            "type": "scattermapbox"
           }
          ],
          "scatterpolar": [
           {
            "marker": {
             "colorbar": {
              "outlinewidth": 0,
              "ticks": ""
             }
            },
            "type": "scatterpolar"
           }
          ],
          "scatterpolargl": [
           {
            "marker": {
             "colorbar": {
              "outlinewidth": 0,
              "ticks": ""
             }
            },
            "type": "scatterpolargl"
           }
          ],
          "scatterternary": [
           {
            "marker": {
             "colorbar": {
              "outlinewidth": 0,
              "ticks": ""
             }
            },
            "type": "scatterternary"
           }
          ],
          "surface": [
           {
            "colorbar": {
             "outlinewidth": 0,
             "ticks": ""
            },
            "colorscale": [
             [
              0,
              "#0d0887"
             ],
             [
              0.1111111111111111,
              "#46039f"
             ],
             [
              0.2222222222222222,
              "#7201a8"
             ],
             [
              0.3333333333333333,
              "#9c179e"
             ],
             [
              0.4444444444444444,
              "#bd3786"
             ],
             [
              0.5555555555555556,
              "#d8576b"
             ],
             [
              0.6666666666666666,
              "#ed7953"
             ],
             [
              0.7777777777777778,
              "#fb9f3a"
             ],
             [
              0.8888888888888888,
              "#fdca26"
             ],
             [
              1,
              "#f0f921"
             ]
            ],
            "type": "surface"
           }
          ],
          "table": [
           {
            "cells": {
             "fill": {
              "color": "#EBF0F8"
             },
             "line": {
              "color": "white"
             }
            },
            "header": {
             "fill": {
              "color": "#C8D4E3"
             },
             "line": {
              "color": "white"
             }
            },
            "type": "table"
           }
          ]
         },
         "layout": {
          "annotationdefaults": {
           "arrowcolor": "#2a3f5f",
           "arrowhead": 0,
           "arrowwidth": 1
          },
          "autotypenumbers": "strict",
          "coloraxis": {
           "colorbar": {
            "outlinewidth": 0,
            "ticks": ""
           }
          },
          "colorscale": {
           "diverging": [
            [
             0,
             "#8e0152"
            ],
            [
             0.1,
             "#c51b7d"
            ],
            [
             0.2,
             "#de77ae"
            ],
            [
             0.3,
             "#f1b6da"
            ],
            [
             0.4,
             "#fde0ef"
            ],
            [
             0.5,
             "#f7f7f7"
            ],
            [
             0.6,
             "#e6f5d0"
            ],
            [
             0.7,
             "#b8e186"
            ],
            [
             0.8,
             "#7fbc41"
            ],
            [
             0.9,
             "#4d9221"
            ],
            [
             1,
             "#276419"
            ]
           ],
           "sequential": [
            [
             0,
             "#0d0887"
            ],
            [
             0.1111111111111111,
             "#46039f"
            ],
            [
             0.2222222222222222,
             "#7201a8"
            ],
            [
             0.3333333333333333,
             "#9c179e"
            ],
            [
             0.4444444444444444,
             "#bd3786"
            ],
            [
             0.5555555555555556,
             "#d8576b"
            ],
            [
             0.6666666666666666,
             "#ed7953"
            ],
            [
             0.7777777777777778,
             "#fb9f3a"
            ],
            [
             0.8888888888888888,
             "#fdca26"
            ],
            [
             1,
             "#f0f921"
            ]
           ],
           "sequentialminus": [
            [
             0,
             "#0d0887"
            ],
            [
             0.1111111111111111,
             "#46039f"
            ],
            [
             0.2222222222222222,
             "#7201a8"
            ],
            [
             0.3333333333333333,
             "#9c179e"
            ],
            [
             0.4444444444444444,
             "#bd3786"
            ],
            [
             0.5555555555555556,
             "#d8576b"
            ],
            [
             0.6666666666666666,
             "#ed7953"
            ],
            [
             0.7777777777777778,
             "#fb9f3a"
            ],
            [
             0.8888888888888888,
             "#fdca26"
            ],
            [
             1,
             "#f0f921"
            ]
           ]
          },
          "colorway": [
           "#636efa",
           "#EF553B",
           "#00cc96",
           "#ab63fa",
           "#FFA15A",
           "#19d3f3",
           "#FF6692",
           "#B6E880",
           "#FF97FF",
           "#FECB52"
          ],
          "font": {
           "color": "#2a3f5f"
          },
          "geo": {
           "bgcolor": "white",
           "lakecolor": "white",
           "landcolor": "#E5ECF6",
           "showlakes": true,
           "showland": true,
           "subunitcolor": "white"
          },
          "hoverlabel": {
           "align": "left"
          },
          "hovermode": "closest",
          "mapbox": {
           "style": "light"
          },
          "paper_bgcolor": "white",
          "plot_bgcolor": "#E5ECF6",
          "polar": {
           "angularaxis": {
            "gridcolor": "white",
            "linecolor": "white",
            "ticks": ""
           },
           "bgcolor": "#E5ECF6",
           "radialaxis": {
            "gridcolor": "white",
            "linecolor": "white",
            "ticks": ""
           }
          },
          "scene": {
           "xaxis": {
            "backgroundcolor": "#E5ECF6",
            "gridcolor": "white",
            "gridwidth": 2,
            "linecolor": "white",
            "showbackground": true,
            "ticks": "",
            "zerolinecolor": "white"
           },
           "yaxis": {
            "backgroundcolor": "#E5ECF6",
            "gridcolor": "white",
            "gridwidth": 2,
            "linecolor": "white",
            "showbackground": true,
            "ticks": "",
            "zerolinecolor": "white"
           },
           "zaxis": {
            "backgroundcolor": "#E5ECF6",
            "gridcolor": "white",
            "gridwidth": 2,
            "linecolor": "white",
            "showbackground": true,
            "ticks": "",
            "zerolinecolor": "white"
           }
          },
          "shapedefaults": {
           "line": {
            "color": "#2a3f5f"
           }
          },
          "ternary": {
           "aaxis": {
            "gridcolor": "white",
            "linecolor": "white",
            "ticks": ""
           },
           "baxis": {
            "gridcolor": "white",
            "linecolor": "white",
            "ticks": ""
           },
           "bgcolor": "#E5ECF6",
           "caxis": {
            "gridcolor": "white",
            "linecolor": "white",
            "ticks": ""
           }
          },
          "title": {
           "x": 0.05
          },
          "xaxis": {
           "automargin": true,
           "gridcolor": "white",
           "linecolor": "white",
           "ticks": "",
           "title": {
            "standoff": 15
           },
           "zerolinecolor": "white",
           "zerolinewidth": 2
          },
          "yaxis": {
           "automargin": true,
           "gridcolor": "white",
           "linecolor": "white",
           "ticks": "",
           "title": {
            "standoff": 15
           },
           "zerolinecolor": "white",
           "zerolinewidth": 2
          }
         }
        },
        "xaxis": {
         "anchor": "y",
         "constrain": "domain",
         "domain": [
          0,
          1
         ],
         "scaleanchor": "y"
        },
        "yaxis": {
         "anchor": "x",
         "autorange": "reversed",
         "constrain": "domain",
         "domain": [
          0,
          1
         ]
        }
       }
      },
      "image/png": "[encoded data removed]",
      "text/html": [
       "<div>                            <div id=\"a54abb75-a5ea-4050-85bf-54aabd93ede8\" class=\"plotly-graph-div\" style=\"height:525px; width:100%;\"></div>            <script type=\"text/javascript\">                require([\"plotly\"], function(Plotly) {                    window.PLOTLYENV=window.PLOTLYENV || {};                                    if (document.getElementById(\"a54abb75-a5ea-4050-85bf-54aabd93ede8\")) {                    Plotly.newPlot(                        \"a54abb75-a5ea-4050-85bf-54aabd93ede8\",                        [{\"coloraxis\":\"coloraxis\",\"name\":\"0\",\"texttemplate\":\"%{z:.2f}\",\"x\":[\"desc_model\",\"cmp_model\",\"name\",\"ftype\",\"value\"],\"y\":[0,1,2,3,4,5,6,7,8,9,10,11,12,13,14,15,16,17,18,19,20,21,22,23,24,25,26,27,28,29,30,31,32,33,34,35,36,37,38,39,40,41,42,43,44,45,46,47,48,49,50,51,52,53,54,55,56,57,58,59,60,61,62,63,64,65,66,67,68],\"z\":[[\"gpt-4-1106\",\"gpt-4-1106\",\"proposal\",\"from_json_details\",0.5],[\"gpt-3.5-turbo-1106\",\"Mixtral-8x22B\",\"paper\",\"write_xml_paper_abstract_control_word_count\",0.6927710843373494],[\"gpt-4-1106\",\"Mixtral-8x22B\",\"paper\",\"write_xml_paper_abstract_control_word_count\",0.7903225806451613],[\"Llama-3.3-70B\",\"Mixtral-8x22B\",\"paper\",\"write_xml_paper_abstract_control_word_count\",0.08064516129032258],[\"gpt-3.5-turbo\",\"Meta-Llama-3.1-70B\",\"proposal\",\"from_json_details\",0.4],[\"gpt-4-1106\",\"Meta-Llama-3.1-70B\",\"proposal\",\"from_json_details\",0.504],[\"Qwen2.5-72B\",\"Meta-Llama-3.1-70B\",\"proposal\",\"from_json_details\",0.482],[\"gpt-3.5-turbo\",\"Mixtral-8x22B\",\"proposal\",\"from_json_details\",0.096],[\"gpt-4-1106\",\"Mixtral-8x22B\",\"proposal\",\"from_json_details\",0.408],[\"Qwen2.5-72B\",\"Mixtral-8x22B\",\"proposal\",\"from_json_details\",0.216],[\"gpt-3.5-turbo-1106\",\"Meta-Llama-3.1-70B\",\"paper\",\"write_xml_paper_abstract_control_word_count\",0.6265060240963856],[\"gpt-4-1106\",\"Meta-Llama-3.1-70B\",\"paper\",\"write_xml_paper_abstract_control_word_count\",0.8172043010752689],[\"Qwen2.5-72B\",\"Meta-Llama-3.1-70B\",\"paper\",\"write_xml_paper_abstract_control_word_count\",0.6505376344086021],[\"gpt-3.5-turbo\",\"Qwen2.5-72B\",\"proposal\",\"from_json_details\",0.126],[\"gpt-4-1106\",\"Qwen2.5-72B\",\"proposal\",\"from_json_details\",0.598],[\"Qwen2.5-72B\",\"Qwen2.5-72B\",\"proposal\",\"from_json_details\",0.566],[\"Qwen2.5-72B\",\"Mixtral-8x22B\",\"paper\",\"write_xml_paper_abstract_control_word_count\",0.5967741935483871],[\"gpt-3.5-turbo-1106\",\"Qwen2.5-72B\",\"paper\",\"write_xml_paper_abstract_control_word_count\",0.4879518072289157],[\"gpt-4-1106\",\"Qwen2.5-72B\",\"paper\",\"write_xml_paper_abstract_control_word_count\",0.7688172043010753],[\"Qwen2.5-72B\",\"Qwen2.5-72B\",\"paper\",\"write_xml_paper_abstract_control_word_count\",0.5860215053763441],[\"gpt-3.5-turbo\",\"gpt-3.5-turbo\",\"proposal\",\"from_json_details\",0.226],[\"gpt-4-1106\",\"gpt-3.5-turbo\",\"proposal\",\"from_json_details\",0.426],[\"Qwen2.5-72B\",\"gpt-3.5-turbo\",\"proposal\",\"from_json_details\",0.278],[\"gpt-3.5-turbo-1106\",\"gpt-3.5-turbo\",\"paper\",\"write_xml_paper_abstract_control_word_count\",0.3795180722891566],[\"gpt-4-1106\",\"gpt-3.5-turbo\",\"paper\",\"write_xml_paper_abstract_control_word_count\",0.5645161290322581],[\"Qwen2.5-72B\",\"gpt-3.5-turbo\",\"paper\",\"write_xml_paper_abstract_control_word_count\",0.43548387096774194],[\"gpt-3.5-turbo-1106\",\"gpt-4-1106\",\"paper\",\"write_xml_paper_abstract_control_word_count\",0.5180722891566265],[\"gpt-4-1106\",\"gpt-4-1106\",\"paper\",\"write_xml_paper_abstract_control_word_count\",0.7096774193548387],[\"Qwen2.5-72B\",\"gpt-4-1106\",\"paper\",\"write_xml_paper_abstract_control_word_count\",0.553763440860215],[\"gpt-3.5-turbo-1106\",\"Meta-Llama-3.1-8B\",\"paper\",\"write_xml_paper_abstract_control_word_count\",0.024096385542168676],[\"gpt-4-1106\",\"Meta-Llama-3.1-8B\",\"paper\",\"write_xml_paper_abstract_control_word_count\",0.04838709677419355],[\"Qwen2.5-72B\",\"Meta-Llama-3.1-8B\",\"paper\",\"write_xml_paper_abstract_control_word_count\",0.03763440860215054],[\"gpt-3.5-turbo\",\"Meta-Llama-3.1-8B\",\"proposal\",\"from_json_details\",0.166],[\"gpt-4-1106\",\"Meta-Llama-3.1-8B\",\"proposal\",\"from_json_details\",0.188],[\"Qwen2.5-72B\",\"Meta-Llama-3.1-8B\",\"proposal\",\"from_json_details\",0.12],[\"gpt-3.5-turbo-1106\",\"Qwen2.5-7B\",\"paper\",\"write_xml_paper_abstract_control_word_count\",0.572289156626506],[\"gpt-4-1106\",\"Qwen2.5-7B\",\"paper\",\"write_xml_paper_abstract_control_word_count\",0.7580645161290323],[\"Qwen2.5-72B\",\"Qwen2.5-7B\",\"paper\",\"write_xml_paper_abstract_control_word_count\",0.6129032258064516],[\"Mixtral-8x22B\",\"Meta-Llama-3.1-70B\",\"proposal\",\"from_json_details\",0.474],[\"Qwen2.5-7B\",\"Meta-Llama-3.1-70B\",\"proposal\",\"from_json_details\",0.44],[\"Meta-Llama-3.1-70B\",\"Meta-Llama-3.1-70B\",\"proposal\",\"from_json_details\",0.488],[\"Mixtral-8x22B\",\"Mixtral-8x22B\",\"paper\",\"write_xml_paper_abstract_control_word_count\",0.6290322580645161],[\"Meta-Llama-3.1-70B\",\"Mixtral-8x22B\",\"paper\",\"write_xml_paper_abstract_control_word_count\",0.5645161290322581],[\"Meta-Llama-3.1-8B\",\"Mixtral-8x22B\",\"paper\",\"write_xml_paper_abstract_control_word_count\",0.6505376344086021],[\"Mixtral-8x22B\",\"Mixtral-8x22B\",\"proposal\",\"from_json_details\",0.19],[\"Qwen2.5-7B\",\"Mixtral-8x22B\",\"proposal\",\"from_json_details\",0.126],[\"Meta-Llama-3.1-70B\",\"Mixtral-8x22B\",\"proposal\",\"from_json_details\",0.266],[\"Meta-Llama-3.1-8B\",\"Mixtral-8x22B\",\"proposal\",\"from_json_details\",0.232],[\"Mixtral-8x22B\",\"Qwen2.5-72B\",\"paper\",\"write_xml_paper_abstract_control_word_count\",0.5645161290322581],[\"Meta-Llama-3.1-70B\",\"Qwen2.5-72B\",\"paper\",\"write_xml_paper_abstract_control_word_count\",0.5],[\"Meta-Llama-3.1-8B\",\"Qwen2.5-72B\",\"paper\",\"write_xml_paper_abstract_control_word_count\",0.5053763440860215],[\"Mixtral-8x22B\",\"Meta-Llama-3.1-70B\",\"paper\",\"write_xml_paper_abstract_control_word_count\",0.6290322580645161],[\"Meta-Llama-3.1-70B\",\"Meta-Llama-3.1-70B\",\"paper\",\"write_xml_paper_abstract_control_word_count\",0.5591397849462365],[\"Meta-Llama-3.1-8B\",\"Meta-Llama-3.1-70B\",\"paper\",\"write_xml_paper_abstract_control_word_count\",0.553763440860215],[\"Mixtral-8x22B\",\"gpt-4-1106\",\"paper\",\"write_xml_paper_abstract_control_word_count\",0.543010752688172],[\"Meta-Llama-3.1-70B\",\"gpt-4-1106\",\"paper\",\"write_xml_paper_abstract_control_word_count\",0.46236559139784944],[\"Meta-Llama-3.1-8B\",\"gpt-4-1106\",\"paper\",\"write_xml_paper_abstract_control_word_count\",0.40860215053763443],[\"Mixtral-8x22B\",\"Qwen2.5-7B\",\"paper\",\"write_xml_paper_abstract_control_word_count\",0.5913978494623656],[\"Meta-Llama-3.1-70B\",\"Qwen2.5-7B\",\"paper\",\"write_xml_paper_abstract_control_word_count\",0.543010752688172],[\"Meta-Llama-3.1-8B\",\"Qwen2.5-7B\",\"paper\",\"write_xml_paper_abstract_control_word_count\",0.7526881720430108],[\"Mixtral-8x22B\",\"Qwen2.5-72B\",\"proposal\",\"from_json_details\",0.232],[\"Qwen2.5-7B\",\"Qwen2.5-72B\",\"proposal\",\"from_json_details\",0.266],[\"Meta-Llama-3.1-70B\",\"Qwen2.5-72B\",\"proposal\",\"from_json_details\",0.354],[\"Meta-Llama-3.1-8B\",\"Qwen2.5-72B\",\"proposal\",\"from_json_details\",0.316],[\"Meta-Llama-3.1-8B\",\"Meta-Llama-3.1-70B\",\"proposal\",\"from_json_details\",0.458],[\"Mixtral-8x22B\",\"gpt-3.5-turbo\",\"proposal\",\"from_json_details\",0.47],[\"Qwen2.5-7B\",\"gpt-3.5-turbo\",\"proposal\",\"from_json_details\",0.272],[\"Meta-Llama-3.1-70B\",\"gpt-3.5-turbo\",\"proposal\",\"from_json_details\",0.342],[\"Meta-Llama-3.1-8B\",\"gpt-3.5-turbo\",\"proposal\",\"from_json_details\",0.312]],\"type\":\"heatmap\",\"xaxis\":\"x\",\"yaxis\":\"y\",\"hovertemplate\":\"x: %{x}\\u003cbr\\u003ey: %{y}\\u003cbr\\u003ecolor: %{z}\\u003cextra\\u003e\\u003c\\u002fextra\\u003e\"}],                        {\"template\":{\"data\":{\"histogram2dcontour\":[{\"type\":\"histogram2dcontour\",\"colorbar\":{\"outlinewidth\":0,\"ticks\":\"\"},\"colorscale\":[[0.0,\"#0d0887\"],[0.1111111111111111,\"#46039f\"],[0.2222222222222222,\"#7201a8\"],[0.3333333333333333,\"#9c179e\"],[0.4444444444444444,\"#bd3786\"],[0.5555555555555556,\"#d8576b\"],[0.6666666666666666,\"#ed7953\"],[0.7777777777777778,\"#fb9f3a\"],[0.8888888888888888,\"#fdca26\"],[1.0,\"#f0f921\"]]}],\"choropleth\":[{\"type\":\"choropleth\",\"colorbar\":{\"outlinewidth\":0,\"ticks\":\"\"}}],\"histogram2d\":[{\"type\":\"histogram2d\",\"colorbar\":{\"outlinewidth\":0,\"ticks\":\"\"},\"colorscale\":[[0.0,\"#0d0887\"],[0.1111111111111111,\"#46039f\"],[0.2222222222222222,\"#7201a8\"],[0.3333333333333333,\"#9c179e\"],[0.4444444444444444,\"#bd3786\"],[0.5555555555555556,\"#d8576b\"],[0.6666666666666666,\"#ed7953\"],[0.7777777777777778,\"#fb9f3a\"],[0.8888888888888888,\"#fdca26\"],[1.0,\"#f0f921\"]]}],\"heatmap\":[{\"type\":\"heatmap\",\"colorbar\":{\"outlinewidth\":0,\"ticks\":\"\"},\"colorscale\":[[0.0,\"#0d0887\"],[0.1111111111111111,\"#46039f\"],[0.2222222222222222,\"#7201a8\"],[0.3333333333333333,\"#9c179e\"],[0.4444444444444444,\"#bd3786\"],[0.5555555555555556,\"#d8576b\"],[0.6666666666666666,\"#ed7953\"],[0.7777777777777778,\"#fb9f3a\"],[0.8888888888888888,\"#fdca26\"],[1.0,\"#f0f921\"]]}],\"heatmapgl\":[{\"type\":\"heatmapgl\",\"colorbar\":{\"outlinewidth\":0,\"ticks\":\"\"},\"colorscale\":[[0.0,\"#0d0887\"],[0.1111111111111111,\"#46039f\"],[0.2222222222222222,\"#7201a8\"],[0.3333333333333333,\"#9c179e\"],[0.4444444444444444,\"#bd3786\"],[0.5555555555555556,\"#d8576b\"],[0.6666666666666666,\"#ed7953\"],[0.7777777777777778,\"#fb9f3a\"],[0.8888888888888888,\"#fdca26\"],[1.0,\"#f0f921\"]]}],\"contourcarpet\":[{\"type\":\"contourcarpet\",\"colorbar\":{\"outlinewidth\":0,\"ticks\":\"\"}}],\"contour\":[{\"type\":\"contour\",\"colorbar\":{\"outlinewidth\":0,\"ticks\":\"\"},\"colorscale\":[[0.0,\"#0d0887\"],[0.1111111111111111,\"#46039f\"],[0.2222222222222222,\"#7201a8\"],[0.3333333333333333,\"#9c179e\"],[0.4444444444444444,\"#bd3786\"],[0.5555555555555556,\"#d8576b\"],[0.6666666666666666,\"#ed7953\"],[0.7777777777777778,\"#fb9f3a\"],[0.8888888888888888,\"#fdca26\"],[1.0,\"#f0f921\"]]}],\"surface\":[{\"type\":\"surface\",\"colorbar\":{\"outlinewidth\":0,\"ticks\":\"\"},\"colorscale\":[[0.0,\"#0d0887\"],[0.1111111111111111,\"#46039f\"],[0.2222222222222222,\"#7201a8\"],[0.3333333333333333,\"#9c179e\"],[0.4444444444444444,\"#bd3786\"],[0.5555555555555556,\"#d8576b\"],[0.6666666666666666,\"#ed7953\"],[0.7777777777777778,\"#fb9f3a\"],[0.8888888888888888,\"#fdca26\"],[1.0,\"#f0f921\"]]}],\"mesh3d\":[{\"type\":\"mesh3d\",\"colorbar\":{\"outlinewidth\":0,\"ticks\":\"\"}}],\"scatter\":[{\"fillpattern\":{\"fillmode\":\"overlay\",\"size\":10,\"solidity\":0.2},\"type\":\"scatter\"}],\"parcoords\":[{\"type\":\"parcoords\",\"line\":{\"colorbar\":{\"outlinewidth\":0,\"ticks\":\"\"}}}],\"scatterpolargl\":[{\"type\":\"scatterpolargl\",\"marker\":{\"colorbar\":{\"outlinewidth\":0,\"ticks\":\"\"}}}],\"bar\":[{\"error_x\":{\"color\":\"#2a3f5f\"},\"error_y\":{\"color\":\"#2a3f5f\"},\"marker\":{\"line\":{\"color\":\"#E5ECF6\",\"width\":0.5},\"pattern\":{\"fillmode\":\"overlay\",\"size\":10,\"solidity\":0.2}},\"type\":\"bar\"}],\"scattergeo\":[{\"type\":\"scattergeo\",\"marker\":{\"colorbar\":{\"outlinewidth\":0,\"ticks\":\"\"}}}],\"scatterpolar\":[{\"type\":\"scatterpolar\",\"marker\":{\"colorbar\":{\"outlinewidth\":0,\"ticks\":\"\"}}}],\"histogram\":[{\"marker\":{\"pattern\":{\"fillmode\":\"overlay\",\"size\":10,\"solidity\":0.2}},\"type\":\"histogram\"}],\"scattergl\":[{\"type\":\"scattergl\",\"marker\":{\"colorbar\":{\"outlinewidth\":0,\"ticks\":\"\"}}}],\"scatter3d\":[{\"type\":\"scatter3d\",\"line\":{\"colorbar\":{\"outlinewidth\":0,\"ticks\":\"\"}},\"marker\":{\"colorbar\":{\"outlinewidth\":0,\"ticks\":\"\"}}}],\"scattermapbox\":[{\"type\":\"scattermapbox\",\"marker\":{\"colorbar\":{\"outlinewidth\":0,\"ticks\":\"\"}}}],\"scatterternary\":[{\"type\":\"scatterternary\",\"marker\":{\"colorbar\":{\"outlinewidth\":0,\"ticks\":\"\"}}}],\"scattercarpet\":[{\"type\":\"scattercarpet\",\"marker\":{\"colorbar\":{\"outlinewidth\":0,\"ticks\":\"\"}}}],\"carpet\":[{\"aaxis\":{\"endlinecolor\":\"#2a3f5f\",\"gridcolor\":\"white\",\"linecolor\":\"white\",\"minorgridcolor\":\"white\",\"startlinecolor\":\"#2a3f5f\"},\"baxis\":{\"endlinecolor\":\"#2a3f5f\",\"gridcolor\":\"white\",\"linecolor\":\"white\",\"minorgridcolor\":\"white\",\"startlinecolor\":\"#2a3f5f\"},\"type\":\"carpet\"}],\"table\":[{\"cells\":{\"fill\":{\"color\":\"#EBF0F8\"},\"line\":{\"color\":\"white\"}},\"header\":{\"fill\":{\"color\":\"#C8D4E3\"},\"line\":{\"color\":\"white\"}},\"type\":\"table\"}],\"barpolar\":[{\"marker\":{\"line\":{\"color\":\"#E5ECF6\",\"width\":0.5},\"pattern\":{\"fillmode\":\"overlay\",\"size\":10,\"solidity\":0.2}},\"type\":\"barpolar\"}],\"pie\":[{\"automargin\":true,\"type\":\"pie\"}]},\"layout\":{\"autotypenumbers\":\"strict\",\"colorway\":[\"#636efa\",\"#EF553B\",\"#00cc96\",\"#ab63fa\",\"#FFA15A\",\"#19d3f3\",\"#FF6692\",\"#B6E880\",\"#FF97FF\",\"#FECB52\"],\"font\":{\"color\":\"#2a3f5f\"},\"hovermode\":\"closest\",\"hoverlabel\":{\"align\":\"left\"},\"paper_bgcolor\":\"white\",\"plot_bgcolor\":\"#E5ECF6\",\"polar\":{\"bgcolor\":\"#E5ECF6\",\"angularaxis\":{\"gridcolor\":\"white\",\"linecolor\":\"white\",\"ticks\":\"\"},\"radialaxis\":{\"gridcolor\":\"white\",\"linecolor\":\"white\",\"ticks\":\"\"}},\"ternary\":{\"bgcolor\":\"#E5ECF6\",\"aaxis\":{\"gridcolor\":\"white\",\"linecolor\":\"white\",\"ticks\":\"\"},\"baxis\":{\"gridcolor\":\"white\",\"linecolor\":\"white\",\"ticks\":\"\"},\"caxis\":{\"gridcolor\":\"white\",\"linecolor\":\"white\",\"ticks\":\"\"}},\"coloraxis\":{\"colorbar\":{\"outlinewidth\":0,\"ticks\":\"\"}},\"colorscale\":{\"sequential\":[[0.0,\"#0d0887\"],[0.1111111111111111,\"#46039f\"],[0.2222222222222222,\"#7201a8\"],[0.3333333333333333,\"#9c179e\"],[0.4444444444444444,\"#bd3786\"],[0.5555555555555556,\"#d8576b\"],[0.6666666666666666,\"#ed7953\"],[0.7777777777777778,\"#fb9f3a\"],[0.8888888888888888,\"#fdca26\"],[1.0,\"#f0f921\"]],\"sequentialminus\":[[0.0,\"#0d0887\"],[0.1111111111111111,\"#46039f\"],[0.2222222222222222,\"#7201a8\"],[0.3333333333333333,\"#9c179e\"],[0.4444444444444444,\"#bd3786\"],[0.5555555555555556,\"#d8576b\"],[0.6666666666666666,\"#ed7953\"],[0.7777777777777778,\"#fb9f3a\"],[0.8888888888888888,\"#fdca26\"],[1.0,\"#f0f921\"]],\"diverging\":[[0,\"#8e0152\"],[0.1,\"#c51b7d\"],[0.2,\"#de77ae\"],[0.3,\"#f1b6da\"],[0.4,\"#fde0ef\"],[0.5,\"#f7f7f7\"],[0.6,\"#e6f5d0\"],[0.7,\"#b8e186\"],[0.8,\"#7fbc41\"],[0.9,\"#4d9221\"],[1,\"#276419\"]]},\"xaxis\":{\"gridcolor\":\"white\",\"linecolor\":\"white\",\"ticks\":\"\",\"title\":{\"standoff\":15},\"zerolinecolor\":\"white\",\"automargin\":true,\"zerolinewidth\":2},\"yaxis\":{\"gridcolor\":\"white\",\"linecolor\":\"white\",\"ticks\":\"\",\"title\":{\"standoff\":15},\"zerolinecolor\":\"white\",\"automargin\":true,\"zerolinewidth\":2},\"scene\":{\"xaxis\":{\"backgroundcolor\":\"#E5ECF6\",\"gridcolor\":\"white\",\"linecolor\":\"white\",\"showbackground\":true,\"ticks\":\"\",\"zerolinecolor\":\"white\",\"gridwidth\":2},\"yaxis\":{\"backgroundcolor\":\"#E5ECF6\",\"gridcolor\":\"white\",\"linecolor\":\"white\",\"showbackground\":true,\"ticks\":\"\",\"zerolinecolor\":\"white\",\"gridwidth\":2},\"zaxis\":{\"backgroundcolor\":\"#E5ECF6\",\"gridcolor\":\"white\",\"linecolor\":\"white\",\"showbackground\":true,\"ticks\":\"\",\"zerolinecolor\":\"white\",\"gridwidth\":2}},\"shapedefaults\":{\"line\":{\"color\":\"#2a3f5f\"}},\"annotationdefaults\":{\"arrowcolor\":\"#2a3f5f\",\"arrowhead\":0,\"arrowwidth\":1},\"geo\":{\"bgcolor\":\"white\",\"landcolor\":\"#E5ECF6\",\"subunitcolor\":\"white\",\"showland\":true,\"showlakes\":true,\"lakecolor\":\"white\"},\"title\":{\"x\":0.05},\"mapbox\":{\"style\":\"light\"}}},\"xaxis\":{\"anchor\":\"y\",\"domain\":[0.0,1.0],\"scaleanchor\":\"y\",\"constrain\":\"domain\"},\"yaxis\":{\"anchor\":\"x\",\"domain\":[0.0,1.0],\"autorange\":\"reversed\",\"constrain\":\"domain\"},\"coloraxis\":{\"colorscale\":[[0.0,\"rgb(5,48,97)\"],[0.1,\"rgb(33,102,172)\"],[0.2,\"rgb(67,147,195)\"],[0.3,\"rgb(146,197,222)\"],[0.4,\"rgb(209,229,240)\"],[0.5,\"rgb(247,247,247)\"],[0.6,\"rgb(253,219,199)\"],[0.7,\"rgb(244,165,130)\"],[0.8,\"rgb(214,96,77)\"],[0.9,\"rgb(178,24,43)\"],[1.0,\"rgb(103,0,31)\"]]},\"margin\":{\"t\":60}},                        {\"responsive\": true}                    ).then(function(){\n",
       "                            \n",
       "var gd = document.getElementById('a54abb75-a5ea-4050-85bf-54aabd93ede8');\n",
       "var x = new MutationObserver(function (mutations, observer) {{\n",
       "        var display = window.getComputedStyle(gd).display;\n",
       "        if (!display || display === 'none') {{\n",
       "            console.log([gd, 'removed!']);\n",
       "            Plotly.purge(gd);\n",
       "            observer.disconnect();\n",
       "        }}\n",
       "}});\n",
       "\n",
       "// Listen for the removal of the full notebook cells\n",
       "var notebookContainer = gd.closest('#notebook-container');\n",
       "if (notebookContainer) {{\n",
       "    x.observe(notebookContainer, {childList: true});\n",
       "}}\n",
       "\n",
       "// Listen for the clearing of the current output cell\n",
       "var outputEl = gd.closest('.output');\n",
       "if (outputEl) {{\n",
       "    x.observe(outputEl, {childList: true});\n",
       "}}\n",
       "\n",
       "                        })                };                });            </script>        </div>"
      ]
     },
     "metadata": {},
     "output_type": "display_data"
    }
   ],
   "source": [
    "px.imshow(df2, text_auto=\".2f\", color_continuous_scale='RdBu_r')"
   ]
  },
  {
   "cell_type": "code",
   "execution_count": null,
   "id": "99faa945-15fe-40b5-9424-320190c85b8b",
   "metadata": {},
   "outputs": [],
   "source": []
  },
  {
   "cell_type": "code",
   "execution_count": null,
   "id": "91262f78-a376-4de4-8a7f-912b3da127b7",
   "metadata": {},
   "outputs": [],
   "source": []
  },
  {
   "cell_type": "code",
   "execution_count": null,
   "id": "691f5ea2-b7e8-4217-91ea-42f43211907f",
   "metadata": {},
   "outputs": [],
   "source": []
  },
  {
   "cell_type": "code",
   "execution_count": null,
   "id": "3dda023e-b960-49a6-9ee9-5d61ba449af3",
   "metadata": {},
   "outputs": [],
   "source": []
  },
  {
   "cell_type": "code",
   "execution_count": 60,
   "id": "4810c572-aa35-425e-8490-0b5c3bff8cf6",
   "metadata": {},
   "outputs": [
    {
     "data": {
      "application/vnd.plotly.v1+json": {
       "config": {
        "plotlyServerURL": "https://plot.ly"
       },
       "data": [
        {
         "alignmentgroup": "True",
         "hovertemplate": "rtype=human<br>desc_model=Mixtral-8x22B-Instruct-v0.1<br>cmp_model=%{x}<br>rvalue=%{y}<extra></extra>",
         "legendgroup": "human",
         "marker": {
          "color": "#636efa",
          "pattern": {
           "shape": ""
          }
         },
         "name": "human",
         "offsetgroup": "human",
         "orientation": "v",
         "showlegend": true,
         "textposition": "auto",
         "type": "bar",
         "x": [
          "Meta-Llama-3.1-70B-Instruct-Turbo",
          "Mixtral-8x22B-Instruct-v0.1",
          "Qwen2.5-72B-Instruct-Turbo",
          "gpt-3.5-turbo",
          "gpt-4-1106-preview",
          "Qwen2.5-7B-Instruct-Turbo"
         ],
         "xaxis": "x",
         "y": [
          94,
          65,
          105,
          84,
          91,
          102
         ],
         "yaxis": "y"
        },
        {
         "alignmentgroup": "True",
         "hovertemplate": "rtype=human<br>desc_model=Qwen2.5-7B-Instruct-Turbo<br>cmp_model=%{x}<br>rvalue=%{y}<extra></extra>",
         "legendgroup": "human",
         "marker": {
          "color": "#636efa",
          "pattern": {
           "shape": ""
          }
         },
         "name": "human",
         "offsetgroup": "human",
         "orientation": "v",
         "showlegend": false,
         "textposition": "auto",
         "type": "bar",
         "x": [
          "Meta-Llama-3.1-70B-Instruct-Turbo",
          "Mixtral-8x22B-Instruct-v0.1",
          "Qwen2.5-72B-Instruct-Turbo",
          "gpt-3.5-turbo",
          "gpt-4-1106-preview",
          "Qwen2.5-7B-Instruct-Turbo"
         ],
         "xaxis": "x2",
         "y": [
          88,
          33,
          63,
          32,
          53,
          86
         ],
         "yaxis": "y2"
        },
        {
         "alignmentgroup": "True",
         "hovertemplate": "rtype=human<br>desc_model=Meta-Llama-3.1-70B-Instruct-Turbo<br>cmp_model=%{x}<br>rvalue=%{y}<extra></extra>",
         "legendgroup": "human",
         "marker": {
          "color": "#636efa",
          "pattern": {
           "shape": ""
          }
         },
         "name": "human",
         "offsetgroup": "human",
         "orientation": "v",
         "showlegend": false,
         "textposition": "auto",
         "type": "bar",
         "x": [
          "Meta-Llama-3.1-70B-Instruct-Turbo",
          "Mixtral-8x22B-Instruct-v0.1",
          "Qwen2.5-72B-Instruct-Turbo",
          "gpt-3.5-turbo",
          "gpt-4-1106-preview",
          "Qwen2.5-7B-Instruct-Turbo"
         ],
         "xaxis": "x3",
         "y": [
          85,
          25,
          65,
          38,
          53,
          73
         ],
         "yaxis": "y3"
        },
        {
         "alignmentgroup": "True",
         "hovertemplate": "rtype=llm<br>desc_model=Mixtral-8x22B-Instruct-v0.1<br>cmp_model=%{x}<br>rvalue=%{y}<extra></extra>",
         "legendgroup": "llm",
         "marker": {
          "color": "#EF553B",
          "pattern": {
           "shape": ""
          }
         },
         "name": "llm",
         "offsetgroup": "llm",
         "orientation": "v",
         "showlegend": true,
         "textposition": "auto",
         "type": "bar",
         "x": [
          "Meta-Llama-3.1-70B-Instruct-Turbo",
          "Mixtral-8x22B-Instruct-v0.1",
          "Qwen2.5-72B-Instruct-Turbo",
          "gpt-3.5-turbo",
          "gpt-4-1106-preview",
          "Qwen2.5-7B-Instruct-Turbo"
         ],
         "xaxis": "x",
         "y": [
          126,
          155,
          115,
          136,
          129,
          118
         ],
         "yaxis": "y"
        },
        {
         "alignmentgroup": "True",
         "hovertemplate": "rtype=llm<br>desc_model=Qwen2.5-7B-Instruct-Turbo<br>cmp_model=%{x}<br>rvalue=%{y}<extra></extra>",
         "legendgroup": "llm",
         "marker": {
          "color": "#EF553B",
          "pattern": {
           "shape": ""
          }
         },
         "name": "llm",
         "offsetgroup": "llm",
         "orientation": "v",
         "showlegend": false,
         "textposition": "auto",
         "type": "bar",
         "x": [
          "Meta-Llama-3.1-70B-Instruct-Turbo",
          "Mixtral-8x22B-Instruct-v0.1",
          "Qwen2.5-72B-Instruct-Turbo",
          "gpt-3.5-turbo",
          "gpt-4-1106-preview",
          "Qwen2.5-7B-Instruct-Turbo"
         ],
         "xaxis": "x2",
         "y": [
          132,
          187,
          157,
          188,
          163,
          134
         ],
         "yaxis": "y2"
        },
        {
         "alignmentgroup": "True",
         "hovertemplate": "rtype=llm<br>desc_model=Meta-Llama-3.1-70B-Instruct-Turbo<br>cmp_model=%{x}<br>rvalue=%{y}<extra></extra>",
         "legendgroup": "llm",
         "marker": {
          "color": "#EF553B",
          "pattern": {
           "shape": ""
          }
         },
         "name": "llm",
         "offsetgroup": "llm",
         "orientation": "v",
         "showlegend": false,
         "textposition": "auto",
         "type": "bar",
         "x": [
          "Meta-Llama-3.1-70B-Instruct-Turbo",
          "Mixtral-8x22B-Instruct-v0.1",
          "Qwen2.5-72B-Instruct-Turbo",
          "gpt-3.5-turbo",
          "gpt-4-1106-preview",
          "Qwen2.5-7B-Instruct-Turbo"
         ],
         "xaxis": "x3",
         "y": [
          135,
          195,
          155,
          181,
          167,
          147
         ],
         "yaxis": "y3"
        },
        {
         "alignmentgroup": "True",
         "hovertemplate": "rtype=invalid<br>desc_model=Mixtral-8x22B-Instruct-v0.1<br>cmp_model=%{x}<br>rvalue=%{y}<extra></extra>",
         "legendgroup": "invalid",
         "marker": {
          "color": "#00cc96",
          "pattern": {
           "shape": ""
          }
         },
         "name": "invalid",
         "offsetgroup": "invalid",
         "orientation": "v",
         "showlegend": true,
         "textposition": "auto",
         "type": "bar",
         "x": [
          "Meta-Llama-3.1-70B-Instruct-Turbo",
          "Mixtral-8x22B-Instruct-v0.1",
          "Qwen2.5-72B-Instruct-Turbo",
          "gpt-3.5-turbo",
          "gpt-4-1106-preview",
          "Qwen2.5-7B-Instruct-Turbo"
         ],
         "xaxis": "x",
         "y": [
          0,
          0,
          0,
          0,
          0,
          0
         ],
         "yaxis": "y"
        },
        {
         "alignmentgroup": "True",
         "hovertemplate": "rtype=invalid<br>desc_model=Qwen2.5-7B-Instruct-Turbo<br>cmp_model=%{x}<br>rvalue=%{y}<extra></extra>",
         "legendgroup": "invalid",
         "marker": {
          "color": "#00cc96",
          "pattern": {
           "shape": ""
          }
         },
         "name": "invalid",
         "offsetgroup": "invalid",
         "orientation": "v",
         "showlegend": false,
         "textposition": "auto",
         "type": "bar",
         "x": [
          "Meta-Llama-3.1-70B-Instruct-Turbo",
          "Mixtral-8x22B-Instruct-v0.1",
          "Qwen2.5-72B-Instruct-Turbo",
          "gpt-3.5-turbo",
          "gpt-4-1106-preview",
          "Qwen2.5-7B-Instruct-Turbo"
         ],
         "xaxis": "x2",
         "y": [
          0,
          0,
          0,
          0,
          4,
          0
         ],
         "yaxis": "y2"
        },
        {
         "alignmentgroup": "True",
         "hovertemplate": "rtype=invalid<br>desc_model=Meta-Llama-3.1-70B-Instruct-Turbo<br>cmp_model=%{x}<br>rvalue=%{y}<extra></extra>",
         "legendgroup": "invalid",
         "marker": {
          "color": "#00cc96",
          "pattern": {
           "shape": ""
          }
         },
         "name": "invalid",
         "offsetgroup": "invalid",
         "orientation": "v",
         "showlegend": false,
         "textposition": "auto",
         "type": "bar",
         "x": [
          "Meta-Llama-3.1-70B-Instruct-Turbo",
          "Mixtral-8x22B-Instruct-v0.1",
          "Qwen2.5-72B-Instruct-Turbo",
          "gpt-3.5-turbo",
          "gpt-4-1106-preview",
          "Qwen2.5-7B-Instruct-Turbo"
         ],
         "xaxis": "x3",
         "y": [
          0,
          0,
          0,
          1,
          0,
          0
         ],
         "yaxis": "y3"
        }
       ],
       "layout": {
        "annotations": [
         {
          "font": {},
          "showarrow": false,
          "text": "desc_model=Mixtral-8x22B-Instruct-v0.1",
          "x": 0.15999999999999998,
          "xanchor": "center",
          "xref": "paper",
          "y": 1,
          "yanchor": "bottom",
          "yref": "paper"
         },
         {
          "font": {},
          "showarrow": false,
          "text": "desc_model=Qwen2.5-7B-Instruct-Turbo",
          "x": 0.49999999999999994,
          "xanchor": "center",
          "xref": "paper",
          "y": 1,
          "yanchor": "bottom",
          "yref": "paper"
         },
         {
          "font": {},
          "showarrow": false,
          "text": "desc_model=Meta-Llama-3.1-70B-Instruct-Turbo",
          "x": 0.8399999999999999,
          "xanchor": "center",
          "xref": "paper",
          "y": 1,
          "yanchor": "bottom",
          "yref": "paper"
         }
        ],
        "barmode": "relative",
        "height": 800,
        "legend": {
         "title": {
          "text": "rtype"
         },
         "tracegroupgap": 0
        },
        "margin": {
         "t": 60
        },
        "template": {
         "data": {
          "bar": [
           {
            "error_x": {
             "color": "#2a3f5f"
            },
            "error_y": {
             "color": "#2a3f5f"
            },
            "marker": {
             "line": {
              "color": "#E5ECF6",
              "width": 0.5
             },
             "pattern": {
              "fillmode": "overlay",
              "size": 10,
              "solidity": 0.2
             }
            },
            "type": "bar"
           }
          ],
          "barpolar": [
           {
            "marker": {
             "line": {
              "color": "#E5ECF6",
              "width": 0.5
             },
             "pattern": {
              "fillmode": "overlay",
              "size": 10,
              "solidity": 0.2
             }
            },
            "type": "barpolar"
           }
          ],
          "carpet": [
           {
            "aaxis": {
             "endlinecolor": "#2a3f5f",
             "gridcolor": "white",
             "linecolor": "white",
             "minorgridcolor": "white",
             "startlinecolor": "#2a3f5f"
            },
            "baxis": {
             "endlinecolor": "#2a3f5f",
             "gridcolor": "white",
             "linecolor": "white",
             "minorgridcolor": "white",
             "startlinecolor": "#2a3f5f"
            },
            "type": "carpet"
           }
          ],
          "choropleth": [
           {
            "colorbar": {
             "outlinewidth": 0,
             "ticks": ""
            },
            "type": "choropleth"
           }
          ],
          "contour": [
           {
            "colorbar": {
             "outlinewidth": 0,
             "ticks": ""
            },
            "colorscale": [
             [
              0,
              "#0d0887"
             ],
             [
              0.1111111111111111,
              "#46039f"
             ],
             [
              0.2222222222222222,
              "#7201a8"
             ],
             [
              0.3333333333333333,
              "#9c179e"
             ],
             [
              0.4444444444444444,
              "#bd3786"
             ],
             [
              0.5555555555555556,
              "#d8576b"
             ],
             [
              0.6666666666666666,
              "#ed7953"
             ],
             [
              0.7777777777777778,
              "#fb9f3a"
             ],
             [
              0.8888888888888888,
              "#fdca26"
             ],
             [
              1,
              "#f0f921"
             ]
            ],
            "type": "contour"
           }
          ],
          "contourcarpet": [
           {
            "colorbar": {
             "outlinewidth": 0,
             "ticks": ""
            },
            "type": "contourcarpet"
           }
          ],
          "heatmap": [
           {
            "colorbar": {
             "outlinewidth": 0,
             "ticks": ""
            },
            "colorscale": [
             [
              0,
              "#0d0887"
             ],
             [
              0.1111111111111111,
              "#46039f"
             ],
             [
              0.2222222222222222,
              "#7201a8"
             ],
             [
              0.3333333333333333,
              "#9c179e"
             ],
             [
              0.4444444444444444,
              "#bd3786"
             ],
             [
              0.5555555555555556,
              "#d8576b"
             ],
             [
              0.6666666666666666,
              "#ed7953"
             ],
             [
              0.7777777777777778,
              "#fb9f3a"
             ],
             [
              0.8888888888888888,
              "#fdca26"
             ],
             [
              1,
              "#f0f921"
             ]
            ],
            "type": "heatmap"
           }
          ],
          "heatmapgl": [
           {
            "colorbar": {
             "outlinewidth": 0,
             "ticks": ""
            },
            "colorscale": [
             [
              0,
              "#0d0887"
             ],
             [
              0.1111111111111111,
              "#46039f"
             ],
             [
              0.2222222222222222,
              "#7201a8"
             ],
             [
              0.3333333333333333,
              "#9c179e"
             ],
             [
              0.4444444444444444,
              "#bd3786"
             ],
             [
              0.5555555555555556,
              "#d8576b"
             ],
             [
              0.6666666666666666,
              "#ed7953"
             ],
             [
              0.7777777777777778,
              "#fb9f3a"
             ],
             [
              0.8888888888888888,
              "#fdca26"
             ],
             [
              1,
              "#f0f921"
             ]
            ],
            "type": "heatmapgl"
           }
          ],
          "histogram": [
           {
            "marker": {
             "pattern": {
              "fillmode": "overlay",
              "size": 10,
              "solidity": 0.2
             }
            },
            "type": "histogram"
           }
          ],
          "histogram2d": [
           {
            "colorbar": {
             "outlinewidth": 0,
             "ticks": ""
            },
            "colorscale": [
             [
              0,
              "#0d0887"
             ],
             [
              0.1111111111111111,
              "#46039f"
             ],
             [
              0.2222222222222222,
              "#7201a8"
             ],
             [
              0.3333333333333333,
              "#9c179e"
             ],
             [
              0.4444444444444444,
              "#bd3786"
             ],
             [
              0.5555555555555556,
              "#d8576b"
             ],
             [
              0.6666666666666666,
              "#ed7953"
             ],
             [
              0.7777777777777778,
              "#fb9f3a"
             ],
             [
              0.8888888888888888,
              "#fdca26"
             ],
             [
              1,
              "#f0f921"
             ]
            ],
            "type": "histogram2d"
           }
          ],
          "histogram2dcontour": [
           {
            "colorbar": {
             "outlinewidth": 0,
             "ticks": ""
            },
            "colorscale": [
             [
              0,
              "#0d0887"
             ],
             [
              0.1111111111111111,
              "#46039f"
             ],
             [
              0.2222222222222222,
              "#7201a8"
             ],
             [
              0.3333333333333333,
              "#9c179e"
             ],
             [
              0.4444444444444444,
              "#bd3786"
             ],
             [
              0.5555555555555556,
              "#d8576b"
             ],
             [
              0.6666666666666666,
              "#ed7953"
             ],
             [
              0.7777777777777778,
              "#fb9f3a"
             ],
             [
              0.8888888888888888,
              "#fdca26"
             ],
             [
              1,
              "#f0f921"
             ]
            ],
            "type": "histogram2dcontour"
           }
          ],
          "mesh3d": [
           {
            "colorbar": {
             "outlinewidth": 0,
             "ticks": ""
            },
            "type": "mesh3d"
           }
          ],
          "parcoords": [
           {
            "line": {
             "colorbar": {
              "outlinewidth": 0,
              "ticks": ""
             }
            },
            "type": "parcoords"
           }
          ],
          "pie": [
           {
            "automargin": true,
            "type": "pie"
           }
          ],
          "scatter": [
           {
            "fillpattern": {
             "fillmode": "overlay",
             "size": 10,
             "solidity": 0.2
            },
            "type": "scatter"
           }
          ],
          "scatter3d": [
           {
            "line": {
             "colorbar": {
              "outlinewidth": 0,
              "ticks": ""
             }
            },
            "marker": {
             "colorbar": {
              "outlinewidth": 0,
              "ticks": ""
             }
            },
            "type": "scatter3d"
           }
          ],
          "scattercarpet": [
           {
            "marker": {
             "colorbar": {
              "outlinewidth": 0,
              "ticks": ""
             }
            },
            "type": "scattercarpet"
           }
          ],
          "scattergeo": [
           {
            "marker": {
             "colorbar": {
              "outlinewidth": 0,
              "ticks": ""
             }
            },
            "type": "scattergeo"
           }
          ],
          "scattergl": [
           {
            "marker": {
             "colorbar": {
              "outlinewidth": 0,
              "ticks": ""
             }
            },
            "type": "scattergl"
           }
          ],
          "scattermapbox": [
           {
            "marker": {
             "colorbar": {
              "outlinewidth": 0,
              "ticks": ""
             }
            },
            "type": "scattermapbox"
           }
          ],
          "scatterpolar": [
           {
            "marker": {
             "colorbar": {
              "outlinewidth": 0,
              "ticks": ""
             }
            },
            "type": "scatterpolar"
           }
          ],
          "scatterpolargl": [
           {
            "marker": {
             "colorbar": {
              "outlinewidth": 0,
              "ticks": ""
             }
            },
            "type": "scatterpolargl"
           }
          ],
          "scatterternary": [
           {
            "marker": {
             "colorbar": {
              "outlinewidth": 0,
              "ticks": ""
             }
            },
            "type": "scatterternary"
           }
          ],
          "surface": [
           {
            "colorbar": {
             "outlinewidth": 0,
             "ticks": ""
            },
            "colorscale": [
             [
              0,
              "#0d0887"
             ],
             [
              0.1111111111111111,
              "#46039f"
             ],
             [
              0.2222222222222222,
              "#7201a8"
             ],
             [
              0.3333333333333333,
              "#9c179e"
             ],
             [
              0.4444444444444444,
              "#bd3786"
             ],
             [
              0.5555555555555556,
              "#d8576b"
             ],
             [
              0.6666666666666666,
              "#ed7953"
             ],
             [
              0.7777777777777778,
              "#fb9f3a"
             ],
             [
              0.8888888888888888,
              "#fdca26"
             ],
             [
              1,
              "#f0f921"
             ]
            ],
            "type": "surface"
           }
          ],
          "table": [
           {
            "cells": {
             "fill": {
              "color": "#EBF0F8"
             },
             "line": {
              "color": "white"
             }
            },
            "header": {
             "fill": {
              "color": "#C8D4E3"
             },
             "line": {
              "color": "white"
             }
            },
            "type": "table"
           }
          ]
         },
         "layout": {
          "annotationdefaults": {
           "arrowcolor": "#2a3f5f",
           "arrowhead": 0,
           "arrowwidth": 1
          },
          "autotypenumbers": "strict",
          "coloraxis": {
           "colorbar": {
            "outlinewidth": 0,
            "ticks": ""
           }
          },
          "colorscale": {
           "diverging": [
            [
             0,
             "#8e0152"
            ],
            [
             0.1,
             "#c51b7d"
            ],
            [
             0.2,
             "#de77ae"
            ],
            [
             0.3,
             "#f1b6da"
            ],
            [
             0.4,
             "#fde0ef"
            ],
            [
             0.5,
             "#f7f7f7"
            ],
            [
             0.6,
             "#e6f5d0"
            ],
            [
             0.7,
             "#b8e186"
            ],
            [
             0.8,
             "#7fbc41"
            ],
            [
             0.9,
             "#4d9221"
            ],
            [
             1,
             "#276419"
            ]
           ],
           "sequential": [
            [
             0,
             "#0d0887"
            ],
            [
             0.1111111111111111,
             "#46039f"
            ],
            [
             0.2222222222222222,
             "#7201a8"
            ],
            [
             0.3333333333333333,
             "#9c179e"
            ],
            [
             0.4444444444444444,
             "#bd3786"
            ],
            [
             0.5555555555555556,
             "#d8576b"
            ],
            [
             0.6666666666666666,
             "#ed7953"
            ],
            [
             0.7777777777777778,
             "#fb9f3a"
            ],
            [
             0.8888888888888888,
             "#fdca26"
            ],
            [
             1,
             "#f0f921"
            ]
           ],
           "sequentialminus": [
            [
             0,
             "#0d0887"
            ],
            [
             0.1111111111111111,
             "#46039f"
            ],
            [
             0.2222222222222222,
             "#7201a8"
            ],
            [
             0.3333333333333333,
             "#9c179e"
            ],
            [
             0.4444444444444444,
             "#bd3786"
            ],
            [
             0.5555555555555556,
             "#d8576b"
            ],
            [
             0.6666666666666666,
             "#ed7953"
            ],
            [
             0.7777777777777778,
             "#fb9f3a"
            ],
            [
             0.8888888888888888,
             "#fdca26"
            ],
            [
             1,
             "#f0f921"
            ]
           ]
          },
          "colorway": [
           "#636efa",
           "#EF553B",
           "#00cc96",
           "#ab63fa",
           "#FFA15A",
           "#19d3f3",
           "#FF6692",
           "#B6E880",
           "#FF97FF",
           "#FECB52"
          ],
          "font": {
           "color": "#2a3f5f"
          },
          "geo": {
           "bgcolor": "white",
           "lakecolor": "white",
           "landcolor": "#E5ECF6",
           "showlakes": true,
           "showland": true,
           "subunitcolor": "white"
          },
          "hoverlabel": {
           "align": "left"
          },
          "hovermode": "closest",
          "mapbox": {
           "style": "light"
          },
          "paper_bgcolor": "white",
          "plot_bgcolor": "#E5ECF6",
          "polar": {
           "angularaxis": {
            "gridcolor": "white",
            "linecolor": "white",
            "ticks": ""
           },
           "bgcolor": "#E5ECF6",
           "radialaxis": {
            "gridcolor": "white",
            "linecolor": "white",
            "ticks": ""
           }
          },
          "scene": {
           "xaxis": {
            "backgroundcolor": "#E5ECF6",
            "gridcolor": "white",
            "gridwidth": 2,
            "linecolor": "white",
            "showbackground": true,
            "ticks": "",
            "zerolinecolor": "white"
           },
           "yaxis": {
            "backgroundcolor": "#E5ECF6",
            "gridcolor": "white",
            "gridwidth": 2,
            "linecolor": "white",
            "showbackground": true,
            "ticks": "",
            "zerolinecolor": "white"
           },
           "zaxis": {
            "backgroundcolor": "#E5ECF6",
            "gridcolor": "white",
            "gridwidth": 2,
            "linecolor": "white",
            "showbackground": true,
            "ticks": "",
            "zerolinecolor": "white"
           }
          },
          "shapedefaults": {
           "line": {
            "color": "#2a3f5f"
           }
          },
          "ternary": {
           "aaxis": {
            "gridcolor": "white",
            "linecolor": "white",
            "ticks": ""
           },
           "baxis": {
            "gridcolor": "white",
            "linecolor": "white",
            "ticks": ""
           },
           "bgcolor": "#E5ECF6",
           "caxis": {
            "gridcolor": "white",
            "linecolor": "white",
            "ticks": ""
           }
          },
          "title": {
           "x": 0.05
          },
          "xaxis": {
           "automargin": true,
           "gridcolor": "white",
           "linecolor": "white",
           "ticks": "",
           "title": {
            "standoff": 15
           },
           "zerolinecolor": "white",
           "zerolinewidth": 2
          },
          "yaxis": {
           "automargin": true,
           "gridcolor": "white",
           "linecolor": "white",
           "ticks": "",
           "title": {
            "standoff": 15
           },
           "zerolinecolor": "white",
           "zerolinewidth": 2
          }
         }
        },
        "xaxis": {
         "anchor": "y",
         "domain": [
          0,
          0.31999999999999995
         ],
         "title": {
          "text": "cmp_model"
         }
        },
        "xaxis2": {
         "anchor": "y2",
         "domain": [
          0.33999999999999997,
          0.6599999999999999
         ],
         "matches": "x",
         "title": {
          "text": "cmp_model"
         }
        },
        "xaxis3": {
         "anchor": "y3",
         "domain": [
          0.6799999999999999,
          0.9999999999999999
         ],
         "matches": "x",
         "title": {
          "text": "cmp_model"
         }
        },
        "yaxis": {
         "anchor": "x",
         "domain": [
          0,
          1
         ],
         "title": {
          "text": "rvalue"
         }
        },
        "yaxis2": {
         "anchor": "x2",
         "domain": [
          0,
          1
         ],
         "matches": "y",
         "showticklabels": false
        },
        "yaxis3": {
         "anchor": "x3",
         "domain": [
          0,
          1
         ],
         "matches": "y",
         "showticklabels": false
        }
       }
      },
      "image/png": "[encoded data removed]",
      "text/html": [
       "<div>                            <div id=\"c4fdfaa0-8ae7-427b-8402-ad9a469ec5e7\" class=\"plotly-graph-div\" style=\"height:800px; width:100%;\"></div>            <script type=\"text/javascript\">                require([\"plotly\"], function(Plotly) {                    window.PLOTLYENV=window.PLOTLYENV || {};                                    if (document.getElementById(\"c4fdfaa0-8ae7-427b-8402-ad9a469ec5e7\")) {                    Plotly.newPlot(                        \"c4fdfaa0-8ae7-427b-8402-ad9a469ec5e7\",                        [{\"alignmentgroup\":\"True\",\"hovertemplate\":\"rtype=human\\u003cbr\\u003edesc_model=Mixtral-8x22B-Instruct-v0.1\\u003cbr\\u003ecmp_model=%{x}\\u003cbr\\u003ervalue=%{y}\\u003cextra\\u003e\\u003c\\u002fextra\\u003e\",\"legendgroup\":\"human\",\"marker\":{\"color\":\"#636efa\",\"pattern\":{\"shape\":\"\"}},\"name\":\"human\",\"offsetgroup\":\"human\",\"orientation\":\"v\",\"showlegend\":true,\"textposition\":\"auto\",\"x\":[\"Meta-Llama-3.1-70B-Instruct-Turbo\",\"Mixtral-8x22B-Instruct-v0.1\",\"Qwen2.5-72B-Instruct-Turbo\",\"gpt-3.5-turbo\",\"gpt-4-1106-preview\",\"Qwen2.5-7B-Instruct-Turbo\"],\"xaxis\":\"x\",\"y\":[94,65,105,84,91,102],\"yaxis\":\"y\",\"type\":\"bar\"},{\"alignmentgroup\":\"True\",\"hovertemplate\":\"rtype=human\\u003cbr\\u003edesc_model=Qwen2.5-7B-Instruct-Turbo\\u003cbr\\u003ecmp_model=%{x}\\u003cbr\\u003ervalue=%{y}\\u003cextra\\u003e\\u003c\\u002fextra\\u003e\",\"legendgroup\":\"human\",\"marker\":{\"color\":\"#636efa\",\"pattern\":{\"shape\":\"\"}},\"name\":\"human\",\"offsetgroup\":\"human\",\"orientation\":\"v\",\"showlegend\":false,\"textposition\":\"auto\",\"x\":[\"Meta-Llama-3.1-70B-Instruct-Turbo\",\"Mixtral-8x22B-Instruct-v0.1\",\"Qwen2.5-72B-Instruct-Turbo\",\"gpt-3.5-turbo\",\"gpt-4-1106-preview\",\"Qwen2.5-7B-Instruct-Turbo\"],\"xaxis\":\"x2\",\"y\":[88,33,63,32,53,86],\"yaxis\":\"y2\",\"type\":\"bar\"},{\"alignmentgroup\":\"True\",\"hovertemplate\":\"rtype=human\\u003cbr\\u003edesc_model=Meta-Llama-3.1-70B-Instruct-Turbo\\u003cbr\\u003ecmp_model=%{x}\\u003cbr\\u003ervalue=%{y}\\u003cextra\\u003e\\u003c\\u002fextra\\u003e\",\"legendgroup\":\"human\",\"marker\":{\"color\":\"#636efa\",\"pattern\":{\"shape\":\"\"}},\"name\":\"human\",\"offsetgroup\":\"human\",\"orientation\":\"v\",\"showlegend\":false,\"textposition\":\"auto\",\"x\":[\"Meta-Llama-3.1-70B-Instruct-Turbo\",\"Mixtral-8x22B-Instruct-v0.1\",\"Qwen2.5-72B-Instruct-Turbo\",\"gpt-3.5-turbo\",\"gpt-4-1106-preview\",\"Qwen2.5-7B-Instruct-Turbo\"],\"xaxis\":\"x3\",\"y\":[85,25,65,38,53,73],\"yaxis\":\"y3\",\"type\":\"bar\"},{\"alignmentgroup\":\"True\",\"hovertemplate\":\"rtype=llm\\u003cbr\\u003edesc_model=Mixtral-8x22B-Instruct-v0.1\\u003cbr\\u003ecmp_model=%{x}\\u003cbr\\u003ervalue=%{y}\\u003cextra\\u003e\\u003c\\u002fextra\\u003e\",\"legendgroup\":\"llm\",\"marker\":{\"color\":\"#EF553B\",\"pattern\":{\"shape\":\"\"}},\"name\":\"llm\",\"offsetgroup\":\"llm\",\"orientation\":\"v\",\"showlegend\":true,\"textposition\":\"auto\",\"x\":[\"Meta-Llama-3.1-70B-Instruct-Turbo\",\"Mixtral-8x22B-Instruct-v0.1\",\"Qwen2.5-72B-Instruct-Turbo\",\"gpt-3.5-turbo\",\"gpt-4-1106-preview\",\"Qwen2.5-7B-Instruct-Turbo\"],\"xaxis\":\"x\",\"y\":[126,155,115,136,129,118],\"yaxis\":\"y\",\"type\":\"bar\"},{\"alignmentgroup\":\"True\",\"hovertemplate\":\"rtype=llm\\u003cbr\\u003edesc_model=Qwen2.5-7B-Instruct-Turbo\\u003cbr\\u003ecmp_model=%{x}\\u003cbr\\u003ervalue=%{y}\\u003cextra\\u003e\\u003c\\u002fextra\\u003e\",\"legendgroup\":\"llm\",\"marker\":{\"color\":\"#EF553B\",\"pattern\":{\"shape\":\"\"}},\"name\":\"llm\",\"offsetgroup\":\"llm\",\"orientation\":\"v\",\"showlegend\":false,\"textposition\":\"auto\",\"x\":[\"Meta-Llama-3.1-70B-Instruct-Turbo\",\"Mixtral-8x22B-Instruct-v0.1\",\"Qwen2.5-72B-Instruct-Turbo\",\"gpt-3.5-turbo\",\"gpt-4-1106-preview\",\"Qwen2.5-7B-Instruct-Turbo\"],\"xaxis\":\"x2\",\"y\":[132,187,157,188,163,134],\"yaxis\":\"y2\",\"type\":\"bar\"},{\"alignmentgroup\":\"True\",\"hovertemplate\":\"rtype=llm\\u003cbr\\u003edesc_model=Meta-Llama-3.1-70B-Instruct-Turbo\\u003cbr\\u003ecmp_model=%{x}\\u003cbr\\u003ervalue=%{y}\\u003cextra\\u003e\\u003c\\u002fextra\\u003e\",\"legendgroup\":\"llm\",\"marker\":{\"color\":\"#EF553B\",\"pattern\":{\"shape\":\"\"}},\"name\":\"llm\",\"offsetgroup\":\"llm\",\"orientation\":\"v\",\"showlegend\":false,\"textposition\":\"auto\",\"x\":[\"Meta-Llama-3.1-70B-Instruct-Turbo\",\"Mixtral-8x22B-Instruct-v0.1\",\"Qwen2.5-72B-Instruct-Turbo\",\"gpt-3.5-turbo\",\"gpt-4-1106-preview\",\"Qwen2.5-7B-Instruct-Turbo\"],\"xaxis\":\"x3\",\"y\":[135,195,155,181,167,147],\"yaxis\":\"y3\",\"type\":\"bar\"},{\"alignmentgroup\":\"True\",\"hovertemplate\":\"rtype=invalid\\u003cbr\\u003edesc_model=Mixtral-8x22B-Instruct-v0.1\\u003cbr\\u003ecmp_model=%{x}\\u003cbr\\u003ervalue=%{y}\\u003cextra\\u003e\\u003c\\u002fextra\\u003e\",\"legendgroup\":\"invalid\",\"marker\":{\"color\":\"#00cc96\",\"pattern\":{\"shape\":\"\"}},\"name\":\"invalid\",\"offsetgroup\":\"invalid\",\"orientation\":\"v\",\"showlegend\":true,\"textposition\":\"auto\",\"x\":[\"Meta-Llama-3.1-70B-Instruct-Turbo\",\"Mixtral-8x22B-Instruct-v0.1\",\"Qwen2.5-72B-Instruct-Turbo\",\"gpt-3.5-turbo\",\"gpt-4-1106-preview\",\"Qwen2.5-7B-Instruct-Turbo\"],\"xaxis\":\"x\",\"y\":[0,0,0,0,0,0],\"yaxis\":\"y\",\"type\":\"bar\"},{\"alignmentgroup\":\"True\",\"hovertemplate\":\"rtype=invalid\\u003cbr\\u003edesc_model=Qwen2.5-7B-Instruct-Turbo\\u003cbr\\u003ecmp_model=%{x}\\u003cbr\\u003ervalue=%{y}\\u003cextra\\u003e\\u003c\\u002fextra\\u003e\",\"legendgroup\":\"invalid\",\"marker\":{\"color\":\"#00cc96\",\"pattern\":{\"shape\":\"\"}},\"name\":\"invalid\",\"offsetgroup\":\"invalid\",\"orientation\":\"v\",\"showlegend\":false,\"textposition\":\"auto\",\"x\":[\"Meta-Llama-3.1-70B-Instruct-Turbo\",\"Mixtral-8x22B-Instruct-v0.1\",\"Qwen2.5-72B-Instruct-Turbo\",\"gpt-3.5-turbo\",\"gpt-4-1106-preview\",\"Qwen2.5-7B-Instruct-Turbo\"],\"xaxis\":\"x2\",\"y\":[0,0,0,0,4,0],\"yaxis\":\"y2\",\"type\":\"bar\"},{\"alignmentgroup\":\"True\",\"hovertemplate\":\"rtype=invalid\\u003cbr\\u003edesc_model=Meta-Llama-3.1-70B-Instruct-Turbo\\u003cbr\\u003ecmp_model=%{x}\\u003cbr\\u003ervalue=%{y}\\u003cextra\\u003e\\u003c\\u002fextra\\u003e\",\"legendgroup\":\"invalid\",\"marker\":{\"color\":\"#00cc96\",\"pattern\":{\"shape\":\"\"}},\"name\":\"invalid\",\"offsetgroup\":\"invalid\",\"orientation\":\"v\",\"showlegend\":false,\"textposition\":\"auto\",\"x\":[\"Meta-Llama-3.1-70B-Instruct-Turbo\",\"Mixtral-8x22B-Instruct-v0.1\",\"Qwen2.5-72B-Instruct-Turbo\",\"gpt-3.5-turbo\",\"gpt-4-1106-preview\",\"Qwen2.5-7B-Instruct-Turbo\"],\"xaxis\":\"x3\",\"y\":[0,0,0,1,0,0],\"yaxis\":\"y3\",\"type\":\"bar\"}],                        {\"template\":{\"data\":{\"histogram2dcontour\":[{\"type\":\"histogram2dcontour\",\"colorbar\":{\"outlinewidth\":0,\"ticks\":\"\"},\"colorscale\":[[0.0,\"#0d0887\"],[0.1111111111111111,\"#46039f\"],[0.2222222222222222,\"#7201a8\"],[0.3333333333333333,\"#9c179e\"],[0.4444444444444444,\"#bd3786\"],[0.5555555555555556,\"#d8576b\"],[0.6666666666666666,\"#ed7953\"],[0.7777777777777778,\"#fb9f3a\"],[0.8888888888888888,\"#fdca26\"],[1.0,\"#f0f921\"]]}],\"choropleth\":[{\"type\":\"choropleth\",\"colorbar\":{\"outlinewidth\":0,\"ticks\":\"\"}}],\"histogram2d\":[{\"type\":\"histogram2d\",\"colorbar\":{\"outlinewidth\":0,\"ticks\":\"\"},\"colorscale\":[[0.0,\"#0d0887\"],[0.1111111111111111,\"#46039f\"],[0.2222222222222222,\"#7201a8\"],[0.3333333333333333,\"#9c179e\"],[0.4444444444444444,\"#bd3786\"],[0.5555555555555556,\"#d8576b\"],[0.6666666666666666,\"#ed7953\"],[0.7777777777777778,\"#fb9f3a\"],[0.8888888888888888,\"#fdca26\"],[1.0,\"#f0f921\"]]}],\"heatmap\":[{\"type\":\"heatmap\",\"colorbar\":{\"outlinewidth\":0,\"ticks\":\"\"},\"colorscale\":[[0.0,\"#0d0887\"],[0.1111111111111111,\"#46039f\"],[0.2222222222222222,\"#7201a8\"],[0.3333333333333333,\"#9c179e\"],[0.4444444444444444,\"#bd3786\"],[0.5555555555555556,\"#d8576b\"],[0.6666666666666666,\"#ed7953\"],[0.7777777777777778,\"#fb9f3a\"],[0.8888888888888888,\"#fdca26\"],[1.0,\"#f0f921\"]]}],\"heatmapgl\":[{\"type\":\"heatmapgl\",\"colorbar\":{\"outlinewidth\":0,\"ticks\":\"\"},\"colorscale\":[[0.0,\"#0d0887\"],[0.1111111111111111,\"#46039f\"],[0.2222222222222222,\"#7201a8\"],[0.3333333333333333,\"#9c179e\"],[0.4444444444444444,\"#bd3786\"],[0.5555555555555556,\"#d8576b\"],[0.6666666666666666,\"#ed7953\"],[0.7777777777777778,\"#fb9f3a\"],[0.8888888888888888,\"#fdca26\"],[1.0,\"#f0f921\"]]}],\"contourcarpet\":[{\"type\":\"contourcarpet\",\"colorbar\":{\"outlinewidth\":0,\"ticks\":\"\"}}],\"contour\":[{\"type\":\"contour\",\"colorbar\":{\"outlinewidth\":0,\"ticks\":\"\"},\"colorscale\":[[0.0,\"#0d0887\"],[0.1111111111111111,\"#46039f\"],[0.2222222222222222,\"#7201a8\"],[0.3333333333333333,\"#9c179e\"],[0.4444444444444444,\"#bd3786\"],[0.5555555555555556,\"#d8576b\"],[0.6666666666666666,\"#ed7953\"],[0.7777777777777778,\"#fb9f3a\"],[0.8888888888888888,\"#fdca26\"],[1.0,\"#f0f921\"]]}],\"surface\":[{\"type\":\"surface\",\"colorbar\":{\"outlinewidth\":0,\"ticks\":\"\"},\"colorscale\":[[0.0,\"#0d0887\"],[0.1111111111111111,\"#46039f\"],[0.2222222222222222,\"#7201a8\"],[0.3333333333333333,\"#9c179e\"],[0.4444444444444444,\"#bd3786\"],[0.5555555555555556,\"#d8576b\"],[0.6666666666666666,\"#ed7953\"],[0.7777777777777778,\"#fb9f3a\"],[0.8888888888888888,\"#fdca26\"],[1.0,\"#f0f921\"]]}],\"mesh3d\":[{\"type\":\"mesh3d\",\"colorbar\":{\"outlinewidth\":0,\"ticks\":\"\"}}],\"scatter\":[{\"fillpattern\":{\"fillmode\":\"overlay\",\"size\":10,\"solidity\":0.2},\"type\":\"scatter\"}],\"parcoords\":[{\"type\":\"parcoords\",\"line\":{\"colorbar\":{\"outlinewidth\":0,\"ticks\":\"\"}}}],\"scatterpolargl\":[{\"type\":\"scatterpolargl\",\"marker\":{\"colorbar\":{\"outlinewidth\":0,\"ticks\":\"\"}}}],\"bar\":[{\"error_x\":{\"color\":\"#2a3f5f\"},\"error_y\":{\"color\":\"#2a3f5f\"},\"marker\":{\"line\":{\"color\":\"#E5ECF6\",\"width\":0.5},\"pattern\":{\"fillmode\":\"overlay\",\"size\":10,\"solidity\":0.2}},\"type\":\"bar\"}],\"scattergeo\":[{\"type\":\"scattergeo\",\"marker\":{\"colorbar\":{\"outlinewidth\":0,\"ticks\":\"\"}}}],\"scatterpolar\":[{\"type\":\"scatterpolar\",\"marker\":{\"colorbar\":{\"outlinewidth\":0,\"ticks\":\"\"}}}],\"histogram\":[{\"marker\":{\"pattern\":{\"fillmode\":\"overlay\",\"size\":10,\"solidity\":0.2}},\"type\":\"histogram\"}],\"scattergl\":[{\"type\":\"scattergl\",\"marker\":{\"colorbar\":{\"outlinewidth\":0,\"ticks\":\"\"}}}],\"scatter3d\":[{\"type\":\"scatter3d\",\"line\":{\"colorbar\":{\"outlinewidth\":0,\"ticks\":\"\"}},\"marker\":{\"colorbar\":{\"outlinewidth\":0,\"ticks\":\"\"}}}],\"scattermapbox\":[{\"type\":\"scattermapbox\",\"marker\":{\"colorbar\":{\"outlinewidth\":0,\"ticks\":\"\"}}}],\"scatterternary\":[{\"type\":\"scatterternary\",\"marker\":{\"colorbar\":{\"outlinewidth\":0,\"ticks\":\"\"}}}],\"scattercarpet\":[{\"type\":\"scattercarpet\",\"marker\":{\"colorbar\":{\"outlinewidth\":0,\"ticks\":\"\"}}}],\"carpet\":[{\"aaxis\":{\"endlinecolor\":\"#2a3f5f\",\"gridcolor\":\"white\",\"linecolor\":\"white\",\"minorgridcolor\":\"white\",\"startlinecolor\":\"#2a3f5f\"},\"baxis\":{\"endlinecolor\":\"#2a3f5f\",\"gridcolor\":\"white\",\"linecolor\":\"white\",\"minorgridcolor\":\"white\",\"startlinecolor\":\"#2a3f5f\"},\"type\":\"carpet\"}],\"table\":[{\"cells\":{\"fill\":{\"color\":\"#EBF0F8\"},\"line\":{\"color\":\"white\"}},\"header\":{\"fill\":{\"color\":\"#C8D4E3\"},\"line\":{\"color\":\"white\"}},\"type\":\"table\"}],\"barpolar\":[{\"marker\":{\"line\":{\"color\":\"#E5ECF6\",\"width\":0.5},\"pattern\":{\"fillmode\":\"overlay\",\"size\":10,\"solidity\":0.2}},\"type\":\"barpolar\"}],\"pie\":[{\"automargin\":true,\"type\":\"pie\"}]},\"layout\":{\"autotypenumbers\":\"strict\",\"colorway\":[\"#636efa\",\"#EF553B\",\"#00cc96\",\"#ab63fa\",\"#FFA15A\",\"#19d3f3\",\"#FF6692\",\"#B6E880\",\"#FF97FF\",\"#FECB52\"],\"font\":{\"color\":\"#2a3f5f\"},\"hovermode\":\"closest\",\"hoverlabel\":{\"align\":\"left\"},\"paper_bgcolor\":\"white\",\"plot_bgcolor\":\"#E5ECF6\",\"polar\":{\"bgcolor\":\"#E5ECF6\",\"angularaxis\":{\"gridcolor\":\"white\",\"linecolor\":\"white\",\"ticks\":\"\"},\"radialaxis\":{\"gridcolor\":\"white\",\"linecolor\":\"white\",\"ticks\":\"\"}},\"ternary\":{\"bgcolor\":\"#E5ECF6\",\"aaxis\":{\"gridcolor\":\"white\",\"linecolor\":\"white\",\"ticks\":\"\"},\"baxis\":{\"gridcolor\":\"white\",\"linecolor\":\"white\",\"ticks\":\"\"},\"caxis\":{\"gridcolor\":\"white\",\"linecolor\":\"white\",\"ticks\":\"\"}},\"coloraxis\":{\"colorbar\":{\"outlinewidth\":0,\"ticks\":\"\"}},\"colorscale\":{\"sequential\":[[0.0,\"#0d0887\"],[0.1111111111111111,\"#46039f\"],[0.2222222222222222,\"#7201a8\"],[0.3333333333333333,\"#9c179e\"],[0.4444444444444444,\"#bd3786\"],[0.5555555555555556,\"#d8576b\"],[0.6666666666666666,\"#ed7953\"],[0.7777777777777778,\"#fb9f3a\"],[0.8888888888888888,\"#fdca26\"],[1.0,\"#f0f921\"]],\"sequentialminus\":[[0.0,\"#0d0887\"],[0.1111111111111111,\"#46039f\"],[0.2222222222222222,\"#7201a8\"],[0.3333333333333333,\"#9c179e\"],[0.4444444444444444,\"#bd3786\"],[0.5555555555555556,\"#d8576b\"],[0.6666666666666666,\"#ed7953\"],[0.7777777777777778,\"#fb9f3a\"],[0.8888888888888888,\"#fdca26\"],[1.0,\"#f0f921\"]],\"diverging\":[[0,\"#8e0152\"],[0.1,\"#c51b7d\"],[0.2,\"#de77ae\"],[0.3,\"#f1b6da\"],[0.4,\"#fde0ef\"],[0.5,\"#f7f7f7\"],[0.6,\"#e6f5d0\"],[0.7,\"#b8e186\"],[0.8,\"#7fbc41\"],[0.9,\"#4d9221\"],[1,\"#276419\"]]},\"xaxis\":{\"gridcolor\":\"white\",\"linecolor\":\"white\",\"ticks\":\"\",\"title\":{\"standoff\":15},\"zerolinecolor\":\"white\",\"automargin\":true,\"zerolinewidth\":2},\"yaxis\":{\"gridcolor\":\"white\",\"linecolor\":\"white\",\"ticks\":\"\",\"title\":{\"standoff\":15},\"zerolinecolor\":\"white\",\"automargin\":true,\"zerolinewidth\":2},\"scene\":{\"xaxis\":{\"backgroundcolor\":\"#E5ECF6\",\"gridcolor\":\"white\",\"linecolor\":\"white\",\"showbackground\":true,\"ticks\":\"\",\"zerolinecolor\":\"white\",\"gridwidth\":2},\"yaxis\":{\"backgroundcolor\":\"#E5ECF6\",\"gridcolor\":\"white\",\"linecolor\":\"white\",\"showbackground\":true,\"ticks\":\"\",\"zerolinecolor\":\"white\",\"gridwidth\":2},\"zaxis\":{\"backgroundcolor\":\"#E5ECF6\",\"gridcolor\":\"white\",\"linecolor\":\"white\",\"showbackground\":true,\"ticks\":\"\",\"zerolinecolor\":\"white\",\"gridwidth\":2}},\"shapedefaults\":{\"line\":{\"color\":\"#2a3f5f\"}},\"annotationdefaults\":{\"arrowcolor\":\"#2a3f5f\",\"arrowhead\":0,\"arrowwidth\":1},\"geo\":{\"bgcolor\":\"white\",\"landcolor\":\"#E5ECF6\",\"subunitcolor\":\"white\",\"showland\":true,\"showlakes\":true,\"lakecolor\":\"white\"},\"title\":{\"x\":0.05},\"mapbox\":{\"style\":\"light\"}}},\"xaxis\":{\"anchor\":\"y\",\"domain\":[0.0,0.31999999999999995],\"title\":{\"text\":\"cmp_model\"}},\"yaxis\":{\"anchor\":\"x\",\"domain\":[0.0,1.0],\"title\":{\"text\":\"rvalue\"}},\"xaxis2\":{\"anchor\":\"y2\",\"domain\":[0.33999999999999997,0.6599999999999999],\"matches\":\"x\",\"title\":{\"text\":\"cmp_model\"}},\"yaxis2\":{\"anchor\":\"x2\",\"domain\":[0.0,1.0],\"matches\":\"y\",\"showticklabels\":false},\"xaxis3\":{\"anchor\":\"y3\",\"domain\":[0.6799999999999999,0.9999999999999999],\"matches\":\"x\",\"title\":{\"text\":\"cmp_model\"}},\"yaxis3\":{\"anchor\":\"x3\",\"domain\":[0.0,1.0],\"matches\":\"y\",\"showticklabels\":false},\"annotations\":[{\"font\":{},\"showarrow\":false,\"text\":\"desc_model=Mixtral-8x22B-Instruct-v0.1\",\"x\":0.15999999999999998,\"xanchor\":\"center\",\"xref\":\"paper\",\"y\":1.0,\"yanchor\":\"bottom\",\"yref\":\"paper\"},{\"font\":{},\"showarrow\":false,\"text\":\"desc_model=Qwen2.5-7B-Instruct-Turbo\",\"x\":0.49999999999999994,\"xanchor\":\"center\",\"xref\":\"paper\",\"y\":1.0,\"yanchor\":\"bottom\",\"yref\":\"paper\"},{\"font\":{},\"showarrow\":false,\"text\":\"desc_model=Meta-Llama-3.1-70B-Instruct-Turbo\",\"x\":0.8399999999999999,\"xanchor\":\"center\",\"xref\":\"paper\",\"y\":1.0,\"yanchor\":\"bottom\",\"yref\":\"paper\"}],\"legend\":{\"title\":{\"text\":\"rtype\"},\"tracegroupgap\":0},\"margin\":{\"t\":60},\"barmode\":\"relative\",\"height\":800},                        {\"responsive\": true}                    ).then(function(){\n",
       "                            \n",
       "var gd = document.getElementById('c4fdfaa0-8ae7-427b-8402-ad9a469ec5e7');\n",
       "var x = new MutationObserver(function (mutations, observer) {{\n",
       "        var display = window.getComputedStyle(gd).display;\n",
       "        if (!display || display === 'none') {{\n",
       "            console.log([gd, 'removed!']);\n",
       "            Plotly.purge(gd);\n",
       "            observer.disconnect();\n",
       "        }}\n",
       "}});\n",
       "\n",
       "// Listen for the removal of the full notebook cells\n",
       "var notebookContainer = gd.closest('#notebook-container');\n",
       "if (notebookContainer) {{\n",
       "    x.observe(notebookContainer, {childList: true});\n",
       "}}\n",
       "\n",
       "// Listen for the clearing of the current output cell\n",
       "var outputEl = gd.closest('.output');\n",
       "if (outputEl) {{\n",
       "    x.observe(outputEl, {childList: true});\n",
       "}}\n",
       "\n",
       "                        })                };                });            </script>        </div>"
      ]
     },
     "metadata": {},
     "output_type": "display_data"
    }
   ],
   "source": [
    "\n",
    "\n",
    "px.bar(df[df.ftype==\"from_json_product_listing\"], x=\"cmp_model\", y=\"rvalue\", facet_col=\"desc_model\", height=800, color=\"rtype\")"
   ]
  },
  {
   "cell_type": "code",
   "execution_count": null,
   "id": "f1c370a7-001a-4a19-a428-c336853184c3",
   "metadata": {},
   "outputs": [],
   "source": []
  },
  {
   "cell_type": "code",
   "execution_count": null,
   "id": "9bba4681-f8c0-420f-b7c8-213153bceb2e",
   "metadata": {},
   "outputs": [],
   "source": []
  },
  {
   "cell_type": "code",
   "execution_count": null,
   "id": "6d52b7e2-c475-4b33-b25b-40b629537a38",
   "metadata": {},
   "outputs": [],
   "source": []
  },
  {
   "cell_type": "code",
   "execution_count": 71,
   "id": "f4323861-664b-4f92-987f-867017981b01",
   "metadata": {},
   "outputs": [
    {
     "data": {
      "application/vnd.plotly.v1+json": {
       "config": {
        "plotlyServerURL": "https://plot.ly"
       },
       "data": [
        {
         "alignmentgroup": "True",
         "hovertemplate": "rtype=human<br>ftype=from_json_details<br>cmp_model=Meta-Llama-3.1-70B<br>desc_model=%{x}<br>rvalue=%{y}<extra></extra>",
         "legendgroup": "human",
         "marker": {
          "color": "#636efa",
          "pattern": {
           "shape": ""
          }
         },
         "name": "human",
         "offsetgroup": "human",
         "orientation": "v",
         "showlegend": true,
         "textposition": "auto",
         "type": "bar",
         "x": [
          "Mixtral-8x22B",
          "Qwen2.5-7B",
          "Meta-Llama-3.1-70B"
         ],
         "xaxis": "x7",
         "y": [
          90,
          69,
          79
         ],
         "yaxis": "y7"
        },
        {
         "alignmentgroup": "True",
         "hovertemplate": "rtype=human<br>ftype=from_json_details<br>cmp_model=Mixtral-8x22B<br>desc_model=%{x}<br>rvalue=%{y}<extra></extra>",
         "legendgroup": "human",
         "marker": {
          "color": "#636efa",
          "pattern": {
           "shape": ""
          }
         },
         "name": "human",
         "offsetgroup": "human",
         "orientation": "v",
         "showlegend": false,
         "textposition": "auto",
         "type": "bar",
         "x": [
          "Mixtral-8x22B",
          "Qwen2.5-7B",
          "Meta-Llama-3.1-70B"
         ],
         "xaxis": "x8",
         "y": [
          52,
          7,
          20
         ],
         "yaxis": "y8"
        },
        {
         "alignmentgroup": "True",
         "hovertemplate": "rtype=human<br>ftype=from_json_details<br>cmp_model=Qwen2.5-72B<br>desc_model=%{x}<br>rvalue=%{y}<extra></extra>",
         "legendgroup": "human",
         "marker": {
          "color": "#636efa",
          "pattern": {
           "shape": ""
          }
         },
         "name": "human",
         "offsetgroup": "human",
         "orientation": "v",
         "showlegend": false,
         "textposition": "auto",
         "type": "bar",
         "x": [
          "Mixtral-8x22B",
          "Qwen2.5-7B",
          "Meta-Llama-3.1-70B"
         ],
         "xaxis": "x9",
         "y": [
          88,
          38,
          60
         ],
         "yaxis": "y9"
        },
        {
         "alignmentgroup": "True",
         "hovertemplate": "rtype=human<br>ftype=from_json_details<br>cmp_model=gpt-3.5-turbo<br>desc_model=%{x}<br>rvalue=%{y}<extra></extra>",
         "legendgroup": "human",
         "marker": {
          "color": "#636efa",
          "pattern": {
           "shape": ""
          }
         },
         "name": "human",
         "offsetgroup": "human",
         "orientation": "v",
         "showlegend": false,
         "textposition": "auto",
         "type": "bar",
         "x": [
          "Mixtral-8x22B",
          "Qwen2.5-7B",
          "Meta-Llama-3.1-70B"
         ],
         "xaxis": "x10",
         "y": [
          82,
          11,
          26
         ],
         "yaxis": "y10"
        },
        {
         "alignmentgroup": "True",
         "hovertemplate": "rtype=human<br>ftype=from_json_details<br>cmp_model=gpt-4-1106<br>desc_model=%{x}<br>rvalue=%{y}<extra></extra>",
         "legendgroup": "human",
         "marker": {
          "color": "#636efa",
          "pattern": {
           "shape": ""
          }
         },
         "name": "human",
         "offsetgroup": "human",
         "orientation": "v",
         "showlegend": false,
         "textposition": "auto",
         "type": "bar",
         "x": [
          "Mixtral-8x22B",
          "Qwen2.5-7B",
          "Meta-Llama-3.1-70B"
         ],
         "xaxis": "x11",
         "y": [
          80,
          34,
          45
         ],
         "yaxis": "y11"
        },
        {
         "alignmentgroup": "True",
         "hovertemplate": "rtype=human<br>ftype=from_json_details<br>cmp_model=Qwen2.5-7B<br>desc_model=%{x}<br>rvalue=%{y}<extra></extra>",
         "legendgroup": "human",
         "marker": {
          "color": "#636efa",
          "pattern": {
           "shape": ""
          }
         },
         "name": "human",
         "offsetgroup": "human",
         "orientation": "v",
         "showlegend": false,
         "textposition": "auto",
         "type": "bar",
         "x": [
          "Mixtral-8x22B",
          "Qwen2.5-7B",
          "Meta-Llama-3.1-70B"
         ],
         "xaxis": "x12",
         "y": [
          102,
          63,
          76
         ],
         "yaxis": "y12"
        },
        {
         "alignmentgroup": "True",
         "hovertemplate": "rtype=human<br>ftype=from_json_product_listing<br>cmp_model=Meta-Llama-3.1-70B<br>desc_model=%{x}<br>rvalue=%{y}<extra></extra>",
         "legendgroup": "human",
         "marker": {
          "color": "#636efa",
          "pattern": {
           "shape": ""
          }
         },
         "name": "human",
         "offsetgroup": "human",
         "orientation": "v",
         "showlegend": false,
         "textposition": "auto",
         "type": "bar",
         "x": [
          "Mixtral-8x22B",
          "Qwen2.5-7B",
          "Meta-Llama-3.1-70B"
         ],
         "xaxis": "x",
         "y": [
          94,
          88,
          85
         ],
         "yaxis": "y"
        },
        {
         "alignmentgroup": "True",
         "hovertemplate": "rtype=human<br>ftype=from_json_product_listing<br>cmp_model=Mixtral-8x22B<br>desc_model=%{x}<br>rvalue=%{y}<extra></extra>",
         "legendgroup": "human",
         "marker": {
          "color": "#636efa",
          "pattern": {
           "shape": ""
          }
         },
         "name": "human",
         "offsetgroup": "human",
         "orientation": "v",
         "showlegend": false,
         "textposition": "auto",
         "type": "bar",
         "x": [
          "Mixtral-8x22B",
          "Qwen2.5-7B",
          "Meta-Llama-3.1-70B"
         ],
         "xaxis": "x2",
         "y": [
          65,
          33,
          25
         ],
         "yaxis": "y2"
        },
        {
         "alignmentgroup": "True",
         "hovertemplate": "rtype=human<br>ftype=from_json_product_listing<br>cmp_model=Qwen2.5-72B<br>desc_model=%{x}<br>rvalue=%{y}<extra></extra>",
         "legendgroup": "human",
         "marker": {
          "color": "#636efa",
          "pattern": {
           "shape": ""
          }
         },
         "name": "human",
         "offsetgroup": "human",
         "orientation": "v",
         "showlegend": false,
         "textposition": "auto",
         "type": "bar",
         "x": [
          "Mixtral-8x22B",
          "Qwen2.5-7B",
          "Meta-Llama-3.1-70B"
         ],
         "xaxis": "x3",
         "y": [
          105,
          63,
          65
         ],
         "yaxis": "y3"
        },
        {
         "alignmentgroup": "True",
         "hovertemplate": "rtype=human<br>ftype=from_json_product_listing<br>cmp_model=gpt-3.5-turbo<br>desc_model=%{x}<br>rvalue=%{y}<extra></extra>",
         "legendgroup": "human",
         "marker": {
          "color": "#636efa",
          "pattern": {
           "shape": ""
          }
         },
         "name": "human",
         "offsetgroup": "human",
         "orientation": "v",
         "showlegend": false,
         "textposition": "auto",
         "type": "bar",
         "x": [
          "Mixtral-8x22B",
          "Qwen2.5-7B",
          "Meta-Llama-3.1-70B"
         ],
         "xaxis": "x4",
         "y": [
          84,
          32,
          38
         ],
         "yaxis": "y4"
        },
        {
         "alignmentgroup": "True",
         "hovertemplate": "rtype=human<br>ftype=from_json_product_listing<br>cmp_model=gpt-4-1106<br>desc_model=%{x}<br>rvalue=%{y}<extra></extra>",
         "legendgroup": "human",
         "marker": {
          "color": "#636efa",
          "pattern": {
           "shape": ""
          }
         },
         "name": "human",
         "offsetgroup": "human",
         "orientation": "v",
         "showlegend": false,
         "textposition": "auto",
         "type": "bar",
         "x": [
          "Mixtral-8x22B",
          "Qwen2.5-7B",
          "Meta-Llama-3.1-70B"
         ],
         "xaxis": "x5",
         "y": [
          91,
          53,
          53
         ],
         "yaxis": "y5"
        },
        {
         "alignmentgroup": "True",
         "hovertemplate": "rtype=human<br>ftype=from_json_product_listing<br>cmp_model=Qwen2.5-7B<br>desc_model=%{x}<br>rvalue=%{y}<extra></extra>",
         "legendgroup": "human",
         "marker": {
          "color": "#636efa",
          "pattern": {
           "shape": ""
          }
         },
         "name": "human",
         "offsetgroup": "human",
         "orientation": "v",
         "showlegend": false,
         "textposition": "auto",
         "type": "bar",
         "x": [
          "Mixtral-8x22B",
          "Qwen2.5-7B",
          "Meta-Llama-3.1-70B"
         ],
         "xaxis": "x6",
         "y": [
          102,
          86,
          73
         ],
         "yaxis": "y6"
        },
        {
         "alignmentgroup": "True",
         "hovertemplate": "rtype=llm<br>ftype=from_json_details<br>cmp_model=Meta-Llama-3.1-70B<br>desc_model=%{x}<br>rvalue=%{y}<extra></extra>",
         "legendgroup": "llm",
         "marker": {
          "color": "#EF553B",
          "pattern": {
           "shape": ""
          }
         },
         "name": "llm",
         "offsetgroup": "llm",
         "orientation": "v",
         "showlegend": true,
         "textposition": "auto",
         "type": "bar",
         "x": [
          "Mixtral-8x22B",
          "Qwen2.5-7B",
          "Meta-Llama-3.1-70B"
         ],
         "xaxis": "x7",
         "y": [
          130,
          151,
          141
         ],
         "yaxis": "y7"
        },
        {
         "alignmentgroup": "True",
         "hovertemplate": "rtype=llm<br>ftype=from_json_details<br>cmp_model=Mixtral-8x22B<br>desc_model=%{x}<br>rvalue=%{y}<extra></extra>",
         "legendgroup": "llm",
         "marker": {
          "color": "#EF553B",
          "pattern": {
           "shape": ""
          }
         },
         "name": "llm",
         "offsetgroup": "llm",
         "orientation": "v",
         "showlegend": false,
         "textposition": "auto",
         "type": "bar",
         "x": [
          "Mixtral-8x22B",
          "Qwen2.5-7B",
          "Meta-Llama-3.1-70B"
         ],
         "xaxis": "x8",
         "y": [
          168,
          213,
          200
         ],
         "yaxis": "y8"
        },
        {
         "alignmentgroup": "True",
         "hovertemplate": "rtype=llm<br>ftype=from_json_details<br>cmp_model=Qwen2.5-72B<br>desc_model=%{x}<br>rvalue=%{y}<extra></extra>",
         "legendgroup": "llm",
         "marker": {
          "color": "#EF553B",
          "pattern": {
           "shape": ""
          }
         },
         "name": "llm",
         "offsetgroup": "llm",
         "orientation": "v",
         "showlegend": false,
         "textposition": "auto",
         "type": "bar",
         "x": [
          "Mixtral-8x22B",
          "Qwen2.5-7B",
          "Meta-Llama-3.1-70B"
         ],
         "xaxis": "x9",
         "y": [
          132,
          182,
          160
         ],
         "yaxis": "y9"
        },
        {
         "alignmentgroup": "True",
         "hovertemplate": "rtype=llm<br>ftype=from_json_details<br>cmp_model=gpt-3.5-turbo<br>desc_model=%{x}<br>rvalue=%{y}<extra></extra>",
         "legendgroup": "llm",
         "marker": {
          "color": "#EF553B",
          "pattern": {
           "shape": ""
          }
         },
         "name": "llm",
         "offsetgroup": "llm",
         "orientation": "v",
         "showlegend": false,
         "textposition": "auto",
         "type": "bar",
         "x": [
          "Mixtral-8x22B",
          "Qwen2.5-7B",
          "Meta-Llama-3.1-70B"
         ],
         "xaxis": "x10",
         "y": [
          138,
          209,
          194
         ],
         "yaxis": "y10"
        },
        {
         "alignmentgroup": "True",
         "hovertemplate": "rtype=llm<br>ftype=from_json_details<br>cmp_model=gpt-4-1106<br>desc_model=%{x}<br>rvalue=%{y}<extra></extra>",
         "legendgroup": "llm",
         "marker": {
          "color": "#EF553B",
          "pattern": {
           "shape": ""
          }
         },
         "name": "llm",
         "offsetgroup": "llm",
         "orientation": "v",
         "showlegend": false,
         "textposition": "auto",
         "type": "bar",
         "x": [
          "Mixtral-8x22B",
          "Qwen2.5-7B",
          "Meta-Llama-3.1-70B"
         ],
         "xaxis": "x11",
         "y": [
          140,
          186,
          175
         ],
         "yaxis": "y11"
        },
        {
         "alignmentgroup": "True",
         "hovertemplate": "rtype=llm<br>ftype=from_json_details<br>cmp_model=Qwen2.5-7B<br>desc_model=%{x}<br>rvalue=%{y}<extra></extra>",
         "legendgroup": "llm",
         "marker": {
          "color": "#EF553B",
          "pattern": {
           "shape": ""
          }
         },
         "name": "llm",
         "offsetgroup": "llm",
         "orientation": "v",
         "showlegend": false,
         "textposition": "auto",
         "type": "bar",
         "x": [
          "Mixtral-8x22B",
          "Qwen2.5-7B",
          "Meta-Llama-3.1-70B"
         ],
         "xaxis": "x12",
         "y": [
          118,
          157,
          144
         ],
         "yaxis": "y12"
        },
        {
         "alignmentgroup": "True",
         "hovertemplate": "rtype=llm<br>ftype=from_json_product_listing<br>cmp_model=Meta-Llama-3.1-70B<br>desc_model=%{x}<br>rvalue=%{y}<extra></extra>",
         "legendgroup": "llm",
         "marker": {
          "color": "#EF553B",
          "pattern": {
           "shape": ""
          }
         },
         "name": "llm",
         "offsetgroup": "llm",
         "orientation": "v",
         "showlegend": false,
         "textposition": "auto",
         "type": "bar",
         "x": [
          "Mixtral-8x22B",
          "Qwen2.5-7B",
          "Meta-Llama-3.1-70B"
         ],
         "xaxis": "x",
         "y": [
          126,
          132,
          135
         ],
         "yaxis": "y"
        },
        {
         "alignmentgroup": "True",
         "hovertemplate": "rtype=llm<br>ftype=from_json_product_listing<br>cmp_model=Mixtral-8x22B<br>desc_model=%{x}<br>rvalue=%{y}<extra></extra>",
         "legendgroup": "llm",
         "marker": {
          "color": "#EF553B",
          "pattern": {
           "shape": ""
          }
         },
         "name": "llm",
         "offsetgroup": "llm",
         "orientation": "v",
         "showlegend": false,
         "textposition": "auto",
         "type": "bar",
         "x": [
          "Mixtral-8x22B",
          "Qwen2.5-7B",
          "Meta-Llama-3.1-70B"
         ],
         "xaxis": "x2",
         "y": [
          155,
          187,
          195
         ],
         "yaxis": "y2"
        },
        {
         "alignmentgroup": "True",
         "hovertemplate": "rtype=llm<br>ftype=from_json_product_listing<br>cmp_model=Qwen2.5-72B<br>desc_model=%{x}<br>rvalue=%{y}<extra></extra>",
         "legendgroup": "llm",
         "marker": {
          "color": "#EF553B",
          "pattern": {
           "shape": ""
          }
         },
         "name": "llm",
         "offsetgroup": "llm",
         "orientation": "v",
         "showlegend": false,
         "textposition": "auto",
         "type": "bar",
         "x": [
          "Mixtral-8x22B",
          "Qwen2.5-7B",
          "Meta-Llama-3.1-70B"
         ],
         "xaxis": "x3",
         "y": [
          115,
          157,
          155
         ],
         "yaxis": "y3"
        },
        {
         "alignmentgroup": "True",
         "hovertemplate": "rtype=llm<br>ftype=from_json_product_listing<br>cmp_model=gpt-3.5-turbo<br>desc_model=%{x}<br>rvalue=%{y}<extra></extra>",
         "legendgroup": "llm",
         "marker": {
          "color": "#EF553B",
          "pattern": {
           "shape": ""
          }
         },
         "name": "llm",
         "offsetgroup": "llm",
         "orientation": "v",
         "showlegend": false,
         "textposition": "auto",
         "type": "bar",
         "x": [
          "Mixtral-8x22B",
          "Qwen2.5-7B",
          "Meta-Llama-3.1-70B"
         ],
         "xaxis": "x4",
         "y": [
          136,
          188,
          181
         ],
         "yaxis": "y4"
        },
        {
         "alignmentgroup": "True",
         "hovertemplate": "rtype=llm<br>ftype=from_json_product_listing<br>cmp_model=gpt-4-1106<br>desc_model=%{x}<br>rvalue=%{y}<extra></extra>",
         "legendgroup": "llm",
         "marker": {
          "color": "#EF553B",
          "pattern": {
           "shape": ""
          }
         },
         "name": "llm",
         "offsetgroup": "llm",
         "orientation": "v",
         "showlegend": false,
         "textposition": "auto",
         "type": "bar",
         "x": [
          "Mixtral-8x22B",
          "Qwen2.5-7B",
          "Meta-Llama-3.1-70B"
         ],
         "xaxis": "x5",
         "y": [
          129,
          163,
          167
         ],
         "yaxis": "y5"
        },
        {
         "alignmentgroup": "True",
         "hovertemplate": "rtype=llm<br>ftype=from_json_product_listing<br>cmp_model=Qwen2.5-7B<br>desc_model=%{x}<br>rvalue=%{y}<extra></extra>",
         "legendgroup": "llm",
         "marker": {
          "color": "#EF553B",
          "pattern": {
           "shape": ""
          }
         },
         "name": "llm",
         "offsetgroup": "llm",
         "orientation": "v",
         "showlegend": false,
         "textposition": "auto",
         "type": "bar",
         "x": [
          "Mixtral-8x22B",
          "Qwen2.5-7B",
          "Meta-Llama-3.1-70B"
         ],
         "xaxis": "x6",
         "y": [
          118,
          134,
          147
         ],
         "yaxis": "y6"
        },
        {
         "alignmentgroup": "True",
         "hovertemplate": "rtype=invalid<br>ftype=from_json_details<br>cmp_model=Meta-Llama-3.1-70B<br>desc_model=%{x}<br>rvalue=%{y}<extra></extra>",
         "legendgroup": "invalid",
         "marker": {
          "color": "#00cc96",
          "pattern": {
           "shape": ""
          }
         },
         "name": "invalid",
         "offsetgroup": "invalid",
         "orientation": "v",
         "showlegend": true,
         "textposition": "auto",
         "type": "bar",
         "x": [
          "Mixtral-8x22B",
          "Qwen2.5-7B",
          "Meta-Llama-3.1-70B"
         ],
         "xaxis": "x7",
         "y": [
          0,
          0,
          0
         ],
         "yaxis": "y7"
        },
        {
         "alignmentgroup": "True",
         "hovertemplate": "rtype=invalid<br>ftype=from_json_details<br>cmp_model=Mixtral-8x22B<br>desc_model=%{x}<br>rvalue=%{y}<extra></extra>",
         "legendgroup": "invalid",
         "marker": {
          "color": "#00cc96",
          "pattern": {
           "shape": ""
          }
         },
         "name": "invalid",
         "offsetgroup": "invalid",
         "orientation": "v",
         "showlegend": false,
         "textposition": "auto",
         "type": "bar",
         "x": [
          "Mixtral-8x22B",
          "Qwen2.5-7B",
          "Meta-Llama-3.1-70B"
         ],
         "xaxis": "x8",
         "y": [
          0,
          0,
          0
         ],
         "yaxis": "y8"
        },
        {
         "alignmentgroup": "True",
         "hovertemplate": "rtype=invalid<br>ftype=from_json_details<br>cmp_model=Qwen2.5-72B<br>desc_model=%{x}<br>rvalue=%{y}<extra></extra>",
         "legendgroup": "invalid",
         "marker": {
          "color": "#00cc96",
          "pattern": {
           "shape": ""
          }
         },
         "name": "invalid",
         "offsetgroup": "invalid",
         "orientation": "v",
         "showlegend": false,
         "textposition": "auto",
         "type": "bar",
         "x": [
          "Mixtral-8x22B",
          "Qwen2.5-7B",
          "Meta-Llama-3.1-70B"
         ],
         "xaxis": "x9",
         "y": [
          0,
          0,
          0
         ],
         "yaxis": "y9"
        },
        {
         "alignmentgroup": "True",
         "hovertemplate": "rtype=invalid<br>ftype=from_json_details<br>cmp_model=gpt-3.5-turbo<br>desc_model=%{x}<br>rvalue=%{y}<extra></extra>",
         "legendgroup": "invalid",
         "marker": {
          "color": "#00cc96",
          "pattern": {
           "shape": ""
          }
         },
         "name": "invalid",
         "offsetgroup": "invalid",
         "orientation": "v",
         "showlegend": false,
         "textposition": "auto",
         "type": "bar",
         "x": [
          "Mixtral-8x22B",
          "Qwen2.5-7B",
          "Meta-Llama-3.1-70B"
         ],
         "xaxis": "x10",
         "y": [
          0,
          0,
          0
         ],
         "yaxis": "y10"
        },
        {
         "alignmentgroup": "True",
         "hovertemplate": "rtype=invalid<br>ftype=from_json_details<br>cmp_model=gpt-4-1106<br>desc_model=%{x}<br>rvalue=%{y}<extra></extra>",
         "legendgroup": "invalid",
         "marker": {
          "color": "#00cc96",
          "pattern": {
           "shape": ""
          }
         },
         "name": "invalid",
         "offsetgroup": "invalid",
         "orientation": "v",
         "showlegend": false,
         "textposition": "auto",
         "type": "bar",
         "x": [
          "Mixtral-8x22B",
          "Qwen2.5-7B",
          "Meta-Llama-3.1-70B"
         ],
         "xaxis": "x11",
         "y": [
          0,
          0,
          0
         ],
         "yaxis": "y11"
        },
        {
         "alignmentgroup": "True",
         "hovertemplate": "rtype=invalid<br>ftype=from_json_details<br>cmp_model=Qwen2.5-7B<br>desc_model=%{x}<br>rvalue=%{y}<extra></extra>",
         "legendgroup": "invalid",
         "marker": {
          "color": "#00cc96",
          "pattern": {
           "shape": ""
          }
         },
         "name": "invalid",
         "offsetgroup": "invalid",
         "orientation": "v",
         "showlegend": false,
         "textposition": "auto",
         "type": "bar",
         "x": [
          "Mixtral-8x22B",
          "Qwen2.5-7B",
          "Meta-Llama-3.1-70B"
         ],
         "xaxis": "x12",
         "y": [
          0,
          0,
          0
         ],
         "yaxis": "y12"
        },
        {
         "alignmentgroup": "True",
         "hovertemplate": "rtype=invalid<br>ftype=from_json_product_listing<br>cmp_model=Meta-Llama-3.1-70B<br>desc_model=%{x}<br>rvalue=%{y}<extra></extra>",
         "legendgroup": "invalid",
         "marker": {
          "color": "#00cc96",
          "pattern": {
           "shape": ""
          }
         },
         "name": "invalid",
         "offsetgroup": "invalid",
         "orientation": "v",
         "showlegend": false,
         "textposition": "auto",
         "type": "bar",
         "x": [
          "Mixtral-8x22B",
          "Qwen2.5-7B",
          "Meta-Llama-3.1-70B"
         ],
         "xaxis": "x",
         "y": [
          0,
          0,
          0
         ],
         "yaxis": "y"
        },
        {
         "alignmentgroup": "True",
         "hovertemplate": "rtype=invalid<br>ftype=from_json_product_listing<br>cmp_model=Mixtral-8x22B<br>desc_model=%{x}<br>rvalue=%{y}<extra></extra>",
         "legendgroup": "invalid",
         "marker": {
          "color": "#00cc96",
          "pattern": {
           "shape": ""
          }
         },
         "name": "invalid",
         "offsetgroup": "invalid",
         "orientation": "v",
         "showlegend": false,
         "textposition": "auto",
         "type": "bar",
         "x": [
          "Mixtral-8x22B",
          "Qwen2.5-7B",
          "Meta-Llama-3.1-70B"
         ],
         "xaxis": "x2",
         "y": [
          0,
          0,
          0
         ],
         "yaxis": "y2"
        },
        {
         "alignmentgroup": "True",
         "hovertemplate": "rtype=invalid<br>ftype=from_json_product_listing<br>cmp_model=Qwen2.5-72B<br>desc_model=%{x}<br>rvalue=%{y}<extra></extra>",
         "legendgroup": "invalid",
         "marker": {
          "color": "#00cc96",
          "pattern": {
           "shape": ""
          }
         },
         "name": "invalid",
         "offsetgroup": "invalid",
         "orientation": "v",
         "showlegend": false,
         "textposition": "auto",
         "type": "bar",
         "x": [
          "Mixtral-8x22B",
          "Qwen2.5-7B",
          "Meta-Llama-3.1-70B"
         ],
         "xaxis": "x3",
         "y": [
          0,
          0,
          0
         ],
         "yaxis": "y3"
        },
        {
         "alignmentgroup": "True",
         "hovertemplate": "rtype=invalid<br>ftype=from_json_product_listing<br>cmp_model=gpt-3.5-turbo<br>desc_model=%{x}<br>rvalue=%{y}<extra></extra>",
         "legendgroup": "invalid",
         "marker": {
          "color": "#00cc96",
          "pattern": {
           "shape": ""
          }
         },
         "name": "invalid",
         "offsetgroup": "invalid",
         "orientation": "v",
         "showlegend": false,
         "textposition": "auto",
         "type": "bar",
         "x": [
          "Mixtral-8x22B",
          "Qwen2.5-7B",
          "Meta-Llama-3.1-70B"
         ],
         "xaxis": "x4",
         "y": [
          0,
          0,
          1
         ],
         "yaxis": "y4"
        },
        {
         "alignmentgroup": "True",
         "hovertemplate": "rtype=invalid<br>ftype=from_json_product_listing<br>cmp_model=gpt-4-1106<br>desc_model=%{x}<br>rvalue=%{y}<extra></extra>",
         "legendgroup": "invalid",
         "marker": {
          "color": "#00cc96",
          "pattern": {
           "shape": ""
          }
         },
         "name": "invalid",
         "offsetgroup": "invalid",
         "orientation": "v",
         "showlegend": false,
         "textposition": "auto",
         "type": "bar",
         "x": [
          "Mixtral-8x22B",
          "Qwen2.5-7B",
          "Meta-Llama-3.1-70B"
         ],
         "xaxis": "x5",
         "y": [
          0,
          4,
          0
         ],
         "yaxis": "y5"
        },
        {
         "alignmentgroup": "True",
         "hovertemplate": "rtype=invalid<br>ftype=from_json_product_listing<br>cmp_model=Qwen2.5-7B<br>desc_model=%{x}<br>rvalue=%{y}<extra></extra>",
         "legendgroup": "invalid",
         "marker": {
          "color": "#00cc96",
          "pattern": {
           "shape": ""
          }
         },
         "name": "invalid",
         "offsetgroup": "invalid",
         "orientation": "v",
         "showlegend": false,
         "textposition": "auto",
         "type": "bar",
         "x": [
          "Mixtral-8x22B",
          "Qwen2.5-7B",
          "Meta-Llama-3.1-70B"
         ],
         "xaxis": "x6",
         "y": [
          0,
          0,
          0
         ],
         "yaxis": "y6"
        }
       ],
       "layout": {
        "annotations": [
         {
          "font": {},
          "showarrow": false,
          "text": "cmp_model=Meta-Llama-3.1-70B",
          "x": 0.07333333333333333,
          "xanchor": "center",
          "xref": "paper",
          "y": 1,
          "yanchor": "bottom",
          "yref": "paper"
         },
         {
          "font": {},
          "showarrow": false,
          "text": "cmp_model=Mixtral-8x22B",
          "x": 0.24,
          "xanchor": "center",
          "xref": "paper",
          "y": 1,
          "yanchor": "bottom",
          "yref": "paper"
         },
         {
          "font": {},
          "showarrow": false,
          "text": "cmp_model=Qwen2.5-72B",
          "x": 0.4066666666666666,
          "xanchor": "center",
          "xref": "paper",
          "y": 1,
          "yanchor": "bottom",
          "yref": "paper"
         },
         {
          "font": {},
          "showarrow": false,
          "text": "cmp_model=gpt-3.5-turbo",
          "x": 0.5733333333333334,
          "xanchor": "center",
          "xref": "paper",
          "y": 1,
          "yanchor": "bottom",
          "yref": "paper"
         },
         {
          "font": {},
          "showarrow": false,
          "text": "cmp_model=gpt-4-1106",
          "x": 0.74,
          "xanchor": "center",
          "xref": "paper",
          "y": 1,
          "yanchor": "bottom",
          "yref": "paper"
         },
         {
          "font": {},
          "showarrow": false,
          "text": "cmp_model=Qwen2.5-7B",
          "x": 0.9066666666666667,
          "xanchor": "center",
          "xref": "paper",
          "y": 1,
          "yanchor": "bottom",
          "yref": "paper"
         },
         {
          "font": {},
          "showarrow": false,
          "text": "ftype=from_json_product_listing",
          "textangle": 90,
          "x": 0.98,
          "xanchor": "left",
          "xref": "paper",
          "y": 0.2425,
          "yanchor": "middle",
          "yref": "paper"
         },
         {
          "font": {},
          "showarrow": false,
          "text": "ftype=from_json_details",
          "textangle": 90,
          "x": 0.98,
          "xanchor": "left",
          "xref": "paper",
          "y": 0.7575000000000001,
          "yanchor": "middle",
          "yref": "paper"
         }
        ],
        "barmode": "relative",
        "height": 750,
        "legend": {
         "title": {
          "text": "rtype"
         },
         "tracegroupgap": 0
        },
        "margin": {
         "t": 60
        },
        "plot_bgcolor": "rgba(0, 0, 0, 0)",
        "template": {
         "data": {
          "bar": [
           {
            "error_x": {
             "color": "#2a3f5f"
            },
            "error_y": {
             "color": "#2a3f5f"
            },
            "marker": {
             "line": {
              "color": "#E5ECF6",
              "width": 0.5
             },
             "pattern": {
              "fillmode": "overlay",
              "size": 10,
              "solidity": 0.2
             }
            },
            "type": "bar"
           }
          ],
          "barpolar": [
           {
            "marker": {
             "line": {
              "color": "#E5ECF6",
              "width": 0.5
             },
             "pattern": {
              "fillmode": "overlay",
              "size": 10,
              "solidity": 0.2
             }
            },
            "type": "barpolar"
           }
          ],
          "carpet": [
           {
            "aaxis": {
             "endlinecolor": "#2a3f5f",
             "gridcolor": "white",
             "linecolor": "white",
             "minorgridcolor": "white",
             "startlinecolor": "#2a3f5f"
            },
            "baxis": {
             "endlinecolor": "#2a3f5f",
             "gridcolor": "white",
             "linecolor": "white",
             "minorgridcolor": "white",
             "startlinecolor": "#2a3f5f"
            },
            "type": "carpet"
           }
          ],
          "choropleth": [
           {
            "colorbar": {
             "outlinewidth": 0,
             "ticks": ""
            },
            "type": "choropleth"
           }
          ],
          "contour": [
           {
            "colorbar": {
             "outlinewidth": 0,
             "ticks": ""
            },
            "colorscale": [
             [
              0,
              "#0d0887"
             ],
             [
              0.1111111111111111,
              "#46039f"
             ],
             [
              0.2222222222222222,
              "#7201a8"
             ],
             [
              0.3333333333333333,
              "#9c179e"
             ],
             [
              0.4444444444444444,
              "#bd3786"
             ],
             [
              0.5555555555555556,
              "#d8576b"
             ],
             [
              0.6666666666666666,
              "#ed7953"
             ],
             [
              0.7777777777777778,
              "#fb9f3a"
             ],
             [
              0.8888888888888888,
              "#fdca26"
             ],
             [
              1,
              "#f0f921"
             ]
            ],
            "type": "contour"
           }
          ],
          "contourcarpet": [
           {
            "colorbar": {
             "outlinewidth": 0,
             "ticks": ""
            },
            "type": "contourcarpet"
           }
          ],
          "heatmap": [
           {
            "colorbar": {
             "outlinewidth": 0,
             "ticks": ""
            },
            "colorscale": [
             [
              0,
              "#0d0887"
             ],
             [
              0.1111111111111111,
              "#46039f"
             ],
             [
              0.2222222222222222,
              "#7201a8"
             ],
             [
              0.3333333333333333,
              "#9c179e"
             ],
             [
              0.4444444444444444,
              "#bd3786"
             ],
             [
              0.5555555555555556,
              "#d8576b"
             ],
             [
              0.6666666666666666,
              "#ed7953"
             ],
             [
              0.7777777777777778,
              "#fb9f3a"
             ],
             [
              0.8888888888888888,
              "#fdca26"
             ],
             [
              1,
              "#f0f921"
             ]
            ],
            "type": "heatmap"
           }
          ],
          "heatmapgl": [
           {
            "colorbar": {
             "outlinewidth": 0,
             "ticks": ""
            },
            "colorscale": [
             [
              0,
              "#0d0887"
             ],
             [
              0.1111111111111111,
              "#46039f"
             ],
             [
              0.2222222222222222,
              "#7201a8"
             ],
             [
              0.3333333333333333,
              "#9c179e"
             ],
             [
              0.4444444444444444,
              "#bd3786"
             ],
             [
              0.5555555555555556,
              "#d8576b"
             ],
             [
              0.6666666666666666,
              "#ed7953"
             ],
             [
              0.7777777777777778,
              "#fb9f3a"
             ],
             [
              0.8888888888888888,
              "#fdca26"
             ],
             [
              1,
              "#f0f921"
             ]
            ],
            "type": "heatmapgl"
           }
          ],
          "histogram": [
           {
            "marker": {
             "pattern": {
              "fillmode": "overlay",
              "size": 10,
              "solidity": 0.2
             }
            },
            "type": "histogram"
           }
          ],
          "histogram2d": [
           {
            "colorbar": {
             "outlinewidth": 0,
             "ticks": ""
            },
            "colorscale": [
             [
              0,
              "#0d0887"
             ],
             [
              0.1111111111111111,
              "#46039f"
             ],
             [
              0.2222222222222222,
              "#7201a8"
             ],
             [
              0.3333333333333333,
              "#9c179e"
             ],
             [
              0.4444444444444444,
              "#bd3786"
             ],
             [
              0.5555555555555556,
              "#d8576b"
             ],
             [
              0.6666666666666666,
              "#ed7953"
             ],
             [
              0.7777777777777778,
              "#fb9f3a"
             ],
             [
              0.8888888888888888,
              "#fdca26"
             ],
             [
              1,
              "#f0f921"
             ]
            ],
            "type": "histogram2d"
           }
          ],
          "histogram2dcontour": [
           {
            "colorbar": {
             "outlinewidth": 0,
             "ticks": ""
            },
            "colorscale": [
             [
              0,
              "#0d0887"
             ],
             [
              0.1111111111111111,
              "#46039f"
             ],
             [
              0.2222222222222222,
              "#7201a8"
             ],
             [
              0.3333333333333333,
              "#9c179e"
             ],
             [
              0.4444444444444444,
              "#bd3786"
             ],
             [
              0.5555555555555556,
              "#d8576b"
             ],
             [
              0.6666666666666666,
              "#ed7953"
             ],
             [
              0.7777777777777778,
              "#fb9f3a"
             ],
             [
              0.8888888888888888,
              "#fdca26"
             ],
             [
              1,
              "#f0f921"
             ]
            ],
            "type": "histogram2dcontour"
           }
          ],
          "mesh3d": [
           {
            "colorbar": {
             "outlinewidth": 0,
             "ticks": ""
            },
            "type": "mesh3d"
           }
          ],
          "parcoords": [
           {
            "line": {
             "colorbar": {
              "outlinewidth": 0,
              "ticks": ""
             }
            },
            "type": "parcoords"
           }
          ],
          "pie": [
           {
            "automargin": true,
            "type": "pie"
           }
          ],
          "scatter": [
           {
            "fillpattern": {
             "fillmode": "overlay",
             "size": 10,
             "solidity": 0.2
            },
            "type": "scatter"
           }
          ],
          "scatter3d": [
           {
            "line": {
             "colorbar": {
              "outlinewidth": 0,
              "ticks": ""
             }
            },
            "marker": {
             "colorbar": {
              "outlinewidth": 0,
              "ticks": ""
             }
            },
            "type": "scatter3d"
           }
          ],
          "scattercarpet": [
           {
            "marker": {
             "colorbar": {
              "outlinewidth": 0,
              "ticks": ""
             }
            },
            "type": "scattercarpet"
           }
          ],
          "scattergeo": [
           {
            "marker": {
             "colorbar": {
              "outlinewidth": 0,
              "ticks": ""
             }
            },
            "type": "scattergeo"
           }
          ],
          "scattergl": [
           {
            "marker": {
             "colorbar": {
              "outlinewidth": 0,
              "ticks": ""
             }
            },
            "type": "scattergl"
           }
          ],
          "scattermapbox": [
           {
            "marker": {
             "colorbar": {
              "outlinewidth": 0,
              "ticks": ""
             }
            },
            "type": "scattermapbox"
           }
          ],
          "scatterpolar": [
           {
            "marker": {
             "colorbar": {
              "outlinewidth": 0,
              "ticks": ""
             }
            },
            "type": "scatterpolar"
           }
          ],
          "scatterpolargl": [
           {
            "marker": {
             "colorbar": {
              "outlinewidth": 0,
              "ticks": ""
             }
            },
            "type": "scatterpolargl"
           }
          ],
          "scatterternary": [
           {
            "marker": {
             "colorbar": {
              "outlinewidth": 0,
              "ticks": ""
             }
            },
            "type": "scatterternary"
           }
          ],
          "surface": [
           {
            "colorbar": {
             "outlinewidth": 0,
             "ticks": ""
            },
            "colorscale": [
             [
              0,
              "#0d0887"
             ],
             [
              0.1111111111111111,
              "#46039f"
             ],
             [
              0.2222222222222222,
              "#7201a8"
             ],
             [
              0.3333333333333333,
              "#9c179e"
             ],
             [
              0.4444444444444444,
              "#bd3786"
             ],
             [
              0.5555555555555556,
              "#d8576b"
             ],
             [
              0.6666666666666666,
              "#ed7953"
             ],
             [
              0.7777777777777778,
              "#fb9f3a"
             ],
             [
              0.8888888888888888,
              "#fdca26"
             ],
             [
              1,
              "#f0f921"
             ]
            ],
            "type": "surface"
           }
          ],
          "table": [
           {
            "cells": {
             "fill": {
              "color": "#EBF0F8"
             },
             "line": {
              "color": "white"
             }
            },
            "header": {
             "fill": {
              "color": "#C8D4E3"
             },
             "line": {
              "color": "white"
             }
            },
            "type": "table"
           }
          ]
         },
         "layout": {
          "annotationdefaults": {
           "arrowcolor": "#2a3f5f",
           "arrowhead": 0,
           "arrowwidth": 1
          },
          "autotypenumbers": "strict",
          "coloraxis": {
           "colorbar": {
            "outlinewidth": 0,
            "ticks": ""
           }
          },
          "colorscale": {
           "diverging": [
            [
             0,
             "#8e0152"
            ],
            [
             0.1,
             "#c51b7d"
            ],
            [
             0.2,
             "#de77ae"
            ],
            [
             0.3,
             "#f1b6da"
            ],
            [
             0.4,
             "#fde0ef"
            ],
            [
             0.5,
             "#f7f7f7"
            ],
            [
             0.6,
             "#e6f5d0"
            ],
            [
             0.7,
             "#b8e186"
            ],
            [
             0.8,
             "#7fbc41"
            ],
            [
             0.9,
             "#4d9221"
            ],
            [
             1,
             "#276419"
            ]
           ],
           "sequential": [
            [
             0,
             "#0d0887"
            ],
            [
             0.1111111111111111,
             "#46039f"
            ],
            [
             0.2222222222222222,
             "#7201a8"
            ],
            [
             0.3333333333333333,
             "#9c179e"
            ],
            [
             0.4444444444444444,
             "#bd3786"
            ],
            [
             0.5555555555555556,
             "#d8576b"
            ],
            [
             0.6666666666666666,
             "#ed7953"
            ],
            [
             0.7777777777777778,
             "#fb9f3a"
            ],
            [
             0.8888888888888888,
             "#fdca26"
            ],
            [
             1,
             "#f0f921"
            ]
           ],
           "sequentialminus": [
            [
             0,
             "#0d0887"
            ],
            [
             0.1111111111111111,
             "#46039f"
            ],
            [
             0.2222222222222222,
             "#7201a8"
            ],
            [
             0.3333333333333333,
             "#9c179e"
            ],
            [
             0.4444444444444444,
             "#bd3786"
            ],
            [
             0.5555555555555556,
             "#d8576b"
            ],
            [
             0.6666666666666666,
             "#ed7953"
            ],
            [
             0.7777777777777778,
             "#fb9f3a"
            ],
            [
             0.8888888888888888,
             "#fdca26"
            ],
            [
             1,
             "#f0f921"
            ]
           ]
          },
          "colorway": [
           "#636efa",
           "#EF553B",
           "#00cc96",
           "#ab63fa",
           "#FFA15A",
           "#19d3f3",
           "#FF6692",
           "#B6E880",
           "#FF97FF",
           "#FECB52"
          ],
          "font": {
           "color": "#2a3f5f"
          },
          "geo": {
           "bgcolor": "white",
           "lakecolor": "white",
           "landcolor": "#E5ECF6",
           "showlakes": true,
           "showland": true,
           "subunitcolor": "white"
          },
          "hoverlabel": {
           "align": "left"
          },
          "hovermode": "closest",
          "mapbox": {
           "style": "light"
          },
          "paper_bgcolor": "white",
          "plot_bgcolor": "#E5ECF6",
          "polar": {
           "angularaxis": {
            "gridcolor": "white",
            "linecolor": "white",
            "ticks": ""
           },
           "bgcolor": "#E5ECF6",
           "radialaxis": {
            "gridcolor": "white",
            "linecolor": "white",
            "ticks": ""
           }
          },
          "scene": {
           "xaxis": {
            "backgroundcolor": "#E5ECF6",
            "gridcolor": "white",
            "gridwidth": 2,
            "linecolor": "white",
            "showbackground": true,
            "ticks": "",
            "zerolinecolor": "white"
           },
           "yaxis": {
            "backgroundcolor": "#E5ECF6",
            "gridcolor": "white",
            "gridwidth": 2,
            "linecolor": "white",
            "showbackground": true,
            "ticks": "",
            "zerolinecolor": "white"
           },
           "zaxis": {
            "backgroundcolor": "#E5ECF6",
            "gridcolor": "white",
            "gridwidth": 2,
            "linecolor": "white",
            "showbackground": true,
            "ticks": "",
            "zerolinecolor": "white"
           }
          },
          "shapedefaults": {
           "line": {
            "color": "#2a3f5f"
           }
          },
          "ternary": {
           "aaxis": {
            "gridcolor": "white",
            "linecolor": "white",
            "ticks": ""
           },
           "baxis": {
            "gridcolor": "white",
            "linecolor": "white",
            "ticks": ""
           },
           "bgcolor": "#E5ECF6",
           "caxis": {
            "gridcolor": "white",
            "linecolor": "white",
            "ticks": ""
           }
          },
          "title": {
           "x": 0.05
          },
          "xaxis": {
           "automargin": true,
           "gridcolor": "white",
           "linecolor": "white",
           "ticks": "",
           "title": {
            "standoff": 15
           },
           "zerolinecolor": "white",
           "zerolinewidth": 2
          },
          "yaxis": {
           "automargin": true,
           "gridcolor": "white",
           "linecolor": "white",
           "ticks": "",
           "title": {
            "standoff": 15
           },
           "zerolinecolor": "white",
           "zerolinewidth": 2
          }
         }
        },
        "xaxis": {
         "anchor": "y",
         "domain": [
          0,
          0.14666666666666667
         ],
         "title": {
          "text": "desc_model"
         }
        },
        "xaxis10": {
         "anchor": "y10",
         "domain": [
          0.5,
          0.6466666666666667
         ],
         "matches": "x",
         "showticklabels": false
        },
        "xaxis11": {
         "anchor": "y11",
         "domain": [
          0.6666666666666666,
          0.8133333333333332
         ],
         "matches": "x",
         "showticklabels": false
        },
        "xaxis12": {
         "anchor": "y12",
         "domain": [
          0.8333333333333334,
          0.98
         ],
         "matches": "x",
         "showticklabels": false
        },
        "xaxis2": {
         "anchor": "y2",
         "domain": [
          0.16666666666666666,
          0.31333333333333335
         ],
         "matches": "x",
         "title": {
          "text": "desc_model"
         }
        },
        "xaxis3": {
         "anchor": "y3",
         "domain": [
          0.3333333333333333,
          0.48
         ],
         "matches": "x",
         "title": {
          "text": "desc_model"
         }
        },
        "xaxis4": {
         "anchor": "y4",
         "domain": [
          0.5,
          0.6466666666666667
         ],
         "matches": "x",
         "title": {
          "text": "desc_model"
         }
        },
        "xaxis5": {
         "anchor": "y5",
         "domain": [
          0.6666666666666666,
          0.8133333333333332
         ],
         "matches": "x",
         "title": {
          "text": "desc_model"
         }
        },
        "xaxis6": {
         "anchor": "y6",
         "domain": [
          0.8333333333333334,
          0.98
         ],
         "matches": "x",
         "title": {
          "text": "desc_model"
         }
        },
        "xaxis7": {
         "anchor": "y7",
         "domain": [
          0,
          0.14666666666666667
         ],
         "matches": "x",
         "showticklabels": false
        },
        "xaxis8": {
         "anchor": "y8",
         "domain": [
          0.16666666666666666,
          0.31333333333333335
         ],
         "matches": "x",
         "showticklabels": false
        },
        "xaxis9": {
         "anchor": "y9",
         "domain": [
          0.3333333333333333,
          0.48
         ],
         "matches": "x",
         "showticklabels": false
        },
        "yaxis": {
         "anchor": "x",
         "domain": [
          0,
          0.485
         ],
         "title": {
          "text": "rvalue"
         }
        },
        "yaxis10": {
         "anchor": "x10",
         "domain": [
          0.515,
          1
         ],
         "matches": "y",
         "showticklabels": false
        },
        "yaxis11": {
         "anchor": "x11",
         "domain": [
          0.515,
          1
         ],
         "matches": "y",
         "showticklabels": false
        },
        "yaxis12": {
         "anchor": "x12",
         "domain": [
          0.515,
          1
         ],
         "matches": "y",
         "showticklabels": false
        },
        "yaxis2": {
         "anchor": "x2",
         "domain": [
          0,
          0.485
         ],
         "matches": "y",
         "showticklabels": false
        },
        "yaxis3": {
         "anchor": "x3",
         "domain": [
          0,
          0.485
         ],
         "matches": "y",
         "showticklabels": false
        },
        "yaxis4": {
         "anchor": "x4",
         "domain": [
          0,
          0.485
         ],
         "matches": "y",
         "showticklabels": false
        },
        "yaxis5": {
         "anchor": "x5",
         "domain": [
          0,
          0.485
         ],
         "matches": "y",
         "showticklabels": false
        },
        "yaxis6": {
         "anchor": "x6",
         "domain": [
          0,
          0.485
         ],
         "matches": "y",
         "showticklabels": false
        },
        "yaxis7": {
         "anchor": "x7",
         "domain": [
          0.515,
          1
         ],
         "matches": "y",
         "title": {
          "text": "rvalue"
         }
        },
        "yaxis8": {
         "anchor": "x8",
         "domain": [
          0.515,
          1
         ],
         "matches": "y",
         "showticklabels": false
        },
        "yaxis9": {
         "anchor": "x9",
         "domain": [
          0.515,
          1
         ],
         "matches": "y",
         "showticklabels": false
        }
       }
      },
      "image/png": "[encoded data removed]",
      "text/html": [
       "<div>                            <div id=\"002243e5-f6de-43c1-ac58-188c92efd227\" class=\"plotly-graph-div\" style=\"height:750px; width:100%;\"></div>            <script type=\"text/javascript\">                require([\"plotly\"], function(Plotly) {                    window.PLOTLYENV=window.PLOTLYENV || {};                                    if (document.getElementById(\"002243e5-f6de-43c1-ac58-188c92efd227\")) {                    Plotly.newPlot(                        \"002243e5-f6de-43c1-ac58-188c92efd227\",                        [{\"alignmentgroup\":\"True\",\"hovertemplate\":\"rtype=human\\u003cbr\\u003eftype=from_json_details\\u003cbr\\u003ecmp_model=Meta-Llama-3.1-70B\\u003cbr\\u003edesc_model=%{x}\\u003cbr\\u003ervalue=%{y}\\u003cextra\\u003e\\u003c\\u002fextra\\u003e\",\"legendgroup\":\"human\",\"marker\":{\"color\":\"#636efa\",\"pattern\":{\"shape\":\"\"}},\"name\":\"human\",\"offsetgroup\":\"human\",\"orientation\":\"v\",\"showlegend\":true,\"textposition\":\"auto\",\"x\":[\"Mixtral-8x22B\",\"Qwen2.5-7B\",\"Meta-Llama-3.1-70B\"],\"xaxis\":\"x7\",\"y\":[90,69,79],\"yaxis\":\"y7\",\"type\":\"bar\"},{\"alignmentgroup\":\"True\",\"hovertemplate\":\"rtype=human\\u003cbr\\u003eftype=from_json_details\\u003cbr\\u003ecmp_model=Mixtral-8x22B\\u003cbr\\u003edesc_model=%{x}\\u003cbr\\u003ervalue=%{y}\\u003cextra\\u003e\\u003c\\u002fextra\\u003e\",\"legendgroup\":\"human\",\"marker\":{\"color\":\"#636efa\",\"pattern\":{\"shape\":\"\"}},\"name\":\"human\",\"offsetgroup\":\"human\",\"orientation\":\"v\",\"showlegend\":false,\"textposition\":\"auto\",\"x\":[\"Mixtral-8x22B\",\"Qwen2.5-7B\",\"Meta-Llama-3.1-70B\"],\"xaxis\":\"x8\",\"y\":[52,7,20],\"yaxis\":\"y8\",\"type\":\"bar\"},{\"alignmentgroup\":\"True\",\"hovertemplate\":\"rtype=human\\u003cbr\\u003eftype=from_json_details\\u003cbr\\u003ecmp_model=Qwen2.5-72B\\u003cbr\\u003edesc_model=%{x}\\u003cbr\\u003ervalue=%{y}\\u003cextra\\u003e\\u003c\\u002fextra\\u003e\",\"legendgroup\":\"human\",\"marker\":{\"color\":\"#636efa\",\"pattern\":{\"shape\":\"\"}},\"name\":\"human\",\"offsetgroup\":\"human\",\"orientation\":\"v\",\"showlegend\":false,\"textposition\":\"auto\",\"x\":[\"Mixtral-8x22B\",\"Qwen2.5-7B\",\"Meta-Llama-3.1-70B\"],\"xaxis\":\"x9\",\"y\":[88,38,60],\"yaxis\":\"y9\",\"type\":\"bar\"},{\"alignmentgroup\":\"True\",\"hovertemplate\":\"rtype=human\\u003cbr\\u003eftype=from_json_details\\u003cbr\\u003ecmp_model=gpt-3.5-turbo\\u003cbr\\u003edesc_model=%{x}\\u003cbr\\u003ervalue=%{y}\\u003cextra\\u003e\\u003c\\u002fextra\\u003e\",\"legendgroup\":\"human\",\"marker\":{\"color\":\"#636efa\",\"pattern\":{\"shape\":\"\"}},\"name\":\"human\",\"offsetgroup\":\"human\",\"orientation\":\"v\",\"showlegend\":false,\"textposition\":\"auto\",\"x\":[\"Mixtral-8x22B\",\"Qwen2.5-7B\",\"Meta-Llama-3.1-70B\"],\"xaxis\":\"x10\",\"y\":[82,11,26],\"yaxis\":\"y10\",\"type\":\"bar\"},{\"alignmentgroup\":\"True\",\"hovertemplate\":\"rtype=human\\u003cbr\\u003eftype=from_json_details\\u003cbr\\u003ecmp_model=gpt-4-1106\\u003cbr\\u003edesc_model=%{x}\\u003cbr\\u003ervalue=%{y}\\u003cextra\\u003e\\u003c\\u002fextra\\u003e\",\"legendgroup\":\"human\",\"marker\":{\"color\":\"#636efa\",\"pattern\":{\"shape\":\"\"}},\"name\":\"human\",\"offsetgroup\":\"human\",\"orientation\":\"v\",\"showlegend\":false,\"textposition\":\"auto\",\"x\":[\"Mixtral-8x22B\",\"Qwen2.5-7B\",\"Meta-Llama-3.1-70B\"],\"xaxis\":\"x11\",\"y\":[80,34,45],\"yaxis\":\"y11\",\"type\":\"bar\"},{\"alignmentgroup\":\"True\",\"hovertemplate\":\"rtype=human\\u003cbr\\u003eftype=from_json_details\\u003cbr\\u003ecmp_model=Qwen2.5-7B\\u003cbr\\u003edesc_model=%{x}\\u003cbr\\u003ervalue=%{y}\\u003cextra\\u003e\\u003c\\u002fextra\\u003e\",\"legendgroup\":\"human\",\"marker\":{\"color\":\"#636efa\",\"pattern\":{\"shape\":\"\"}},\"name\":\"human\",\"offsetgroup\":\"human\",\"orientation\":\"v\",\"showlegend\":false,\"textposition\":\"auto\",\"x\":[\"Mixtral-8x22B\",\"Qwen2.5-7B\",\"Meta-Llama-3.1-70B\"],\"xaxis\":\"x12\",\"y\":[102,63,76],\"yaxis\":\"y12\",\"type\":\"bar\"},{\"alignmentgroup\":\"True\",\"hovertemplate\":\"rtype=human\\u003cbr\\u003eftype=from_json_product_listing\\u003cbr\\u003ecmp_model=Meta-Llama-3.1-70B\\u003cbr\\u003edesc_model=%{x}\\u003cbr\\u003ervalue=%{y}\\u003cextra\\u003e\\u003c\\u002fextra\\u003e\",\"legendgroup\":\"human\",\"marker\":{\"color\":\"#636efa\",\"pattern\":{\"shape\":\"\"}},\"name\":\"human\",\"offsetgroup\":\"human\",\"orientation\":\"v\",\"showlegend\":false,\"textposition\":\"auto\",\"x\":[\"Mixtral-8x22B\",\"Qwen2.5-7B\",\"Meta-Llama-3.1-70B\"],\"xaxis\":\"x\",\"y\":[94,88,85],\"yaxis\":\"y\",\"type\":\"bar\"},{\"alignmentgroup\":\"True\",\"hovertemplate\":\"rtype=human\\u003cbr\\u003eftype=from_json_product_listing\\u003cbr\\u003ecmp_model=Mixtral-8x22B\\u003cbr\\u003edesc_model=%{x}\\u003cbr\\u003ervalue=%{y}\\u003cextra\\u003e\\u003c\\u002fextra\\u003e\",\"legendgroup\":\"human\",\"marker\":{\"color\":\"#636efa\",\"pattern\":{\"shape\":\"\"}},\"name\":\"human\",\"offsetgroup\":\"human\",\"orientation\":\"v\",\"showlegend\":false,\"textposition\":\"auto\",\"x\":[\"Mixtral-8x22B\",\"Qwen2.5-7B\",\"Meta-Llama-3.1-70B\"],\"xaxis\":\"x2\",\"y\":[65,33,25],\"yaxis\":\"y2\",\"type\":\"bar\"},{\"alignmentgroup\":\"True\",\"hovertemplate\":\"rtype=human\\u003cbr\\u003eftype=from_json_product_listing\\u003cbr\\u003ecmp_model=Qwen2.5-72B\\u003cbr\\u003edesc_model=%{x}\\u003cbr\\u003ervalue=%{y}\\u003cextra\\u003e\\u003c\\u002fextra\\u003e\",\"legendgroup\":\"human\",\"marker\":{\"color\":\"#636efa\",\"pattern\":{\"shape\":\"\"}},\"name\":\"human\",\"offsetgroup\":\"human\",\"orientation\":\"v\",\"showlegend\":false,\"textposition\":\"auto\",\"x\":[\"Mixtral-8x22B\",\"Qwen2.5-7B\",\"Meta-Llama-3.1-70B\"],\"xaxis\":\"x3\",\"y\":[105,63,65],\"yaxis\":\"y3\",\"type\":\"bar\"},{\"alignmentgroup\":\"True\",\"hovertemplate\":\"rtype=human\\u003cbr\\u003eftype=from_json_product_listing\\u003cbr\\u003ecmp_model=gpt-3.5-turbo\\u003cbr\\u003edesc_model=%{x}\\u003cbr\\u003ervalue=%{y}\\u003cextra\\u003e\\u003c\\u002fextra\\u003e\",\"legendgroup\":\"human\",\"marker\":{\"color\":\"#636efa\",\"pattern\":{\"shape\":\"\"}},\"name\":\"human\",\"offsetgroup\":\"human\",\"orientation\":\"v\",\"showlegend\":false,\"textposition\":\"auto\",\"x\":[\"Mixtral-8x22B\",\"Qwen2.5-7B\",\"Meta-Llama-3.1-70B\"],\"xaxis\":\"x4\",\"y\":[84,32,38],\"yaxis\":\"y4\",\"type\":\"bar\"},{\"alignmentgroup\":\"True\",\"hovertemplate\":\"rtype=human\\u003cbr\\u003eftype=from_json_product_listing\\u003cbr\\u003ecmp_model=gpt-4-1106\\u003cbr\\u003edesc_model=%{x}\\u003cbr\\u003ervalue=%{y}\\u003cextra\\u003e\\u003c\\u002fextra\\u003e\",\"legendgroup\":\"human\",\"marker\":{\"color\":\"#636efa\",\"pattern\":{\"shape\":\"\"}},\"name\":\"human\",\"offsetgroup\":\"human\",\"orientation\":\"v\",\"showlegend\":false,\"textposition\":\"auto\",\"x\":[\"Mixtral-8x22B\",\"Qwen2.5-7B\",\"Meta-Llama-3.1-70B\"],\"xaxis\":\"x5\",\"y\":[91,53,53],\"yaxis\":\"y5\",\"type\":\"bar\"},{\"alignmentgroup\":\"True\",\"hovertemplate\":\"rtype=human\\u003cbr\\u003eftype=from_json_product_listing\\u003cbr\\u003ecmp_model=Qwen2.5-7B\\u003cbr\\u003edesc_model=%{x}\\u003cbr\\u003ervalue=%{y}\\u003cextra\\u003e\\u003c\\u002fextra\\u003e\",\"legendgroup\":\"human\",\"marker\":{\"color\":\"#636efa\",\"pattern\":{\"shape\":\"\"}},\"name\":\"human\",\"offsetgroup\":\"human\",\"orientation\":\"v\",\"showlegend\":false,\"textposition\":\"auto\",\"x\":[\"Mixtral-8x22B\",\"Qwen2.5-7B\",\"Meta-Llama-3.1-70B\"],\"xaxis\":\"x6\",\"y\":[102,86,73],\"yaxis\":\"y6\",\"type\":\"bar\"},{\"alignmentgroup\":\"True\",\"hovertemplate\":\"rtype=llm\\u003cbr\\u003eftype=from_json_details\\u003cbr\\u003ecmp_model=Meta-Llama-3.1-70B\\u003cbr\\u003edesc_model=%{x}\\u003cbr\\u003ervalue=%{y}\\u003cextra\\u003e\\u003c\\u002fextra\\u003e\",\"legendgroup\":\"llm\",\"marker\":{\"color\":\"#EF553B\",\"pattern\":{\"shape\":\"\"}},\"name\":\"llm\",\"offsetgroup\":\"llm\",\"orientation\":\"v\",\"showlegend\":true,\"textposition\":\"auto\",\"x\":[\"Mixtral-8x22B\",\"Qwen2.5-7B\",\"Meta-Llama-3.1-70B\"],\"xaxis\":\"x7\",\"y\":[130,151,141],\"yaxis\":\"y7\",\"type\":\"bar\"},{\"alignmentgroup\":\"True\",\"hovertemplate\":\"rtype=llm\\u003cbr\\u003eftype=from_json_details\\u003cbr\\u003ecmp_model=Mixtral-8x22B\\u003cbr\\u003edesc_model=%{x}\\u003cbr\\u003ervalue=%{y}\\u003cextra\\u003e\\u003c\\u002fextra\\u003e\",\"legendgroup\":\"llm\",\"marker\":{\"color\":\"#EF553B\",\"pattern\":{\"shape\":\"\"}},\"name\":\"llm\",\"offsetgroup\":\"llm\",\"orientation\":\"v\",\"showlegend\":false,\"textposition\":\"auto\",\"x\":[\"Mixtral-8x22B\",\"Qwen2.5-7B\",\"Meta-Llama-3.1-70B\"],\"xaxis\":\"x8\",\"y\":[168,213,200],\"yaxis\":\"y8\",\"type\":\"bar\"},{\"alignmentgroup\":\"True\",\"hovertemplate\":\"rtype=llm\\u003cbr\\u003eftype=from_json_details\\u003cbr\\u003ecmp_model=Qwen2.5-72B\\u003cbr\\u003edesc_model=%{x}\\u003cbr\\u003ervalue=%{y}\\u003cextra\\u003e\\u003c\\u002fextra\\u003e\",\"legendgroup\":\"llm\",\"marker\":{\"color\":\"#EF553B\",\"pattern\":{\"shape\":\"\"}},\"name\":\"llm\",\"offsetgroup\":\"llm\",\"orientation\":\"v\",\"showlegend\":false,\"textposition\":\"auto\",\"x\":[\"Mixtral-8x22B\",\"Qwen2.5-7B\",\"Meta-Llama-3.1-70B\"],\"xaxis\":\"x9\",\"y\":[132,182,160],\"yaxis\":\"y9\",\"type\":\"bar\"},{\"alignmentgroup\":\"True\",\"hovertemplate\":\"rtype=llm\\u003cbr\\u003eftype=from_json_details\\u003cbr\\u003ecmp_model=gpt-3.5-turbo\\u003cbr\\u003edesc_model=%{x}\\u003cbr\\u003ervalue=%{y}\\u003cextra\\u003e\\u003c\\u002fextra\\u003e\",\"legendgroup\":\"llm\",\"marker\":{\"color\":\"#EF553B\",\"pattern\":{\"shape\":\"\"}},\"name\":\"llm\",\"offsetgroup\":\"llm\",\"orientation\":\"v\",\"showlegend\":false,\"textposition\":\"auto\",\"x\":[\"Mixtral-8x22B\",\"Qwen2.5-7B\",\"Meta-Llama-3.1-70B\"],\"xaxis\":\"x10\",\"y\":[138,209,194],\"yaxis\":\"y10\",\"type\":\"bar\"},{\"alignmentgroup\":\"True\",\"hovertemplate\":\"rtype=llm\\u003cbr\\u003eftype=from_json_details\\u003cbr\\u003ecmp_model=gpt-4-1106\\u003cbr\\u003edesc_model=%{x}\\u003cbr\\u003ervalue=%{y}\\u003cextra\\u003e\\u003c\\u002fextra\\u003e\",\"legendgroup\":\"llm\",\"marker\":{\"color\":\"#EF553B\",\"pattern\":{\"shape\":\"\"}},\"name\":\"llm\",\"offsetgroup\":\"llm\",\"orientation\":\"v\",\"showlegend\":false,\"textposition\":\"auto\",\"x\":[\"Mixtral-8x22B\",\"Qwen2.5-7B\",\"Meta-Llama-3.1-70B\"],\"xaxis\":\"x11\",\"y\":[140,186,175],\"yaxis\":\"y11\",\"type\":\"bar\"},{\"alignmentgroup\":\"True\",\"hovertemplate\":\"rtype=llm\\u003cbr\\u003eftype=from_json_details\\u003cbr\\u003ecmp_model=Qwen2.5-7B\\u003cbr\\u003edesc_model=%{x}\\u003cbr\\u003ervalue=%{y}\\u003cextra\\u003e\\u003c\\u002fextra\\u003e\",\"legendgroup\":\"llm\",\"marker\":{\"color\":\"#EF553B\",\"pattern\":{\"shape\":\"\"}},\"name\":\"llm\",\"offsetgroup\":\"llm\",\"orientation\":\"v\",\"showlegend\":false,\"textposition\":\"auto\",\"x\":[\"Mixtral-8x22B\",\"Qwen2.5-7B\",\"Meta-Llama-3.1-70B\"],\"xaxis\":\"x12\",\"y\":[118,157,144],\"yaxis\":\"y12\",\"type\":\"bar\"},{\"alignmentgroup\":\"True\",\"hovertemplate\":\"rtype=llm\\u003cbr\\u003eftype=from_json_product_listing\\u003cbr\\u003ecmp_model=Meta-Llama-3.1-70B\\u003cbr\\u003edesc_model=%{x}\\u003cbr\\u003ervalue=%{y}\\u003cextra\\u003e\\u003c\\u002fextra\\u003e\",\"legendgroup\":\"llm\",\"marker\":{\"color\":\"#EF553B\",\"pattern\":{\"shape\":\"\"}},\"name\":\"llm\",\"offsetgroup\":\"llm\",\"orientation\":\"v\",\"showlegend\":false,\"textposition\":\"auto\",\"x\":[\"Mixtral-8x22B\",\"Qwen2.5-7B\",\"Meta-Llama-3.1-70B\"],\"xaxis\":\"x\",\"y\":[126,132,135],\"yaxis\":\"y\",\"type\":\"bar\"},{\"alignmentgroup\":\"True\",\"hovertemplate\":\"rtype=llm\\u003cbr\\u003eftype=from_json_product_listing\\u003cbr\\u003ecmp_model=Mixtral-8x22B\\u003cbr\\u003edesc_model=%{x}\\u003cbr\\u003ervalue=%{y}\\u003cextra\\u003e\\u003c\\u002fextra\\u003e\",\"legendgroup\":\"llm\",\"marker\":{\"color\":\"#EF553B\",\"pattern\":{\"shape\":\"\"}},\"name\":\"llm\",\"offsetgroup\":\"llm\",\"orientation\":\"v\",\"showlegend\":false,\"textposition\":\"auto\",\"x\":[\"Mixtral-8x22B\",\"Qwen2.5-7B\",\"Meta-Llama-3.1-70B\"],\"xaxis\":\"x2\",\"y\":[155,187,195],\"yaxis\":\"y2\",\"type\":\"bar\"},{\"alignmentgroup\":\"True\",\"hovertemplate\":\"rtype=llm\\u003cbr\\u003eftype=from_json_product_listing\\u003cbr\\u003ecmp_model=Qwen2.5-72B\\u003cbr\\u003edesc_model=%{x}\\u003cbr\\u003ervalue=%{y}\\u003cextra\\u003e\\u003c\\u002fextra\\u003e\",\"legendgroup\":\"llm\",\"marker\":{\"color\":\"#EF553B\",\"pattern\":{\"shape\":\"\"}},\"name\":\"llm\",\"offsetgroup\":\"llm\",\"orientation\":\"v\",\"showlegend\":false,\"textposition\":\"auto\",\"x\":[\"Mixtral-8x22B\",\"Qwen2.5-7B\",\"Meta-Llama-3.1-70B\"],\"xaxis\":\"x3\",\"y\":[115,157,155],\"yaxis\":\"y3\",\"type\":\"bar\"},{\"alignmentgroup\":\"True\",\"hovertemplate\":\"rtype=llm\\u003cbr\\u003eftype=from_json_product_listing\\u003cbr\\u003ecmp_model=gpt-3.5-turbo\\u003cbr\\u003edesc_model=%{x}\\u003cbr\\u003ervalue=%{y}\\u003cextra\\u003e\\u003c\\u002fextra\\u003e\",\"legendgroup\":\"llm\",\"marker\":{\"color\":\"#EF553B\",\"pattern\":{\"shape\":\"\"}},\"name\":\"llm\",\"offsetgroup\":\"llm\",\"orientation\":\"v\",\"showlegend\":false,\"textposition\":\"auto\",\"x\":[\"Mixtral-8x22B\",\"Qwen2.5-7B\",\"Meta-Llama-3.1-70B\"],\"xaxis\":\"x4\",\"y\":[136,188,181],\"yaxis\":\"y4\",\"type\":\"bar\"},{\"alignmentgroup\":\"True\",\"hovertemplate\":\"rtype=llm\\u003cbr\\u003eftype=from_json_product_listing\\u003cbr\\u003ecmp_model=gpt-4-1106\\u003cbr\\u003edesc_model=%{x}\\u003cbr\\u003ervalue=%{y}\\u003cextra\\u003e\\u003c\\u002fextra\\u003e\",\"legendgroup\":\"llm\",\"marker\":{\"color\":\"#EF553B\",\"pattern\":{\"shape\":\"\"}},\"name\":\"llm\",\"offsetgroup\":\"llm\",\"orientation\":\"v\",\"showlegend\":false,\"textposition\":\"auto\",\"x\":[\"Mixtral-8x22B\",\"Qwen2.5-7B\",\"Meta-Llama-3.1-70B\"],\"xaxis\":\"x5\",\"y\":[129,163,167],\"yaxis\":\"y5\",\"type\":\"bar\"},{\"alignmentgroup\":\"True\",\"hovertemplate\":\"rtype=llm\\u003cbr\\u003eftype=from_json_product_listing\\u003cbr\\u003ecmp_model=Qwen2.5-7B\\u003cbr\\u003edesc_model=%{x}\\u003cbr\\u003ervalue=%{y}\\u003cextra\\u003e\\u003c\\u002fextra\\u003e\",\"legendgroup\":\"llm\",\"marker\":{\"color\":\"#EF553B\",\"pattern\":{\"shape\":\"\"}},\"name\":\"llm\",\"offsetgroup\":\"llm\",\"orientation\":\"v\",\"showlegend\":false,\"textposition\":\"auto\",\"x\":[\"Mixtral-8x22B\",\"Qwen2.5-7B\",\"Meta-Llama-3.1-70B\"],\"xaxis\":\"x6\",\"y\":[118,134,147],\"yaxis\":\"y6\",\"type\":\"bar\"},{\"alignmentgroup\":\"True\",\"hovertemplate\":\"rtype=invalid\\u003cbr\\u003eftype=from_json_details\\u003cbr\\u003ecmp_model=Meta-Llama-3.1-70B\\u003cbr\\u003edesc_model=%{x}\\u003cbr\\u003ervalue=%{y}\\u003cextra\\u003e\\u003c\\u002fextra\\u003e\",\"legendgroup\":\"invalid\",\"marker\":{\"color\":\"#00cc96\",\"pattern\":{\"shape\":\"\"}},\"name\":\"invalid\",\"offsetgroup\":\"invalid\",\"orientation\":\"v\",\"showlegend\":true,\"textposition\":\"auto\",\"x\":[\"Mixtral-8x22B\",\"Qwen2.5-7B\",\"Meta-Llama-3.1-70B\"],\"xaxis\":\"x7\",\"y\":[0,0,0],\"yaxis\":\"y7\",\"type\":\"bar\"},{\"alignmentgroup\":\"True\",\"hovertemplate\":\"rtype=invalid\\u003cbr\\u003eftype=from_json_details\\u003cbr\\u003ecmp_model=Mixtral-8x22B\\u003cbr\\u003edesc_model=%{x}\\u003cbr\\u003ervalue=%{y}\\u003cextra\\u003e\\u003c\\u002fextra\\u003e\",\"legendgroup\":\"invalid\",\"marker\":{\"color\":\"#00cc96\",\"pattern\":{\"shape\":\"\"}},\"name\":\"invalid\",\"offsetgroup\":\"invalid\",\"orientation\":\"v\",\"showlegend\":false,\"textposition\":\"auto\",\"x\":[\"Mixtral-8x22B\",\"Qwen2.5-7B\",\"Meta-Llama-3.1-70B\"],\"xaxis\":\"x8\",\"y\":[0,0,0],\"yaxis\":\"y8\",\"type\":\"bar\"},{\"alignmentgroup\":\"True\",\"hovertemplate\":\"rtype=invalid\\u003cbr\\u003eftype=from_json_details\\u003cbr\\u003ecmp_model=Qwen2.5-72B\\u003cbr\\u003edesc_model=%{x}\\u003cbr\\u003ervalue=%{y}\\u003cextra\\u003e\\u003c\\u002fextra\\u003e\",\"legendgroup\":\"invalid\",\"marker\":{\"color\":\"#00cc96\",\"pattern\":{\"shape\":\"\"}},\"name\":\"invalid\",\"offsetgroup\":\"invalid\",\"orientation\":\"v\",\"showlegend\":false,\"textposition\":\"auto\",\"x\":[\"Mixtral-8x22B\",\"Qwen2.5-7B\",\"Meta-Llama-3.1-70B\"],\"xaxis\":\"x9\",\"y\":[0,0,0],\"yaxis\":\"y9\",\"type\":\"bar\"},{\"alignmentgroup\":\"True\",\"hovertemplate\":\"rtype=invalid\\u003cbr\\u003eftype=from_json_details\\u003cbr\\u003ecmp_model=gpt-3.5-turbo\\u003cbr\\u003edesc_model=%{x}\\u003cbr\\u003ervalue=%{y}\\u003cextra\\u003e\\u003c\\u002fextra\\u003e\",\"legendgroup\":\"invalid\",\"marker\":{\"color\":\"#00cc96\",\"pattern\":{\"shape\":\"\"}},\"name\":\"invalid\",\"offsetgroup\":\"invalid\",\"orientation\":\"v\",\"showlegend\":false,\"textposition\":\"auto\",\"x\":[\"Mixtral-8x22B\",\"Qwen2.5-7B\",\"Meta-Llama-3.1-70B\"],\"xaxis\":\"x10\",\"y\":[0,0,0],\"yaxis\":\"y10\",\"type\":\"bar\"},{\"alignmentgroup\":\"True\",\"hovertemplate\":\"rtype=invalid\\u003cbr\\u003eftype=from_json_details\\u003cbr\\u003ecmp_model=gpt-4-1106\\u003cbr\\u003edesc_model=%{x}\\u003cbr\\u003ervalue=%{y}\\u003cextra\\u003e\\u003c\\u002fextra\\u003e\",\"legendgroup\":\"invalid\",\"marker\":{\"color\":\"#00cc96\",\"pattern\":{\"shape\":\"\"}},\"name\":\"invalid\",\"offsetgroup\":\"invalid\",\"orientation\":\"v\",\"showlegend\":false,\"textposition\":\"auto\",\"x\":[\"Mixtral-8x22B\",\"Qwen2.5-7B\",\"Meta-Llama-3.1-70B\"],\"xaxis\":\"x11\",\"y\":[0,0,0],\"yaxis\":\"y11\",\"type\":\"bar\"},{\"alignmentgroup\":\"True\",\"hovertemplate\":\"rtype=invalid\\u003cbr\\u003eftype=from_json_details\\u003cbr\\u003ecmp_model=Qwen2.5-7B\\u003cbr\\u003edesc_model=%{x}\\u003cbr\\u003ervalue=%{y}\\u003cextra\\u003e\\u003c\\u002fextra\\u003e\",\"legendgroup\":\"invalid\",\"marker\":{\"color\":\"#00cc96\",\"pattern\":{\"shape\":\"\"}},\"name\":\"invalid\",\"offsetgroup\":\"invalid\",\"orientation\":\"v\",\"showlegend\":false,\"textposition\":\"auto\",\"x\":[\"Mixtral-8x22B\",\"Qwen2.5-7B\",\"Meta-Llama-3.1-70B\"],\"xaxis\":\"x12\",\"y\":[0,0,0],\"yaxis\":\"y12\",\"type\":\"bar\"},{\"alignmentgroup\":\"True\",\"hovertemplate\":\"rtype=invalid\\u003cbr\\u003eftype=from_json_product_listing\\u003cbr\\u003ecmp_model=Meta-Llama-3.1-70B\\u003cbr\\u003edesc_model=%{x}\\u003cbr\\u003ervalue=%{y}\\u003cextra\\u003e\\u003c\\u002fextra\\u003e\",\"legendgroup\":\"invalid\",\"marker\":{\"color\":\"#00cc96\",\"pattern\":{\"shape\":\"\"}},\"name\":\"invalid\",\"offsetgroup\":\"invalid\",\"orientation\":\"v\",\"showlegend\":false,\"textposition\":\"auto\",\"x\":[\"Mixtral-8x22B\",\"Qwen2.5-7B\",\"Meta-Llama-3.1-70B\"],\"xaxis\":\"x\",\"y\":[0,0,0],\"yaxis\":\"y\",\"type\":\"bar\"},{\"alignmentgroup\":\"True\",\"hovertemplate\":\"rtype=invalid\\u003cbr\\u003eftype=from_json_product_listing\\u003cbr\\u003ecmp_model=Mixtral-8x22B\\u003cbr\\u003edesc_model=%{x}\\u003cbr\\u003ervalue=%{y}\\u003cextra\\u003e\\u003c\\u002fextra\\u003e\",\"legendgroup\":\"invalid\",\"marker\":{\"color\":\"#00cc96\",\"pattern\":{\"shape\":\"\"}},\"name\":\"invalid\",\"offsetgroup\":\"invalid\",\"orientation\":\"v\",\"showlegend\":false,\"textposition\":\"auto\",\"x\":[\"Mixtral-8x22B\",\"Qwen2.5-7B\",\"Meta-Llama-3.1-70B\"],\"xaxis\":\"x2\",\"y\":[0,0,0],\"yaxis\":\"y2\",\"type\":\"bar\"},{\"alignmentgroup\":\"True\",\"hovertemplate\":\"rtype=invalid\\u003cbr\\u003eftype=from_json_product_listing\\u003cbr\\u003ecmp_model=Qwen2.5-72B\\u003cbr\\u003edesc_model=%{x}\\u003cbr\\u003ervalue=%{y}\\u003cextra\\u003e\\u003c\\u002fextra\\u003e\",\"legendgroup\":\"invalid\",\"marker\":{\"color\":\"#00cc96\",\"pattern\":{\"shape\":\"\"}},\"name\":\"invalid\",\"offsetgroup\":\"invalid\",\"orientation\":\"v\",\"showlegend\":false,\"textposition\":\"auto\",\"x\":[\"Mixtral-8x22B\",\"Qwen2.5-7B\",\"Meta-Llama-3.1-70B\"],\"xaxis\":\"x3\",\"y\":[0,0,0],\"yaxis\":\"y3\",\"type\":\"bar\"},{\"alignmentgroup\":\"True\",\"hovertemplate\":\"rtype=invalid\\u003cbr\\u003eftype=from_json_product_listing\\u003cbr\\u003ecmp_model=gpt-3.5-turbo\\u003cbr\\u003edesc_model=%{x}\\u003cbr\\u003ervalue=%{y}\\u003cextra\\u003e\\u003c\\u002fextra\\u003e\",\"legendgroup\":\"invalid\",\"marker\":{\"color\":\"#00cc96\",\"pattern\":{\"shape\":\"\"}},\"name\":\"invalid\",\"offsetgroup\":\"invalid\",\"orientation\":\"v\",\"showlegend\":false,\"textposition\":\"auto\",\"x\":[\"Mixtral-8x22B\",\"Qwen2.5-7B\",\"Meta-Llama-3.1-70B\"],\"xaxis\":\"x4\",\"y\":[0,0,1],\"yaxis\":\"y4\",\"type\":\"bar\"},{\"alignmentgroup\":\"True\",\"hovertemplate\":\"rtype=invalid\\u003cbr\\u003eftype=from_json_product_listing\\u003cbr\\u003ecmp_model=gpt-4-1106\\u003cbr\\u003edesc_model=%{x}\\u003cbr\\u003ervalue=%{y}\\u003cextra\\u003e\\u003c\\u002fextra\\u003e\",\"legendgroup\":\"invalid\",\"marker\":{\"color\":\"#00cc96\",\"pattern\":{\"shape\":\"\"}},\"name\":\"invalid\",\"offsetgroup\":\"invalid\",\"orientation\":\"v\",\"showlegend\":false,\"textposition\":\"auto\",\"x\":[\"Mixtral-8x22B\",\"Qwen2.5-7B\",\"Meta-Llama-3.1-70B\"],\"xaxis\":\"x5\",\"y\":[0,4,0],\"yaxis\":\"y5\",\"type\":\"bar\"},{\"alignmentgroup\":\"True\",\"hovertemplate\":\"rtype=invalid\\u003cbr\\u003eftype=from_json_product_listing\\u003cbr\\u003ecmp_model=Qwen2.5-7B\\u003cbr\\u003edesc_model=%{x}\\u003cbr\\u003ervalue=%{y}\\u003cextra\\u003e\\u003c\\u002fextra\\u003e\",\"legendgroup\":\"invalid\",\"marker\":{\"color\":\"#00cc96\",\"pattern\":{\"shape\":\"\"}},\"name\":\"invalid\",\"offsetgroup\":\"invalid\",\"orientation\":\"v\",\"showlegend\":false,\"textposition\":\"auto\",\"x\":[\"Mixtral-8x22B\",\"Qwen2.5-7B\",\"Meta-Llama-3.1-70B\"],\"xaxis\":\"x6\",\"y\":[0,0,0],\"yaxis\":\"y6\",\"type\":\"bar\"}],                        {\"template\":{\"data\":{\"histogram2dcontour\":[{\"type\":\"histogram2dcontour\",\"colorbar\":{\"outlinewidth\":0,\"ticks\":\"\"},\"colorscale\":[[0.0,\"#0d0887\"],[0.1111111111111111,\"#46039f\"],[0.2222222222222222,\"#7201a8\"],[0.3333333333333333,\"#9c179e\"],[0.4444444444444444,\"#bd3786\"],[0.5555555555555556,\"#d8576b\"],[0.6666666666666666,\"#ed7953\"],[0.7777777777777778,\"#fb9f3a\"],[0.8888888888888888,\"#fdca26\"],[1.0,\"#f0f921\"]]}],\"choropleth\":[{\"type\":\"choropleth\",\"colorbar\":{\"outlinewidth\":0,\"ticks\":\"\"}}],\"histogram2d\":[{\"type\":\"histogram2d\",\"colorbar\":{\"outlinewidth\":0,\"ticks\":\"\"},\"colorscale\":[[0.0,\"#0d0887\"],[0.1111111111111111,\"#46039f\"],[0.2222222222222222,\"#7201a8\"],[0.3333333333333333,\"#9c179e\"],[0.4444444444444444,\"#bd3786\"],[0.5555555555555556,\"#d8576b\"],[0.6666666666666666,\"#ed7953\"],[0.7777777777777778,\"#fb9f3a\"],[0.8888888888888888,\"#fdca26\"],[1.0,\"#f0f921\"]]}],\"heatmap\":[{\"type\":\"heatmap\",\"colorbar\":{\"outlinewidth\":0,\"ticks\":\"\"},\"colorscale\":[[0.0,\"#0d0887\"],[0.1111111111111111,\"#46039f\"],[0.2222222222222222,\"#7201a8\"],[0.3333333333333333,\"#9c179e\"],[0.4444444444444444,\"#bd3786\"],[0.5555555555555556,\"#d8576b\"],[0.6666666666666666,\"#ed7953\"],[0.7777777777777778,\"#fb9f3a\"],[0.8888888888888888,\"#fdca26\"],[1.0,\"#f0f921\"]]}],\"heatmapgl\":[{\"type\":\"heatmapgl\",\"colorbar\":{\"outlinewidth\":0,\"ticks\":\"\"},\"colorscale\":[[0.0,\"#0d0887\"],[0.1111111111111111,\"#46039f\"],[0.2222222222222222,\"#7201a8\"],[0.3333333333333333,\"#9c179e\"],[0.4444444444444444,\"#bd3786\"],[0.5555555555555556,\"#d8576b\"],[0.6666666666666666,\"#ed7953\"],[0.7777777777777778,\"#fb9f3a\"],[0.8888888888888888,\"#fdca26\"],[1.0,\"#f0f921\"]]}],\"contourcarpet\":[{\"type\":\"contourcarpet\",\"colorbar\":{\"outlinewidth\":0,\"ticks\":\"\"}}],\"contour\":[{\"type\":\"contour\",\"colorbar\":{\"outlinewidth\":0,\"ticks\":\"\"},\"colorscale\":[[0.0,\"#0d0887\"],[0.1111111111111111,\"#46039f\"],[0.2222222222222222,\"#7201a8\"],[0.3333333333333333,\"#9c179e\"],[0.4444444444444444,\"#bd3786\"],[0.5555555555555556,\"#d8576b\"],[0.6666666666666666,\"#ed7953\"],[0.7777777777777778,\"#fb9f3a\"],[0.8888888888888888,\"#fdca26\"],[1.0,\"#f0f921\"]]}],\"surface\":[{\"type\":\"surface\",\"colorbar\":{\"outlinewidth\":0,\"ticks\":\"\"},\"colorscale\":[[0.0,\"#0d0887\"],[0.1111111111111111,\"#46039f\"],[0.2222222222222222,\"#7201a8\"],[0.3333333333333333,\"#9c179e\"],[0.4444444444444444,\"#bd3786\"],[0.5555555555555556,\"#d8576b\"],[0.6666666666666666,\"#ed7953\"],[0.7777777777777778,\"#fb9f3a\"],[0.8888888888888888,\"#fdca26\"],[1.0,\"#f0f921\"]]}],\"mesh3d\":[{\"type\":\"mesh3d\",\"colorbar\":{\"outlinewidth\":0,\"ticks\":\"\"}}],\"scatter\":[{\"fillpattern\":{\"fillmode\":\"overlay\",\"size\":10,\"solidity\":0.2},\"type\":\"scatter\"}],\"parcoords\":[{\"type\":\"parcoords\",\"line\":{\"colorbar\":{\"outlinewidth\":0,\"ticks\":\"\"}}}],\"scatterpolargl\":[{\"type\":\"scatterpolargl\",\"marker\":{\"colorbar\":{\"outlinewidth\":0,\"ticks\":\"\"}}}],\"bar\":[{\"error_x\":{\"color\":\"#2a3f5f\"},\"error_y\":{\"color\":\"#2a3f5f\"},\"marker\":{\"line\":{\"color\":\"#E5ECF6\",\"width\":0.5},\"pattern\":{\"fillmode\":\"overlay\",\"size\":10,\"solidity\":0.2}},\"type\":\"bar\"}],\"scattergeo\":[{\"type\":\"scattergeo\",\"marker\":{\"colorbar\":{\"outlinewidth\":0,\"ticks\":\"\"}}}],\"scatterpolar\":[{\"type\":\"scatterpolar\",\"marker\":{\"colorbar\":{\"outlinewidth\":0,\"ticks\":\"\"}}}],\"histogram\":[{\"marker\":{\"pattern\":{\"fillmode\":\"overlay\",\"size\":10,\"solidity\":0.2}},\"type\":\"histogram\"}],\"scattergl\":[{\"type\":\"scattergl\",\"marker\":{\"colorbar\":{\"outlinewidth\":0,\"ticks\":\"\"}}}],\"scatter3d\":[{\"type\":\"scatter3d\",\"line\":{\"colorbar\":{\"outlinewidth\":0,\"ticks\":\"\"}},\"marker\":{\"colorbar\":{\"outlinewidth\":0,\"ticks\":\"\"}}}],\"scattermapbox\":[{\"type\":\"scattermapbox\",\"marker\":{\"colorbar\":{\"outlinewidth\":0,\"ticks\":\"\"}}}],\"scatterternary\":[{\"type\":\"scatterternary\",\"marker\":{\"colorbar\":{\"outlinewidth\":0,\"ticks\":\"\"}}}],\"scattercarpet\":[{\"type\":\"scattercarpet\",\"marker\":{\"colorbar\":{\"outlinewidth\":0,\"ticks\":\"\"}}}],\"carpet\":[{\"aaxis\":{\"endlinecolor\":\"#2a3f5f\",\"gridcolor\":\"white\",\"linecolor\":\"white\",\"minorgridcolor\":\"white\",\"startlinecolor\":\"#2a3f5f\"},\"baxis\":{\"endlinecolor\":\"#2a3f5f\",\"gridcolor\":\"white\",\"linecolor\":\"white\",\"minorgridcolor\":\"white\",\"startlinecolor\":\"#2a3f5f\"},\"type\":\"carpet\"}],\"table\":[{\"cells\":{\"fill\":{\"color\":\"#EBF0F8\"},\"line\":{\"color\":\"white\"}},\"header\":{\"fill\":{\"color\":\"#C8D4E3\"},\"line\":{\"color\":\"white\"}},\"type\":\"table\"}],\"barpolar\":[{\"marker\":{\"line\":{\"color\":\"#E5ECF6\",\"width\":0.5},\"pattern\":{\"fillmode\":\"overlay\",\"size\":10,\"solidity\":0.2}},\"type\":\"barpolar\"}],\"pie\":[{\"automargin\":true,\"type\":\"pie\"}]},\"layout\":{\"autotypenumbers\":\"strict\",\"colorway\":[\"#636efa\",\"#EF553B\",\"#00cc96\",\"#ab63fa\",\"#FFA15A\",\"#19d3f3\",\"#FF6692\",\"#B6E880\",\"#FF97FF\",\"#FECB52\"],\"font\":{\"color\":\"#2a3f5f\"},\"hovermode\":\"closest\",\"hoverlabel\":{\"align\":\"left\"},\"paper_bgcolor\":\"white\",\"plot_bgcolor\":\"#E5ECF6\",\"polar\":{\"bgcolor\":\"#E5ECF6\",\"angularaxis\":{\"gridcolor\":\"white\",\"linecolor\":\"white\",\"ticks\":\"\"},\"radialaxis\":{\"gridcolor\":\"white\",\"linecolor\":\"white\",\"ticks\":\"\"}},\"ternary\":{\"bgcolor\":\"#E5ECF6\",\"aaxis\":{\"gridcolor\":\"white\",\"linecolor\":\"white\",\"ticks\":\"\"},\"baxis\":{\"gridcolor\":\"white\",\"linecolor\":\"white\",\"ticks\":\"\"},\"caxis\":{\"gridcolor\":\"white\",\"linecolor\":\"white\",\"ticks\":\"\"}},\"coloraxis\":{\"colorbar\":{\"outlinewidth\":0,\"ticks\":\"\"}},\"colorscale\":{\"sequential\":[[0.0,\"#0d0887\"],[0.1111111111111111,\"#46039f\"],[0.2222222222222222,\"#7201a8\"],[0.3333333333333333,\"#9c179e\"],[0.4444444444444444,\"#bd3786\"],[0.5555555555555556,\"#d8576b\"],[0.6666666666666666,\"#ed7953\"],[0.7777777777777778,\"#fb9f3a\"],[0.8888888888888888,\"#fdca26\"],[1.0,\"#f0f921\"]],\"sequentialminus\":[[0.0,\"#0d0887\"],[0.1111111111111111,\"#46039f\"],[0.2222222222222222,\"#7201a8\"],[0.3333333333333333,\"#9c179e\"],[0.4444444444444444,\"#bd3786\"],[0.5555555555555556,\"#d8576b\"],[0.6666666666666666,\"#ed7953\"],[0.7777777777777778,\"#fb9f3a\"],[0.8888888888888888,\"#fdca26\"],[1.0,\"#f0f921\"]],\"diverging\":[[0,\"#8e0152\"],[0.1,\"#c51b7d\"],[0.2,\"#de77ae\"],[0.3,\"#f1b6da\"],[0.4,\"#fde0ef\"],[0.5,\"#f7f7f7\"],[0.6,\"#e6f5d0\"],[0.7,\"#b8e186\"],[0.8,\"#7fbc41\"],[0.9,\"#4d9221\"],[1,\"#276419\"]]},\"xaxis\":{\"gridcolor\":\"white\",\"linecolor\":\"white\",\"ticks\":\"\",\"title\":{\"standoff\":15},\"zerolinecolor\":\"white\",\"automargin\":true,\"zerolinewidth\":2},\"yaxis\":{\"gridcolor\":\"white\",\"linecolor\":\"white\",\"ticks\":\"\",\"title\":{\"standoff\":15},\"zerolinecolor\":\"white\",\"automargin\":true,\"zerolinewidth\":2},\"scene\":{\"xaxis\":{\"backgroundcolor\":\"#E5ECF6\",\"gridcolor\":\"white\",\"linecolor\":\"white\",\"showbackground\":true,\"ticks\":\"\",\"zerolinecolor\":\"white\",\"gridwidth\":2},\"yaxis\":{\"backgroundcolor\":\"#E5ECF6\",\"gridcolor\":\"white\",\"linecolor\":\"white\",\"showbackground\":true,\"ticks\":\"\",\"zerolinecolor\":\"white\",\"gridwidth\":2},\"zaxis\":{\"backgroundcolor\":\"#E5ECF6\",\"gridcolor\":\"white\",\"linecolor\":\"white\",\"showbackground\":true,\"ticks\":\"\",\"zerolinecolor\":\"white\",\"gridwidth\":2}},\"shapedefaults\":{\"line\":{\"color\":\"#2a3f5f\"}},\"annotationdefaults\":{\"arrowcolor\":\"#2a3f5f\",\"arrowhead\":0,\"arrowwidth\":1},\"geo\":{\"bgcolor\":\"white\",\"landcolor\":\"#E5ECF6\",\"subunitcolor\":\"white\",\"showland\":true,\"showlakes\":true,\"lakecolor\":\"white\"},\"title\":{\"x\":0.05},\"mapbox\":{\"style\":\"light\"}}},\"xaxis\":{\"anchor\":\"y\",\"domain\":[0.0,0.14666666666666667],\"title\":{\"text\":\"desc_model\"}},\"yaxis\":{\"anchor\":\"x\",\"domain\":[0.0,0.485],\"title\":{\"text\":\"rvalue\"}},\"xaxis2\":{\"anchor\":\"y2\",\"domain\":[0.16666666666666666,0.31333333333333335],\"matches\":\"x\",\"title\":{\"text\":\"desc_model\"}},\"yaxis2\":{\"anchor\":\"x2\",\"domain\":[0.0,0.485],\"matches\":\"y\",\"showticklabels\":false},\"xaxis3\":{\"anchor\":\"y3\",\"domain\":[0.3333333333333333,0.48],\"matches\":\"x\",\"title\":{\"text\":\"desc_model\"}},\"yaxis3\":{\"anchor\":\"x3\",\"domain\":[0.0,0.485],\"matches\":\"y\",\"showticklabels\":false},\"xaxis4\":{\"anchor\":\"y4\",\"domain\":[0.5,0.6466666666666667],\"matches\":\"x\",\"title\":{\"text\":\"desc_model\"}},\"yaxis4\":{\"anchor\":\"x4\",\"domain\":[0.0,0.485],\"matches\":\"y\",\"showticklabels\":false},\"xaxis5\":{\"anchor\":\"y5\",\"domain\":[0.6666666666666666,0.8133333333333332],\"matches\":\"x\",\"title\":{\"text\":\"desc_model\"}},\"yaxis5\":{\"anchor\":\"x5\",\"domain\":[0.0,0.485],\"matches\":\"y\",\"showticklabels\":false},\"xaxis6\":{\"anchor\":\"y6\",\"domain\":[0.8333333333333334,0.98],\"matches\":\"x\",\"title\":{\"text\":\"desc_model\"}},\"yaxis6\":{\"anchor\":\"x6\",\"domain\":[0.0,0.485],\"matches\":\"y\",\"showticklabels\":false},\"xaxis7\":{\"anchor\":\"y7\",\"domain\":[0.0,0.14666666666666667],\"matches\":\"x\",\"showticklabels\":false},\"yaxis7\":{\"anchor\":\"x7\",\"domain\":[0.515,1.0],\"matches\":\"y\",\"title\":{\"text\":\"rvalue\"}},\"xaxis8\":{\"anchor\":\"y8\",\"domain\":[0.16666666666666666,0.31333333333333335],\"matches\":\"x\",\"showticklabels\":false},\"yaxis8\":{\"anchor\":\"x8\",\"domain\":[0.515,1.0],\"matches\":\"y\",\"showticklabels\":false},\"xaxis9\":{\"anchor\":\"y9\",\"domain\":[0.3333333333333333,0.48],\"matches\":\"x\",\"showticklabels\":false},\"yaxis9\":{\"anchor\":\"x9\",\"domain\":[0.515,1.0],\"matches\":\"y\",\"showticklabels\":false},\"xaxis10\":{\"anchor\":\"y10\",\"domain\":[0.5,0.6466666666666667],\"matches\":\"x\",\"showticklabels\":false},\"yaxis10\":{\"anchor\":\"x10\",\"domain\":[0.515,1.0],\"matches\":\"y\",\"showticklabels\":false},\"xaxis11\":{\"anchor\":\"y11\",\"domain\":[0.6666666666666666,0.8133333333333332],\"matches\":\"x\",\"showticklabels\":false},\"yaxis11\":{\"anchor\":\"x11\",\"domain\":[0.515,1.0],\"matches\":\"y\",\"showticklabels\":false},\"xaxis12\":{\"anchor\":\"y12\",\"domain\":[0.8333333333333334,0.98],\"matches\":\"x\",\"showticklabels\":false},\"yaxis12\":{\"anchor\":\"x12\",\"domain\":[0.515,1.0],\"matches\":\"y\",\"showticklabels\":false},\"annotations\":[{\"font\":{},\"showarrow\":false,\"text\":\"cmp_model=Meta-Llama-3.1-70B\",\"x\":0.07333333333333333,\"xanchor\":\"center\",\"xref\":\"paper\",\"y\":1.0,\"yanchor\":\"bottom\",\"yref\":\"paper\"},{\"font\":{},\"showarrow\":false,\"text\":\"cmp_model=Mixtral-8x22B\",\"x\":0.24,\"xanchor\":\"center\",\"xref\":\"paper\",\"y\":1.0,\"yanchor\":\"bottom\",\"yref\":\"paper\"},{\"font\":{},\"showarrow\":false,\"text\":\"cmp_model=Qwen2.5-72B\",\"x\":0.4066666666666666,\"xanchor\":\"center\",\"xref\":\"paper\",\"y\":1.0,\"yanchor\":\"bottom\",\"yref\":\"paper\"},{\"font\":{},\"showarrow\":false,\"text\":\"cmp_model=gpt-3.5-turbo\",\"x\":0.5733333333333334,\"xanchor\":\"center\",\"xref\":\"paper\",\"y\":1.0,\"yanchor\":\"bottom\",\"yref\":\"paper\"},{\"font\":{},\"showarrow\":false,\"text\":\"cmp_model=gpt-4-1106\",\"x\":0.74,\"xanchor\":\"center\",\"xref\":\"paper\",\"y\":1.0,\"yanchor\":\"bottom\",\"yref\":\"paper\"},{\"font\":{},\"showarrow\":false,\"text\":\"cmp_model=Qwen2.5-7B\",\"x\":0.9066666666666667,\"xanchor\":\"center\",\"xref\":\"paper\",\"y\":1.0,\"yanchor\":\"bottom\",\"yref\":\"paper\"},{\"font\":{},\"showarrow\":false,\"text\":\"ftype=from_json_product_listing\",\"textangle\":90,\"x\":0.98,\"xanchor\":\"left\",\"xref\":\"paper\",\"y\":0.2425,\"yanchor\":\"middle\",\"yref\":\"paper\"},{\"font\":{},\"showarrow\":false,\"text\":\"ftype=from_json_details\",\"textangle\":90,\"x\":0.98,\"xanchor\":\"left\",\"xref\":\"paper\",\"y\":0.7575000000000001,\"yanchor\":\"middle\",\"yref\":\"paper\"}],\"legend\":{\"title\":{\"text\":\"rtype\"},\"tracegroupgap\":0},\"margin\":{\"t\":60},\"barmode\":\"relative\",\"height\":750,\"plot_bgcolor\":\"rgba(0, 0, 0, 0)\"},                        {\"responsive\": true}                    ).then(function(){\n",
       "                            \n",
       "var gd = document.getElementById('002243e5-f6de-43c1-ac58-188c92efd227');\n",
       "var x = new MutationObserver(function (mutations, observer) {{\n",
       "        var display = window.getComputedStyle(gd).display;\n",
       "        if (!display || display === 'none') {{\n",
       "            console.log([gd, 'removed!']);\n",
       "            Plotly.purge(gd);\n",
       "            observer.disconnect();\n",
       "        }}\n",
       "}});\n",
       "\n",
       "// Listen for the removal of the full notebook cells\n",
       "var notebookContainer = gd.closest('#notebook-container');\n",
       "if (notebookContainer) {{\n",
       "    x.observe(notebookContainer, {childList: true});\n",
       "}}\n",
       "\n",
       "// Listen for the clearing of the current output cell\n",
       "var outputEl = gd.closest('.output');\n",
       "if (outputEl) {{\n",
       "    x.observe(outputEl, {childList: true});\n",
       "}}\n",
       "\n",
       "                        })                };                });            </script>        </div>"
      ]
     },
     "metadata": {},
     "output_type": "display_data"
    }
   ],
   "source": [
    "fig = px.bar(df, x=\"desc_model\", y=\"rvalue\", facet_col=\"cmp_model\", facet_row=\"ftype\", height=750, color=\"rtype\")\n",
    "fig.update_layout(\n",
    "    plot_bgcolor=\"rgba(0, 0, 0, 0)\",\n",
    ")\n",
    "# etype_order = {etype: i for i, etype in enumerate(df[\"cmp_model\"].unique())}\n",
    "# fig.update_xaxes(\n",
    "#     tickvals=list(etype_order.values()),\n",
    "#     ticktext=list(etype_order.keys()))"
   ]
  },
  {
   "cell_type": "code",
   "execution_count": null,
   "id": "c01cd357-01b2-4ab7-9568-c6032007118e",
   "metadata": {},
   "outputs": [],
   "source": []
  },
  {
   "cell_type": "code",
   "execution_count": 74,
   "id": "bd66d4cc-bd51-41dc-a1a3-fb7d74c8217e",
   "metadata": {},
   "outputs": [
    {
     "data": {
      "text/html": [
       "<div>\n",
       "<style scoped>\n",
       "    .dataframe tbody tr th:only-of-type {\n",
       "        vertical-align: middle;\n",
       "    }\n",
       "\n",
       "    .dataframe tbody tr th {\n",
       "        vertical-align: top;\n",
       "    }\n",
       "\n",
       "    .dataframe thead th {\n",
       "        text-align: right;\n",
       "    }\n",
       "</style>\n",
       "<table border=\"1\" class=\"dataframe\">\n",
       "  <thead>\n",
       "    <tr style=\"text-align: right;\">\n",
       "      <th>medal</th>\n",
       "      <th>nation</th>\n",
       "      <th>gold</th>\n",
       "      <th>silver</th>\n",
       "      <th>bronze</th>\n",
       "    </tr>\n",
       "  </thead>\n",
       "  <tbody>\n",
       "    <tr>\n",
       "      <th>0</th>\n",
       "      <td>South Korea</td>\n",
       "      <td>24</td>\n",
       "      <td>13</td>\n",
       "      <td>11</td>\n",
       "    </tr>\n",
       "    <tr>\n",
       "      <th>1</th>\n",
       "      <td>China</td>\n",
       "      <td>10</td>\n",
       "      <td>15</td>\n",
       "      <td>8</td>\n",
       "    </tr>\n",
       "    <tr>\n",
       "      <th>2</th>\n",
       "      <td>Canada</td>\n",
       "      <td>9</td>\n",
       "      <td>12</td>\n",
       "      <td>12</td>\n",
       "    </tr>\n",
       "  </tbody>\n",
       "</table>\n",
       "</div>"
      ],
      "text/plain": [
       "medal       nation  gold  silver  bronze\n",
       "0      South Korea    24      13      11\n",
       "1            China    10      15       8\n",
       "2           Canada     9      12      12"
      ]
     },
     "execution_count": 74,
     "metadata": {},
     "output_type": "execute_result"
    }
   ],
   "source": []
  },
  {
   "cell_type": "code",
   "execution_count": null,
   "id": "b6af9972-e623-464a-8b4f-64c9874c2237",
   "metadata": {},
   "outputs": [],
   "source": []
  },
  {
   "cell_type": "code",
   "execution_count": null,
   "id": "7741aa01-6e33-4125-bed2-3890df0c2e76",
   "metadata": {},
   "outputs": [],
   "source": []
  },
  {
   "cell_type": "code",
   "execution_count": null,
   "id": "9e031664-e842-4afc-95dd-81177e006a97",
   "metadata": {},
   "outputs": [],
   "source": []
  },
  {
   "cell_type": "code",
   "execution_count": null,
   "id": "f14f9755-d68e-42af-927c-bac19c1bd8a9",
   "metadata": {},
   "outputs": [],
   "source": []
  },
  {
   "cell_type": "code",
   "execution_count": null,
   "id": "0f1cc315-c523-44de-81cb-7ded0971333b",
   "metadata": {},
   "outputs": [],
   "source": []
  }
 ],
 "metadata": {
  "kernelspec": {
   "display_name": "Python 3 (ipykernel)",
   "language": "python",
   "name": "python3"
  },
  "language_info": {
   "codemirror_mode": {
    "name": "ipython",
    "version": 3
   },
   "file_extension": ".py",
   "mimetype": "text/x-python",
   "name": "python",
   "nbconvert_exporter": "python",
   "pygments_lexer": "ipython3",
   "version": "3.11.11"
  }
 },
 "nbformat": 4,
 "nbformat_minor": 5
}
