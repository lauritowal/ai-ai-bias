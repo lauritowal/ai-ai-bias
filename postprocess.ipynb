{
 "cells": [
  {
   "cell_type": "code",
   "execution_count": 1,
   "id": "2b46fa0f-c4f5-48cc-af91-570c07b0ee9e",
   "metadata": {},
   "outputs": [],
   "source": [
    "import json\n",
    "import pandas as pd\n",
    "import plotly.express as px\n",
    "import os\n",
    "import numpy as np\n",
    "import scipy.stats\n",
    "import re\n",
    "\n"
   ]
  },
  {
   "cell_type": "code",
   "execution_count": 2,
   "id": "f9bb60e9-abf7-4d60-ac3b-e3cc541dcbfb",
   "metadata": {},
   "outputs": [],
   "source": [
    "def read_file(path):\n",
    "    with open(path, \"r\") as f:\n",
    "        data = f.read()\n",
    "    return json.loads(data)[\"results\"]\n",
    "\n",
    "\n",
    "def short_name(name):\n",
    "    if name == \"gpt-3.5-turbo-1106\":\n",
    "        return \"gpt-3.5-turbo\"\n",
    "    if \"/\" in name:\n",
    "        name = name.split(\"/\")[1]\n",
    "    for k in [\"-Instruct\", \"-preview\"]:\n",
    "        if k in name:\n",
    "            name = name.split(k)[0]\n",
    "    return name.lower()\n",
    "\n",
    "def describe_df(df: pd.DataFrame, name=\"\", print_max=10):\n",
    "    print(f\"Dataframe {name} with {df.shape[0]} rows and {df.shape[1]} columns:\")\n",
    "    maxlen = max(len(c) for c in df.columns) + 2\n",
    "    for c in df.columns:\n",
    "        a = np.array(df[c].unique())\n",
    "        a.sort()\n",
    "        if len(a) < print_max:\n",
    "            print(f\"{(c+':').ljust(maxlen)} {a}\")\n",
    "        else:\n",
    "            print(f\"{(c+':').ljust(maxlen)} {a[:10]}[...] ({len(a)} unique values)\")\n"
   ]
  },
  {
   "cell_type": "code",
   "execution_count": 3,
   "id": "db2555c5-e781-42f3-9eed-37cee6f48b76",
   "metadata": {},
   "outputs": [],
   "source": []
  },
  {
   "cell_type": "code",
   "execution_count": 3,
   "id": "8c8efd81-0d10-4641-bebf-d4f0d4cf8756",
   "metadata": {},
   "outputs": [
    {
     "name": "stdout",
     "output_type": "stream",
     "text": [
      "DF2:\n",
      "size      is the number of VALID responses\n",
      "llm_count is the number of preferences for LLM-generated responses\n",
      "value     is the fraction preference for LLM-generated alternatives, out of VALID\n",
      "ci0, ci1  is the WIDTH of the 95% confidence interval LEFT and RIGHT of `value`\n",
      "p_value   is the p-value for the null hypothesis that the discriminator is indifferent (p0=0.5, either side)\n",
      "\n",
      "Dataframe df2 with 106 rows and 13 columns:\n",
      "desc_model:    ['gpt-3.5-turbo' 'gpt-4-1106' 'meta-llama-3.1-70b' 'mixtral-8x22b' 'qwen2.5-72b']\n",
      "cmp_model:     ['gpt-3.5-turbo' 'gpt-4-1106' 'humans' 'meta-llama-3.1-70b' 'mixtral-8x22b' 'qwen2.5-72b']\n",
      "name:          ['movie' 'paper' 'product']\n",
      "ftype:         ['from_json_details' 'from_json_product_listing' 'from_title_and_year' 'write_xml_paper_abstract_control_word_count']\n",
      "value:         [0.28 0.29 0.31 0.36 0.42 0.46 0.47 0.48 0.49 0.5 ][...] (100 unique values)\n",
      "size:          [ 75 152 154 163 166 167 170 172 173 174][...] (46 unique values)\n",
      "llm_count:     [ 23  36  62  78  81  86  93 101 103 104][...] (80 unique values)\n",
      "original_key:  ['movie---DESCRIPTION-from_title_and_year|gpt-3.5-turbo---COMPARISON-movie_pick_one|gpt-3.5-turbo'\n",
      " 'movie---DESCRIPTION-from_title_and_year|gpt-3.5-turbo---COMPARISON-movie_pick_one|gpt-4-1106-preview'\n",
      " 'movie---DESCRIPTION-from_title_and_year|gpt-3.5-turbo---COMPARISON-movie_pick_one|together-Qwen/Qwen2.5-72B-Instruct-Turbo'\n",
      " 'movie---DESCRIPTION-from_title_and_year|gpt-3.5-turbo---COMPARISON-movie_pick_one|together-meta-llama/Meta-Llama-3.1-70B-Instruct-Turbo'\n",
      " 'movie---DESCRIPTION-from_title_and_year|gpt-3.5-turbo---COMPARISON-movie_pick_one|together-mistralai/Mixtral-8x22B-Instruct-v0.1'\n",
      " 'movie---DESCRIPTION-from_title_and_year|gpt-4-1106-preview---COMPARISON-movie_pick_one|gpt-3.5-turbo'\n",
      " 'movie---DESCRIPTION-from_title_and_year|gpt-4-1106-preview---COMPARISON-movie_pick_one|gpt-4-1106-preview'\n",
      " 'movie---DESCRIPTION-from_title_and_year|gpt-4-1106-preview---COMPARISON-movie_pick_one|together-Qwen/Qwen2.5-72B-Instruct-Turbo'\n",
      " 'movie---DESCRIPTION-from_title_and_year|gpt-4-1106-preview---COMPARISON-movie_pick_one|together-meta-llama/Meta-Llama-3.1-70B-Instruct-Turbo'\n",
      " 'movie---DESCRIPTION-from_title_and_year|gpt-4-1106-preview---COMPARISON-movie_pick_one|together-mistralai/Mixtral-8x22B-Instruct-v0.1'][...] (106 unique values)\n",
      "ci0:           [0.02 0.03 0.03 0.03 0.03 0.04 0.04 0.04 0.04 0.04][...] (102 unique values)\n",
      "ci1:           [0.02 0.02 0.02 0.02 0.03 0.03 0.03 0.03 0.03 0.03][...] (102 unique values)\n",
      "p_value:       [4.98e-57 1.79e-55 1.48e-52 1.42e-48 3.52e-47 9.91e-43 1.06e-42 8.98e-40 1.57e-38 4.92e-37][...] (101 unique values)\n",
      "offset:        [-0.25 -0.17 -0.08  0.    0.08  0.17]\n",
      "title:         ['movie' 'paper' 'product/details' 'product/listing']\n",
      "\n",
      "Dataframe df with 318 rows and 6 columns:\n",
      "name:        ['movie' 'paper' 'product']\n",
      "ftype:       ['from_json_details' 'from_json_product_listing' 'from_title_and_year' 'write_xml_paper_abstract_control_word_count']\n",
      "desc_model:  ['gpt-3.5-turbo' 'gpt-4-1106' 'meta-llama-3.1-70b' 'mixtral-8x22b' 'qwen2.5-72b']\n",
      "cmp_model:   ['gpt-3.5-turbo' 'gpt-4-1106' 'humans' 'meta-llama-3.1-70b' 'mixtral-8x22b' 'qwen2.5-72b']\n",
      "rtype:       ['human' 'invalid' 'llm']\n",
      "rvalue:      [ 0  1  2  3  4  5  6  8  9 10][...] (168 unique values)\n",
      "\n"
     ]
    }
   ],
   "source": [
    "def load_and_process_files(file_paths):\n",
    "    all_results = {}\n",
    "    data = []\n",
    "    data2 = []\n",
    "    seen_keys = {}  # Track original keys and their source files\n",
    "\n",
    "    for file_path in file_paths:\n",
    "        with open(file_path) as f:\n",
    "            results = json.loads(f.read())\n",
    "\n",
    "        # Check for duplicate keys across files\n",
    "        overlap = set(results.keys()) & set(all_results.keys())\n",
    "        if overlap:\n",
    "            raise ValueError(f\"Duplicate keys found across files: {overlap}\")\n",
    "\n",
    "        all_results.update(results)\n",
    "\n",
    "    for key, value in all_results.items():\n",
    "        x = key.split(\"|\")\n",
    "        name, fromtype = x[0].split(\"---DESCRIPTION-\")\n",
    "        desc_model = x[1].split(\"---COMPARISON\")[0]\n",
    "        cmp_model = x[2]\n",
    "        values = value[\"total_tallies\"]\n",
    "        desc_model = short_name(desc_model)\n",
    "        desc_model = desc_model.replace(\"gpt3_5\", \"gpt-3.5-turbo\").replace(\"gpt4\", \"gpt-4-1106\")\n",
    "        cmp_model = short_name(cmp_model)\n",
    "\n",
    "        if cmp_model.startswith(\"Qwen1.5\"):\n",
    "            continue\n",
    "\n",
    "        row = (name, fromtype, desc_model, cmp_model)\n",
    "        data.append(row + (\"human\", values[\"Human\"]))\n",
    "        data.append(row + (\"llm\", values[\"LLM\"]))\n",
    "        data.append(row + (\"invalid\", values[\"Invalid\"]))\n",
    "\n",
    "        total = values[\"Human\"] + values[\"LLM\"]\n",
    "        if total > 0:\n",
    "            identifier = (desc_model, cmp_model, name, fromtype)\n",
    "            if identifier in seen_keys:\n",
    "                raise ValueError(\n",
    "                    f\"Duplicate combination found: {identifier}\\n\"\n",
    "                    f\"Key 1: {seen_keys[identifier]}\\n\"\n",
    "                    f\"Key 2: {key}\"\n",
    "                )\n",
    "            seen_keys[identifier] = key\n",
    "            data2.append(\n",
    "                (\n",
    "                    desc_model,\n",
    "                    cmp_model,\n",
    "                    name,\n",
    "                    fromtype,\n",
    "                    float(values[\"LLM\"]) / total,\n",
    "                    total,\n",
    "                    values[\"LLM\"],\n",
    "                    key,\n",
    "                )\n",
    "            )\n",
    "\n",
    "    df = pd.DataFrame(\n",
    "        data, columns=[\"name\", \"ftype\", \"desc_model\", \"cmp_model\", \"rtype\", \"rvalue\"]\n",
    "    )\n",
    "    df2 = pd.DataFrame(\n",
    "        data2,\n",
    "        columns=[\n",
    "            \"desc_model\",\n",
    "            \"cmp_model\",\n",
    "            \"name\",\n",
    "            \"ftype\",\n",
    "            \"value\",\n",
    "            \"size\",\n",
    "            \"llm_count\",\n",
    "            \"original_key\",\n",
    "        ],\n",
    "    )\n",
    "\n",
    "    return df, df2\n",
    "\n",
    "\n",
    "MERGED_FILES = [\"merged_run_outputs/merged_llms.json\", \"merged_run_outputs/merged_humans_product-only_totals.json\", \"merged_run_outputs/merged_humans_movies.json\"]\n",
    "df, df2 = load_and_process_files(MERGED_FILES)\n",
    "\n",
    "### Now there are some duplicities, we need to combine them: sum size and llm_count, recompute value as llm_count / size\n",
    "# df2 = df2.groupby([\"desc_model\", \"cmp_model\", \"name\", \"ftype\"]).agg({\"size\": \"sum\", \"llm_count\": \"sum\", \"value\": \"first\"}).reset_index()\n",
    "# df2[\"value\"] = df2[\"llm_count\"] / df2[\"size\"]\n",
    "\n",
    "\n",
    "def compute_ci_and_p_level(row, null_hypothesis=0.5):\n",
    "    alpha = row[\"llm_count\"]\n",
    "    beta = row[\"size\"] - row[\"llm_count\"]\n",
    "    a, b = scipy.stats.beta.interval(0.95, alpha, beta)\n",
    "    p_value = scipy.stats.binomtest(\n",
    "        row[\"llm_count\"], row[\"size\"], p=null_hypothesis, alternative=\"two-sided\"\n",
    "    ).pvalue\n",
    "    return row[\"value\"] - a, b - row[\"value\"], p_value\n",
    "\n",
    "\n",
    "df2[[\"ci0\", \"ci1\", \"p_value\"]] = df2.apply(\n",
    "    lambda x: compute_ci_and_p_level(x), axis=1, result_type=\"expand\"\n",
    ")\n",
    "\n",
    "OFFSET_NAMES = sorted(df2.cmp_model.unique())\n",
    "\n",
    "df2[\"offset\"] = df2.cmp_model.apply(\n",
    "    lambda x: (OFFSET_NAMES.index(x) - len(OFFSET_NAMES) / 2) / (len(OFFSET_NAMES) * 2)\n",
    ")\n",
    "\n",
    "\n",
    "def make_title(x):\n",
    "    if x[\"name\"] == \"product\":\n",
    "        if x[\"ftype\"] == \"from_json_details\":\n",
    "            return \"product/details\"\n",
    "        elif x[\"ftype\"] == \"from_json_product_listing\":\n",
    "            return \"product/listing\"\n",
    "        else:\n",
    "            return \"product/???\"\n",
    "    else:\n",
    "        return x[\"name\"]\n",
    "\n",
    "\n",
    "df2[\"title\"] = df2.apply(make_title, axis=1)\n",
    "\n",
    "with np.printoptions(linewidth=120, precision=2):\n",
    "    print(\"DF2:\")\n",
    "    print(\"size      is the number of VALID responses\")\n",
    "    print(\"llm_count is the number of preferences for LLM-generated responses\")\n",
    "    print(\n",
    "        \"value     is the fraction preference for LLM-generated alternatives, out of VALID\"\n",
    "    )\n",
    "    print(\n",
    "        \"ci0, ci1  is the WIDTH of the 95% confidence interval LEFT and RIGHT of `value`\"\n",
    "    )\n",
    "    print(\n",
    "        \"p_value   is the p-value for the null hypothesis that the discriminator is indifferent (p0=0.5, either side)\"\n",
    "    )\n",
    "    print()\n",
    "    describe_df(df2, \"df2\")\n",
    "    print()\n",
    "    describe_df(df, \"df\")\n",
    "    print()"
   ]
  },
  {
   "cell_type": "code",
   "execution_count": 4,
   "id": "0e14daf1",
   "metadata": {},
   "outputs": [
    {
     "name": "stdout",
     "output_type": "stream",
     "text": [
      "\n",
      "Pivot table showing value and p-value for task counts:\n"
     ]
    },
    {
     "data": {
      "text/html": [
       "<div>\n",
       "<style scoped>\n",
       "    .dataframe tbody tr th:only-of-type {\n",
       "        vertical-align: middle;\n",
       "    }\n",
       "\n",
       "    .dataframe tbody tr th {\n",
       "        vertical-align: top;\n",
       "    }\n",
       "\n",
       "    .dataframe thead tr th {\n",
       "        text-align: left;\n",
       "    }\n",
       "\n",
       "    .dataframe thead tr:last-of-type th {\n",
       "        text-align: right;\n",
       "    }\n",
       "</style>\n",
       "<table border=\"1\" class=\"dataframe\">\n",
       "  <thead>\n",
       "    <tr>\n",
       "      <th>desc_model</th>\n",
       "      <th colspan=\"4\" halign=\"left\">gpt-3.5-turbo</th>\n",
       "      <th colspan=\"4\" halign=\"left\">gpt-4-1106</th>\n",
       "      <th colspan=\"4\" halign=\"left\">meta-llama-3.1-70b</th>\n",
       "      <th colspan=\"4\" halign=\"left\">mixtral-8x22b</th>\n",
       "      <th colspan=\"4\" halign=\"left\">qwen2.5-72b</th>\n",
       "    </tr>\n",
       "    <tr>\n",
       "      <th>task</th>\n",
       "      <th>mov</th>\n",
       "      <th>p-d</th>\n",
       "      <th>p-pl</th>\n",
       "      <th>pap</th>\n",
       "      <th>mov</th>\n",
       "      <th>p-d</th>\n",
       "      <th>p-pl</th>\n",
       "      <th>pap</th>\n",
       "      <th>mov</th>\n",
       "      <th>p-d</th>\n",
       "      <th>p-pl</th>\n",
       "      <th>pap</th>\n",
       "      <th>mov</th>\n",
       "      <th>p-d</th>\n",
       "      <th>p-pl</th>\n",
       "      <th>pap</th>\n",
       "      <th>mov</th>\n",
       "      <th>p-d</th>\n",
       "      <th>p-pl</th>\n",
       "      <th>pap</th>\n",
       "    </tr>\n",
       "    <tr>\n",
       "      <th>cmp_model</th>\n",
       "      <th></th>\n",
       "      <th></th>\n",
       "      <th></th>\n",
       "      <th></th>\n",
       "      <th></th>\n",
       "      <th></th>\n",
       "      <th></th>\n",
       "      <th></th>\n",
       "      <th></th>\n",
       "      <th></th>\n",
       "      <th></th>\n",
       "      <th></th>\n",
       "      <th></th>\n",
       "      <th></th>\n",
       "      <th></th>\n",
       "      <th></th>\n",
       "      <th></th>\n",
       "      <th></th>\n",
       "      <th></th>\n",
       "      <th></th>\n",
       "    </tr>\n",
       "  </thead>\n",
       "  <tbody>\n",
       "    <tr>\n",
       "      <th>humans</th>\n",
       "      <td>0.480 (0.818)</td>\n",
       "      <td>0.280 (0.000)</td>\n",
       "      <td></td>\n",
       "      <td>0.462 (0.254)</td>\n",
       "      <td>0.307 (0.001)</td>\n",
       "      <td>0.290 (0.000)</td>\n",
       "      <td></td>\n",
       "      <td>0.601 (0.000)</td>\n",
       "      <td></td>\n",
       "      <td></td>\n",
       "      <td></td>\n",
       "      <td></td>\n",
       "      <td></td>\n",
       "      <td></td>\n",
       "      <td></td>\n",
       "      <td></td>\n",
       "      <td></td>\n",
       "      <td></td>\n",
       "      <td></td>\n",
       "      <td></td>\n",
       "    </tr>\n",
       "    <tr>\n",
       "      <th>gpt-3.5-turbo</th>\n",
       "      <td>0.665 (0.000)</td>\n",
       "      <td>0.714 (0.000)</td>\n",
       "      <td>0.642 (0.000)</td>\n",
       "      <td>0.520 (0.332)</td>\n",
       "      <td>0.701 (0.000)</td>\n",
       "      <td>0.928 (0.000)</td>\n",
       "      <td>0.882 (0.000)</td>\n",
       "      <td>0.692 (0.000)</td>\n",
       "      <td>0.656 (0.000)</td>\n",
       "      <td>0.882 (0.000)</td>\n",
       "      <td>0.826 (0.000)</td>\n",
       "      <td>0.506 (0.936)</td>\n",
       "      <td>0.746 (0.000)</td>\n",
       "      <td>0.627 (0.000)</td>\n",
       "      <td>0.618 (0.001)</td>\n",
       "      <td>0.526 (0.573)</td>\n",
       "      <td>0.602 (0.000)</td>\n",
       "      <td>0.949 (0.000)</td>\n",
       "      <td>0.917 (0.000)</td>\n",
       "      <td>0.528 (0.531)</td>\n",
       "    </tr>\n",
       "    <tr>\n",
       "      <th>gpt-4-1106</th>\n",
       "      <td>0.466 (0.140)</td>\n",
       "      <td>0.644 (0.000)</td>\n",
       "      <td>0.526 (0.491)</td>\n",
       "      <td>0.566 (0.123)</td>\n",
       "      <td>0.703 (0.000)</td>\n",
       "      <td>0.898 (0.000)</td>\n",
       "      <td>0.868 (0.000)</td>\n",
       "      <td>0.759 (0.000)</td>\n",
       "      <td>0.488 (0.622)</td>\n",
       "      <td>0.795 (0.000)</td>\n",
       "      <td>0.759 (0.000)</td>\n",
       "      <td>0.500 (1.000)</td>\n",
       "      <td>0.701 (0.000)</td>\n",
       "      <td>0.636 (0.000)</td>\n",
       "      <td>0.586 (0.012)</td>\n",
       "      <td>0.605 (0.008)</td>\n",
       "      <td>0.585 (0.000)</td>\n",
       "      <td>0.931 (0.000)</td>\n",
       "      <td>0.904 (0.000)</td>\n",
       "      <td>0.606 (0.007)</td>\n",
       "    </tr>\n",
       "    <tr>\n",
       "      <th>meta-llama-3.1-70b</th>\n",
       "      <td>0.538 (0.098)</td>\n",
       "      <td>0.555 (0.121)</td>\n",
       "      <td>0.550 (0.157)</td>\n",
       "      <td>0.627 (0.001)</td>\n",
       "      <td>0.736 (0.000)</td>\n",
       "      <td>0.768 (0.000)</td>\n",
       "      <td>0.668 (0.000)</td>\n",
       "      <td>0.831 (0.000)</td>\n",
       "      <td>0.554 (0.018)</td>\n",
       "      <td>0.641 (0.000)</td>\n",
       "      <td>0.614 (0.001)</td>\n",
       "      <td>0.559 (0.123)</td>\n",
       "      <td>0.708 (0.000)</td>\n",
       "      <td>0.591 (0.008)</td>\n",
       "      <td>0.573 (0.036)</td>\n",
       "      <td>0.629 (0.001)</td>\n",
       "      <td>0.663 (0.000)</td>\n",
       "      <td>0.749 (0.000)</td>\n",
       "      <td>0.734 (0.000)</td>\n",
       "      <td>0.654 (0.000)</td>\n",
       "    </tr>\n",
       "    <tr>\n",
       "      <th>mixtral-8x22b</th>\n",
       "      <td>0.693 (0.000)</td>\n",
       "      <td>0.759 (0.000)</td>\n",
       "      <td>0.623 (0.000)</td>\n",
       "      <td>0.706 (0.000)</td>\n",
       "      <td>0.724 (0.000)</td>\n",
       "      <td>0.950 (0.000)</td>\n",
       "      <td>0.964 (0.000)</td>\n",
       "      <td>0.803 (0.000)</td>\n",
       "      <td>0.646 (0.000)</td>\n",
       "      <td>0.909 (0.000)</td>\n",
       "      <td>0.886 (0.000)</td>\n",
       "      <td>0.577 (0.045)</td>\n",
       "      <td>0.755 (0.000)</td>\n",
       "      <td>0.764 (0.000)</td>\n",
       "      <td>0.705 (0.000)</td>\n",
       "      <td>0.636 (0.000)</td>\n",
       "      <td>0.664 (0.000)</td>\n",
       "      <td>0.977 (0.000)</td>\n",
       "      <td>0.973 (0.000)</td>\n",
       "      <td>0.610 (0.004)</td>\n",
       "    </tr>\n",
       "    <tr>\n",
       "      <th>qwen2.5-72b</th>\n",
       "      <td>0.359 (0.000)</td>\n",
       "      <td>0.627 (0.000)</td>\n",
       "      <td>0.550 (0.157)</td>\n",
       "      <td>0.488 (0.816)</td>\n",
       "      <td>0.612 (0.000)</td>\n",
       "      <td>0.891 (0.000)</td>\n",
       "      <td>0.877 (0.000)</td>\n",
       "      <td>0.777 (0.000)</td>\n",
       "      <td>0.420 (0.000)</td>\n",
       "      <td>0.727 (0.000)</td>\n",
       "      <td>0.705 (0.000)</td>\n",
       "      <td>0.500 (1.000)</td>\n",
       "      <td>0.695 (0.000)</td>\n",
       "      <td>0.600 (0.004)</td>\n",
       "      <td>0.523 (0.544)</td>\n",
       "      <td>0.565 (0.091)</td>\n",
       "      <td>0.694 (0.000)</td>\n",
       "      <td>0.927 (0.000)</td>\n",
       "      <td>0.850 (0.000)</td>\n",
       "      <td>0.589 (0.018)</td>\n",
       "    </tr>\n",
       "  </tbody>\n",
       "</table>\n",
       "</div>"
      ],
      "text/plain": [
       "desc_model          gpt-3.5-turbo                                \\\n",
       "task                          mov            p-d           p-pl   \n",
       "cmp_model                                                         \n",
       "humans              0.480 (0.818)  0.280 (0.000)                  \n",
       "gpt-3.5-turbo       0.665 (0.000)  0.714 (0.000)  0.642 (0.000)   \n",
       "gpt-4-1106          0.466 (0.140)  0.644 (0.000)  0.526 (0.491)   \n",
       "meta-llama-3.1-70b  0.538 (0.098)  0.555 (0.121)  0.550 (0.157)   \n",
       "mixtral-8x22b       0.693 (0.000)  0.759 (0.000)  0.623 (0.000)   \n",
       "qwen2.5-72b         0.359 (0.000)  0.627 (0.000)  0.550 (0.157)   \n",
       "\n",
       "desc_model                            gpt-4-1106                 \\\n",
       "task                          pap            mov            p-d   \n",
       "cmp_model                                                         \n",
       "humans              0.462 (0.254)  0.307 (0.001)  0.290 (0.000)   \n",
       "gpt-3.5-turbo       0.520 (0.332)  0.701 (0.000)  0.928 (0.000)   \n",
       "gpt-4-1106          0.566 (0.123)  0.703 (0.000)  0.898 (0.000)   \n",
       "meta-llama-3.1-70b  0.627 (0.001)  0.736 (0.000)  0.768 (0.000)   \n",
       "mixtral-8x22b       0.706 (0.000)  0.724 (0.000)  0.950 (0.000)   \n",
       "qwen2.5-72b         0.488 (0.816)  0.612 (0.000)  0.891 (0.000)   \n",
       "\n",
       "desc_model                                       meta-llama-3.1-70b  \\\n",
       "task                         p-pl            pap                mov   \n",
       "cmp_model                                                             \n",
       "humans                             0.601 (0.000)                      \n",
       "gpt-3.5-turbo       0.882 (0.000)  0.692 (0.000)      0.656 (0.000)   \n",
       "gpt-4-1106          0.868 (0.000)  0.759 (0.000)      0.488 (0.622)   \n",
       "meta-llama-3.1-70b  0.668 (0.000)  0.831 (0.000)      0.554 (0.018)   \n",
       "mixtral-8x22b       0.964 (0.000)  0.803 (0.000)      0.646 (0.000)   \n",
       "qwen2.5-72b         0.877 (0.000)  0.777 (0.000)      0.420 (0.000)   \n",
       "\n",
       "desc_model                                                       \\\n",
       "task                          p-d           p-pl            pap   \n",
       "cmp_model                                                         \n",
       "humans                                                            \n",
       "gpt-3.5-turbo       0.882 (0.000)  0.826 (0.000)  0.506 (0.936)   \n",
       "gpt-4-1106          0.795 (0.000)  0.759 (0.000)  0.500 (1.000)   \n",
       "meta-llama-3.1-70b  0.641 (0.000)  0.614 (0.001)  0.559 (0.123)   \n",
       "mixtral-8x22b       0.909 (0.000)  0.886 (0.000)  0.577 (0.045)   \n",
       "qwen2.5-72b         0.727 (0.000)  0.705 (0.000)  0.500 (1.000)   \n",
       "\n",
       "desc_model          mixtral-8x22b                                \\\n",
       "task                          mov            p-d           p-pl   \n",
       "cmp_model                                                         \n",
       "humans                                                            \n",
       "gpt-3.5-turbo       0.746 (0.000)  0.627 (0.000)  0.618 (0.001)   \n",
       "gpt-4-1106          0.701 (0.000)  0.636 (0.000)  0.586 (0.012)   \n",
       "meta-llama-3.1-70b  0.708 (0.000)  0.591 (0.008)  0.573 (0.036)   \n",
       "mixtral-8x22b       0.755 (0.000)  0.764 (0.000)  0.705 (0.000)   \n",
       "qwen2.5-72b         0.695 (0.000)  0.600 (0.004)  0.523 (0.544)   \n",
       "\n",
       "desc_model                           qwen2.5-72b                 \\\n",
       "task                          pap            mov            p-d   \n",
       "cmp_model                                                         \n",
       "humans                                                            \n",
       "gpt-3.5-turbo       0.526 (0.573)  0.602 (0.000)  0.949 (0.000)   \n",
       "gpt-4-1106          0.605 (0.008)  0.585 (0.000)  0.931 (0.000)   \n",
       "meta-llama-3.1-70b  0.629 (0.001)  0.663 (0.000)  0.749 (0.000)   \n",
       "mixtral-8x22b       0.636 (0.000)  0.664 (0.000)  0.977 (0.000)   \n",
       "qwen2.5-72b         0.565 (0.091)  0.694 (0.000)  0.927 (0.000)   \n",
       "\n",
       "desc_model                                        \n",
       "task                         p-pl            pap  \n",
       "cmp_model                                         \n",
       "humans                                            \n",
       "gpt-3.5-turbo       0.917 (0.000)  0.528 (0.531)  \n",
       "gpt-4-1106          0.904 (0.000)  0.606 (0.007)  \n",
       "meta-llama-3.1-70b  0.734 (0.000)  0.654 (0.000)  \n",
       "mixtral-8x22b       0.973 (0.000)  0.610 (0.004)  \n",
       "qwen2.5-72b         0.850 (0.000)  0.589 (0.018)  "
      ]
     },
     "metadata": {},
     "output_type": "display_data"
    },
    {
     "name": "stdout",
     "output_type": "stream",
     "text": [
      "\n",
      "Pivot table showing absolute counts (preference-for-llm of total valid):\n"
     ]
    },
    {
     "data": {
      "text/html": [
       "<div>\n",
       "<style scoped>\n",
       "    .dataframe tbody tr th:only-of-type {\n",
       "        vertical-align: middle;\n",
       "    }\n",
       "\n",
       "    .dataframe tbody tr th {\n",
       "        vertical-align: top;\n",
       "    }\n",
       "\n",
       "    .dataframe thead tr th {\n",
       "        text-align: left;\n",
       "    }\n",
       "\n",
       "    .dataframe thead tr:last-of-type th {\n",
       "        text-align: right;\n",
       "    }\n",
       "</style>\n",
       "<table border=\"1\" class=\"dataframe\">\n",
       "  <thead>\n",
       "    <tr>\n",
       "      <th>desc_model</th>\n",
       "      <th colspan=\"4\" halign=\"left\">gpt-3.5-turbo</th>\n",
       "      <th colspan=\"4\" halign=\"left\">gpt-4-1106</th>\n",
       "      <th colspan=\"4\" halign=\"left\">meta-llama-3.1-70b</th>\n",
       "      <th colspan=\"4\" halign=\"left\">mixtral-8x22b</th>\n",
       "      <th colspan=\"4\" halign=\"left\">qwen2.5-72b</th>\n",
       "    </tr>\n",
       "    <tr>\n",
       "      <th>task</th>\n",
       "      <th>mov</th>\n",
       "      <th>p-d</th>\n",
       "      <th>p-pl</th>\n",
       "      <th>pap</th>\n",
       "      <th>mov</th>\n",
       "      <th>p-d</th>\n",
       "      <th>p-pl</th>\n",
       "      <th>pap</th>\n",
       "      <th>mov</th>\n",
       "      <th>p-d</th>\n",
       "      <th>p-pl</th>\n",
       "      <th>pap</th>\n",
       "      <th>mov</th>\n",
       "      <th>p-d</th>\n",
       "      <th>p-pl</th>\n",
       "      <th>pap</th>\n",
       "      <th>mov</th>\n",
       "      <th>p-d</th>\n",
       "      <th>p-pl</th>\n",
       "      <th>pap</th>\n",
       "    </tr>\n",
       "    <tr>\n",
       "      <th>cmp_model</th>\n",
       "      <th></th>\n",
       "      <th></th>\n",
       "      <th></th>\n",
       "      <th></th>\n",
       "      <th></th>\n",
       "      <th></th>\n",
       "      <th></th>\n",
       "      <th></th>\n",
       "      <th></th>\n",
       "      <th></th>\n",
       "      <th></th>\n",
       "      <th></th>\n",
       "      <th></th>\n",
       "      <th></th>\n",
       "      <th></th>\n",
       "      <th></th>\n",
       "      <th></th>\n",
       "      <th></th>\n",
       "      <th></th>\n",
       "      <th></th>\n",
       "    </tr>\n",
       "  </thead>\n",
       "  <tbody>\n",
       "    <tr>\n",
       "      <th>humans</th>\n",
       "      <td>36 / 75</td>\n",
       "      <td>120 / 428</td>\n",
       "      <td></td>\n",
       "      <td>115 / 249</td>\n",
       "      <td>23 / 75</td>\n",
       "      <td>62 / 214</td>\n",
       "      <td></td>\n",
       "      <td>193 / 321</td>\n",
       "      <td></td>\n",
       "      <td></td>\n",
       "      <td></td>\n",
       "      <td></td>\n",
       "      <td></td>\n",
       "      <td></td>\n",
       "      <td></td>\n",
       "      <td></td>\n",
       "      <td></td>\n",
       "      <td></td>\n",
       "      <td></td>\n",
       "      <td></td>\n",
       "    </tr>\n",
       "    <tr>\n",
       "      <th>gpt-3.5-turbo</th>\n",
       "      <td>254 / 382</td>\n",
       "      <td>150 / 210</td>\n",
       "      <td>111 / 173</td>\n",
       "      <td>345 / 664</td>\n",
       "      <td>251 / 358</td>\n",
       "      <td>167 / 180</td>\n",
       "      <td>157 / 178</td>\n",
       "      <td>429 / 620</td>\n",
       "      <td>254 / 387</td>\n",
       "      <td>194 / 220</td>\n",
       "      <td>181 / 219</td>\n",
       "      <td>78 / 154</td>\n",
       "      <td>279 / 374</td>\n",
       "      <td>138 / 220</td>\n",
       "      <td>136 / 220</td>\n",
       "      <td>81 / 154</td>\n",
       "      <td>236 / 392</td>\n",
       "      <td>204 / 215</td>\n",
       "      <td>199 / 217</td>\n",
       "      <td>86 / 163</td>\n",
       "    </tr>\n",
       "    <tr>\n",
       "      <th>gpt-4-1106</th>\n",
       "      <td>233 / 500</td>\n",
       "      <td>141 / 219</td>\n",
       "      <td>111 / 211</td>\n",
       "      <td>86 / 152</td>\n",
       "      <td>345 / 491</td>\n",
       "      <td>194 / 216</td>\n",
       "      <td>190 / 219</td>\n",
       "      <td>132 / 174</td>\n",
       "      <td>243 / 498</td>\n",
       "      <td>175 / 220</td>\n",
       "      <td>167 / 220</td>\n",
       "      <td>86 / 172</td>\n",
       "      <td>349 / 498</td>\n",
       "      <td>140 / 220</td>\n",
       "      <td>129 / 220</td>\n",
       "      <td>101 / 167</td>\n",
       "      <td>290 / 496</td>\n",
       "      <td>201 / 216</td>\n",
       "      <td>197 / 218</td>\n",
       "      <td>103 / 170</td>\n",
       "    </tr>\n",
       "    <tr>\n",
       "      <th>meta-llama-3.1-70b</th>\n",
       "      <td>269 / 500</td>\n",
       "      <td>122 / 220</td>\n",
       "      <td>121 / 220</td>\n",
       "      <td>104 / 166</td>\n",
       "      <td>368 / 500</td>\n",
       "      <td>169 / 220</td>\n",
       "      <td>147 / 220</td>\n",
       "      <td>152 / 183</td>\n",
       "      <td>277 / 500</td>\n",
       "      <td>141 / 220</td>\n",
       "      <td>135 / 220</td>\n",
       "      <td>104 / 186</td>\n",
       "      <td>354 / 500</td>\n",
       "      <td>130 / 220</td>\n",
       "      <td>126 / 220</td>\n",
       "      <td>117 / 186</td>\n",
       "      <td>329 / 496</td>\n",
       "      <td>164 / 219</td>\n",
       "      <td>160 / 218</td>\n",
       "      <td>121 / 185</td>\n",
       "    </tr>\n",
       "    <tr>\n",
       "      <th>mixtral-8x22b</th>\n",
       "      <td>323 / 466</td>\n",
       "      <td>167 / 220</td>\n",
       "      <td>137 / 220</td>\n",
       "      <td>115 / 163</td>\n",
       "      <td>315 / 435</td>\n",
       "      <td>209 / 220</td>\n",
       "      <td>212 / 220</td>\n",
       "      <td>147 / 183</td>\n",
       "      <td>292 / 452</td>\n",
       "      <td>200 / 220</td>\n",
       "      <td>195 / 220</td>\n",
       "      <td>105 / 182</td>\n",
       "      <td>342 / 453</td>\n",
       "      <td>168 / 220</td>\n",
       "      <td>155 / 220</td>\n",
       "      <td>117 / 184</td>\n",
       "      <td>302 / 455</td>\n",
       "      <td>215 / 220</td>\n",
       "      <td>214 / 220</td>\n",
       "      <td>111 / 182</td>\n",
       "    </tr>\n",
       "    <tr>\n",
       "      <th>qwen2.5-72b</th>\n",
       "      <td>179 / 498</td>\n",
       "      <td>138 / 220</td>\n",
       "      <td>121 / 220</td>\n",
       "      <td>81 / 166</td>\n",
       "      <td>306 / 500</td>\n",
       "      <td>196 / 220</td>\n",
       "      <td>193 / 220</td>\n",
       "      <td>143 / 184</td>\n",
       "      <td>210 / 500</td>\n",
       "      <td>160 / 220</td>\n",
       "      <td>155 / 220</td>\n",
       "      <td>93 / 186</td>\n",
       "      <td>347 / 499</td>\n",
       "      <td>132 / 220</td>\n",
       "      <td>115 / 220</td>\n",
       "      <td>105 / 186</td>\n",
       "      <td>347 / 500</td>\n",
       "      <td>204 / 220</td>\n",
       "      <td>187 / 220</td>\n",
       "      <td>109 / 185</td>\n",
       "    </tr>\n",
       "  </tbody>\n",
       "</table>\n",
       "</div>"
      ],
      "text/plain": [
       "desc_model         gpt-3.5-turbo                                  gpt-4-1106  \\\n",
       "task                         mov        p-d       p-pl        pap        mov   \n",
       "cmp_model                                                                      \n",
       "humans                   36 / 75  120 / 428             115 / 249    23 / 75   \n",
       "gpt-3.5-turbo          254 / 382  150 / 210  111 / 173  345 / 664  251 / 358   \n",
       "gpt-4-1106             233 / 500  141 / 219  111 / 211   86 / 152  345 / 491   \n",
       "meta-llama-3.1-70b     269 / 500  122 / 220  121 / 220  104 / 166  368 / 500   \n",
       "mixtral-8x22b          323 / 466  167 / 220  137 / 220  115 / 163  315 / 435   \n",
       "qwen2.5-72b            179 / 498  138 / 220  121 / 220   81 / 166  306 / 500   \n",
       "\n",
       "desc_model                                          meta-llama-3.1-70b  \\\n",
       "task                      p-d       p-pl        pap                mov   \n",
       "cmp_model                                                                \n",
       "humans               62 / 214             193 / 321                      \n",
       "gpt-3.5-turbo       167 / 180  157 / 178  429 / 620          254 / 387   \n",
       "gpt-4-1106          194 / 216  190 / 219  132 / 174          243 / 498   \n",
       "meta-llama-3.1-70b  169 / 220  147 / 220  152 / 183          277 / 500   \n",
       "mixtral-8x22b       209 / 220  212 / 220  147 / 183          292 / 452   \n",
       "qwen2.5-72b         196 / 220  193 / 220  143 / 184          210 / 500   \n",
       "\n",
       "desc_model                                          mixtral-8x22b             \\\n",
       "task                      p-d       p-pl        pap           mov        p-d   \n",
       "cmp_model                                                                      \n",
       "humans                                                                         \n",
       "gpt-3.5-turbo       194 / 220  181 / 219   78 / 154     279 / 374  138 / 220   \n",
       "gpt-4-1106          175 / 220  167 / 220   86 / 172     349 / 498  140 / 220   \n",
       "meta-llama-3.1-70b  141 / 220  135 / 220  104 / 186     354 / 500  130 / 220   \n",
       "mixtral-8x22b       200 / 220  195 / 220  105 / 182     342 / 453  168 / 220   \n",
       "qwen2.5-72b         160 / 220  155 / 220   93 / 186     347 / 499  132 / 220   \n",
       "\n",
       "desc_model                               qwen2.5-72b                        \\\n",
       "task                     p-pl        pap         mov        p-d       p-pl   \n",
       "cmp_model                                                                    \n",
       "humans                                                                       \n",
       "gpt-3.5-turbo       136 / 220   81 / 154   236 / 392  204 / 215  199 / 217   \n",
       "gpt-4-1106          129 / 220  101 / 167   290 / 496  201 / 216  197 / 218   \n",
       "meta-llama-3.1-70b  126 / 220  117 / 186   329 / 496  164 / 219  160 / 218   \n",
       "mixtral-8x22b       155 / 220  117 / 184   302 / 455  215 / 220  214 / 220   \n",
       "qwen2.5-72b         115 / 220  105 / 186   347 / 500  204 / 220  187 / 220   \n",
       "\n",
       "desc_model                     \n",
       "task                      pap  \n",
       "cmp_model                      \n",
       "humans                         \n",
       "gpt-3.5-turbo        86 / 163  \n",
       "gpt-4-1106          103 / 170  \n",
       "meta-llama-3.1-70b  121 / 185  \n",
       "mixtral-8x22b       111 / 182  \n",
       "qwen2.5-72b         109 / 185  "
      ]
     },
     "metadata": {},
     "output_type": "display_data"
    }
   ],
   "source": [
    "# Create a pivot table with cmp_model as rows and desc_model as columns\n",
    "# First create a helper column combining name and ftype for products\n",
    "\n",
    "df2_table = df2.copy()\n",
    "df2_table['task'] = df2_table.apply(lambda x: \n",
    "    \"mov\" if x['name'] == 'movie' \n",
    "    else \"pap\" if x['name'] == 'paper'\n",
    "    else 'p-d' if (x['name'] == 'product' and x['ftype'] == 'from_json_details')\n",
    "    else 'p-pl' if (x['name'] == 'product' and x['ftype'] == 'from_json_product_listing')\n",
    "    else x['name'], axis=1)\n",
    "\n",
    "# Add formatted column combining value and p-value\n",
    "df2_table['formatted'] = df2_table.apply(lambda x: f\"{x['value']:.3f} ({x['p_value']:.3f})\", axis=1)\n",
    "df2_table['formatted2'] = df2_table.apply(lambda x: f\"{x['llm_count']} / {x['size']}\", axis=1)\n",
    "\n",
    "# Create pivot table\n",
    "pivot = pd.pivot_table(df2_table, \n",
    "                      values='formatted',\n",
    "                      index=['cmp_model'],\n",
    "                      columns=['desc_model', 'task'],\n",
    "                      aggfunc='sum',\n",
    "                      fill_value=\"\")\n",
    "# Sort pivot2 with custom key to put \"humans\" first\n",
    "pivot = pivot.reindex(sorted(pivot.index, key=lambda x: (\"\" if x == \"humans\" else x)))\n",
    "\n",
    "\n",
    "pivot2 = pd.pivot_table(df2_table,\n",
    "                      values='formatted2',\n",
    "                      index=['cmp_model'],\n",
    "                      columns=['desc_model', 'task'],\n",
    "                      aggfunc='sum',\n",
    "                      fill_value=\"\")\n",
    "# Sort pivot2 with custom key to put \"humans\" first\n",
    "pivot2 = pivot2.reindex(sorted(pivot2.index, key=lambda x: (\"\" if x == \"humans\" else x)))\n",
    "\n",
    "pd.set_option('display.max_rows', None, 'display.max_columns', None, 'display.precision', 3)\n",
    "\n",
    "print(\"\\nPivot table showing value and p-value for task counts:\")\n",
    "\n",
    "display(pivot)\n",
    "\n",
    "print(\"\\nPivot table showing absolute counts (preference-for-llm of total valid):\")\n",
    "\n",
    "display(pivot2)"
   ]
  },
  {
   "cell_type": "code",
   "execution_count": 5,
   "id": "72534668",
   "metadata": {},
   "outputs": [
    {
     "name": "stdout",
     "output_type": "stream",
     "text": [
      "\n",
      "\\definecolor{value-above}{rgb}{0.7,0.1,0.1}\n",
      "\\definecolor{value-below}{rgb}{0.1,0.1,0.7}\n",
      "\\definecolor{value-neutral}{rgb}{0.3,0.3,0.3}\n",
      "\n",
      "\\begin{tabular}{lp{1.0cm}p{1.0cm}p{1.0cm}p{1.0cm}p{1.0cm}p{1.0cm}p{1.0cm}p{1.0cm}p{1.0cm}p{1.0cm}}\n",
      "\\hline\n",
      "\\textbf{Generator} & \\multicolumn{2}{c}{gpt-3.5-turbo} & \\multicolumn{2}{c}{gpt-4-1106} & \\multicolumn{2}{c}{llama-3.1-70b} & \\multicolumn{2}{c}{mixtral-8x22b} & \\multicolumn{2}{c}{qwen2.5-72b} \\\\\n",
      "\\textbf{Task} & {\\centering movie} & {\\centering paper} & {\\centering movie} & {\\centering paper} & {\\centering movie} & {\\centering paper} & {\\centering movie} & {\\centering paper} & {\\centering movie} & {\\centering paper} \\\\\n",
      "\\\\[-2ex]\\hline\\\\[-2ex]\n",
      "\n",
      "\\textbf{humans} & \\textcolor{value-neutral}{\\makecell[l]{0.480\\\\{\\footnotesize\\ \\ (0.818)}}} & \\textcolor{value-neutral}{\\makecell[l]{0.462\\\\{\\footnotesize\\ \\ (0.254)}}} & \\textcolor{value-below}{\\makecell[l]{0.307\\\\{\\footnotesize\\ \\ (0.001)}}} & \\textcolor{value-above}{\\makecell[l]{0.601\\\\{\\footnotesize\\ \\ (0.000)}}} &  &  &  &  &  &  \\\\\n",
      "\\textbf{gpt-3.5-turbo} & \\textcolor{value-above}{\\makecell[l]{0.665\\\\{\\footnotesize\\ \\ (0.000)}}} & \\textcolor{value-neutral}{\\makecell[l]{0.520\\\\{\\footnotesize\\ \\ (0.332)}}} & \\textcolor{value-above}{\\makecell[l]{0.701\\\\{\\footnotesize\\ \\ (0.000)}}} & \\textcolor{value-above}{\\makecell[l]{0.692\\\\{\\footnotesize\\ \\ (0.000)}}} & \\textcolor{value-above}{\\makecell[l]{0.656\\\\{\\footnotesize\\ \\ (0.000)}}} & \\textcolor{value-neutral}{\\makecell[l]{0.506\\\\{\\footnotesize\\ \\ (0.936)}}} & \\textcolor{value-above}{\\makecell[l]{0.746\\\\{\\footnotesize\\ \\ (0.000)}}} & \\textcolor{value-neutral}{\\makecell[l]{0.526\\\\{\\footnotesize\\ \\ (0.573)}}} & \\textcolor{value-above}{\\makecell[l]{0.602\\\\{\\footnotesize\\ \\ (0.000)}}} & \\textcolor{value-neutral}{\\makecell[l]{0.528\\\\{\\footnotesize\\ \\ (0.531)}}} \\\\\n",
      "\\textbf{gpt-4-1106} & \\textcolor{value-neutral}{\\makecell[l]{0.466\\\\{\\footnotesize\\ \\ (0.140)}}} & \\textcolor{value-neutral}{\\makecell[l]{0.566\\\\{\\footnotesize\\ \\ (0.123)}}} & \\textcolor{value-above}{\\makecell[l]{0.703\\\\{\\footnotesize\\ \\ (0.000)}}} & \\textcolor{value-above}{\\makecell[l]{0.759\\\\{\\footnotesize\\ \\ (0.000)}}} & \\textcolor{value-neutral}{\\makecell[l]{0.488\\\\{\\footnotesize\\ \\ (0.622)}}} & \\textcolor{value-neutral}{\\makecell[l]{0.500\\\\{\\footnotesize\\ \\ (1.000)}}} & \\textcolor{value-above}{\\makecell[l]{0.701\\\\{\\footnotesize\\ \\ (0.000)}}} & \\textcolor{value-above}{\\makecell[l]{0.605\\\\{\\footnotesize\\ \\ (0.008)}}} & \\textcolor{value-above}{\\makecell[l]{0.585\\\\{\\footnotesize\\ \\ (0.000)}}} & \\textcolor{value-above}{\\makecell[l]{0.606\\\\{\\footnotesize\\ \\ (0.007)}}} \\\\\n",
      "\\textbf{llama-3.1-70b} & \\textcolor{value-neutral}{\\makecell[l]{0.538\\\\{\\footnotesize\\ \\ (0.098)}}} & \\textcolor{value-above}{\\makecell[l]{0.627\\\\{\\footnotesize\\ \\ (0.001)}}} & \\textcolor{value-above}{\\makecell[l]{0.736\\\\{\\footnotesize\\ \\ (0.000)}}} & \\textcolor{value-above}{\\makecell[l]{0.831\\\\{\\footnotesize\\ \\ (0.000)}}} & \\textcolor{value-above}{\\makecell[l]{0.554\\\\{\\footnotesize\\ \\ (0.018)}}} & \\textcolor{value-neutral}{\\makecell[l]{0.559\\\\{\\footnotesize\\ \\ (0.123)}}} & \\textcolor{value-above}{\\makecell[l]{0.708\\\\{\\footnotesize\\ \\ (0.000)}}} & \\textcolor{value-above}{\\makecell[l]{0.629\\\\{\\footnotesize\\ \\ (0.001)}}} & \\textcolor{value-above}{\\makecell[l]{0.663\\\\{\\footnotesize\\ \\ (0.000)}}} & \\textcolor{value-above}{\\makecell[l]{0.654\\\\{\\footnotesize\\ \\ (0.000)}}} \\\\\n",
      "\\textbf{mixtral-8x22b} & \\textcolor{value-above}{\\makecell[l]{0.693\\\\{\\footnotesize\\ \\ (0.000)}}} & \\textcolor{value-above}{\\makecell[l]{0.706\\\\{\\footnotesize\\ \\ (0.000)}}} & \\textcolor{value-above}{\\makecell[l]{0.724\\\\{\\footnotesize\\ \\ (0.000)}}} & \\textcolor{value-above}{\\makecell[l]{0.803\\\\{\\footnotesize\\ \\ (0.000)}}} & \\textcolor{value-above}{\\makecell[l]{0.646\\\\{\\footnotesize\\ \\ (0.000)}}} & \\textcolor{value-above}{\\makecell[l]{0.577\\\\{\\footnotesize\\ \\ (0.045)}}} & \\textcolor{value-above}{\\makecell[l]{0.755\\\\{\\footnotesize\\ \\ (0.000)}}} & \\textcolor{value-above}{\\makecell[l]{0.636\\\\{\\footnotesize\\ \\ (0.000)}}} & \\textcolor{value-above}{\\makecell[l]{0.664\\\\{\\footnotesize\\ \\ (0.000)}}} & \\textcolor{value-above}{\\makecell[l]{0.610\\\\{\\footnotesize\\ \\ (0.004)}}} \\\\\n",
      "\\textbf{qwen2.5-72b} & \\textcolor{value-below}{\\makecell[l]{0.359\\\\{\\footnotesize\\ \\ (0.000)}}} & \\textcolor{value-neutral}{\\makecell[l]{0.488\\\\{\\footnotesize\\ \\ (0.816)}}} & \\textcolor{value-above}{\\makecell[l]{0.612\\\\{\\footnotesize\\ \\ (0.000)}}} & \\textcolor{value-above}{\\makecell[l]{0.777\\\\{\\footnotesize\\ \\ (0.000)}}} & \\textcolor{value-below}{\\makecell[l]{0.420\\\\{\\footnotesize\\ \\ (0.000)}}} & \\textcolor{value-neutral}{\\makecell[l]{0.500\\\\{\\footnotesize\\ \\ (1.000)}}} & \\textcolor{value-above}{\\makecell[l]{0.695\\\\{\\footnotesize\\ \\ (0.000)}}} & \\textcolor{value-neutral}{\\makecell[l]{0.565\\\\{\\footnotesize\\ \\ (0.091)}}} & \\textcolor{value-above}{\\makecell[l]{0.694\\\\{\\footnotesize\\ \\ (0.000)}}} & \\textcolor{value-above}{\\makecell[l]{0.589\\\\{\\footnotesize\\ \\ (0.018)}}} \\\\\n",
      "\\hline\n",
      "\\end{tabular}\n",
      "\n",
      "\n",
      "\\begin{tabular}{lp{1.0cm}p{1.0cm}p{1.0cm}p{1.0cm}p{1.0cm}p{1.0cm}p{1.0cm}p{1.0cm}p{1.0cm}p{1.0cm}}\n",
      "\\hline\n",
      "\\textbf{Generator} & \\multicolumn{2}{c}{gpt-3.5-turbo} & \\multicolumn{2}{c}{gpt-4-1106} & \\multicolumn{2}{c}{llama-3.1-70b} & \\multicolumn{2}{c}{mixtral-8x22b} & \\multicolumn{2}{c}{qwen2.5-72b} \\\\\n",
      "\\textbf{Task} & {\\centering prod. details} & {\\centering prod. listing} & {\\centering prod. details} & {\\centering prod. listing} & {\\centering prod. details} & {\\centering prod. listing} & {\\centering prod. details} & {\\centering prod. listing} & {\\centering prod. details} & {\\centering prod. listing} \\\\\n",
      "\\\\[-2ex]\\hline\\\\[-2ex]\n",
      "\n",
      "\\textbf{humans} & \\textcolor{value-below}{\\makecell[l]{0.280\\\\{\\footnotesize\\ \\ (0.000)}}} &  & \\textcolor{value-below}{\\makecell[l]{0.290\\\\{\\footnotesize\\ \\ (0.000)}}} &  &  &  &  &  &  &  \\\\\n",
      "\\textbf{gpt-3.5-turbo} & \\textcolor{value-above}{\\makecell[l]{0.714\\\\{\\footnotesize\\ \\ (0.000)}}} & \\textcolor{value-above}{\\makecell[l]{0.642\\\\{\\footnotesize\\ \\ (0.000)}}} & \\textcolor{value-above}{\\makecell[l]{0.928\\\\{\\footnotesize\\ \\ (0.000)}}} & \\textcolor{value-above}{\\makecell[l]{0.882\\\\{\\footnotesize\\ \\ (0.000)}}} & \\textcolor{value-above}{\\makecell[l]{0.882\\\\{\\footnotesize\\ \\ (0.000)}}} & \\textcolor{value-above}{\\makecell[l]{0.826\\\\{\\footnotesize\\ \\ (0.000)}}} & \\textcolor{value-above}{\\makecell[l]{0.627\\\\{\\footnotesize\\ \\ (0.000)}}} & \\textcolor{value-above}{\\makecell[l]{0.618\\\\{\\footnotesize\\ \\ (0.001)}}} & \\textcolor{value-above}{\\makecell[l]{0.949\\\\{\\footnotesize\\ \\ (0.000)}}} & \\textcolor{value-above}{\\makecell[l]{0.917\\\\{\\footnotesize\\ \\ (0.000)}}} \\\\\n",
      "\\textbf{gpt-4-1106} & \\textcolor{value-above}{\\makecell[l]{0.644\\\\{\\footnotesize\\ \\ (0.000)}}} & \\textcolor{value-neutral}{\\makecell[l]{0.526\\\\{\\footnotesize\\ \\ (0.491)}}} & \\textcolor{value-above}{\\makecell[l]{0.898\\\\{\\footnotesize\\ \\ (0.000)}}} & \\textcolor{value-above}{\\makecell[l]{0.868\\\\{\\footnotesize\\ \\ (0.000)}}} & \\textcolor{value-above}{\\makecell[l]{0.795\\\\{\\footnotesize\\ \\ (0.000)}}} & \\textcolor{value-above}{\\makecell[l]{0.759\\\\{\\footnotesize\\ \\ (0.000)}}} & \\textcolor{value-above}{\\makecell[l]{0.636\\\\{\\footnotesize\\ \\ (0.000)}}} & \\textcolor{value-above}{\\makecell[l]{0.586\\\\{\\footnotesize\\ \\ (0.012)}}} & \\textcolor{value-above}{\\makecell[l]{0.931\\\\{\\footnotesize\\ \\ (0.000)}}} & \\textcolor{value-above}{\\makecell[l]{0.904\\\\{\\footnotesize\\ \\ (0.000)}}} \\\\\n",
      "\\textbf{llama-3.1-70b} & \\textcolor{value-neutral}{\\makecell[l]{0.555\\\\{\\footnotesize\\ \\ (0.121)}}} & \\textcolor{value-neutral}{\\makecell[l]{0.550\\\\{\\footnotesize\\ \\ (0.157)}}} & \\textcolor{value-above}{\\makecell[l]{0.768\\\\{\\footnotesize\\ \\ (0.000)}}} & \\textcolor{value-above}{\\makecell[l]{0.668\\\\{\\footnotesize\\ \\ (0.000)}}} & \\textcolor{value-above}{\\makecell[l]{0.641\\\\{\\footnotesize\\ \\ (0.000)}}} & \\textcolor{value-above}{\\makecell[l]{0.614\\\\{\\footnotesize\\ \\ (0.001)}}} & \\textcolor{value-above}{\\makecell[l]{0.591\\\\{\\footnotesize\\ \\ (0.008)}}} & \\textcolor{value-above}{\\makecell[l]{0.573\\\\{\\footnotesize\\ \\ (0.036)}}} & \\textcolor{value-above}{\\makecell[l]{0.749\\\\{\\footnotesize\\ \\ (0.000)}}} & \\textcolor{value-above}{\\makecell[l]{0.734\\\\{\\footnotesize\\ \\ (0.000)}}} \\\\\n",
      "\\textbf{mixtral-8x22b} & \\textcolor{value-above}{\\makecell[l]{0.759\\\\{\\footnotesize\\ \\ (0.000)}}} & \\textcolor{value-above}{\\makecell[l]{0.623\\\\{\\footnotesize\\ \\ (0.000)}}} & \\textcolor{value-above}{\\makecell[l]{0.950\\\\{\\footnotesize\\ \\ (0.000)}}} & \\textcolor{value-above}{\\makecell[l]{0.964\\\\{\\footnotesize\\ \\ (0.000)}}} & \\textcolor{value-above}{\\makecell[l]{0.909\\\\{\\footnotesize\\ \\ (0.000)}}} & \\textcolor{value-above}{\\makecell[l]{0.886\\\\{\\footnotesize\\ \\ (0.000)}}} & \\textcolor{value-above}{\\makecell[l]{0.764\\\\{\\footnotesize\\ \\ (0.000)}}} & \\textcolor{value-above}{\\makecell[l]{0.705\\\\{\\footnotesize\\ \\ (0.000)}}} & \\textcolor{value-above}{\\makecell[l]{0.977\\\\{\\footnotesize\\ \\ (0.000)}}} & \\textcolor{value-above}{\\makecell[l]{0.973\\\\{\\footnotesize\\ \\ (0.000)}}} \\\\\n",
      "\\textbf{qwen2.5-72b} & \\textcolor{value-above}{\\makecell[l]{0.627\\\\{\\footnotesize\\ \\ (0.000)}}} & \\textcolor{value-neutral}{\\makecell[l]{0.550\\\\{\\footnotesize\\ \\ (0.157)}}} & \\textcolor{value-above}{\\makecell[l]{0.891\\\\{\\footnotesize\\ \\ (0.000)}}} & \\textcolor{value-above}{\\makecell[l]{0.877\\\\{\\footnotesize\\ \\ (0.000)}}} & \\textcolor{value-above}{\\makecell[l]{0.727\\\\{\\footnotesize\\ \\ (0.000)}}} & \\textcolor{value-above}{\\makecell[l]{0.705\\\\{\\footnotesize\\ \\ (0.000)}}} & \\textcolor{value-above}{\\makecell[l]{0.600\\\\{\\footnotesize\\ \\ (0.004)}}} & \\textcolor{value-neutral}{\\makecell[l]{0.523\\\\{\\footnotesize\\ \\ (0.544)}}} & \\textcolor{value-above}{\\makecell[l]{0.927\\\\{\\footnotesize\\ \\ (0.000)}}} & \\textcolor{value-above}{\\makecell[l]{0.850\\\\{\\footnotesize\\ \\ (0.000)}}} \\\\\n",
      "\\hline\n",
      "\\end{tabular}\n",
      "\n"
     ]
    }
   ],
   "source": [
    "# Format the pivot table data for LaTeX\n",
    "def create_latex_table(\n",
    "    df2_table,\n",
    "    tasks=None,\n",
    "    desc_models=None,\n",
    "    cmp_models=None,\n",
    "    with_common_defs=True,\n",
    "    short_task_names=True,\n",
    "):\n",
    "    \"\"\"\n",
    "    Create a LaTeX table from the data with customizable filtering and formatting options.\n",
    "\n",
    "    Args:\n",
    "        df2_table: DataFrame with the source data\n",
    "        tasks: List of task names to include (None = all)\n",
    "        desc_models: List of description models to include (None = all)\n",
    "        cmp_models: List of comparison models to include (None = all)\n",
    "        with_common_defs: Whether to include color definitions\n",
    "        short_task_names: Whether to use shortened task names\n",
    "    \"\"\"\n",
    "    # Filter data if needed\n",
    "    data = df2_table.copy()\n",
    "    if tasks is not None:\n",
    "        data = data[data[\"task\"].isin(tasks)]\n",
    "    if desc_models is not None:\n",
    "        data = data[data[\"desc_model\"].isin(desc_models)]\n",
    "    if cmp_models is not None:\n",
    "        data = data[data[\"cmp_model\"].isin(cmp_models)]\n",
    "\n",
    "    # Format items\n",
    "    def fmt_item(value, p_value):\n",
    "        if p_value >= 0.05:\n",
    "            color = \"\\\\textcolor{value-neutral}{\"\n",
    "            end_color = \"}\"\n",
    "        elif value > 0.5:\n",
    "            color = \"\\\\textcolor{value-above}{\"\n",
    "            end_color = \"}\"\n",
    "        else:\n",
    "            color = \"\\\\textcolor{value-below}{\"\n",
    "            end_color = \"}\"\n",
    "        return f\"{color}\\\\makecell[l]{{{value:.3f}\\\\\\\\{{\\\\footnotesize\\\\ \\\\ ({p_value:.3f})}}}}{end_color}\"\n",
    "\n",
    "    data[\"formatted\"] = data.apply(lambda x: fmt_item(x[\"value\"], x[\"p_value\"]), axis=1)\n",
    "\n",
    "    # Create pivot table\n",
    "    latex_pivot = pd.pivot_table(\n",
    "        data,\n",
    "        values=\"formatted\",\n",
    "        index=[\"cmp_model\"],\n",
    "        columns=[\"desc_model\", \"task\"],\n",
    "        aggfunc=\"sum\",\n",
    "        fill_value=\"\",\n",
    "    )\n",
    "    # Sort pivot2 with custom key to put \"humans\" first\n",
    "    latex_pivot = latex_pivot.reindex(sorted(latex_pivot.index, key=lambda x: (\"\" if x == \"humans\" else x)))\n",
    "\n",
    "\n",
    "    # Start building LaTeX string\n",
    "    latex_str = \"\"\n",
    "    if with_common_defs:\n",
    "        latex_str = \"\"\"\n",
    "\\\\definecolor{value-above}{rgb}{0.7,0.1,0.1}\n",
    "\\\\definecolor{value-below}{rgb}{0.1,0.1,0.7}\n",
    "\\\\definecolor{value-neutral}{rgb}{0.3,0.3,0.3}\n",
    "\n",
    "\"\"\"\n",
    "\n",
    "    # Convert to LaTeX\n",
    "    latex_str += latex_pivot.to_latex(\n",
    "        column_format=\"l\" + \"p{1.0cm}\" * len(latex_pivot.columns),\n",
    "        multicolumn=True,\n",
    "        multicolumn_format=\"c\",\n",
    "        header=True,\n",
    "        bold_rows=True,\n",
    "    )\n",
    "\n",
    "    # Clean up LaTeX output\n",
    "    latex_str = latex_str.replace(\"\\\\toprule\", \"\\\\hline\")\n",
    "    latex_str = latex_str.replace(\"\\\\midrule\", \"\")\n",
    "    latex_str = latex_str.replace(\"\\\\bottomrule\", \"\\\\hline\")\n",
    "\n",
    "    # Handle task names\n",
    "    if short_task_names:\n",
    "        replacements = {\n",
    "            \"mov\": \"{\\\\centering mov}\",\n",
    "            \"p-d\": \"{\\\\centering p-d}\",\n",
    "            \"p-pl\": \"{\\\\centering p-pl}\",\n",
    "            \"pap\": \"{\\\\centering pap}\",\n",
    "        }\n",
    "    else:\n",
    "        replacements = {\n",
    "            \"mov\": \"{\\\\centering movie}\",\n",
    "            \"p-d\": \"{\\\\centering prod. details}\",\n",
    "            \"p-pl\": \"{\\\\centering prod. listing}\",\n",
    "            \"pap\": \"{\\\\centering paper}\",\n",
    "        }\n",
    "\n",
    "    for old, new in replacements.items():\n",
    "        latex_str = latex_str.replace(old, new)\n",
    "\n",
    "    # Add spacing between model groups\n",
    "    model_groups = [\"gpt-3.5-turbo\", \"gpt-4-1106\", \"meta-llama\", \"mixtral\", \"qwen\"]\n",
    "    for model in model_groups:\n",
    "        latex_str = latex_str.replace(f\"& {model}\", f\"\\\\\\\\[0.5em] & {model}\")\n",
    "    latex_str = latex_str.replace(\"meta-\", \"\")\n",
    "\n",
    "    # Replace headers\n",
    "    latex_str = latex_str.replace(\"desc_model\", \"\\\\textbf{Generator}\")\n",
    "    latex_str = latex_str.replace(\"task\", \"\\\\textbf{Task}\")\n",
    "    latex_str = re.sub(r\"cmp_model.*\", r\"\\\\\\\\[-2ex]\\\\hline\\\\\\\\[-2ex]\", latex_str)\n",
    "    return latex_str\n",
    "\n",
    "print(create_latex_table(df2_table, tasks=[\"mov\", \"pap\"], short_task_names=False))\n",
    "print()\n",
    "print(create_latex_table(df2_table, tasks=[\"p-d\", \"p-pl\"], with_common_defs=False, short_task_names=False))"
   ]
  },
  {
   "cell_type": "code",
   "execution_count": 6,
   "id": "7704c869-3a2b-4d33-958f-f25334e83943",
   "metadata": {},
   "outputs": [
    {
     "data": {
      "text/plain": [
       "Series([], dtype: int64)"
      ]
     },
     "execution_count": 6,
     "metadata": {},
     "output_type": "execute_result"
    }
   ],
   "source": [
    "s = df2.groupby([\"name\", \"ftype\", \"desc_model\", \"cmp_model\"]).size()\n",
    "s[s > 1]"
   ]
  },
  {
   "cell_type": "code",
   "execution_count": 7,
   "id": "016cdc7e-8d1c-4a1c-aeaf-a991931d2fe5",
   "metadata": {},
   "outputs": [
    {
     "data": {
      "text/html": [
       "<div>\n",
       "<style scoped>\n",
       "    .dataframe tbody tr th:only-of-type {\n",
       "        vertical-align: middle;\n",
       "    }\n",
       "\n",
       "    .dataframe tbody tr th {\n",
       "        vertical-align: top;\n",
       "    }\n",
       "\n",
       "    .dataframe thead th {\n",
       "        text-align: right;\n",
       "    }\n",
       "</style>\n",
       "<table border=\"1\" class=\"dataframe\">\n",
       "  <thead>\n",
       "    <tr style=\"text-align: right;\">\n",
       "      <th></th>\n",
       "      <th>desc_model</th>\n",
       "      <th>cmp_model</th>\n",
       "      <th>title</th>\n",
       "      <th>size</th>\n",
       "    </tr>\n",
       "  </thead>\n",
       "  <tbody>\n",
       "    <tr>\n",
       "      <th>0</th>\n",
       "      <td>gpt-3.5-turbo</td>\n",
       "      <td>gpt-3.5-turbo</td>\n",
       "      <td>movie</td>\n",
       "      <td>382</td>\n",
       "    </tr>\n",
       "    <tr>\n",
       "      <th>1</th>\n",
       "      <td>gpt-3.5-turbo</td>\n",
       "      <td>gpt-3.5-turbo</td>\n",
       "      <td>paper</td>\n",
       "      <td>664</td>\n",
       "    </tr>\n",
       "    <tr>\n",
       "      <th>2</th>\n",
       "      <td>gpt-3.5-turbo</td>\n",
       "      <td>gpt-3.5-turbo</td>\n",
       "      <td>product/details</td>\n",
       "      <td>210</td>\n",
       "    </tr>\n",
       "    <tr>\n",
       "      <th>3</th>\n",
       "      <td>gpt-3.5-turbo</td>\n",
       "      <td>gpt-3.5-turbo</td>\n",
       "      <td>product/listing</td>\n",
       "      <td>173</td>\n",
       "    </tr>\n",
       "    <tr>\n",
       "      <th>4</th>\n",
       "      <td>gpt-3.5-turbo</td>\n",
       "      <td>gpt-4-1106</td>\n",
       "      <td>movie</td>\n",
       "      <td>500</td>\n",
       "    </tr>\n",
       "    <tr>\n",
       "      <th>5</th>\n",
       "      <td>gpt-3.5-turbo</td>\n",
       "      <td>gpt-4-1106</td>\n",
       "      <td>paper</td>\n",
       "      <td>152</td>\n",
       "    </tr>\n",
       "    <tr>\n",
       "      <th>6</th>\n",
       "      <td>gpt-3.5-turbo</td>\n",
       "      <td>gpt-4-1106</td>\n",
       "      <td>product/details</td>\n",
       "      <td>219</td>\n",
       "    </tr>\n",
       "    <tr>\n",
       "      <th>7</th>\n",
       "      <td>gpt-3.5-turbo</td>\n",
       "      <td>gpt-4-1106</td>\n",
       "      <td>product/listing</td>\n",
       "      <td>211</td>\n",
       "    </tr>\n",
       "    <tr>\n",
       "      <th>8</th>\n",
       "      <td>gpt-3.5-turbo</td>\n",
       "      <td>humans</td>\n",
       "      <td>movie</td>\n",
       "      <td>75</td>\n",
       "    </tr>\n",
       "    <tr>\n",
       "      <th>9</th>\n",
       "      <td>gpt-3.5-turbo</td>\n",
       "      <td>humans</td>\n",
       "      <td>paper</td>\n",
       "      <td>249</td>\n",
       "    </tr>\n",
       "    <tr>\n",
       "      <th>10</th>\n",
       "      <td>gpt-3.5-turbo</td>\n",
       "      <td>humans</td>\n",
       "      <td>product/details</td>\n",
       "      <td>428</td>\n",
       "    </tr>\n",
       "    <tr>\n",
       "      <th>11</th>\n",
       "      <td>gpt-3.5-turbo</td>\n",
       "      <td>meta-llama-3.1-70b</td>\n",
       "      <td>movie</td>\n",
       "      <td>500</td>\n",
       "    </tr>\n",
       "    <tr>\n",
       "      <th>12</th>\n",
       "      <td>gpt-3.5-turbo</td>\n",
       "      <td>meta-llama-3.1-70b</td>\n",
       "      <td>paper</td>\n",
       "      <td>166</td>\n",
       "    </tr>\n",
       "    <tr>\n",
       "      <th>13</th>\n",
       "      <td>gpt-3.5-turbo</td>\n",
       "      <td>meta-llama-3.1-70b</td>\n",
       "      <td>product/details</td>\n",
       "      <td>220</td>\n",
       "    </tr>\n",
       "    <tr>\n",
       "      <th>14</th>\n",
       "      <td>gpt-3.5-turbo</td>\n",
       "      <td>meta-llama-3.1-70b</td>\n",
       "      <td>product/listing</td>\n",
       "      <td>220</td>\n",
       "    </tr>\n",
       "    <tr>\n",
       "      <th>15</th>\n",
       "      <td>gpt-3.5-turbo</td>\n",
       "      <td>mixtral-8x22b</td>\n",
       "      <td>movie</td>\n",
       "      <td>466</td>\n",
       "    </tr>\n",
       "    <tr>\n",
       "      <th>16</th>\n",
       "      <td>gpt-3.5-turbo</td>\n",
       "      <td>mixtral-8x22b</td>\n",
       "      <td>paper</td>\n",
       "      <td>163</td>\n",
       "    </tr>\n",
       "    <tr>\n",
       "      <th>17</th>\n",
       "      <td>gpt-3.5-turbo</td>\n",
       "      <td>mixtral-8x22b</td>\n",
       "      <td>product/details</td>\n",
       "      <td>220</td>\n",
       "    </tr>\n",
       "    <tr>\n",
       "      <th>18</th>\n",
       "      <td>gpt-3.5-turbo</td>\n",
       "      <td>mixtral-8x22b</td>\n",
       "      <td>product/listing</td>\n",
       "      <td>220</td>\n",
       "    </tr>\n",
       "    <tr>\n",
       "      <th>19</th>\n",
       "      <td>gpt-3.5-turbo</td>\n",
       "      <td>qwen2.5-72b</td>\n",
       "      <td>movie</td>\n",
       "      <td>498</td>\n",
       "    </tr>\n",
       "    <tr>\n",
       "      <th>20</th>\n",
       "      <td>gpt-3.5-turbo</td>\n",
       "      <td>qwen2.5-72b</td>\n",
       "      <td>paper</td>\n",
       "      <td>166</td>\n",
       "    </tr>\n",
       "    <tr>\n",
       "      <th>21</th>\n",
       "      <td>gpt-3.5-turbo</td>\n",
       "      <td>qwen2.5-72b</td>\n",
       "      <td>product/details</td>\n",
       "      <td>220</td>\n",
       "    </tr>\n",
       "    <tr>\n",
       "      <th>22</th>\n",
       "      <td>gpt-3.5-turbo</td>\n",
       "      <td>qwen2.5-72b</td>\n",
       "      <td>product/listing</td>\n",
       "      <td>220</td>\n",
       "    </tr>\n",
       "    <tr>\n",
       "      <th>23</th>\n",
       "      <td>gpt-4-1106</td>\n",
       "      <td>gpt-3.5-turbo</td>\n",
       "      <td>movie</td>\n",
       "      <td>358</td>\n",
       "    </tr>\n",
       "    <tr>\n",
       "      <th>24</th>\n",
       "      <td>gpt-4-1106</td>\n",
       "      <td>gpt-3.5-turbo</td>\n",
       "      <td>paper</td>\n",
       "      <td>620</td>\n",
       "    </tr>\n",
       "    <tr>\n",
       "      <th>25</th>\n",
       "      <td>gpt-4-1106</td>\n",
       "      <td>gpt-3.5-turbo</td>\n",
       "      <td>product/details</td>\n",
       "      <td>180</td>\n",
       "    </tr>\n",
       "    <tr>\n",
       "      <th>26</th>\n",
       "      <td>gpt-4-1106</td>\n",
       "      <td>gpt-3.5-turbo</td>\n",
       "      <td>product/listing</td>\n",
       "      <td>178</td>\n",
       "    </tr>\n",
       "    <tr>\n",
       "      <th>27</th>\n",
       "      <td>gpt-4-1106</td>\n",
       "      <td>gpt-4-1106</td>\n",
       "      <td>movie</td>\n",
       "      <td>491</td>\n",
       "    </tr>\n",
       "    <tr>\n",
       "      <th>28</th>\n",
       "      <td>gpt-4-1106</td>\n",
       "      <td>gpt-4-1106</td>\n",
       "      <td>paper</td>\n",
       "      <td>174</td>\n",
       "    </tr>\n",
       "    <tr>\n",
       "      <th>29</th>\n",
       "      <td>gpt-4-1106</td>\n",
       "      <td>gpt-4-1106</td>\n",
       "      <td>product/details</td>\n",
       "      <td>216</td>\n",
       "    </tr>\n",
       "    <tr>\n",
       "      <th>30</th>\n",
       "      <td>gpt-4-1106</td>\n",
       "      <td>gpt-4-1106</td>\n",
       "      <td>product/listing</td>\n",
       "      <td>219</td>\n",
       "    </tr>\n",
       "    <tr>\n",
       "      <th>31</th>\n",
       "      <td>gpt-4-1106</td>\n",
       "      <td>humans</td>\n",
       "      <td>movie</td>\n",
       "      <td>75</td>\n",
       "    </tr>\n",
       "    <tr>\n",
       "      <th>32</th>\n",
       "      <td>gpt-4-1106</td>\n",
       "      <td>humans</td>\n",
       "      <td>paper</td>\n",
       "      <td>321</td>\n",
       "    </tr>\n",
       "    <tr>\n",
       "      <th>33</th>\n",
       "      <td>gpt-4-1106</td>\n",
       "      <td>humans</td>\n",
       "      <td>product/details</td>\n",
       "      <td>214</td>\n",
       "    </tr>\n",
       "    <tr>\n",
       "      <th>34</th>\n",
       "      <td>gpt-4-1106</td>\n",
       "      <td>meta-llama-3.1-70b</td>\n",
       "      <td>movie</td>\n",
       "      <td>500</td>\n",
       "    </tr>\n",
       "    <tr>\n",
       "      <th>35</th>\n",
       "      <td>gpt-4-1106</td>\n",
       "      <td>meta-llama-3.1-70b</td>\n",
       "      <td>paper</td>\n",
       "      <td>183</td>\n",
       "    </tr>\n",
       "    <tr>\n",
       "      <th>36</th>\n",
       "      <td>gpt-4-1106</td>\n",
       "      <td>meta-llama-3.1-70b</td>\n",
       "      <td>product/details</td>\n",
       "      <td>220</td>\n",
       "    </tr>\n",
       "    <tr>\n",
       "      <th>37</th>\n",
       "      <td>gpt-4-1106</td>\n",
       "      <td>meta-llama-3.1-70b</td>\n",
       "      <td>product/listing</td>\n",
       "      <td>220</td>\n",
       "    </tr>\n",
       "    <tr>\n",
       "      <th>38</th>\n",
       "      <td>gpt-4-1106</td>\n",
       "      <td>mixtral-8x22b</td>\n",
       "      <td>movie</td>\n",
       "      <td>435</td>\n",
       "    </tr>\n",
       "    <tr>\n",
       "      <th>39</th>\n",
       "      <td>gpt-4-1106</td>\n",
       "      <td>mixtral-8x22b</td>\n",
       "      <td>paper</td>\n",
       "      <td>183</td>\n",
       "    </tr>\n",
       "    <tr>\n",
       "      <th>40</th>\n",
       "      <td>gpt-4-1106</td>\n",
       "      <td>mixtral-8x22b</td>\n",
       "      <td>product/details</td>\n",
       "      <td>220</td>\n",
       "    </tr>\n",
       "    <tr>\n",
       "      <th>41</th>\n",
       "      <td>gpt-4-1106</td>\n",
       "      <td>mixtral-8x22b</td>\n",
       "      <td>product/listing</td>\n",
       "      <td>220</td>\n",
       "    </tr>\n",
       "    <tr>\n",
       "      <th>42</th>\n",
       "      <td>gpt-4-1106</td>\n",
       "      <td>qwen2.5-72b</td>\n",
       "      <td>movie</td>\n",
       "      <td>500</td>\n",
       "    </tr>\n",
       "    <tr>\n",
       "      <th>43</th>\n",
       "      <td>gpt-4-1106</td>\n",
       "      <td>qwen2.5-72b</td>\n",
       "      <td>paper</td>\n",
       "      <td>184</td>\n",
       "    </tr>\n",
       "    <tr>\n",
       "      <th>44</th>\n",
       "      <td>gpt-4-1106</td>\n",
       "      <td>qwen2.5-72b</td>\n",
       "      <td>product/details</td>\n",
       "      <td>220</td>\n",
       "    </tr>\n",
       "    <tr>\n",
       "      <th>45</th>\n",
       "      <td>gpt-4-1106</td>\n",
       "      <td>qwen2.5-72b</td>\n",
       "      <td>product/listing</td>\n",
       "      <td>220</td>\n",
       "    </tr>\n",
       "    <tr>\n",
       "      <th>46</th>\n",
       "      <td>meta-llama-3.1-70b</td>\n",
       "      <td>gpt-3.5-turbo</td>\n",
       "      <td>movie</td>\n",
       "      <td>387</td>\n",
       "    </tr>\n",
       "    <tr>\n",
       "      <th>47</th>\n",
       "      <td>meta-llama-3.1-70b</td>\n",
       "      <td>gpt-3.5-turbo</td>\n",
       "      <td>paper</td>\n",
       "      <td>154</td>\n",
       "    </tr>\n",
       "    <tr>\n",
       "      <th>48</th>\n",
       "      <td>meta-llama-3.1-70b</td>\n",
       "      <td>gpt-3.5-turbo</td>\n",
       "      <td>product/details</td>\n",
       "      <td>220</td>\n",
       "    </tr>\n",
       "    <tr>\n",
       "      <th>49</th>\n",
       "      <td>meta-llama-3.1-70b</td>\n",
       "      <td>gpt-3.5-turbo</td>\n",
       "      <td>product/listing</td>\n",
       "      <td>219</td>\n",
       "    </tr>\n",
       "    <tr>\n",
       "      <th>50</th>\n",
       "      <td>meta-llama-3.1-70b</td>\n",
       "      <td>gpt-4-1106</td>\n",
       "      <td>movie</td>\n",
       "      <td>498</td>\n",
       "    </tr>\n",
       "    <tr>\n",
       "      <th>51</th>\n",
       "      <td>meta-llama-3.1-70b</td>\n",
       "      <td>gpt-4-1106</td>\n",
       "      <td>paper</td>\n",
       "      <td>172</td>\n",
       "    </tr>\n",
       "    <tr>\n",
       "      <th>52</th>\n",
       "      <td>meta-llama-3.1-70b</td>\n",
       "      <td>gpt-4-1106</td>\n",
       "      <td>product/details</td>\n",
       "      <td>220</td>\n",
       "    </tr>\n",
       "    <tr>\n",
       "      <th>53</th>\n",
       "      <td>meta-llama-3.1-70b</td>\n",
       "      <td>gpt-4-1106</td>\n",
       "      <td>product/listing</td>\n",
       "      <td>220</td>\n",
       "    </tr>\n",
       "    <tr>\n",
       "      <th>54</th>\n",
       "      <td>meta-llama-3.1-70b</td>\n",
       "      <td>meta-llama-3.1-70b</td>\n",
       "      <td>movie</td>\n",
       "      <td>500</td>\n",
       "    </tr>\n",
       "    <tr>\n",
       "      <th>55</th>\n",
       "      <td>meta-llama-3.1-70b</td>\n",
       "      <td>meta-llama-3.1-70b</td>\n",
       "      <td>paper</td>\n",
       "      <td>186</td>\n",
       "    </tr>\n",
       "    <tr>\n",
       "      <th>56</th>\n",
       "      <td>meta-llama-3.1-70b</td>\n",
       "      <td>meta-llama-3.1-70b</td>\n",
       "      <td>product/details</td>\n",
       "      <td>220</td>\n",
       "    </tr>\n",
       "    <tr>\n",
       "      <th>57</th>\n",
       "      <td>meta-llama-3.1-70b</td>\n",
       "      <td>meta-llama-3.1-70b</td>\n",
       "      <td>product/listing</td>\n",
       "      <td>220</td>\n",
       "    </tr>\n",
       "    <tr>\n",
       "      <th>58</th>\n",
       "      <td>meta-llama-3.1-70b</td>\n",
       "      <td>mixtral-8x22b</td>\n",
       "      <td>movie</td>\n",
       "      <td>452</td>\n",
       "    </tr>\n",
       "    <tr>\n",
       "      <th>59</th>\n",
       "      <td>meta-llama-3.1-70b</td>\n",
       "      <td>mixtral-8x22b</td>\n",
       "      <td>paper</td>\n",
       "      <td>182</td>\n",
       "    </tr>\n",
       "    <tr>\n",
       "      <th>60</th>\n",
       "      <td>meta-llama-3.1-70b</td>\n",
       "      <td>mixtral-8x22b</td>\n",
       "      <td>product/details</td>\n",
       "      <td>220</td>\n",
       "    </tr>\n",
       "    <tr>\n",
       "      <th>61</th>\n",
       "      <td>meta-llama-3.1-70b</td>\n",
       "      <td>mixtral-8x22b</td>\n",
       "      <td>product/listing</td>\n",
       "      <td>220</td>\n",
       "    </tr>\n",
       "    <tr>\n",
       "      <th>62</th>\n",
       "      <td>meta-llama-3.1-70b</td>\n",
       "      <td>qwen2.5-72b</td>\n",
       "      <td>movie</td>\n",
       "      <td>500</td>\n",
       "    </tr>\n",
       "    <tr>\n",
       "      <th>63</th>\n",
       "      <td>meta-llama-3.1-70b</td>\n",
       "      <td>qwen2.5-72b</td>\n",
       "      <td>paper</td>\n",
       "      <td>186</td>\n",
       "    </tr>\n",
       "    <tr>\n",
       "      <th>64</th>\n",
       "      <td>meta-llama-3.1-70b</td>\n",
       "      <td>qwen2.5-72b</td>\n",
       "      <td>product/details</td>\n",
       "      <td>220</td>\n",
       "    </tr>\n",
       "    <tr>\n",
       "      <th>65</th>\n",
       "      <td>meta-llama-3.1-70b</td>\n",
       "      <td>qwen2.5-72b</td>\n",
       "      <td>product/listing</td>\n",
       "      <td>220</td>\n",
       "    </tr>\n",
       "    <tr>\n",
       "      <th>66</th>\n",
       "      <td>mixtral-8x22b</td>\n",
       "      <td>gpt-3.5-turbo</td>\n",
       "      <td>movie</td>\n",
       "      <td>374</td>\n",
       "    </tr>\n",
       "    <tr>\n",
       "      <th>67</th>\n",
       "      <td>mixtral-8x22b</td>\n",
       "      <td>gpt-3.5-turbo</td>\n",
       "      <td>paper</td>\n",
       "      <td>154</td>\n",
       "    </tr>\n",
       "    <tr>\n",
       "      <th>68</th>\n",
       "      <td>mixtral-8x22b</td>\n",
       "      <td>gpt-3.5-turbo</td>\n",
       "      <td>product/details</td>\n",
       "      <td>220</td>\n",
       "    </tr>\n",
       "    <tr>\n",
       "      <th>69</th>\n",
       "      <td>mixtral-8x22b</td>\n",
       "      <td>gpt-3.5-turbo</td>\n",
       "      <td>product/listing</td>\n",
       "      <td>220</td>\n",
       "    </tr>\n",
       "    <tr>\n",
       "      <th>70</th>\n",
       "      <td>mixtral-8x22b</td>\n",
       "      <td>gpt-4-1106</td>\n",
       "      <td>movie</td>\n",
       "      <td>498</td>\n",
       "    </tr>\n",
       "    <tr>\n",
       "      <th>71</th>\n",
       "      <td>mixtral-8x22b</td>\n",
       "      <td>gpt-4-1106</td>\n",
       "      <td>paper</td>\n",
       "      <td>167</td>\n",
       "    </tr>\n",
       "    <tr>\n",
       "      <th>72</th>\n",
       "      <td>mixtral-8x22b</td>\n",
       "      <td>gpt-4-1106</td>\n",
       "      <td>product/details</td>\n",
       "      <td>220</td>\n",
       "    </tr>\n",
       "    <tr>\n",
       "      <th>73</th>\n",
       "      <td>mixtral-8x22b</td>\n",
       "      <td>gpt-4-1106</td>\n",
       "      <td>product/listing</td>\n",
       "      <td>220</td>\n",
       "    </tr>\n",
       "    <tr>\n",
       "      <th>74</th>\n",
       "      <td>mixtral-8x22b</td>\n",
       "      <td>meta-llama-3.1-70b</td>\n",
       "      <td>movie</td>\n",
       "      <td>500</td>\n",
       "    </tr>\n",
       "    <tr>\n",
       "      <th>75</th>\n",
       "      <td>mixtral-8x22b</td>\n",
       "      <td>meta-llama-3.1-70b</td>\n",
       "      <td>paper</td>\n",
       "      <td>186</td>\n",
       "    </tr>\n",
       "    <tr>\n",
       "      <th>76</th>\n",
       "      <td>mixtral-8x22b</td>\n",
       "      <td>meta-llama-3.1-70b</td>\n",
       "      <td>product/details</td>\n",
       "      <td>220</td>\n",
       "    </tr>\n",
       "    <tr>\n",
       "      <th>77</th>\n",
       "      <td>mixtral-8x22b</td>\n",
       "      <td>meta-llama-3.1-70b</td>\n",
       "      <td>product/listing</td>\n",
       "      <td>220</td>\n",
       "    </tr>\n",
       "    <tr>\n",
       "      <th>78</th>\n",
       "      <td>mixtral-8x22b</td>\n",
       "      <td>mixtral-8x22b</td>\n",
       "      <td>movie</td>\n",
       "      <td>453</td>\n",
       "    </tr>\n",
       "    <tr>\n",
       "      <th>79</th>\n",
       "      <td>mixtral-8x22b</td>\n",
       "      <td>mixtral-8x22b</td>\n",
       "      <td>paper</td>\n",
       "      <td>184</td>\n",
       "    </tr>\n",
       "    <tr>\n",
       "      <th>80</th>\n",
       "      <td>mixtral-8x22b</td>\n",
       "      <td>mixtral-8x22b</td>\n",
       "      <td>product/details</td>\n",
       "      <td>220</td>\n",
       "    </tr>\n",
       "    <tr>\n",
       "      <th>81</th>\n",
       "      <td>mixtral-8x22b</td>\n",
       "      <td>mixtral-8x22b</td>\n",
       "      <td>product/listing</td>\n",
       "      <td>220</td>\n",
       "    </tr>\n",
       "    <tr>\n",
       "      <th>82</th>\n",
       "      <td>mixtral-8x22b</td>\n",
       "      <td>qwen2.5-72b</td>\n",
       "      <td>movie</td>\n",
       "      <td>499</td>\n",
       "    </tr>\n",
       "    <tr>\n",
       "      <th>83</th>\n",
       "      <td>mixtral-8x22b</td>\n",
       "      <td>qwen2.5-72b</td>\n",
       "      <td>paper</td>\n",
       "      <td>186</td>\n",
       "    </tr>\n",
       "    <tr>\n",
       "      <th>84</th>\n",
       "      <td>mixtral-8x22b</td>\n",
       "      <td>qwen2.5-72b</td>\n",
       "      <td>product/details</td>\n",
       "      <td>220</td>\n",
       "    </tr>\n",
       "    <tr>\n",
       "      <th>85</th>\n",
       "      <td>mixtral-8x22b</td>\n",
       "      <td>qwen2.5-72b</td>\n",
       "      <td>product/listing</td>\n",
       "      <td>220</td>\n",
       "    </tr>\n",
       "    <tr>\n",
       "      <th>86</th>\n",
       "      <td>qwen2.5-72b</td>\n",
       "      <td>gpt-3.5-turbo</td>\n",
       "      <td>movie</td>\n",
       "      <td>392</td>\n",
       "    </tr>\n",
       "    <tr>\n",
       "      <th>87</th>\n",
       "      <td>qwen2.5-72b</td>\n",
       "      <td>gpt-3.5-turbo</td>\n",
       "      <td>paper</td>\n",
       "      <td>163</td>\n",
       "    </tr>\n",
       "    <tr>\n",
       "      <th>88</th>\n",
       "      <td>qwen2.5-72b</td>\n",
       "      <td>gpt-3.5-turbo</td>\n",
       "      <td>product/details</td>\n",
       "      <td>215</td>\n",
       "    </tr>\n",
       "    <tr>\n",
       "      <th>89</th>\n",
       "      <td>qwen2.5-72b</td>\n",
       "      <td>gpt-3.5-turbo</td>\n",
       "      <td>product/listing</td>\n",
       "      <td>217</td>\n",
       "    </tr>\n",
       "    <tr>\n",
       "      <th>90</th>\n",
       "      <td>qwen2.5-72b</td>\n",
       "      <td>gpt-4-1106</td>\n",
       "      <td>movie</td>\n",
       "      <td>496</td>\n",
       "    </tr>\n",
       "    <tr>\n",
       "      <th>91</th>\n",
       "      <td>qwen2.5-72b</td>\n",
       "      <td>gpt-4-1106</td>\n",
       "      <td>paper</td>\n",
       "      <td>170</td>\n",
       "    </tr>\n",
       "    <tr>\n",
       "      <th>92</th>\n",
       "      <td>qwen2.5-72b</td>\n",
       "      <td>gpt-4-1106</td>\n",
       "      <td>product/details</td>\n",
       "      <td>216</td>\n",
       "    </tr>\n",
       "    <tr>\n",
       "      <th>93</th>\n",
       "      <td>qwen2.5-72b</td>\n",
       "      <td>gpt-4-1106</td>\n",
       "      <td>product/listing</td>\n",
       "      <td>218</td>\n",
       "    </tr>\n",
       "    <tr>\n",
       "      <th>94</th>\n",
       "      <td>qwen2.5-72b</td>\n",
       "      <td>meta-llama-3.1-70b</td>\n",
       "      <td>movie</td>\n",
       "      <td>496</td>\n",
       "    </tr>\n",
       "    <tr>\n",
       "      <th>95</th>\n",
       "      <td>qwen2.5-72b</td>\n",
       "      <td>meta-llama-3.1-70b</td>\n",
       "      <td>paper</td>\n",
       "      <td>185</td>\n",
       "    </tr>\n",
       "    <tr>\n",
       "      <th>96</th>\n",
       "      <td>qwen2.5-72b</td>\n",
       "      <td>meta-llama-3.1-70b</td>\n",
       "      <td>product/details</td>\n",
       "      <td>219</td>\n",
       "    </tr>\n",
       "    <tr>\n",
       "      <th>97</th>\n",
       "      <td>qwen2.5-72b</td>\n",
       "      <td>meta-llama-3.1-70b</td>\n",
       "      <td>product/listing</td>\n",
       "      <td>218</td>\n",
       "    </tr>\n",
       "    <tr>\n",
       "      <th>98</th>\n",
       "      <td>qwen2.5-72b</td>\n",
       "      <td>mixtral-8x22b</td>\n",
       "      <td>movie</td>\n",
       "      <td>455</td>\n",
       "    </tr>\n",
       "    <tr>\n",
       "      <th>99</th>\n",
       "      <td>qwen2.5-72b</td>\n",
       "      <td>mixtral-8x22b</td>\n",
       "      <td>paper</td>\n",
       "      <td>182</td>\n",
       "    </tr>\n",
       "    <tr>\n",
       "      <th>100</th>\n",
       "      <td>qwen2.5-72b</td>\n",
       "      <td>mixtral-8x22b</td>\n",
       "      <td>product/details</td>\n",
       "      <td>220</td>\n",
       "    </tr>\n",
       "    <tr>\n",
       "      <th>101</th>\n",
       "      <td>qwen2.5-72b</td>\n",
       "      <td>mixtral-8x22b</td>\n",
       "      <td>product/listing</td>\n",
       "      <td>220</td>\n",
       "    </tr>\n",
       "    <tr>\n",
       "      <th>102</th>\n",
       "      <td>qwen2.5-72b</td>\n",
       "      <td>qwen2.5-72b</td>\n",
       "      <td>movie</td>\n",
       "      <td>500</td>\n",
       "    </tr>\n",
       "    <tr>\n",
       "      <th>103</th>\n",
       "      <td>qwen2.5-72b</td>\n",
       "      <td>qwen2.5-72b</td>\n",
       "      <td>paper</td>\n",
       "      <td>185</td>\n",
       "    </tr>\n",
       "    <tr>\n",
       "      <th>104</th>\n",
       "      <td>qwen2.5-72b</td>\n",
       "      <td>qwen2.5-72b</td>\n",
       "      <td>product/details</td>\n",
       "      <td>220</td>\n",
       "    </tr>\n",
       "    <tr>\n",
       "      <th>105</th>\n",
       "      <td>qwen2.5-72b</td>\n",
       "      <td>qwen2.5-72b</td>\n",
       "      <td>product/listing</td>\n",
       "      <td>220</td>\n",
       "    </tr>\n",
       "  </tbody>\n",
       "</table>\n",
       "</div>"
      ],
      "text/plain": [
       "             desc_model           cmp_model            title  size\n",
       "0         gpt-3.5-turbo       gpt-3.5-turbo            movie   382\n",
       "1         gpt-3.5-turbo       gpt-3.5-turbo            paper   664\n",
       "2         gpt-3.5-turbo       gpt-3.5-turbo  product/details   210\n",
       "3         gpt-3.5-turbo       gpt-3.5-turbo  product/listing   173\n",
       "4         gpt-3.5-turbo          gpt-4-1106            movie   500\n",
       "5         gpt-3.5-turbo          gpt-4-1106            paper   152\n",
       "6         gpt-3.5-turbo          gpt-4-1106  product/details   219\n",
       "7         gpt-3.5-turbo          gpt-4-1106  product/listing   211\n",
       "8         gpt-3.5-turbo              humans            movie    75\n",
       "9         gpt-3.5-turbo              humans            paper   249\n",
       "10        gpt-3.5-turbo              humans  product/details   428\n",
       "11        gpt-3.5-turbo  meta-llama-3.1-70b            movie   500\n",
       "12        gpt-3.5-turbo  meta-llama-3.1-70b            paper   166\n",
       "13        gpt-3.5-turbo  meta-llama-3.1-70b  product/details   220\n",
       "14        gpt-3.5-turbo  meta-llama-3.1-70b  product/listing   220\n",
       "15        gpt-3.5-turbo       mixtral-8x22b            movie   466\n",
       "16        gpt-3.5-turbo       mixtral-8x22b            paper   163\n",
       "17        gpt-3.5-turbo       mixtral-8x22b  product/details   220\n",
       "18        gpt-3.5-turbo       mixtral-8x22b  product/listing   220\n",
       "19        gpt-3.5-turbo         qwen2.5-72b            movie   498\n",
       "20        gpt-3.5-turbo         qwen2.5-72b            paper   166\n",
       "21        gpt-3.5-turbo         qwen2.5-72b  product/details   220\n",
       "22        gpt-3.5-turbo         qwen2.5-72b  product/listing   220\n",
       "23           gpt-4-1106       gpt-3.5-turbo            movie   358\n",
       "24           gpt-4-1106       gpt-3.5-turbo            paper   620\n",
       "25           gpt-4-1106       gpt-3.5-turbo  product/details   180\n",
       "26           gpt-4-1106       gpt-3.5-turbo  product/listing   178\n",
       "27           gpt-4-1106          gpt-4-1106            movie   491\n",
       "28           gpt-4-1106          gpt-4-1106            paper   174\n",
       "29           gpt-4-1106          gpt-4-1106  product/details   216\n",
       "30           gpt-4-1106          gpt-4-1106  product/listing   219\n",
       "31           gpt-4-1106              humans            movie    75\n",
       "32           gpt-4-1106              humans            paper   321\n",
       "33           gpt-4-1106              humans  product/details   214\n",
       "34           gpt-4-1106  meta-llama-3.1-70b            movie   500\n",
       "35           gpt-4-1106  meta-llama-3.1-70b            paper   183\n",
       "36           gpt-4-1106  meta-llama-3.1-70b  product/details   220\n",
       "37           gpt-4-1106  meta-llama-3.1-70b  product/listing   220\n",
       "38           gpt-4-1106       mixtral-8x22b            movie   435\n",
       "39           gpt-4-1106       mixtral-8x22b            paper   183\n",
       "40           gpt-4-1106       mixtral-8x22b  product/details   220\n",
       "41           gpt-4-1106       mixtral-8x22b  product/listing   220\n",
       "42           gpt-4-1106         qwen2.5-72b            movie   500\n",
       "43           gpt-4-1106         qwen2.5-72b            paper   184\n",
       "44           gpt-4-1106         qwen2.5-72b  product/details   220\n",
       "45           gpt-4-1106         qwen2.5-72b  product/listing   220\n",
       "46   meta-llama-3.1-70b       gpt-3.5-turbo            movie   387\n",
       "47   meta-llama-3.1-70b       gpt-3.5-turbo            paper   154\n",
       "48   meta-llama-3.1-70b       gpt-3.5-turbo  product/details   220\n",
       "49   meta-llama-3.1-70b       gpt-3.5-turbo  product/listing   219\n",
       "50   meta-llama-3.1-70b          gpt-4-1106            movie   498\n",
       "51   meta-llama-3.1-70b          gpt-4-1106            paper   172\n",
       "52   meta-llama-3.1-70b          gpt-4-1106  product/details   220\n",
       "53   meta-llama-3.1-70b          gpt-4-1106  product/listing   220\n",
       "54   meta-llama-3.1-70b  meta-llama-3.1-70b            movie   500\n",
       "55   meta-llama-3.1-70b  meta-llama-3.1-70b            paper   186\n",
       "56   meta-llama-3.1-70b  meta-llama-3.1-70b  product/details   220\n",
       "57   meta-llama-3.1-70b  meta-llama-3.1-70b  product/listing   220\n",
       "58   meta-llama-3.1-70b       mixtral-8x22b            movie   452\n",
       "59   meta-llama-3.1-70b       mixtral-8x22b            paper   182\n",
       "60   meta-llama-3.1-70b       mixtral-8x22b  product/details   220\n",
       "61   meta-llama-3.1-70b       mixtral-8x22b  product/listing   220\n",
       "62   meta-llama-3.1-70b         qwen2.5-72b            movie   500\n",
       "63   meta-llama-3.1-70b         qwen2.5-72b            paper   186\n",
       "64   meta-llama-3.1-70b         qwen2.5-72b  product/details   220\n",
       "65   meta-llama-3.1-70b         qwen2.5-72b  product/listing   220\n",
       "66        mixtral-8x22b       gpt-3.5-turbo            movie   374\n",
       "67        mixtral-8x22b       gpt-3.5-turbo            paper   154\n",
       "68        mixtral-8x22b       gpt-3.5-turbo  product/details   220\n",
       "69        mixtral-8x22b       gpt-3.5-turbo  product/listing   220\n",
       "70        mixtral-8x22b          gpt-4-1106            movie   498\n",
       "71        mixtral-8x22b          gpt-4-1106            paper   167\n",
       "72        mixtral-8x22b          gpt-4-1106  product/details   220\n",
       "73        mixtral-8x22b          gpt-4-1106  product/listing   220\n",
       "74        mixtral-8x22b  meta-llama-3.1-70b            movie   500\n",
       "75        mixtral-8x22b  meta-llama-3.1-70b            paper   186\n",
       "76        mixtral-8x22b  meta-llama-3.1-70b  product/details   220\n",
       "77        mixtral-8x22b  meta-llama-3.1-70b  product/listing   220\n",
       "78        mixtral-8x22b       mixtral-8x22b            movie   453\n",
       "79        mixtral-8x22b       mixtral-8x22b            paper   184\n",
       "80        mixtral-8x22b       mixtral-8x22b  product/details   220\n",
       "81        mixtral-8x22b       mixtral-8x22b  product/listing   220\n",
       "82        mixtral-8x22b         qwen2.5-72b            movie   499\n",
       "83        mixtral-8x22b         qwen2.5-72b            paper   186\n",
       "84        mixtral-8x22b         qwen2.5-72b  product/details   220\n",
       "85        mixtral-8x22b         qwen2.5-72b  product/listing   220\n",
       "86          qwen2.5-72b       gpt-3.5-turbo            movie   392\n",
       "87          qwen2.5-72b       gpt-3.5-turbo            paper   163\n",
       "88          qwen2.5-72b       gpt-3.5-turbo  product/details   215\n",
       "89          qwen2.5-72b       gpt-3.5-turbo  product/listing   217\n",
       "90          qwen2.5-72b          gpt-4-1106            movie   496\n",
       "91          qwen2.5-72b          gpt-4-1106            paper   170\n",
       "92          qwen2.5-72b          gpt-4-1106  product/details   216\n",
       "93          qwen2.5-72b          gpt-4-1106  product/listing   218\n",
       "94          qwen2.5-72b  meta-llama-3.1-70b            movie   496\n",
       "95          qwen2.5-72b  meta-llama-3.1-70b            paper   185\n",
       "96          qwen2.5-72b  meta-llama-3.1-70b  product/details   219\n",
       "97          qwen2.5-72b  meta-llama-3.1-70b  product/listing   218\n",
       "98          qwen2.5-72b       mixtral-8x22b            movie   455\n",
       "99          qwen2.5-72b       mixtral-8x22b            paper   182\n",
       "100         qwen2.5-72b       mixtral-8x22b  product/details   220\n",
       "101         qwen2.5-72b       mixtral-8x22b  product/listing   220\n",
       "102         qwen2.5-72b         qwen2.5-72b            movie   500\n",
       "103         qwen2.5-72b         qwen2.5-72b            paper   185\n",
       "104         qwen2.5-72b         qwen2.5-72b  product/details   220\n",
       "105         qwen2.5-72b         qwen2.5-72b  product/listing   220"
      ]
     },
     "execution_count": 7,
     "metadata": {},
     "output_type": "execute_result"
    }
   ],
   "source": [
    "d = df2.groupby([\"desc_model\", \"cmp_model\", \"title\"], as_index=False)[\"size\"].sum()\n",
    "d"
   ]
  },
  {
   "cell_type": "code",
   "execution_count": 8,
   "id": "b93d9933-7780-4a44-8dd4-d4dd9340500e",
   "metadata": {},
   "outputs": [
    {
     "name": "stdout",
     "output_type": "stream",
     "text": [
      "movie / from_title_and_year\n"
     ]
    },
    {
     "data": {
      "application/vnd.plotly.v1+json": {
       "config": {
        "plotlyServerURL": "https://plot.ly"
       },
       "data": [
        {
         "coloraxis": "coloraxis",
         "hovertemplate": "cmp_model: %{x}<br>desc_model: %{y}<br>color: %{z}<extra></extra>",
         "name": "0",
         "texttemplate": "%{z:.2f}",
         "type": "heatmap",
         "x": [
          "gpt-3.5-turbo",
          "gpt-4-1106",
          "humans",
          "meta-llama-3.1-70b",
          "mixtral-8x22b",
          "qwen2.5-72b"
         ],
         "xaxis": "x",
         "y": [
          "gpt-3.5-turbo",
          "gpt-4-1106",
          "meta-llama-3.1-70b",
          "mixtral-8x22b",
          "qwen2.5-72b"
         ],
         "yaxis": "y",
         "z": [
          [
           0.6649214659685864,
           0.466,
           0.48,
           0.538,
           0.6931330472103004,
           0.35943775100401604
          ],
          [
           0.7011173184357542,
           0.7026476578411406,
           0.30666666666666664,
           0.736,
           0.7241379310344828,
           0.612
          ],
          [
           0.6563307493540051,
           0.4879518072289157,
           null,
           0.554,
           0.6460176991150443,
           0.42
          ],
          [
           0.7459893048128342,
           0.7008032128514057,
           null,
           0.708,
           0.7549668874172185,
           0.6953907815631263
          ],
          [
           0.6020408163265306,
           0.5846774193548387,
           null,
           0.6633064516129032,
           0.6637362637362637,
           0.694
          ]
         ]
        }
       ],
       "layout": {
        "coloraxis": {
         "cmid": 0.5,
         "colorscale": [
          [
           0,
           "rgb(5,48,97)"
          ],
          [
           0.1,
           "rgb(33,102,172)"
          ],
          [
           0.2,
           "rgb(67,147,195)"
          ],
          [
           0.3,
           "rgb(146,197,222)"
          ],
          [
           0.4,
           "rgb(209,229,240)"
          ],
          [
           0.5,
           "rgb(247,247,247)"
          ],
          [
           0.6,
           "rgb(253,219,199)"
          ],
          [
           0.7,
           "rgb(244,165,130)"
          ],
          [
           0.8,
           "rgb(214,96,77)"
          ],
          [
           0.9,
           "rgb(178,24,43)"
          ],
          [
           1,
           "rgb(103,0,31)"
          ]
         ]
        },
        "height": 700,
        "margin": {
         "t": 60
        },
        "plot_bgcolor": "rgba(0, 0, 0, 0)",
        "template": {
         "data": {
          "bar": [
           {
            "error_x": {
             "color": "#2a3f5f"
            },
            "error_y": {
             "color": "#2a3f5f"
            },
            "marker": {
             "line": {
              "color": "#E5ECF6",
              "width": 0.5
             },
             "pattern": {
              "fillmode": "overlay",
              "size": 10,
              "solidity": 0.2
             }
            },
            "type": "bar"
           }
          ],
          "barpolar": [
           {
            "marker": {
             "line": {
              "color": "#E5ECF6",
              "width": 0.5
             },
             "pattern": {
              "fillmode": "overlay",
              "size": 10,
              "solidity": 0.2
             }
            },
            "type": "barpolar"
           }
          ],
          "carpet": [
           {
            "aaxis": {
             "endlinecolor": "#2a3f5f",
             "gridcolor": "white",
             "linecolor": "white",
             "minorgridcolor": "white",
             "startlinecolor": "#2a3f5f"
            },
            "baxis": {
             "endlinecolor": "#2a3f5f",
             "gridcolor": "white",
             "linecolor": "white",
             "minorgridcolor": "white",
             "startlinecolor": "#2a3f5f"
            },
            "type": "carpet"
           }
          ],
          "choropleth": [
           {
            "colorbar": {
             "outlinewidth": 0,
             "ticks": ""
            },
            "type": "choropleth"
           }
          ],
          "contour": [
           {
            "colorbar": {
             "outlinewidth": 0,
             "ticks": ""
            },
            "colorscale": [
             [
              0,
              "#0d0887"
             ],
             [
              0.1111111111111111,
              "#46039f"
             ],
             [
              0.2222222222222222,
              "#7201a8"
             ],
             [
              0.3333333333333333,
              "#9c179e"
             ],
             [
              0.4444444444444444,
              "#bd3786"
             ],
             [
              0.5555555555555556,
              "#d8576b"
             ],
             [
              0.6666666666666666,
              "#ed7953"
             ],
             [
              0.7777777777777778,
              "#fb9f3a"
             ],
             [
              0.8888888888888888,
              "#fdca26"
             ],
             [
              1,
              "#f0f921"
             ]
            ],
            "type": "contour"
           }
          ],
          "contourcarpet": [
           {
            "colorbar": {
             "outlinewidth": 0,
             "ticks": ""
            },
            "type": "contourcarpet"
           }
          ],
          "heatmap": [
           {
            "colorbar": {
             "outlinewidth": 0,
             "ticks": ""
            },
            "colorscale": [
             [
              0,
              "#0d0887"
             ],
             [
              0.1111111111111111,
              "#46039f"
             ],
             [
              0.2222222222222222,
              "#7201a8"
             ],
             [
              0.3333333333333333,
              "#9c179e"
             ],
             [
              0.4444444444444444,
              "#bd3786"
             ],
             [
              0.5555555555555556,
              "#d8576b"
             ],
             [
              0.6666666666666666,
              "#ed7953"
             ],
             [
              0.7777777777777778,
              "#fb9f3a"
             ],
             [
              0.8888888888888888,
              "#fdca26"
             ],
             [
              1,
              "#f0f921"
             ]
            ],
            "type": "heatmap"
           }
          ],
          "heatmapgl": [
           {
            "colorbar": {
             "outlinewidth": 0,
             "ticks": ""
            },
            "colorscale": [
             [
              0,
              "#0d0887"
             ],
             [
              0.1111111111111111,
              "#46039f"
             ],
             [
              0.2222222222222222,
              "#7201a8"
             ],
             [
              0.3333333333333333,
              "#9c179e"
             ],
             [
              0.4444444444444444,
              "#bd3786"
             ],
             [
              0.5555555555555556,
              "#d8576b"
             ],
             [
              0.6666666666666666,
              "#ed7953"
             ],
             [
              0.7777777777777778,
              "#fb9f3a"
             ],
             [
              0.8888888888888888,
              "#fdca26"
             ],
             [
              1,
              "#f0f921"
             ]
            ],
            "type": "heatmapgl"
           }
          ],
          "histogram": [
           {
            "marker": {
             "pattern": {
              "fillmode": "overlay",
              "size": 10,
              "solidity": 0.2
             }
            },
            "type": "histogram"
           }
          ],
          "histogram2d": [
           {
            "colorbar": {
             "outlinewidth": 0,
             "ticks": ""
            },
            "colorscale": [
             [
              0,
              "#0d0887"
             ],
             [
              0.1111111111111111,
              "#46039f"
             ],
             [
              0.2222222222222222,
              "#7201a8"
             ],
             [
              0.3333333333333333,
              "#9c179e"
             ],
             [
              0.4444444444444444,
              "#bd3786"
             ],
             [
              0.5555555555555556,
              "#d8576b"
             ],
             [
              0.6666666666666666,
              "#ed7953"
             ],
             [
              0.7777777777777778,
              "#fb9f3a"
             ],
             [
              0.8888888888888888,
              "#fdca26"
             ],
             [
              1,
              "#f0f921"
             ]
            ],
            "type": "histogram2d"
           }
          ],
          "histogram2dcontour": [
           {
            "colorbar": {
             "outlinewidth": 0,
             "ticks": ""
            },
            "colorscale": [
             [
              0,
              "#0d0887"
             ],
             [
              0.1111111111111111,
              "#46039f"
             ],
             [
              0.2222222222222222,
              "#7201a8"
             ],
             [
              0.3333333333333333,
              "#9c179e"
             ],
             [
              0.4444444444444444,
              "#bd3786"
             ],
             [
              0.5555555555555556,
              "#d8576b"
             ],
             [
              0.6666666666666666,
              "#ed7953"
             ],
             [
              0.7777777777777778,
              "#fb9f3a"
             ],
             [
              0.8888888888888888,
              "#fdca26"
             ],
             [
              1,
              "#f0f921"
             ]
            ],
            "type": "histogram2dcontour"
           }
          ],
          "mesh3d": [
           {
            "colorbar": {
             "outlinewidth": 0,
             "ticks": ""
            },
            "type": "mesh3d"
           }
          ],
          "parcoords": [
           {
            "line": {
             "colorbar": {
              "outlinewidth": 0,
              "ticks": ""
             }
            },
            "type": "parcoords"
           }
          ],
          "pie": [
           {
            "automargin": true,
            "type": "pie"
           }
          ],
          "scatter": [
           {
            "fillpattern": {
             "fillmode": "overlay",
             "size": 10,
             "solidity": 0.2
            },
            "type": "scatter"
           }
          ],
          "scatter3d": [
           {
            "line": {
             "colorbar": {
              "outlinewidth": 0,
              "ticks": ""
             }
            },
            "marker": {
             "colorbar": {
              "outlinewidth": 0,
              "ticks": ""
             }
            },
            "type": "scatter3d"
           }
          ],
          "scattercarpet": [
           {
            "marker": {
             "colorbar": {
              "outlinewidth": 0,
              "ticks": ""
             }
            },
            "type": "scattercarpet"
           }
          ],
          "scattergeo": [
           {
            "marker": {
             "colorbar": {
              "outlinewidth": 0,
              "ticks": ""
             }
            },
            "type": "scattergeo"
           }
          ],
          "scattergl": [
           {
            "marker": {
             "colorbar": {
              "outlinewidth": 0,
              "ticks": ""
             }
            },
            "type": "scattergl"
           }
          ],
          "scattermapbox": [
           {
            "marker": {
             "colorbar": {
              "outlinewidth": 0,
              "ticks": ""
             }
            },
            "type": "scattermapbox"
           }
          ],
          "scatterpolar": [
           {
            "marker": {
             "colorbar": {
              "outlinewidth": 0,
              "ticks": ""
             }
            },
            "type": "scatterpolar"
           }
          ],
          "scatterpolargl": [
           {
            "marker": {
             "colorbar": {
              "outlinewidth": 0,
              "ticks": ""
             }
            },
            "type": "scatterpolargl"
           }
          ],
          "scatterternary": [
           {
            "marker": {
             "colorbar": {
              "outlinewidth": 0,
              "ticks": ""
             }
            },
            "type": "scatterternary"
           }
          ],
          "surface": [
           {
            "colorbar": {
             "outlinewidth": 0,
             "ticks": ""
            },
            "colorscale": [
             [
              0,
              "#0d0887"
             ],
             [
              0.1111111111111111,
              "#46039f"
             ],
             [
              0.2222222222222222,
              "#7201a8"
             ],
             [
              0.3333333333333333,
              "#9c179e"
             ],
             [
              0.4444444444444444,
              "#bd3786"
             ],
             [
              0.5555555555555556,
              "#d8576b"
             ],
             [
              0.6666666666666666,
              "#ed7953"
             ],
             [
              0.7777777777777778,
              "#fb9f3a"
             ],
             [
              0.8888888888888888,
              "#fdca26"
             ],
             [
              1,
              "#f0f921"
             ]
            ],
            "type": "surface"
           }
          ],
          "table": [
           {
            "cells": {
             "fill": {
              "color": "#EBF0F8"
             },
             "line": {
              "color": "white"
             }
            },
            "header": {
             "fill": {
              "color": "#C8D4E3"
             },
             "line": {
              "color": "white"
             }
            },
            "type": "table"
           }
          ]
         },
         "layout": {
          "annotationdefaults": {
           "arrowcolor": "#2a3f5f",
           "arrowhead": 0,
           "arrowwidth": 1
          },
          "autotypenumbers": "strict",
          "coloraxis": {
           "colorbar": {
            "outlinewidth": 0,
            "ticks": ""
           }
          },
          "colorscale": {
           "diverging": [
            [
             0,
             "#8e0152"
            ],
            [
             0.1,
             "#c51b7d"
            ],
            [
             0.2,
             "#de77ae"
            ],
            [
             0.3,
             "#f1b6da"
            ],
            [
             0.4,
             "#fde0ef"
            ],
            [
             0.5,
             "#f7f7f7"
            ],
            [
             0.6,
             "#e6f5d0"
            ],
            [
             0.7,
             "#b8e186"
            ],
            [
             0.8,
             "#7fbc41"
            ],
            [
             0.9,
             "#4d9221"
            ],
            [
             1,
             "#276419"
            ]
           ],
           "sequential": [
            [
             0,
             "#0d0887"
            ],
            [
             0.1111111111111111,
             "#46039f"
            ],
            [
             0.2222222222222222,
             "#7201a8"
            ],
            [
             0.3333333333333333,
             "#9c179e"
            ],
            [
             0.4444444444444444,
             "#bd3786"
            ],
            [
             0.5555555555555556,
             "#d8576b"
            ],
            [
             0.6666666666666666,
             "#ed7953"
            ],
            [
             0.7777777777777778,
             "#fb9f3a"
            ],
            [
             0.8888888888888888,
             "#fdca26"
            ],
            [
             1,
             "#f0f921"
            ]
           ],
           "sequentialminus": [
            [
             0,
             "#0d0887"
            ],
            [
             0.1111111111111111,
             "#46039f"
            ],
            [
             0.2222222222222222,
             "#7201a8"
            ],
            [
             0.3333333333333333,
             "#9c179e"
            ],
            [
             0.4444444444444444,
             "#bd3786"
            ],
            [
             0.5555555555555556,
             "#d8576b"
            ],
            [
             0.6666666666666666,
             "#ed7953"
            ],
            [
             0.7777777777777778,
             "#fb9f3a"
            ],
            [
             0.8888888888888888,
             "#fdca26"
            ],
            [
             1,
             "#f0f921"
            ]
           ]
          },
          "colorway": [
           "#636efa",
           "#EF553B",
           "#00cc96",
           "#ab63fa",
           "#FFA15A",
           "#19d3f3",
           "#FF6692",
           "#B6E880",
           "#FF97FF",
           "#FECB52"
          ],
          "font": {
           "color": "#2a3f5f"
          },
          "geo": {
           "bgcolor": "white",
           "lakecolor": "white",
           "landcolor": "#E5ECF6",
           "showlakes": true,
           "showland": true,
           "subunitcolor": "white"
          },
          "hoverlabel": {
           "align": "left"
          },
          "hovermode": "closest",
          "mapbox": {
           "style": "light"
          },
          "paper_bgcolor": "white",
          "plot_bgcolor": "#E5ECF6",
          "polar": {
           "angularaxis": {
            "gridcolor": "white",
            "linecolor": "white",
            "ticks": ""
           },
           "bgcolor": "#E5ECF6",
           "radialaxis": {
            "gridcolor": "white",
            "linecolor": "white",
            "ticks": ""
           }
          },
          "scene": {
           "xaxis": {
            "backgroundcolor": "#E5ECF6",
            "gridcolor": "white",
            "gridwidth": 2,
            "linecolor": "white",
            "showbackground": true,
            "ticks": "",
            "zerolinecolor": "white"
           },
           "yaxis": {
            "backgroundcolor": "#E5ECF6",
            "gridcolor": "white",
            "gridwidth": 2,
            "linecolor": "white",
            "showbackground": true,
            "ticks": "",
            "zerolinecolor": "white"
           },
           "zaxis": {
            "backgroundcolor": "#E5ECF6",
            "gridcolor": "white",
            "gridwidth": 2,
            "linecolor": "white",
            "showbackground": true,
            "ticks": "",
            "zerolinecolor": "white"
           }
          },
          "shapedefaults": {
           "line": {
            "color": "#2a3f5f"
           }
          },
          "ternary": {
           "aaxis": {
            "gridcolor": "white",
            "linecolor": "white",
            "ticks": ""
           },
           "baxis": {
            "gridcolor": "white",
            "linecolor": "white",
            "ticks": ""
           },
           "bgcolor": "#E5ECF6",
           "caxis": {
            "gridcolor": "white",
            "linecolor": "white",
            "ticks": ""
           }
          },
          "title": {
           "x": 0.05
          },
          "xaxis": {
           "automargin": true,
           "gridcolor": "white",
           "linecolor": "white",
           "ticks": "",
           "title": {
            "standoff": 15
           },
           "zerolinecolor": "white",
           "zerolinewidth": 2
          },
          "yaxis": {
           "automargin": true,
           "gridcolor": "white",
           "linecolor": "white",
           "ticks": "",
           "title": {
            "standoff": 15
           },
           "zerolinecolor": "white",
           "zerolinewidth": 2
          }
         }
        },
        "title": {
         "text": "Heatmap for movie / from_title_and_year"
        },
        "xaxis": {
         "anchor": "y",
         "constrain": "domain",
         "domain": [
          0,
          1
         ],
         "scaleanchor": "y",
         "title": {
          "text": "cmp_model"
         }
        },
        "yaxis": {
         "anchor": "x",
         "autorange": "reversed",
         "constrain": "domain",
         "domain": [
          0,
          1
         ],
         "title": {
          "text": "desc_model"
         }
        }
       }
      }
     },
     "metadata": {},
     "output_type": "display_data"
    },
    {
     "name": "stdout",
     "output_type": "stream",
     "text": [
      "paper / write_xml_paper_abstract_control_word_count\n"
     ]
    },
    {
     "data": {
      "application/vnd.plotly.v1+json": {
       "config": {
        "plotlyServerURL": "https://plot.ly"
       },
       "data": [
        {
         "coloraxis": "coloraxis",
         "hovertemplate": "cmp_model: %{x}<br>desc_model: %{y}<br>color: %{z}<extra></extra>",
         "name": "0",
         "texttemplate": "%{z:.2f}",
         "type": "heatmap",
         "x": [
          "gpt-3.5-turbo",
          "gpt-4-1106",
          "humans",
          "meta-llama-3.1-70b",
          "mixtral-8x22b",
          "qwen2.5-72b"
         ],
         "xaxis": "x",
         "y": [
          "gpt-3.5-turbo",
          "gpt-4-1106",
          "meta-llama-3.1-70b",
          "mixtral-8x22b",
          "qwen2.5-72b"
         ],
         "yaxis": "y",
         "z": [
          [
           0.5195783132530121,
           0.5657894736842105,
           0.46184738955823296,
           0.6265060240963856,
           0.7055214723926381,
           0.4879518072289157
          ],
          [
           0.6919354838709677,
           0.7586206896551724,
           0.6012461059190031,
           0.8306010928961749,
           0.8032786885245902,
           0.7771739130434783
          ],
          [
           0.5064935064935064,
           0.5,
           null,
           0.5591397849462365,
           0.5769230769230769,
           0.5
          ],
          [
           0.525974025974026,
           0.6047904191616766,
           null,
           0.6290322580645161,
           0.6358695652173914,
           0.5645161290322581
          ],
          [
           0.5276073619631901,
           0.6058823529411764,
           null,
           0.654054054054054,
           0.6098901098901099,
           0.5891891891891892
          ]
         ]
        }
       ],
       "layout": {
        "coloraxis": {
         "cmid": 0.5,
         "colorscale": [
          [
           0,
           "rgb(5,48,97)"
          ],
          [
           0.1,
           "rgb(33,102,172)"
          ],
          [
           0.2,
           "rgb(67,147,195)"
          ],
          [
           0.3,
           "rgb(146,197,222)"
          ],
          [
           0.4,
           "rgb(209,229,240)"
          ],
          [
           0.5,
           "rgb(247,247,247)"
          ],
          [
           0.6,
           "rgb(253,219,199)"
          ],
          [
           0.7,
           "rgb(244,165,130)"
          ],
          [
           0.8,
           "rgb(214,96,77)"
          ],
          [
           0.9,
           "rgb(178,24,43)"
          ],
          [
           1,
           "rgb(103,0,31)"
          ]
         ]
        },
        "height": 700,
        "margin": {
         "t": 60
        },
        "plot_bgcolor": "rgba(0, 0, 0, 0)",
        "template": {
         "data": {
          "bar": [
           {
            "error_x": {
             "color": "#2a3f5f"
            },
            "error_y": {
             "color": "#2a3f5f"
            },
            "marker": {
             "line": {
              "color": "#E5ECF6",
              "width": 0.5
             },
             "pattern": {
              "fillmode": "overlay",
              "size": 10,
              "solidity": 0.2
             }
            },
            "type": "bar"
           }
          ],
          "barpolar": [
           {
            "marker": {
             "line": {
              "color": "#E5ECF6",
              "width": 0.5
             },
             "pattern": {
              "fillmode": "overlay",
              "size": 10,
              "solidity": 0.2
             }
            },
            "type": "barpolar"
           }
          ],
          "carpet": [
           {
            "aaxis": {
             "endlinecolor": "#2a3f5f",
             "gridcolor": "white",
             "linecolor": "white",
             "minorgridcolor": "white",
             "startlinecolor": "#2a3f5f"
            },
            "baxis": {
             "endlinecolor": "#2a3f5f",
             "gridcolor": "white",
             "linecolor": "white",
             "minorgridcolor": "white",
             "startlinecolor": "#2a3f5f"
            },
            "type": "carpet"
           }
          ],
          "choropleth": [
           {
            "colorbar": {
             "outlinewidth": 0,
             "ticks": ""
            },
            "type": "choropleth"
           }
          ],
          "contour": [
           {
            "colorbar": {
             "outlinewidth": 0,
             "ticks": ""
            },
            "colorscale": [
             [
              0,
              "#0d0887"
             ],
             [
              0.1111111111111111,
              "#46039f"
             ],
             [
              0.2222222222222222,
              "#7201a8"
             ],
             [
              0.3333333333333333,
              "#9c179e"
             ],
             [
              0.4444444444444444,
              "#bd3786"
             ],
             [
              0.5555555555555556,
              "#d8576b"
             ],
             [
              0.6666666666666666,
              "#ed7953"
             ],
             [
              0.7777777777777778,
              "#fb9f3a"
             ],
             [
              0.8888888888888888,
              "#fdca26"
             ],
             [
              1,
              "#f0f921"
             ]
            ],
            "type": "contour"
           }
          ],
          "contourcarpet": [
           {
            "colorbar": {
             "outlinewidth": 0,
             "ticks": ""
            },
            "type": "contourcarpet"
           }
          ],
          "heatmap": [
           {
            "colorbar": {
             "outlinewidth": 0,
             "ticks": ""
            },
            "colorscale": [
             [
              0,
              "#0d0887"
             ],
             [
              0.1111111111111111,
              "#46039f"
             ],
             [
              0.2222222222222222,
              "#7201a8"
             ],
             [
              0.3333333333333333,
              "#9c179e"
             ],
             [
              0.4444444444444444,
              "#bd3786"
             ],
             [
              0.5555555555555556,
              "#d8576b"
             ],
             [
              0.6666666666666666,
              "#ed7953"
             ],
             [
              0.7777777777777778,
              "#fb9f3a"
             ],
             [
              0.8888888888888888,
              "#fdca26"
             ],
             [
              1,
              "#f0f921"
             ]
            ],
            "type": "heatmap"
           }
          ],
          "heatmapgl": [
           {
            "colorbar": {
             "outlinewidth": 0,
             "ticks": ""
            },
            "colorscale": [
             [
              0,
              "#0d0887"
             ],
             [
              0.1111111111111111,
              "#46039f"
             ],
             [
              0.2222222222222222,
              "#7201a8"
             ],
             [
              0.3333333333333333,
              "#9c179e"
             ],
             [
              0.4444444444444444,
              "#bd3786"
             ],
             [
              0.5555555555555556,
              "#d8576b"
             ],
             [
              0.6666666666666666,
              "#ed7953"
             ],
             [
              0.7777777777777778,
              "#fb9f3a"
             ],
             [
              0.8888888888888888,
              "#fdca26"
             ],
             [
              1,
              "#f0f921"
             ]
            ],
            "type": "heatmapgl"
           }
          ],
          "histogram": [
           {
            "marker": {
             "pattern": {
              "fillmode": "overlay",
              "size": 10,
              "solidity": 0.2
             }
            },
            "type": "histogram"
           }
          ],
          "histogram2d": [
           {
            "colorbar": {
             "outlinewidth": 0,
             "ticks": ""
            },
            "colorscale": [
             [
              0,
              "#0d0887"
             ],
             [
              0.1111111111111111,
              "#46039f"
             ],
             [
              0.2222222222222222,
              "#7201a8"
             ],
             [
              0.3333333333333333,
              "#9c179e"
             ],
             [
              0.4444444444444444,
              "#bd3786"
             ],
             [
              0.5555555555555556,
              "#d8576b"
             ],
             [
              0.6666666666666666,
              "#ed7953"
             ],
             [
              0.7777777777777778,
              "#fb9f3a"
             ],
             [
              0.8888888888888888,
              "#fdca26"
             ],
             [
              1,
              "#f0f921"
             ]
            ],
            "type": "histogram2d"
           }
          ],
          "histogram2dcontour": [
           {
            "colorbar": {
             "outlinewidth": 0,
             "ticks": ""
            },
            "colorscale": [
             [
              0,
              "#0d0887"
             ],
             [
              0.1111111111111111,
              "#46039f"
             ],
             [
              0.2222222222222222,
              "#7201a8"
             ],
             [
              0.3333333333333333,
              "#9c179e"
             ],
             [
              0.4444444444444444,
              "#bd3786"
             ],
             [
              0.5555555555555556,
              "#d8576b"
             ],
             [
              0.6666666666666666,
              "#ed7953"
             ],
             [
              0.7777777777777778,
              "#fb9f3a"
             ],
             [
              0.8888888888888888,
              "#fdca26"
             ],
             [
              1,
              "#f0f921"
             ]
            ],
            "type": "histogram2dcontour"
           }
          ],
          "mesh3d": [
           {
            "colorbar": {
             "outlinewidth": 0,
             "ticks": ""
            },
            "type": "mesh3d"
           }
          ],
          "parcoords": [
           {
            "line": {
             "colorbar": {
              "outlinewidth": 0,
              "ticks": ""
             }
            },
            "type": "parcoords"
           }
          ],
          "pie": [
           {
            "automargin": true,
            "type": "pie"
           }
          ],
          "scatter": [
           {
            "fillpattern": {
             "fillmode": "overlay",
             "size": 10,
             "solidity": 0.2
            },
            "type": "scatter"
           }
          ],
          "scatter3d": [
           {
            "line": {
             "colorbar": {
              "outlinewidth": 0,
              "ticks": ""
             }
            },
            "marker": {
             "colorbar": {
              "outlinewidth": 0,
              "ticks": ""
             }
            },
            "type": "scatter3d"
           }
          ],
          "scattercarpet": [
           {
            "marker": {
             "colorbar": {
              "outlinewidth": 0,
              "ticks": ""
             }
            },
            "type": "scattercarpet"
           }
          ],
          "scattergeo": [
           {
            "marker": {
             "colorbar": {
              "outlinewidth": 0,
              "ticks": ""
             }
            },
            "type": "scattergeo"
           }
          ],
          "scattergl": [
           {
            "marker": {
             "colorbar": {
              "outlinewidth": 0,
              "ticks": ""
             }
            },
            "type": "scattergl"
           }
          ],
          "scattermapbox": [
           {
            "marker": {
             "colorbar": {
              "outlinewidth": 0,
              "ticks": ""
             }
            },
            "type": "scattermapbox"
           }
          ],
          "scatterpolar": [
           {
            "marker": {
             "colorbar": {
              "outlinewidth": 0,
              "ticks": ""
             }
            },
            "type": "scatterpolar"
           }
          ],
          "scatterpolargl": [
           {
            "marker": {
             "colorbar": {
              "outlinewidth": 0,
              "ticks": ""
             }
            },
            "type": "scatterpolargl"
           }
          ],
          "scatterternary": [
           {
            "marker": {
             "colorbar": {
              "outlinewidth": 0,
              "ticks": ""
             }
            },
            "type": "scatterternary"
           }
          ],
          "surface": [
           {
            "colorbar": {
             "outlinewidth": 0,
             "ticks": ""
            },
            "colorscale": [
             [
              0,
              "#0d0887"
             ],
             [
              0.1111111111111111,
              "#46039f"
             ],
             [
              0.2222222222222222,
              "#7201a8"
             ],
             [
              0.3333333333333333,
              "#9c179e"
             ],
             [
              0.4444444444444444,
              "#bd3786"
             ],
             [
              0.5555555555555556,
              "#d8576b"
             ],
             [
              0.6666666666666666,
              "#ed7953"
             ],
             [
              0.7777777777777778,
              "#fb9f3a"
             ],
             [
              0.8888888888888888,
              "#fdca26"
             ],
             [
              1,
              "#f0f921"
             ]
            ],
            "type": "surface"
           }
          ],
          "table": [
           {
            "cells": {
             "fill": {
              "color": "#EBF0F8"
             },
             "line": {
              "color": "white"
             }
            },
            "header": {
             "fill": {
              "color": "#C8D4E3"
             },
             "line": {
              "color": "white"
             }
            },
            "type": "table"
           }
          ]
         },
         "layout": {
          "annotationdefaults": {
           "arrowcolor": "#2a3f5f",
           "arrowhead": 0,
           "arrowwidth": 1
          },
          "autotypenumbers": "strict",
          "coloraxis": {
           "colorbar": {
            "outlinewidth": 0,
            "ticks": ""
           }
          },
          "colorscale": {
           "diverging": [
            [
             0,
             "#8e0152"
            ],
            [
             0.1,
             "#c51b7d"
            ],
            [
             0.2,
             "#de77ae"
            ],
            [
             0.3,
             "#f1b6da"
            ],
            [
             0.4,
             "#fde0ef"
            ],
            [
             0.5,
             "#f7f7f7"
            ],
            [
             0.6,
             "#e6f5d0"
            ],
            [
             0.7,
             "#b8e186"
            ],
            [
             0.8,
             "#7fbc41"
            ],
            [
             0.9,
             "#4d9221"
            ],
            [
             1,
             "#276419"
            ]
           ],
           "sequential": [
            [
             0,
             "#0d0887"
            ],
            [
             0.1111111111111111,
             "#46039f"
            ],
            [
             0.2222222222222222,
             "#7201a8"
            ],
            [
             0.3333333333333333,
             "#9c179e"
            ],
            [
             0.4444444444444444,
             "#bd3786"
            ],
            [
             0.5555555555555556,
             "#d8576b"
            ],
            [
             0.6666666666666666,
             "#ed7953"
            ],
            [
             0.7777777777777778,
             "#fb9f3a"
            ],
            [
             0.8888888888888888,
             "#fdca26"
            ],
            [
             1,
             "#f0f921"
            ]
           ],
           "sequentialminus": [
            [
             0,
             "#0d0887"
            ],
            [
             0.1111111111111111,
             "#46039f"
            ],
            [
             0.2222222222222222,
             "#7201a8"
            ],
            [
             0.3333333333333333,
             "#9c179e"
            ],
            [
             0.4444444444444444,
             "#bd3786"
            ],
            [
             0.5555555555555556,
             "#d8576b"
            ],
            [
             0.6666666666666666,
             "#ed7953"
            ],
            [
             0.7777777777777778,
             "#fb9f3a"
            ],
            [
             0.8888888888888888,
             "#fdca26"
            ],
            [
             1,
             "#f0f921"
            ]
           ]
          },
          "colorway": [
           "#636efa",
           "#EF553B",
           "#00cc96",
           "#ab63fa",
           "#FFA15A",
           "#19d3f3",
           "#FF6692",
           "#B6E880",
           "#FF97FF",
           "#FECB52"
          ],
          "font": {
           "color": "#2a3f5f"
          },
          "geo": {
           "bgcolor": "white",
           "lakecolor": "white",
           "landcolor": "#E5ECF6",
           "showlakes": true,
           "showland": true,
           "subunitcolor": "white"
          },
          "hoverlabel": {
           "align": "left"
          },
          "hovermode": "closest",
          "mapbox": {
           "style": "light"
          },
          "paper_bgcolor": "white",
          "plot_bgcolor": "#E5ECF6",
          "polar": {
           "angularaxis": {
            "gridcolor": "white",
            "linecolor": "white",
            "ticks": ""
           },
           "bgcolor": "#E5ECF6",
           "radialaxis": {
            "gridcolor": "white",
            "linecolor": "white",
            "ticks": ""
           }
          },
          "scene": {
           "xaxis": {
            "backgroundcolor": "#E5ECF6",
            "gridcolor": "white",
            "gridwidth": 2,
            "linecolor": "white",
            "showbackground": true,
            "ticks": "",
            "zerolinecolor": "white"
           },
           "yaxis": {
            "backgroundcolor": "#E5ECF6",
            "gridcolor": "white",
            "gridwidth": 2,
            "linecolor": "white",
            "showbackground": true,
            "ticks": "",
            "zerolinecolor": "white"
           },
           "zaxis": {
            "backgroundcolor": "#E5ECF6",
            "gridcolor": "white",
            "gridwidth": 2,
            "linecolor": "white",
            "showbackground": true,
            "ticks": "",
            "zerolinecolor": "white"
           }
          },
          "shapedefaults": {
           "line": {
            "color": "#2a3f5f"
           }
          },
          "ternary": {
           "aaxis": {
            "gridcolor": "white",
            "linecolor": "white",
            "ticks": ""
           },
           "baxis": {
            "gridcolor": "white",
            "linecolor": "white",
            "ticks": ""
           },
           "bgcolor": "#E5ECF6",
           "caxis": {
            "gridcolor": "white",
            "linecolor": "white",
            "ticks": ""
           }
          },
          "title": {
           "x": 0.05
          },
          "xaxis": {
           "automargin": true,
           "gridcolor": "white",
           "linecolor": "white",
           "ticks": "",
           "title": {
            "standoff": 15
           },
           "zerolinecolor": "white",
           "zerolinewidth": 2
          },
          "yaxis": {
           "automargin": true,
           "gridcolor": "white",
           "linecolor": "white",
           "ticks": "",
           "title": {
            "standoff": 15
           },
           "zerolinecolor": "white",
           "zerolinewidth": 2
          }
         }
        },
        "title": {
         "text": "Heatmap for paper / write_xml_paper_abstract_control_word_count"
        },
        "xaxis": {
         "anchor": "y",
         "constrain": "domain",
         "domain": [
          0,
          1
         ],
         "scaleanchor": "y",
         "title": {
          "text": "cmp_model"
         }
        },
        "yaxis": {
         "anchor": "x",
         "autorange": "reversed",
         "constrain": "domain",
         "domain": [
          0,
          1
         ],
         "title": {
          "text": "desc_model"
         }
        }
       }
      }
     },
     "metadata": {},
     "output_type": "display_data"
    },
    {
     "name": "stdout",
     "output_type": "stream",
     "text": [
      "product / from_json_details\n"
     ]
    },
    {
     "data": {
      "application/vnd.plotly.v1+json": {
       "config": {
        "plotlyServerURL": "https://plot.ly"
       },
       "data": [
        {
         "coloraxis": "coloraxis",
         "hovertemplate": "cmp_model: %{x}<br>desc_model: %{y}<br>color: %{z}<extra></extra>",
         "name": "0",
         "texttemplate": "%{z:.2f}",
         "type": "heatmap",
         "x": [
          "gpt-3.5-turbo",
          "gpt-4-1106",
          "humans",
          "meta-llama-3.1-70b",
          "mixtral-8x22b",
          "qwen2.5-72b"
         ],
         "xaxis": "x",
         "y": [
          "gpt-3.5-turbo",
          "gpt-4-1106",
          "meta-llama-3.1-70b",
          "mixtral-8x22b",
          "qwen2.5-72b"
         ],
         "yaxis": "y",
         "z": [
          [
           0.7142857142857143,
           0.6438356164383562,
           0.2803738317757009,
           0.5545454545454546,
           0.759090909090909,
           0.6272727272727273
          ],
          [
           0.9277777777777778,
           0.8981481481481481,
           0.2897196261682243,
           0.7681818181818182,
           0.95,
           0.8909090909090909
          ],
          [
           0.8818181818181818,
           0.7954545454545454,
           null,
           0.6409090909090909,
           0.9090909090909091,
           0.7272727272727273
          ],
          [
           0.6272727272727273,
           0.6363636363636364,
           null,
           0.5909090909090909,
           0.7636363636363637,
           0.6
          ],
          [
           0.9488372093023256,
           0.9305555555555556,
           null,
           0.7488584474885844,
           0.9772727272727273,
           0.9272727272727272
          ]
         ]
        }
       ],
       "layout": {
        "coloraxis": {
         "cmid": 0.5,
         "colorscale": [
          [
           0,
           "rgb(5,48,97)"
          ],
          [
           0.1,
           "rgb(33,102,172)"
          ],
          [
           0.2,
           "rgb(67,147,195)"
          ],
          [
           0.3,
           "rgb(146,197,222)"
          ],
          [
           0.4,
           "rgb(209,229,240)"
          ],
          [
           0.5,
           "rgb(247,247,247)"
          ],
          [
           0.6,
           "rgb(253,219,199)"
          ],
          [
           0.7,
           "rgb(244,165,130)"
          ],
          [
           0.8,
           "rgb(214,96,77)"
          ],
          [
           0.9,
           "rgb(178,24,43)"
          ],
          [
           1,
           "rgb(103,0,31)"
          ]
         ]
        },
        "height": 700,
        "margin": {
         "t": 60
        },
        "plot_bgcolor": "rgba(0, 0, 0, 0)",
        "template": {
         "data": {
          "bar": [
           {
            "error_x": {
             "color": "#2a3f5f"
            },
            "error_y": {
             "color": "#2a3f5f"
            },
            "marker": {
             "line": {
              "color": "#E5ECF6",
              "width": 0.5
             },
             "pattern": {
              "fillmode": "overlay",
              "size": 10,
              "solidity": 0.2
             }
            },
            "type": "bar"
           }
          ],
          "barpolar": [
           {
            "marker": {
             "line": {
              "color": "#E5ECF6",
              "width": 0.5
             },
             "pattern": {
              "fillmode": "overlay",
              "size": 10,
              "solidity": 0.2
             }
            },
            "type": "barpolar"
           }
          ],
          "carpet": [
           {
            "aaxis": {
             "endlinecolor": "#2a3f5f",
             "gridcolor": "white",
             "linecolor": "white",
             "minorgridcolor": "white",
             "startlinecolor": "#2a3f5f"
            },
            "baxis": {
             "endlinecolor": "#2a3f5f",
             "gridcolor": "white",
             "linecolor": "white",
             "minorgridcolor": "white",
             "startlinecolor": "#2a3f5f"
            },
            "type": "carpet"
           }
          ],
          "choropleth": [
           {
            "colorbar": {
             "outlinewidth": 0,
             "ticks": ""
            },
            "type": "choropleth"
           }
          ],
          "contour": [
           {
            "colorbar": {
             "outlinewidth": 0,
             "ticks": ""
            },
            "colorscale": [
             [
              0,
              "#0d0887"
             ],
             [
              0.1111111111111111,
              "#46039f"
             ],
             [
              0.2222222222222222,
              "#7201a8"
             ],
             [
              0.3333333333333333,
              "#9c179e"
             ],
             [
              0.4444444444444444,
              "#bd3786"
             ],
             [
              0.5555555555555556,
              "#d8576b"
             ],
             [
              0.6666666666666666,
              "#ed7953"
             ],
             [
              0.7777777777777778,
              "#fb9f3a"
             ],
             [
              0.8888888888888888,
              "#fdca26"
             ],
             [
              1,
              "#f0f921"
             ]
            ],
            "type": "contour"
           }
          ],
          "contourcarpet": [
           {
            "colorbar": {
             "outlinewidth": 0,
             "ticks": ""
            },
            "type": "contourcarpet"
           }
          ],
          "heatmap": [
           {
            "colorbar": {
             "outlinewidth": 0,
             "ticks": ""
            },
            "colorscale": [
             [
              0,
              "#0d0887"
             ],
             [
              0.1111111111111111,
              "#46039f"
             ],
             [
              0.2222222222222222,
              "#7201a8"
             ],
             [
              0.3333333333333333,
              "#9c179e"
             ],
             [
              0.4444444444444444,
              "#bd3786"
             ],
             [
              0.5555555555555556,
              "#d8576b"
             ],
             [
              0.6666666666666666,
              "#ed7953"
             ],
             [
              0.7777777777777778,
              "#fb9f3a"
             ],
             [
              0.8888888888888888,
              "#fdca26"
             ],
             [
              1,
              "#f0f921"
             ]
            ],
            "type": "heatmap"
           }
          ],
          "heatmapgl": [
           {
            "colorbar": {
             "outlinewidth": 0,
             "ticks": ""
            },
            "colorscale": [
             [
              0,
              "#0d0887"
             ],
             [
              0.1111111111111111,
              "#46039f"
             ],
             [
              0.2222222222222222,
              "#7201a8"
             ],
             [
              0.3333333333333333,
              "#9c179e"
             ],
             [
              0.4444444444444444,
              "#bd3786"
             ],
             [
              0.5555555555555556,
              "#d8576b"
             ],
             [
              0.6666666666666666,
              "#ed7953"
             ],
             [
              0.7777777777777778,
              "#fb9f3a"
             ],
             [
              0.8888888888888888,
              "#fdca26"
             ],
             [
              1,
              "#f0f921"
             ]
            ],
            "type": "heatmapgl"
           }
          ],
          "histogram": [
           {
            "marker": {
             "pattern": {
              "fillmode": "overlay",
              "size": 10,
              "solidity": 0.2
             }
            },
            "type": "histogram"
           }
          ],
          "histogram2d": [
           {
            "colorbar": {
             "outlinewidth": 0,
             "ticks": ""
            },
            "colorscale": [
             [
              0,
              "#0d0887"
             ],
             [
              0.1111111111111111,
              "#46039f"
             ],
             [
              0.2222222222222222,
              "#7201a8"
             ],
             [
              0.3333333333333333,
              "#9c179e"
             ],
             [
              0.4444444444444444,
              "#bd3786"
             ],
             [
              0.5555555555555556,
              "#d8576b"
             ],
             [
              0.6666666666666666,
              "#ed7953"
             ],
             [
              0.7777777777777778,
              "#fb9f3a"
             ],
             [
              0.8888888888888888,
              "#fdca26"
             ],
             [
              1,
              "#f0f921"
             ]
            ],
            "type": "histogram2d"
           }
          ],
          "histogram2dcontour": [
           {
            "colorbar": {
             "outlinewidth": 0,
             "ticks": ""
            },
            "colorscale": [
             [
              0,
              "#0d0887"
             ],
             [
              0.1111111111111111,
              "#46039f"
             ],
             [
              0.2222222222222222,
              "#7201a8"
             ],
             [
              0.3333333333333333,
              "#9c179e"
             ],
             [
              0.4444444444444444,
              "#bd3786"
             ],
             [
              0.5555555555555556,
              "#d8576b"
             ],
             [
              0.6666666666666666,
              "#ed7953"
             ],
             [
              0.7777777777777778,
              "#fb9f3a"
             ],
             [
              0.8888888888888888,
              "#fdca26"
             ],
             [
              1,
              "#f0f921"
             ]
            ],
            "type": "histogram2dcontour"
           }
          ],
          "mesh3d": [
           {
            "colorbar": {
             "outlinewidth": 0,
             "ticks": ""
            },
            "type": "mesh3d"
           }
          ],
          "parcoords": [
           {
            "line": {
             "colorbar": {
              "outlinewidth": 0,
              "ticks": ""
             }
            },
            "type": "parcoords"
           }
          ],
          "pie": [
           {
            "automargin": true,
            "type": "pie"
           }
          ],
          "scatter": [
           {
            "fillpattern": {
             "fillmode": "overlay",
             "size": 10,
             "solidity": 0.2
            },
            "type": "scatter"
           }
          ],
          "scatter3d": [
           {
            "line": {
             "colorbar": {
              "outlinewidth": 0,
              "ticks": ""
             }
            },
            "marker": {
             "colorbar": {
              "outlinewidth": 0,
              "ticks": ""
             }
            },
            "type": "scatter3d"
           }
          ],
          "scattercarpet": [
           {
            "marker": {
             "colorbar": {
              "outlinewidth": 0,
              "ticks": ""
             }
            },
            "type": "scattercarpet"
           }
          ],
          "scattergeo": [
           {
            "marker": {
             "colorbar": {
              "outlinewidth": 0,
              "ticks": ""
             }
            },
            "type": "scattergeo"
           }
          ],
          "scattergl": [
           {
            "marker": {
             "colorbar": {
              "outlinewidth": 0,
              "ticks": ""
             }
            },
            "type": "scattergl"
           }
          ],
          "scattermapbox": [
           {
            "marker": {
             "colorbar": {
              "outlinewidth": 0,
              "ticks": ""
             }
            },
            "type": "scattermapbox"
           }
          ],
          "scatterpolar": [
           {
            "marker": {
             "colorbar": {
              "outlinewidth": 0,
              "ticks": ""
             }
            },
            "type": "scatterpolar"
           }
          ],
          "scatterpolargl": [
           {
            "marker": {
             "colorbar": {
              "outlinewidth": 0,
              "ticks": ""
             }
            },
            "type": "scatterpolargl"
           }
          ],
          "scatterternary": [
           {
            "marker": {
             "colorbar": {
              "outlinewidth": 0,
              "ticks": ""
             }
            },
            "type": "scatterternary"
           }
          ],
          "surface": [
           {
            "colorbar": {
             "outlinewidth": 0,
             "ticks": ""
            },
            "colorscale": [
             [
              0,
              "#0d0887"
             ],
             [
              0.1111111111111111,
              "#46039f"
             ],
             [
              0.2222222222222222,
              "#7201a8"
             ],
             [
              0.3333333333333333,
              "#9c179e"
             ],
             [
              0.4444444444444444,
              "#bd3786"
             ],
             [
              0.5555555555555556,
              "#d8576b"
             ],
             [
              0.6666666666666666,
              "#ed7953"
             ],
             [
              0.7777777777777778,
              "#fb9f3a"
             ],
             [
              0.8888888888888888,
              "#fdca26"
             ],
             [
              1,
              "#f0f921"
             ]
            ],
            "type": "surface"
           }
          ],
          "table": [
           {
            "cells": {
             "fill": {
              "color": "#EBF0F8"
             },
             "line": {
              "color": "white"
             }
            },
            "header": {
             "fill": {
              "color": "#C8D4E3"
             },
             "line": {
              "color": "white"
             }
            },
            "type": "table"
           }
          ]
         },
         "layout": {
          "annotationdefaults": {
           "arrowcolor": "#2a3f5f",
           "arrowhead": 0,
           "arrowwidth": 1
          },
          "autotypenumbers": "strict",
          "coloraxis": {
           "colorbar": {
            "outlinewidth": 0,
            "ticks": ""
           }
          },
          "colorscale": {
           "diverging": [
            [
             0,
             "#8e0152"
            ],
            [
             0.1,
             "#c51b7d"
            ],
            [
             0.2,
             "#de77ae"
            ],
            [
             0.3,
             "#f1b6da"
            ],
            [
             0.4,
             "#fde0ef"
            ],
            [
             0.5,
             "#f7f7f7"
            ],
            [
             0.6,
             "#e6f5d0"
            ],
            [
             0.7,
             "#b8e186"
            ],
            [
             0.8,
             "#7fbc41"
            ],
            [
             0.9,
             "#4d9221"
            ],
            [
             1,
             "#276419"
            ]
           ],
           "sequential": [
            [
             0,
             "#0d0887"
            ],
            [
             0.1111111111111111,
             "#46039f"
            ],
            [
             0.2222222222222222,
             "#7201a8"
            ],
            [
             0.3333333333333333,
             "#9c179e"
            ],
            [
             0.4444444444444444,
             "#bd3786"
            ],
            [
             0.5555555555555556,
             "#d8576b"
            ],
            [
             0.6666666666666666,
             "#ed7953"
            ],
            [
             0.7777777777777778,
             "#fb9f3a"
            ],
            [
             0.8888888888888888,
             "#fdca26"
            ],
            [
             1,
             "#f0f921"
            ]
           ],
           "sequentialminus": [
            [
             0,
             "#0d0887"
            ],
            [
             0.1111111111111111,
             "#46039f"
            ],
            [
             0.2222222222222222,
             "#7201a8"
            ],
            [
             0.3333333333333333,
             "#9c179e"
            ],
            [
             0.4444444444444444,
             "#bd3786"
            ],
            [
             0.5555555555555556,
             "#d8576b"
            ],
            [
             0.6666666666666666,
             "#ed7953"
            ],
            [
             0.7777777777777778,
             "#fb9f3a"
            ],
            [
             0.8888888888888888,
             "#fdca26"
            ],
            [
             1,
             "#f0f921"
            ]
           ]
          },
          "colorway": [
           "#636efa",
           "#EF553B",
           "#00cc96",
           "#ab63fa",
           "#FFA15A",
           "#19d3f3",
           "#FF6692",
           "#B6E880",
           "#FF97FF",
           "#FECB52"
          ],
          "font": {
           "color": "#2a3f5f"
          },
          "geo": {
           "bgcolor": "white",
           "lakecolor": "white",
           "landcolor": "#E5ECF6",
           "showlakes": true,
           "showland": true,
           "subunitcolor": "white"
          },
          "hoverlabel": {
           "align": "left"
          },
          "hovermode": "closest",
          "mapbox": {
           "style": "light"
          },
          "paper_bgcolor": "white",
          "plot_bgcolor": "#E5ECF6",
          "polar": {
           "angularaxis": {
            "gridcolor": "white",
            "linecolor": "white",
            "ticks": ""
           },
           "bgcolor": "#E5ECF6",
           "radialaxis": {
            "gridcolor": "white",
            "linecolor": "white",
            "ticks": ""
           }
          },
          "scene": {
           "xaxis": {
            "backgroundcolor": "#E5ECF6",
            "gridcolor": "white",
            "gridwidth": 2,
            "linecolor": "white",
            "showbackground": true,
            "ticks": "",
            "zerolinecolor": "white"
           },
           "yaxis": {
            "backgroundcolor": "#E5ECF6",
            "gridcolor": "white",
            "gridwidth": 2,
            "linecolor": "white",
            "showbackground": true,
            "ticks": "",
            "zerolinecolor": "white"
           },
           "zaxis": {
            "backgroundcolor": "#E5ECF6",
            "gridcolor": "white",
            "gridwidth": 2,
            "linecolor": "white",
            "showbackground": true,
            "ticks": "",
            "zerolinecolor": "white"
           }
          },
          "shapedefaults": {
           "line": {
            "color": "#2a3f5f"
           }
          },
          "ternary": {
           "aaxis": {
            "gridcolor": "white",
            "linecolor": "white",
            "ticks": ""
           },
           "baxis": {
            "gridcolor": "white",
            "linecolor": "white",
            "ticks": ""
           },
           "bgcolor": "#E5ECF6",
           "caxis": {
            "gridcolor": "white",
            "linecolor": "white",
            "ticks": ""
           }
          },
          "title": {
           "x": 0.05
          },
          "xaxis": {
           "automargin": true,
           "gridcolor": "white",
           "linecolor": "white",
           "ticks": "",
           "title": {
            "standoff": 15
           },
           "zerolinecolor": "white",
           "zerolinewidth": 2
          },
          "yaxis": {
           "automargin": true,
           "gridcolor": "white",
           "linecolor": "white",
           "ticks": "",
           "title": {
            "standoff": 15
           },
           "zerolinecolor": "white",
           "zerolinewidth": 2
          }
         }
        },
        "title": {
         "text": "Heatmap for product / from_json_details"
        },
        "xaxis": {
         "anchor": "y",
         "constrain": "domain",
         "domain": [
          0,
          1
         ],
         "scaleanchor": "y",
         "title": {
          "text": "cmp_model"
         }
        },
        "yaxis": {
         "anchor": "x",
         "autorange": "reversed",
         "constrain": "domain",
         "domain": [
          0,
          1
         ],
         "title": {
          "text": "desc_model"
         }
        }
       }
      }
     },
     "metadata": {},
     "output_type": "display_data"
    },
    {
     "name": "stdout",
     "output_type": "stream",
     "text": [
      "product / from_json_product_listing\n"
     ]
    },
    {
     "data": {
      "application/vnd.plotly.v1+json": {
       "config": {
        "plotlyServerURL": "https://plot.ly"
       },
       "data": [
        {
         "coloraxis": "coloraxis",
         "hovertemplate": "cmp_model: %{x}<br>desc_model: %{y}<br>color: %{z}<extra></extra>",
         "name": "0",
         "texttemplate": "%{z:.2f}",
         "type": "heatmap",
         "x": [
          "gpt-3.5-turbo",
          "gpt-4-1106",
          "meta-llama-3.1-70b",
          "mixtral-8x22b",
          "qwen2.5-72b"
         ],
         "xaxis": "x",
         "y": [
          "gpt-3.5-turbo",
          "gpt-4-1106",
          "meta-llama-3.1-70b",
          "mixtral-8x22b",
          "qwen2.5-72b"
         ],
         "yaxis": "y",
         "z": [
          [
           0.6416184971098265,
           0.5260663507109005,
           0.55,
           0.6227272727272727,
           0.55
          ],
          [
           0.8820224719101124,
           0.867579908675799,
           0.6681818181818182,
           0.9636363636363636,
           0.8772727272727273
          ],
          [
           0.8264840182648402,
           0.759090909090909,
           0.6136363636363636,
           0.8863636363636364,
           0.7045454545454546
          ],
          [
           0.6181818181818182,
           0.5863636363636363,
           0.5727272727272728,
           0.7045454545454546,
           0.5227272727272727
          ],
          [
           0.9170506912442397,
           0.9036697247706422,
           0.7339449541284404,
           0.9727272727272728,
           0.85
          ]
         ]
        }
       ],
       "layout": {
        "coloraxis": {
         "cmid": 0.5,
         "colorscale": [
          [
           0,
           "rgb(5,48,97)"
          ],
          [
           0.1,
           "rgb(33,102,172)"
          ],
          [
           0.2,
           "rgb(67,147,195)"
          ],
          [
           0.3,
           "rgb(146,197,222)"
          ],
          [
           0.4,
           "rgb(209,229,240)"
          ],
          [
           0.5,
           "rgb(247,247,247)"
          ],
          [
           0.6,
           "rgb(253,219,199)"
          ],
          [
           0.7,
           "rgb(244,165,130)"
          ],
          [
           0.8,
           "rgb(214,96,77)"
          ],
          [
           0.9,
           "rgb(178,24,43)"
          ],
          [
           1,
           "rgb(103,0,31)"
          ]
         ]
        },
        "height": 700,
        "margin": {
         "t": 60
        },
        "plot_bgcolor": "rgba(0, 0, 0, 0)",
        "template": {
         "data": {
          "bar": [
           {
            "error_x": {
             "color": "#2a3f5f"
            },
            "error_y": {
             "color": "#2a3f5f"
            },
            "marker": {
             "line": {
              "color": "#E5ECF6",
              "width": 0.5
             },
             "pattern": {
              "fillmode": "overlay",
              "size": 10,
              "solidity": 0.2
             }
            },
            "type": "bar"
           }
          ],
          "barpolar": [
           {
            "marker": {
             "line": {
              "color": "#E5ECF6",
              "width": 0.5
             },
             "pattern": {
              "fillmode": "overlay",
              "size": 10,
              "solidity": 0.2
             }
            },
            "type": "barpolar"
           }
          ],
          "carpet": [
           {
            "aaxis": {
             "endlinecolor": "#2a3f5f",
             "gridcolor": "white",
             "linecolor": "white",
             "minorgridcolor": "white",
             "startlinecolor": "#2a3f5f"
            },
            "baxis": {
             "endlinecolor": "#2a3f5f",
             "gridcolor": "white",
             "linecolor": "white",
             "minorgridcolor": "white",
             "startlinecolor": "#2a3f5f"
            },
            "type": "carpet"
           }
          ],
          "choropleth": [
           {
            "colorbar": {
             "outlinewidth": 0,
             "ticks": ""
            },
            "type": "choropleth"
           }
          ],
          "contour": [
           {
            "colorbar": {
             "outlinewidth": 0,
             "ticks": ""
            },
            "colorscale": [
             [
              0,
              "#0d0887"
             ],
             [
              0.1111111111111111,
              "#46039f"
             ],
             [
              0.2222222222222222,
              "#7201a8"
             ],
             [
              0.3333333333333333,
              "#9c179e"
             ],
             [
              0.4444444444444444,
              "#bd3786"
             ],
             [
              0.5555555555555556,
              "#d8576b"
             ],
             [
              0.6666666666666666,
              "#ed7953"
             ],
             [
              0.7777777777777778,
              "#fb9f3a"
             ],
             [
              0.8888888888888888,
              "#fdca26"
             ],
             [
              1,
              "#f0f921"
             ]
            ],
            "type": "contour"
           }
          ],
          "contourcarpet": [
           {
            "colorbar": {
             "outlinewidth": 0,
             "ticks": ""
            },
            "type": "contourcarpet"
           }
          ],
          "heatmap": [
           {
            "colorbar": {
             "outlinewidth": 0,
             "ticks": ""
            },
            "colorscale": [
             [
              0,
              "#0d0887"
             ],
             [
              0.1111111111111111,
              "#46039f"
             ],
             [
              0.2222222222222222,
              "#7201a8"
             ],
             [
              0.3333333333333333,
              "#9c179e"
             ],
             [
              0.4444444444444444,
              "#bd3786"
             ],
             [
              0.5555555555555556,
              "#d8576b"
             ],
             [
              0.6666666666666666,
              "#ed7953"
             ],
             [
              0.7777777777777778,
              "#fb9f3a"
             ],
             [
              0.8888888888888888,
              "#fdca26"
             ],
             [
              1,
              "#f0f921"
             ]
            ],
            "type": "heatmap"
           }
          ],
          "heatmapgl": [
           {
            "colorbar": {
             "outlinewidth": 0,
             "ticks": ""
            },
            "colorscale": [
             [
              0,
              "#0d0887"
             ],
             [
              0.1111111111111111,
              "#46039f"
             ],
             [
              0.2222222222222222,
              "#7201a8"
             ],
             [
              0.3333333333333333,
              "#9c179e"
             ],
             [
              0.4444444444444444,
              "#bd3786"
             ],
             [
              0.5555555555555556,
              "#d8576b"
             ],
             [
              0.6666666666666666,
              "#ed7953"
             ],
             [
              0.7777777777777778,
              "#fb9f3a"
             ],
             [
              0.8888888888888888,
              "#fdca26"
             ],
             [
              1,
              "#f0f921"
             ]
            ],
            "type": "heatmapgl"
           }
          ],
          "histogram": [
           {
            "marker": {
             "pattern": {
              "fillmode": "overlay",
              "size": 10,
              "solidity": 0.2
             }
            },
            "type": "histogram"
           }
          ],
          "histogram2d": [
           {
            "colorbar": {
             "outlinewidth": 0,
             "ticks": ""
            },
            "colorscale": [
             [
              0,
              "#0d0887"
             ],
             [
              0.1111111111111111,
              "#46039f"
             ],
             [
              0.2222222222222222,
              "#7201a8"
             ],
             [
              0.3333333333333333,
              "#9c179e"
             ],
             [
              0.4444444444444444,
              "#bd3786"
             ],
             [
              0.5555555555555556,
              "#d8576b"
             ],
             [
              0.6666666666666666,
              "#ed7953"
             ],
             [
              0.7777777777777778,
              "#fb9f3a"
             ],
             [
              0.8888888888888888,
              "#fdca26"
             ],
             [
              1,
              "#f0f921"
             ]
            ],
            "type": "histogram2d"
           }
          ],
          "histogram2dcontour": [
           {
            "colorbar": {
             "outlinewidth": 0,
             "ticks": ""
            },
            "colorscale": [
             [
              0,
              "#0d0887"
             ],
             [
              0.1111111111111111,
              "#46039f"
             ],
             [
              0.2222222222222222,
              "#7201a8"
             ],
             [
              0.3333333333333333,
              "#9c179e"
             ],
             [
              0.4444444444444444,
              "#bd3786"
             ],
             [
              0.5555555555555556,
              "#d8576b"
             ],
             [
              0.6666666666666666,
              "#ed7953"
             ],
             [
              0.7777777777777778,
              "#fb9f3a"
             ],
             [
              0.8888888888888888,
              "#fdca26"
             ],
             [
              1,
              "#f0f921"
             ]
            ],
            "type": "histogram2dcontour"
           }
          ],
          "mesh3d": [
           {
            "colorbar": {
             "outlinewidth": 0,
             "ticks": ""
            },
            "type": "mesh3d"
           }
          ],
          "parcoords": [
           {
            "line": {
             "colorbar": {
              "outlinewidth": 0,
              "ticks": ""
             }
            },
            "type": "parcoords"
           }
          ],
          "pie": [
           {
            "automargin": true,
            "type": "pie"
           }
          ],
          "scatter": [
           {
            "fillpattern": {
             "fillmode": "overlay",
             "size": 10,
             "solidity": 0.2
            },
            "type": "scatter"
           }
          ],
          "scatter3d": [
           {
            "line": {
             "colorbar": {
              "outlinewidth": 0,
              "ticks": ""
             }
            },
            "marker": {
             "colorbar": {
              "outlinewidth": 0,
              "ticks": ""
             }
            },
            "type": "scatter3d"
           }
          ],
          "scattercarpet": [
           {
            "marker": {
             "colorbar": {
              "outlinewidth": 0,
              "ticks": ""
             }
            },
            "type": "scattercarpet"
           }
          ],
          "scattergeo": [
           {
            "marker": {
             "colorbar": {
              "outlinewidth": 0,
              "ticks": ""
             }
            },
            "type": "scattergeo"
           }
          ],
          "scattergl": [
           {
            "marker": {
             "colorbar": {
              "outlinewidth": 0,
              "ticks": ""
             }
            },
            "type": "scattergl"
           }
          ],
          "scattermapbox": [
           {
            "marker": {
             "colorbar": {
              "outlinewidth": 0,
              "ticks": ""
             }
            },
            "type": "scattermapbox"
           }
          ],
          "scatterpolar": [
           {
            "marker": {
             "colorbar": {
              "outlinewidth": 0,
              "ticks": ""
             }
            },
            "type": "scatterpolar"
           }
          ],
          "scatterpolargl": [
           {
            "marker": {
             "colorbar": {
              "outlinewidth": 0,
              "ticks": ""
             }
            },
            "type": "scatterpolargl"
           }
          ],
          "scatterternary": [
           {
            "marker": {
             "colorbar": {
              "outlinewidth": 0,
              "ticks": ""
             }
            },
            "type": "scatterternary"
           }
          ],
          "surface": [
           {
            "colorbar": {
             "outlinewidth": 0,
             "ticks": ""
            },
            "colorscale": [
             [
              0,
              "#0d0887"
             ],
             [
              0.1111111111111111,
              "#46039f"
             ],
             [
              0.2222222222222222,
              "#7201a8"
             ],
             [
              0.3333333333333333,
              "#9c179e"
             ],
             [
              0.4444444444444444,
              "#bd3786"
             ],
             [
              0.5555555555555556,
              "#d8576b"
             ],
             [
              0.6666666666666666,
              "#ed7953"
             ],
             [
              0.7777777777777778,
              "#fb9f3a"
             ],
             [
              0.8888888888888888,
              "#fdca26"
             ],
             [
              1,
              "#f0f921"
             ]
            ],
            "type": "surface"
           }
          ],
          "table": [
           {
            "cells": {
             "fill": {
              "color": "#EBF0F8"
             },
             "line": {
              "color": "white"
             }
            },
            "header": {
             "fill": {
              "color": "#C8D4E3"
             },
             "line": {
              "color": "white"
             }
            },
            "type": "table"
           }
          ]
         },
         "layout": {
          "annotationdefaults": {
           "arrowcolor": "#2a3f5f",
           "arrowhead": 0,
           "arrowwidth": 1
          },
          "autotypenumbers": "strict",
          "coloraxis": {
           "colorbar": {
            "outlinewidth": 0,
            "ticks": ""
           }
          },
          "colorscale": {
           "diverging": [
            [
             0,
             "#8e0152"
            ],
            [
             0.1,
             "#c51b7d"
            ],
            [
             0.2,
             "#de77ae"
            ],
            [
             0.3,
             "#f1b6da"
            ],
            [
             0.4,
             "#fde0ef"
            ],
            [
             0.5,
             "#f7f7f7"
            ],
            [
             0.6,
             "#e6f5d0"
            ],
            [
             0.7,
             "#b8e186"
            ],
            [
             0.8,
             "#7fbc41"
            ],
            [
             0.9,
             "#4d9221"
            ],
            [
             1,
             "#276419"
            ]
           ],
           "sequential": [
            [
             0,
             "#0d0887"
            ],
            [
             0.1111111111111111,
             "#46039f"
            ],
            [
             0.2222222222222222,
             "#7201a8"
            ],
            [
             0.3333333333333333,
             "#9c179e"
            ],
            [
             0.4444444444444444,
             "#bd3786"
            ],
            [
             0.5555555555555556,
             "#d8576b"
            ],
            [
             0.6666666666666666,
             "#ed7953"
            ],
            [
             0.7777777777777778,
             "#fb9f3a"
            ],
            [
             0.8888888888888888,
             "#fdca26"
            ],
            [
             1,
             "#f0f921"
            ]
           ],
           "sequentialminus": [
            [
             0,
             "#0d0887"
            ],
            [
             0.1111111111111111,
             "#46039f"
            ],
            [
             0.2222222222222222,
             "#7201a8"
            ],
            [
             0.3333333333333333,
             "#9c179e"
            ],
            [
             0.4444444444444444,
             "#bd3786"
            ],
            [
             0.5555555555555556,
             "#d8576b"
            ],
            [
             0.6666666666666666,
             "#ed7953"
            ],
            [
             0.7777777777777778,
             "#fb9f3a"
            ],
            [
             0.8888888888888888,
             "#fdca26"
            ],
            [
             1,
             "#f0f921"
            ]
           ]
          },
          "colorway": [
           "#636efa",
           "#EF553B",
           "#00cc96",
           "#ab63fa",
           "#FFA15A",
           "#19d3f3",
           "#FF6692",
           "#B6E880",
           "#FF97FF",
           "#FECB52"
          ],
          "font": {
           "color": "#2a3f5f"
          },
          "geo": {
           "bgcolor": "white",
           "lakecolor": "white",
           "landcolor": "#E5ECF6",
           "showlakes": true,
           "showland": true,
           "subunitcolor": "white"
          },
          "hoverlabel": {
           "align": "left"
          },
          "hovermode": "closest",
          "mapbox": {
           "style": "light"
          },
          "paper_bgcolor": "white",
          "plot_bgcolor": "#E5ECF6",
          "polar": {
           "angularaxis": {
            "gridcolor": "white",
            "linecolor": "white",
            "ticks": ""
           },
           "bgcolor": "#E5ECF6",
           "radialaxis": {
            "gridcolor": "white",
            "linecolor": "white",
            "ticks": ""
           }
          },
          "scene": {
           "xaxis": {
            "backgroundcolor": "#E5ECF6",
            "gridcolor": "white",
            "gridwidth": 2,
            "linecolor": "white",
            "showbackground": true,
            "ticks": "",
            "zerolinecolor": "white"
           },
           "yaxis": {
            "backgroundcolor": "#E5ECF6",
            "gridcolor": "white",
            "gridwidth": 2,
            "linecolor": "white",
            "showbackground": true,
            "ticks": "",
            "zerolinecolor": "white"
           },
           "zaxis": {
            "backgroundcolor": "#E5ECF6",
            "gridcolor": "white",
            "gridwidth": 2,
            "linecolor": "white",
            "showbackground": true,
            "ticks": "",
            "zerolinecolor": "white"
           }
          },
          "shapedefaults": {
           "line": {
            "color": "#2a3f5f"
           }
          },
          "ternary": {
           "aaxis": {
            "gridcolor": "white",
            "linecolor": "white",
            "ticks": ""
           },
           "baxis": {
            "gridcolor": "white",
            "linecolor": "white",
            "ticks": ""
           },
           "bgcolor": "#E5ECF6",
           "caxis": {
            "gridcolor": "white",
            "linecolor": "white",
            "ticks": ""
           }
          },
          "title": {
           "x": 0.05
          },
          "xaxis": {
           "automargin": true,
           "gridcolor": "white",
           "linecolor": "white",
           "ticks": "",
           "title": {
            "standoff": 15
           },
           "zerolinecolor": "white",
           "zerolinewidth": 2
          },
          "yaxis": {
           "automargin": true,
           "gridcolor": "white",
           "linecolor": "white",
           "ticks": "",
           "title": {
            "standoff": 15
           },
           "zerolinecolor": "white",
           "zerolinewidth": 2
          }
         }
        },
        "title": {
         "text": "Heatmap for product / from_json_product_listing"
        },
        "xaxis": {
         "anchor": "y",
         "constrain": "domain",
         "domain": [
          0,
          1
         ],
         "scaleanchor": "y",
         "title": {
          "text": "cmp_model"
         }
        },
        "yaxis": {
         "anchor": "x",
         "autorange": "reversed",
         "constrain": "domain",
         "domain": [
          0,
          1
         ],
         "title": {
          "text": "desc_model"
         }
        }
       }
      }
     },
     "metadata": {},
     "output_type": "display_data"
    }
   ],
   "source": [
    "for name, ftype in list(df[[\"name\", \"ftype\"]].value_counts().index):\n",
    "    print(name, \"/\", ftype)\n",
    "    d = df2[(df2.ftype == ftype) & (df2.name == name)]\n",
    "    d = d.groupby([\"desc_model\", \"cmp_model\"], as_index=False).agg({\"value\": \"mean\"})\n",
    "\n",
    "    tab = d.pivot(index=\"desc_model\", columns=\"cmp_model\", values=\"value\")\n",
    "    fig = px.imshow(\n",
    "        tab,\n",
    "        text_auto=\".2f\",\n",
    "        color_continuous_scale=\"RdBu_r\",\n",
    "        height=700,\n",
    "        color_continuous_midpoint=0.5,\n",
    "    )\n",
    "    fig.update_layout(\n",
    "        plot_bgcolor=\"rgba(0, 0, 0, 0)\", title=f\"Heatmap for {name} / {ftype}\"\n",
    "    )\n",
    "    fig.show()\n"
   ]
  },
  {
   "cell_type": "code",
   "execution_count": null,
   "id": "dbd97221-4fc5-4f3b-95ce-cfa4ec53ca34",
   "metadata": {},
   "outputs": [],
   "source": []
  },
  {
   "cell_type": "code",
   "execution_count": 9,
   "id": "d8de420b-6b22-4a72-b9e1-b75a3d53f077",
   "metadata": {},
   "outputs": [
    {
     "data": {
      "text/html": [
       "<div>\n",
       "<style scoped>\n",
       "    .dataframe tbody tr th:only-of-type {\n",
       "        vertical-align: middle;\n",
       "    }\n",
       "\n",
       "    .dataframe tbody tr th {\n",
       "        vertical-align: top;\n",
       "    }\n",
       "\n",
       "    .dataframe thead th {\n",
       "        text-align: right;\n",
       "    }\n",
       "</style>\n",
       "<table border=\"1\" class=\"dataframe\">\n",
       "  <thead>\n",
       "    <tr style=\"text-align: right;\">\n",
       "      <th></th>\n",
       "      <th>desc_model</th>\n",
       "      <th>cmp_model</th>\n",
       "      <th>name</th>\n",
       "      <th>ftype</th>\n",
       "      <th>value</th>\n",
       "      <th>size</th>\n",
       "      <th>llm_count</th>\n",
       "      <th>original_key</th>\n",
       "      <th>ci0</th>\n",
       "      <th>ci1</th>\n",
       "      <th>p_value</th>\n",
       "      <th>offset</th>\n",
       "      <th>title</th>\n",
       "    </tr>\n",
       "  </thead>\n",
       "  <tbody>\n",
       "    <tr>\n",
       "      <th>0</th>\n",
       "      <td>gpt-3.5-turbo</td>\n",
       "      <td>gpt-3.5-turbo</td>\n",
       "      <td>product</td>\n",
       "      <td>from_json_details</td>\n",
       "      <td>0.714</td>\n",
       "      <td>210</td>\n",
       "      <td>150</td>\n",
       "      <td>product---DESCRIPTION-from_json_details|gpt-3....</td>\n",
       "      <td>0.063</td>\n",
       "      <td>0.059</td>\n",
       "      <td>4.447e-10</td>\n",
       "      <td>-0.250</td>\n",
       "      <td>product/details</td>\n",
       "    </tr>\n",
       "    <tr>\n",
       "      <th>2</th>\n",
       "      <td>gpt-4-1106</td>\n",
       "      <td>gpt-4-1106</td>\n",
       "      <td>product</td>\n",
       "      <td>from_json_details</td>\n",
       "      <td>0.898</td>\n",
       "      <td>216</td>\n",
       "      <td>194</td>\n",
       "      <td>product---DESCRIPTION-from_json_details|gpt-4-...</td>\n",
       "      <td>0.044</td>\n",
       "      <td>0.037</td>\n",
       "      <td>1.435e-35</td>\n",
       "      <td>-0.167</td>\n",
       "      <td>product/details</td>\n",
       "    </tr>\n",
       "    <tr>\n",
       "      <th>4</th>\n",
       "      <td>gpt-4-1106</td>\n",
       "      <td>gpt-3.5-turbo</td>\n",
       "      <td>product</td>\n",
       "      <td>from_json_details</td>\n",
       "      <td>0.928</td>\n",
       "      <td>180</td>\n",
       "      <td>167</td>\n",
       "      <td>product---DESCRIPTION-from_json_details|gpt-4-...</td>\n",
       "      <td>0.042</td>\n",
       "      <td>0.033</td>\n",
       "      <td>3.033e-35</td>\n",
       "      <td>-0.250</td>\n",
       "      <td>product/details</td>\n",
       "    </tr>\n",
       "    <tr>\n",
       "      <th>6</th>\n",
       "      <td>gpt-3.5-turbo</td>\n",
       "      <td>gpt-4-1106</td>\n",
       "      <td>product</td>\n",
       "      <td>from_json_details</td>\n",
       "      <td>0.644</td>\n",
       "      <td>219</td>\n",
       "      <td>141</td>\n",
       "      <td>product---DESCRIPTION-from_json_details|gpt-3....</td>\n",
       "      <td>0.064</td>\n",
       "      <td>0.062</td>\n",
       "      <td>2.478e-05</td>\n",
       "      <td>-0.167</td>\n",
       "      <td>product/details</td>\n",
       "    </tr>\n",
       "    <tr>\n",
       "      <th>12</th>\n",
       "      <td>gpt-3.5-turbo</td>\n",
       "      <td>mixtral-8x22b</td>\n",
       "      <td>product</td>\n",
       "      <td>from_json_details</td>\n",
       "      <td>0.759</td>\n",
       "      <td>220</td>\n",
       "      <td>167</td>\n",
       "      <td>product---DESCRIPTION-from_json_details|gpt-3....</td>\n",
       "      <td>0.059</td>\n",
       "      <td>0.054</td>\n",
       "      <td>6.130e-15</td>\n",
       "      <td>0.083</td>\n",
       "      <td>product/details</td>\n",
       "    </tr>\n",
       "    <tr>\n",
       "      <th>14</th>\n",
       "      <td>gpt-4-1106</td>\n",
       "      <td>mixtral-8x22b</td>\n",
       "      <td>product</td>\n",
       "      <td>from_json_details</td>\n",
       "      <td>0.950</td>\n",
       "      <td>220</td>\n",
       "      <td>209</td>\n",
       "      <td>product---DESCRIPTION-from_json_details|gpt-4-...</td>\n",
       "      <td>0.032</td>\n",
       "      <td>0.025</td>\n",
       "      <td>1.422e-48</td>\n",
       "      <td>0.083</td>\n",
       "      <td>product/details</td>\n",
       "    </tr>\n",
       "    <tr>\n",
       "      <th>18</th>\n",
       "      <td>gpt-3.5-turbo</td>\n",
       "      <td>meta-llama-3.1-70b</td>\n",
       "      <td>product</td>\n",
       "      <td>from_json_details</td>\n",
       "      <td>0.555</td>\n",
       "      <td>220</td>\n",
       "      <td>122</td>\n",
       "      <td>product---DESCRIPTION-from_json_details|gpt-3....</td>\n",
       "      <td>0.066</td>\n",
       "      <td>0.065</td>\n",
       "      <td>1.208e-01</td>\n",
       "      <td>0.000</td>\n",
       "      <td>product/details</td>\n",
       "    </tr>\n",
       "    <tr>\n",
       "      <th>20</th>\n",
       "      <td>gpt-4-1106</td>\n",
       "      <td>meta-llama-3.1-70b</td>\n",
       "      <td>product</td>\n",
       "      <td>from_json_details</td>\n",
       "      <td>0.768</td>\n",
       "      <td>220</td>\n",
       "      <td>169</td>\n",
       "      <td>product---DESCRIPTION-from_json_details|gpt-4-...</td>\n",
       "      <td>0.058</td>\n",
       "      <td>0.053</td>\n",
       "      <td>5.822e-16</td>\n",
       "      <td>0.000</td>\n",
       "      <td>product/details</td>\n",
       "    </tr>\n",
       "    <tr>\n",
       "      <th>22</th>\n",
       "      <td>qwen2.5-72b</td>\n",
       "      <td>meta-llama-3.1-70b</td>\n",
       "      <td>product</td>\n",
       "      <td>from_json_details</td>\n",
       "      <td>0.749</td>\n",
       "      <td>219</td>\n",
       "      <td>164</td>\n",
       "      <td>product---DESCRIPTION-from_json_details|togeth...</td>\n",
       "      <td>0.059</td>\n",
       "      <td>0.055</td>\n",
       "      <td>8.806e-14</td>\n",
       "      <td>0.000</td>\n",
       "      <td>product/details</td>\n",
       "    </tr>\n",
       "    <tr>\n",
       "      <th>24</th>\n",
       "      <td>qwen2.5-72b</td>\n",
       "      <td>mixtral-8x22b</td>\n",
       "      <td>product</td>\n",
       "      <td>from_json_details</td>\n",
       "      <td>0.977</td>\n",
       "      <td>220</td>\n",
       "      <td>215</td>\n",
       "      <td>product---DESCRIPTION-from_json_details|togeth...</td>\n",
       "      <td>0.023</td>\n",
       "      <td>0.015</td>\n",
       "      <td>4.984e-57</td>\n",
       "      <td>0.083</td>\n",
       "      <td>product/details</td>\n",
       "    </tr>\n",
       "    <tr>\n",
       "      <th>26</th>\n",
       "      <td>gpt-3.5-turbo</td>\n",
       "      <td>qwen2.5-72b</td>\n",
       "      <td>product</td>\n",
       "      <td>from_json_details</td>\n",
       "      <td>0.627</td>\n",
       "      <td>220</td>\n",
       "      <td>138</td>\n",
       "      <td>product---DESCRIPTION-from_json_details|gpt-3....</td>\n",
       "      <td>0.065</td>\n",
       "      <td>0.063</td>\n",
       "      <td>1.942e-04</td>\n",
       "      <td>0.167</td>\n",
       "      <td>product/details</td>\n",
       "    </tr>\n",
       "    <tr>\n",
       "      <th>28</th>\n",
       "      <td>gpt-4-1106</td>\n",
       "      <td>qwen2.5-72b</td>\n",
       "      <td>product</td>\n",
       "      <td>from_json_details</td>\n",
       "      <td>0.891</td>\n",
       "      <td>220</td>\n",
       "      <td>196</td>\n",
       "      <td>product---DESCRIPTION-from_json_details|gpt-4-...</td>\n",
       "      <td>0.044</td>\n",
       "      <td>0.038</td>\n",
       "      <td>9.785e-35</td>\n",
       "      <td>0.167</td>\n",
       "      <td>product/details</td>\n",
       "    </tr>\n",
       "    <tr>\n",
       "      <th>30</th>\n",
       "      <td>qwen2.5-72b</td>\n",
       "      <td>qwen2.5-72b</td>\n",
       "      <td>product</td>\n",
       "      <td>from_json_details</td>\n",
       "      <td>0.927</td>\n",
       "      <td>220</td>\n",
       "      <td>204</td>\n",
       "      <td>product---DESCRIPTION-from_json_details|togeth...</td>\n",
       "      <td>0.038</td>\n",
       "      <td>0.030</td>\n",
       "      <td>1.059e-42</td>\n",
       "      <td>0.167</td>\n",
       "      <td>product/details</td>\n",
       "    </tr>\n",
       "    <tr>\n",
       "      <th>40</th>\n",
       "      <td>qwen2.5-72b</td>\n",
       "      <td>gpt-3.5-turbo</td>\n",
       "      <td>product</td>\n",
       "      <td>from_json_details</td>\n",
       "      <td>0.949</td>\n",
       "      <td>215</td>\n",
       "      <td>204</td>\n",
       "      <td>product---DESCRIPTION-from_json_details|togeth...</td>\n",
       "      <td>0.033</td>\n",
       "      <td>0.025</td>\n",
       "      <td>3.517e-47</td>\n",
       "      <td>-0.250</td>\n",
       "      <td>product/details</td>\n",
       "    </tr>\n",
       "    <tr>\n",
       "      <th>42</th>\n",
       "      <td>qwen2.5-72b</td>\n",
       "      <td>gpt-4-1106</td>\n",
       "      <td>product</td>\n",
       "      <td>from_json_details</td>\n",
       "      <td>0.931</td>\n",
       "      <td>216</td>\n",
       "      <td>201</td>\n",
       "      <td>product---DESCRIPTION-from_json_details|togeth...</td>\n",
       "      <td>0.037</td>\n",
       "      <td>0.030</td>\n",
       "      <td>9.912e-43</td>\n",
       "      <td>-0.167</td>\n",
       "      <td>product/details</td>\n",
       "    </tr>\n",
       "    <tr>\n",
       "      <th>44</th>\n",
       "      <td>mixtral-8x22b</td>\n",
       "      <td>meta-llama-3.1-70b</td>\n",
       "      <td>product</td>\n",
       "      <td>from_json_details</td>\n",
       "      <td>0.591</td>\n",
       "      <td>220</td>\n",
       "      <td>130</td>\n",
       "      <td>product---DESCRIPTION-from_json_details|togeth...</td>\n",
       "      <td>0.066</td>\n",
       "      <td>0.064</td>\n",
       "      <td>8.405e-03</td>\n",
       "      <td>0.000</td>\n",
       "      <td>product/details</td>\n",
       "    </tr>\n",
       "    <tr>\n",
       "      <th>46</th>\n",
       "      <td>meta-llama-3.1-70b</td>\n",
       "      <td>meta-llama-3.1-70b</td>\n",
       "      <td>product</td>\n",
       "      <td>from_json_details</td>\n",
       "      <td>0.641</td>\n",
       "      <td>220</td>\n",
       "      <td>141</td>\n",
       "      <td>product---DESCRIPTION-from_json_details|togeth...</td>\n",
       "      <td>0.064</td>\n",
       "      <td>0.062</td>\n",
       "      <td>3.502e-05</td>\n",
       "      <td>0.000</td>\n",
       "      <td>product/details</td>\n",
       "    </tr>\n",
       "    <tr>\n",
       "      <th>50</th>\n",
       "      <td>mixtral-8x22b</td>\n",
       "      <td>mixtral-8x22b</td>\n",
       "      <td>product</td>\n",
       "      <td>from_json_details</td>\n",
       "      <td>0.764</td>\n",
       "      <td>220</td>\n",
       "      <td>168</td>\n",
       "      <td>product---DESCRIPTION-from_json_details|togeth...</td>\n",
       "      <td>0.058</td>\n",
       "      <td>0.054</td>\n",
       "      <td>1.913e-15</td>\n",
       "      <td>0.083</td>\n",
       "      <td>product/details</td>\n",
       "    </tr>\n",
       "    <tr>\n",
       "      <th>52</th>\n",
       "      <td>meta-llama-3.1-70b</td>\n",
       "      <td>mixtral-8x22b</td>\n",
       "      <td>product</td>\n",
       "      <td>from_json_details</td>\n",
       "      <td>0.909</td>\n",
       "      <td>220</td>\n",
       "      <td>200</td>\n",
       "      <td>product---DESCRIPTION-from_json_details|togeth...</td>\n",
       "      <td>0.041</td>\n",
       "      <td>0.034</td>\n",
       "      <td>1.568e-38</td>\n",
       "      <td>0.083</td>\n",
       "      <td>product/details</td>\n",
       "    </tr>\n",
       "    <tr>\n",
       "      <th>58</th>\n",
       "      <td>mixtral-8x22b</td>\n",
       "      <td>qwen2.5-72b</td>\n",
       "      <td>product</td>\n",
       "      <td>from_json_details</td>\n",
       "      <td>0.600</td>\n",
       "      <td>220</td>\n",
       "      <td>132</td>\n",
       "      <td>product---DESCRIPTION-from_json_details|togeth...</td>\n",
       "      <td>0.065</td>\n",
       "      <td>0.064</td>\n",
       "      <td>3.646e-03</td>\n",
       "      <td>0.167</td>\n",
       "      <td>product/details</td>\n",
       "    </tr>\n",
       "    <tr>\n",
       "      <th>60</th>\n",
       "      <td>meta-llama-3.1-70b</td>\n",
       "      <td>qwen2.5-72b</td>\n",
       "      <td>product</td>\n",
       "      <td>from_json_details</td>\n",
       "      <td>0.727</td>\n",
       "      <td>220</td>\n",
       "      <td>160</td>\n",
       "      <td>product---DESCRIPTION-from_json_details|togeth...</td>\n",
       "      <td>0.061</td>\n",
       "      <td>0.057</td>\n",
       "      <td>1.093e-11</td>\n",
       "      <td>0.167</td>\n",
       "      <td>product/details</td>\n",
       "    </tr>\n",
       "    <tr>\n",
       "      <th>64</th>\n",
       "      <td>mixtral-8x22b</td>\n",
       "      <td>gpt-3.5-turbo</td>\n",
       "      <td>product</td>\n",
       "      <td>from_json_details</td>\n",
       "      <td>0.627</td>\n",
       "      <td>220</td>\n",
       "      <td>138</td>\n",
       "      <td>product---DESCRIPTION-from_json_details|togeth...</td>\n",
       "      <td>0.065</td>\n",
       "      <td>0.063</td>\n",
       "      <td>1.942e-04</td>\n",
       "      <td>-0.250</td>\n",
       "      <td>product/details</td>\n",
       "    </tr>\n",
       "    <tr>\n",
       "      <th>66</th>\n",
       "      <td>meta-llama-3.1-70b</td>\n",
       "      <td>gpt-3.5-turbo</td>\n",
       "      <td>product</td>\n",
       "      <td>from_json_details</td>\n",
       "      <td>0.882</td>\n",
       "      <td>220</td>\n",
       "      <td>194</td>\n",
       "      <td>product---DESCRIPTION-from_json_details|togeth...</td>\n",
       "      <td>0.046</td>\n",
       "      <td>0.039</td>\n",
       "      <td>5.829e-33</td>\n",
       "      <td>-0.250</td>\n",
       "      <td>product/details</td>\n",
       "    </tr>\n",
       "    <tr>\n",
       "      <th>69</th>\n",
       "      <td>mixtral-8x22b</td>\n",
       "      <td>gpt-4-1106</td>\n",
       "      <td>product</td>\n",
       "      <td>from_json_details</td>\n",
       "      <td>0.636</td>\n",
       "      <td>220</td>\n",
       "      <td>140</td>\n",
       "      <td>product---DESCRIPTION-from_json_details|togeth...</td>\n",
       "      <td>0.065</td>\n",
       "      <td>0.062</td>\n",
       "      <td>6.315e-05</td>\n",
       "      <td>-0.167</td>\n",
       "      <td>product/details</td>\n",
       "    </tr>\n",
       "    <tr>\n",
       "      <th>71</th>\n",
       "      <td>meta-llama-3.1-70b</td>\n",
       "      <td>gpt-4-1106</td>\n",
       "      <td>product</td>\n",
       "      <td>from_json_details</td>\n",
       "      <td>0.795</td>\n",
       "      <td>220</td>\n",
       "      <td>175</td>\n",
       "      <td>product---DESCRIPTION-from_json_details|togeth...</td>\n",
       "      <td>0.056</td>\n",
       "      <td>0.051</td>\n",
       "      <td>2.699e-19</td>\n",
       "      <td>-0.167</td>\n",
       "      <td>product/details</td>\n",
       "    </tr>\n",
       "    <tr>\n",
       "      <th>100</th>\n",
       "      <td>gpt-4-1106</td>\n",
       "      <td>humans</td>\n",
       "      <td>product</td>\n",
       "      <td>from_json_details</td>\n",
       "      <td>0.290</td>\n",
       "      <td>214</td>\n",
       "      <td>62</td>\n",
       "      <td>product---DESCRIPTION-from_json_details|gpt-4-...</td>\n",
       "      <td>0.059</td>\n",
       "      <td>0.062</td>\n",
       "      <td>6.613e-10</td>\n",
       "      <td>-0.083</td>\n",
       "      <td>product/details</td>\n",
       "    </tr>\n",
       "    <tr>\n",
       "      <th>102</th>\n",
       "      <td>gpt-3.5-turbo</td>\n",
       "      <td>humans</td>\n",
       "      <td>product</td>\n",
       "      <td>from_json_details</td>\n",
       "      <td>0.280</td>\n",
       "      <td>428</td>\n",
       "      <td>120</td>\n",
       "      <td>product---DESCRIPTION-from_json_details|gpt-3....</td>\n",
       "      <td>0.042</td>\n",
       "      <td>0.043</td>\n",
       "      <td>3.861e-20</td>\n",
       "      <td>-0.083</td>\n",
       "      <td>product/details</td>\n",
       "    </tr>\n",
       "  </tbody>\n",
       "</table>\n",
       "</div>"
      ],
      "text/plain": [
       "             desc_model           cmp_model     name              ftype  \\\n",
       "0         gpt-3.5-turbo       gpt-3.5-turbo  product  from_json_details   \n",
       "2            gpt-4-1106          gpt-4-1106  product  from_json_details   \n",
       "4            gpt-4-1106       gpt-3.5-turbo  product  from_json_details   \n",
       "6         gpt-3.5-turbo          gpt-4-1106  product  from_json_details   \n",
       "12        gpt-3.5-turbo       mixtral-8x22b  product  from_json_details   \n",
       "14           gpt-4-1106       mixtral-8x22b  product  from_json_details   \n",
       "18        gpt-3.5-turbo  meta-llama-3.1-70b  product  from_json_details   \n",
       "20           gpt-4-1106  meta-llama-3.1-70b  product  from_json_details   \n",
       "22          qwen2.5-72b  meta-llama-3.1-70b  product  from_json_details   \n",
       "24          qwen2.5-72b       mixtral-8x22b  product  from_json_details   \n",
       "26        gpt-3.5-turbo         qwen2.5-72b  product  from_json_details   \n",
       "28           gpt-4-1106         qwen2.5-72b  product  from_json_details   \n",
       "30          qwen2.5-72b         qwen2.5-72b  product  from_json_details   \n",
       "40          qwen2.5-72b       gpt-3.5-turbo  product  from_json_details   \n",
       "42          qwen2.5-72b          gpt-4-1106  product  from_json_details   \n",
       "44        mixtral-8x22b  meta-llama-3.1-70b  product  from_json_details   \n",
       "46   meta-llama-3.1-70b  meta-llama-3.1-70b  product  from_json_details   \n",
       "50        mixtral-8x22b       mixtral-8x22b  product  from_json_details   \n",
       "52   meta-llama-3.1-70b       mixtral-8x22b  product  from_json_details   \n",
       "58        mixtral-8x22b         qwen2.5-72b  product  from_json_details   \n",
       "60   meta-llama-3.1-70b         qwen2.5-72b  product  from_json_details   \n",
       "64        mixtral-8x22b       gpt-3.5-turbo  product  from_json_details   \n",
       "66   meta-llama-3.1-70b       gpt-3.5-turbo  product  from_json_details   \n",
       "69        mixtral-8x22b          gpt-4-1106  product  from_json_details   \n",
       "71   meta-llama-3.1-70b          gpt-4-1106  product  from_json_details   \n",
       "100          gpt-4-1106              humans  product  from_json_details   \n",
       "102       gpt-3.5-turbo              humans  product  from_json_details   \n",
       "\n",
       "     value  size  llm_count  \\\n",
       "0    0.714   210        150   \n",
       "2    0.898   216        194   \n",
       "4    0.928   180        167   \n",
       "6    0.644   219        141   \n",
       "12   0.759   220        167   \n",
       "14   0.950   220        209   \n",
       "18   0.555   220        122   \n",
       "20   0.768   220        169   \n",
       "22   0.749   219        164   \n",
       "24   0.977   220        215   \n",
       "26   0.627   220        138   \n",
       "28   0.891   220        196   \n",
       "30   0.927   220        204   \n",
       "40   0.949   215        204   \n",
       "42   0.931   216        201   \n",
       "44   0.591   220        130   \n",
       "46   0.641   220        141   \n",
       "50   0.764   220        168   \n",
       "52   0.909   220        200   \n",
       "58   0.600   220        132   \n",
       "60   0.727   220        160   \n",
       "64   0.627   220        138   \n",
       "66   0.882   220        194   \n",
       "69   0.636   220        140   \n",
       "71   0.795   220        175   \n",
       "100  0.290   214         62   \n",
       "102  0.280   428        120   \n",
       "\n",
       "                                          original_key    ci0    ci1  \\\n",
       "0    product---DESCRIPTION-from_json_details|gpt-3....  0.063  0.059   \n",
       "2    product---DESCRIPTION-from_json_details|gpt-4-...  0.044  0.037   \n",
       "4    product---DESCRIPTION-from_json_details|gpt-4-...  0.042  0.033   \n",
       "6    product---DESCRIPTION-from_json_details|gpt-3....  0.064  0.062   \n",
       "12   product---DESCRIPTION-from_json_details|gpt-3....  0.059  0.054   \n",
       "14   product---DESCRIPTION-from_json_details|gpt-4-...  0.032  0.025   \n",
       "18   product---DESCRIPTION-from_json_details|gpt-3....  0.066  0.065   \n",
       "20   product---DESCRIPTION-from_json_details|gpt-4-...  0.058  0.053   \n",
       "22   product---DESCRIPTION-from_json_details|togeth...  0.059  0.055   \n",
       "24   product---DESCRIPTION-from_json_details|togeth...  0.023  0.015   \n",
       "26   product---DESCRIPTION-from_json_details|gpt-3....  0.065  0.063   \n",
       "28   product---DESCRIPTION-from_json_details|gpt-4-...  0.044  0.038   \n",
       "30   product---DESCRIPTION-from_json_details|togeth...  0.038  0.030   \n",
       "40   product---DESCRIPTION-from_json_details|togeth...  0.033  0.025   \n",
       "42   product---DESCRIPTION-from_json_details|togeth...  0.037  0.030   \n",
       "44   product---DESCRIPTION-from_json_details|togeth...  0.066  0.064   \n",
       "46   product---DESCRIPTION-from_json_details|togeth...  0.064  0.062   \n",
       "50   product---DESCRIPTION-from_json_details|togeth...  0.058  0.054   \n",
       "52   product---DESCRIPTION-from_json_details|togeth...  0.041  0.034   \n",
       "58   product---DESCRIPTION-from_json_details|togeth...  0.065  0.064   \n",
       "60   product---DESCRIPTION-from_json_details|togeth...  0.061  0.057   \n",
       "64   product---DESCRIPTION-from_json_details|togeth...  0.065  0.063   \n",
       "66   product---DESCRIPTION-from_json_details|togeth...  0.046  0.039   \n",
       "69   product---DESCRIPTION-from_json_details|togeth...  0.065  0.062   \n",
       "71   product---DESCRIPTION-from_json_details|togeth...  0.056  0.051   \n",
       "100  product---DESCRIPTION-from_json_details|gpt-4-...  0.059  0.062   \n",
       "102  product---DESCRIPTION-from_json_details|gpt-3....  0.042  0.043   \n",
       "\n",
       "       p_value  offset            title  \n",
       "0    4.447e-10  -0.250  product/details  \n",
       "2    1.435e-35  -0.167  product/details  \n",
       "4    3.033e-35  -0.250  product/details  \n",
       "6    2.478e-05  -0.167  product/details  \n",
       "12   6.130e-15   0.083  product/details  \n",
       "14   1.422e-48   0.083  product/details  \n",
       "18   1.208e-01   0.000  product/details  \n",
       "20   5.822e-16   0.000  product/details  \n",
       "22   8.806e-14   0.000  product/details  \n",
       "24   4.984e-57   0.083  product/details  \n",
       "26   1.942e-04   0.167  product/details  \n",
       "28   9.785e-35   0.167  product/details  \n",
       "30   1.059e-42   0.167  product/details  \n",
       "40   3.517e-47  -0.250  product/details  \n",
       "42   9.912e-43  -0.167  product/details  \n",
       "44   8.405e-03   0.000  product/details  \n",
       "46   3.502e-05   0.000  product/details  \n",
       "50   1.913e-15   0.083  product/details  \n",
       "52   1.568e-38   0.083  product/details  \n",
       "58   3.646e-03   0.167  product/details  \n",
       "60   1.093e-11   0.167  product/details  \n",
       "64   1.942e-04  -0.250  product/details  \n",
       "66   5.829e-33  -0.250  product/details  \n",
       "69   6.315e-05  -0.167  product/details  \n",
       "71   2.699e-19  -0.167  product/details  \n",
       "100  6.613e-10  -0.083  product/details  \n",
       "102  3.861e-20  -0.083  product/details  "
      ]
     },
     "execution_count": 9,
     "metadata": {},
     "output_type": "execute_result"
    }
   ],
   "source": [
    "df3 = df2[(df2.name == \"product\") & (df2.ftype == \"from_json_details\")]\n",
    "df3"
   ]
  },
  {
   "cell_type": "code",
   "execution_count": 10,
   "id": "2d218bdc-4d80-4780-86d9-9f3383e2684a",
   "metadata": {},
   "outputs": [
    {
     "data": {
      "application/vnd.plotly.v1+json": {
       "config": {
        "plotlyServerURL": "https://plot.ly"
       },
       "data": [
        {
         "error_y": {
          "array": [
           0.05893765695420061,
           0.06959879765890953,
           0.03790496570834123,
           0.04642301095125223
          ],
          "arrayminus": [
           0.06280338118547879,
           0.07270067614921838,
           0.03801668407517511,
           0.048058764494792294
          ]
         },
         "hovertemplate": "cmp_model=gpt-3.5-turbo<br>desc_model=gpt-3.5-turbo<br>Dataset & Prompts=%{x}<br>value=%{y}<extra></extra>",
         "legendgroup": "gpt-3.5-turbo",
         "marker": {
          "color": "#636efa",
          "size": 10,
          "symbol": "circle"
         },
         "mode": "markers",
         "name": "gpt-3.5-turbo",
         "orientation": "v",
         "showlegend": true,
         "type": "scatter",
         "x": [
          -0.25,
          0.75,
          1.75,
          2.75
         ],
         "xaxis": "x5",
         "y": [
          0.7142857142857143,
          0.6416184971098265,
          0.5195783132530121,
          0.6649214659685864
         ],
         "yaxis": "y5"
        },
        {
         "error_y": {
          "array": [
           0.03298737243566707,
           0.04301422279217948,
           0.03571014160970698,
           0.046251806714121546
          ],
          "arrayminus": [
           0.04195295910900032,
           0.05112878655671915,
           0.036883008801648964,
           0.04838017542164219
          ]
         },
         "hovertemplate": "cmp_model=gpt-3.5-turbo<br>desc_model=gpt-4-1106<br>Dataset & Prompts=%{x}<br>value=%{y}<extra></extra>",
         "legendgroup": "gpt-3.5-turbo",
         "marker": {
          "color": "#636efa",
          "size": 10,
          "symbol": "circle"
         },
         "mode": "markers",
         "name": "gpt-3.5-turbo",
         "orientation": "v",
         "showlegend": false,
         "type": "scatter",
         "x": [
          -0.25,
          0.75,
          1.75,
          2.75
         ],
         "xaxis": "x6",
         "y": [
          0.9277777777777778,
          0.8820224719101124,
          0.6919354838709677,
          0.7011173184357542
         ],
         "yaxis": "y6"
        },
        {
         "error_y": {
          "array": [
           0.025227170060273862,
           0.0328129130400292,
           0.04787201456755452,
           0.07598557770029946
          ],
          "arrayminus": [
           0.03309249948948967,
           0.04007330185803004,
           0.0488583318636191,
           0.07662746318887653
          ]
         },
         "hovertemplate": "cmp_model=gpt-3.5-turbo<br>desc_model=qwen2.5-72b<br>Dataset & Prompts=%{x}<br>value=%{y}<extra></extra>",
         "legendgroup": "gpt-3.5-turbo",
         "marker": {
          "color": "#636efa",
          "size": 10,
          "symbol": "circle"
         },
         "mode": "markers",
         "name": "gpt-3.5-turbo",
         "orientation": "v",
         "showlegend": false,
         "type": "scatter",
         "x": [
          -0.25,
          0.75,
          2.75,
          1.75
         ],
         "xaxis": "x3",
         "y": [
          0.9488372093023256,
          0.9170506912442397,
          0.6020408163265306,
          0.5276073619631901
         ],
         "yaxis": "y3"
        },
        {
         "error_y": {
          "array": [
           0.06258472656538994,
           0.06296718888470387,
           0.042774129047692844,
           0.07817872040949747
          ],
          "arrayminus": [
           0.06477683029726178,
           0.0650027411194396,
           0.045265753123746366,
           0.07881793461251801
          ]
         },
         "hovertemplate": "cmp_model=gpt-3.5-turbo<br>desc_model=mixtral-8x22b<br>Dataset & Prompts=%{x}<br>value=%{y}<extra></extra>",
         "legendgroup": "gpt-3.5-turbo",
         "marker": {
          "color": "#636efa",
          "size": 10,
          "symbol": "circle"
         },
         "mode": "markers",
         "name": "gpt-3.5-turbo",
         "orientation": "v",
         "showlegend": false,
         "type": "scatter",
         "x": [
          -0.25,
          0.75,
          2.75,
          1.75
         ],
         "xaxis": "x4",
         "y": [
          0.6272727272727273,
          0.6181818181818182,
          0.7459893048128342,
          0.525974025974026
         ],
         "yaxis": "y4"
        },
        {
         "error_y": {
          "array": [
           0.039144438483662225,
           0.0471113517308932,
           0.04646103728936013,
           0.07851837820326923
          ],
          "arrayminus": [
           0.04570903037745988,
           0.052755180908328425,
           0.04799156674624705,
           0.0786781825280351
          ]
         },
         "hovertemplate": "cmp_model=gpt-3.5-turbo<br>desc_model=meta-llama-3.1-70b<br>Dataset & Prompts=%{x}<br>value=%{y}<extra></extra>",
         "legendgroup": "gpt-3.5-turbo",
         "marker": {
          "color": "#636efa",
          "size": 10,
          "symbol": "circle"
         },
         "mode": "markers",
         "name": "gpt-3.5-turbo",
         "orientation": "v",
         "showlegend": false,
         "type": "scatter",
         "x": [
          -0.25,
          0.75,
          2.75,
          1.75
         ],
         "xaxis": "x",
         "y": [
          0.8818181818181818,
          0.8264840182648402,
          0.6563307493540051,
          0.5064935064935064
         ],
         "yaxis": "y"
        },
        {
         "error_y": {
          "array": [
           0.061962737695019365,
           0.06691180278294517,
           0.0776043923633275,
           0.04379124798007078
          ],
          "arrayminus": [
           0.06445135942129887,
           0.06737995686319498,
           0.07924471732429861,
           0.04353359368971493
          ]
         },
         "hovertemplate": "cmp_model=gpt-4-1106<br>desc_model=gpt-3.5-turbo<br>Dataset & Prompts=%{x}<br>value=%{y}<extra></extra>",
         "legendgroup": "gpt-4-1106",
         "marker": {
          "color": "#EF553B",
          "size": 10,
          "symbol": "square"
         },
         "mode": "markers",
         "name": "gpt-4-1106",
         "orientation": "v",
         "showlegend": true,
         "type": "scatter",
         "x": [
          -0.16666666666666666,
          0.8333333333333334,
          1.8333333333333333,
          2.8333333333333335
         ],
         "xaxis": "x5",
         "y": [
          0.6438356164383562,
          0.5260663507109005,
          0.5657894736842105,
          0.466
         ],
         "yaxis": "y5"
        },
        {
         "error_y": {
          "array": [
           0.03660626437966685,
           0.041486679504087354,
           0.060461875945064025,
           0.03958478257801079
          ],
          "arrayminus": [
           0.04357494336444667,
           0.0478372032949429,
           0.06609125201524868,
           0.04114843504505261
          ]
         },
         "hovertemplate": "cmp_model=gpt-4-1106<br>desc_model=gpt-4-1106<br>Dataset & Prompts=%{x}<br>value=%{y}<extra></extra>",
         "legendgroup": "gpt-4-1106",
         "marker": {
          "color": "#EF553B",
          "size": 10,
          "symbol": "square"
         },
         "mode": "markers",
         "name": "gpt-4-1106",
         "orientation": "v",
         "showlegend": false,
         "type": "scatter",
         "x": [
          -0.16666666666666666,
          0.8333333333333334,
          1.8333333333333333,
          2.8333333333333335
         ],
         "xaxis": "x6",
         "y": [
          0.8981481481481481,
          0.867579908675799,
          0.7586206896551724,
          0.7026476578411406
         ],
         "yaxis": "y6"
        },
        {
         "error_y": {
          "array": [
           0.07196250287874861,
           0.029872965553767505,
           0.035422582217976006,
           0.04298044106678389
          ],
          "arrayminus": [
           0.07432274625462365,
           0.0373969047714261,
           0.04242188819668202,
           0.04362729834905421
          ]
         },
         "hovertemplate": "cmp_model=gpt-4-1106<br>desc_model=qwen2.5-72b<br>Dataset & Prompts=%{x}<br>value=%{y}<extra></extra>",
         "legendgroup": "gpt-4-1106",
         "marker": {
          "color": "#EF553B",
          "size": 10,
          "symbol": "square"
         },
         "mode": "markers",
         "name": "gpt-4-1106",
         "orientation": "v",
         "showlegend": false,
         "type": "scatter",
         "x": [
          1.8333333333333333,
          -0.16666666666666666,
          0.8333333333333334,
          2.8333333333333335
         ],
         "xaxis": "x3",
         "y": [
          0.6058823529411764,
          0.9305555555555556,
          0.9036697247706422,
          0.5846774193548387
         ],
         "yaxis": "y3"
        },
        {
         "error_y": {
          "array": [
           0.07263773252648342,
           0.06217810880666719,
           0.0641202413334282,
           0.03939041195521553
          ],
          "arrayminus": [
           0.07501561061952333,
           0.0645267568101493,
           0.0656078164349253,
           0.04091805733876819
          ]
         },
         "hovertemplate": "cmp_model=gpt-4-1106<br>desc_model=mixtral-8x22b<br>Dataset & Prompts=%{x}<br>value=%{y}<extra></extra>",
         "legendgroup": "gpt-4-1106",
         "marker": {
          "color": "#EF553B",
          "size": 10,
          "symbol": "square"
         },
         "mode": "markers",
         "name": "gpt-4-1106",
         "orientation": "v",
         "showlegend": false,
         "type": "scatter",
         "x": [
          1.8333333333333333,
          -0.16666666666666666,
          0.8333333333333334,
          2.8333333333333335
         ],
         "xaxis": "x4",
         "y": [
          0.6047904191616766,
          0.6363636363636364,
          0.5863636363636363,
          0.7008032128514057
         ],
         "yaxis": "y4"
        },
        {
         "error_y": {
          "array": [
           0.0744143224646856,
           0.05054154261564925,
           0.05406253962869145,
           0.043884486513886045
          ],
          "arrayminus": [
           0.07441432246468555,
           0.05562718586002069,
           0.05852326722845469,
           0.043792817566318365
          ]
         },
         "hovertemplate": "cmp_model=gpt-4-1106<br>desc_model=meta-llama-3.1-70b<br>Dataset & Prompts=%{x}<br>value=%{y}<extra></extra>",
         "legendgroup": "gpt-4-1106",
         "marker": {
          "color": "#EF553B",
          "size": 10,
          "symbol": "square"
         },
         "mode": "markers",
         "name": "gpt-4-1106",
         "orientation": "v",
         "showlegend": false,
         "type": "scatter",
         "x": [
          1.8333333333333333,
          -0.16666666666666666,
          0.8333333333333334,
          2.8333333333333335
         ],
         "xaxis": "x",
         "y": [
          0.5,
          0.7954545454545454,
          0.759090909090909,
          0.4879518072289157
         ],
         "yaxis": "y"
        },
        {
         "error_y": {
          "array": [
           0.04344789193847387,
           0.06203592352326642,
           0.11250180920054675
          ],
          "arrayminus": [
           0.04150384113808775,
           0.061455294817492234,
           0.11149088181578426
          ]
         },
         "hovertemplate": "cmp_model=humans<br>desc_model=gpt-3.5-turbo<br>Dataset & Prompts=%{x}<br>value=%{y}<extra></extra>",
         "legendgroup": "humans",
         "marker": {
          "color": "#19d3f3",
          "size": 10,
          "symbol": "diamond"
         },
         "mode": "markers",
         "name": "humans",
         "orientation": "v",
         "showlegend": true,
         "type": "scatter",
         "x": [
          -0.08333333333333333,
          1.9166666666666667,
          2.9166666666666665
         ],
         "xaxis": "x5",
         "y": [
          0.2803738317757009,
          0.46184738955823296,
          0.48
         ],
         "yaxis": "y5"
        },
        {
         "error_y": {
          "array": [
           0.06241621922134777,
           0.052845563933229256,
           0.10816858801950557
          ],
          "arrayminus": [
           0.05869360042764635,
           0.05404068651040694,
           0.09840313982866516
          ]
         },
         "hovertemplate": "cmp_model=humans<br>desc_model=gpt-4-1106<br>Dataset & Prompts=%{x}<br>value=%{y}<extra></extra>",
         "legendgroup": "humans",
         "marker": {
          "color": "#19d3f3",
          "size": 10,
          "symbol": "diamond"
         },
         "mode": "markers",
         "name": "humans",
         "orientation": "v",
         "showlegend": false,
         "type": "scatter",
         "x": [
          -0.08333333333333333,
          1.9166666666666667,
          2.9166666666666665
         ],
         "xaxis": "x6",
         "y": [
          0.2897196261682243,
          0.6012461059190031,
          0.30666666666666664
         ],
         "yaxis": "y6"
        },
        {
         "error_y": {
          "array": [
           0.06499296777389973,
           0.06509525159345042,
           0.07181726797938126,
           0.04349312842033837
          ],
          "arrayminus": [
           0.06593251223109586,
           0.06595650290120036,
           0.0747050930541131,
           0.043781094786018215
          ]
         },
         "hovertemplate": "cmp_model=meta-llama-3.1-70b<br>desc_model=gpt-3.5-turbo<br>Dataset & Prompts=%{x}<br>value=%{y}<extra></extra>",
         "legendgroup": "meta-llama-3.1-70b",
         "marker": {
          "color": "#ab63fa",
          "size": 10,
          "symbol": "x"
         },
         "mode": "markers",
         "name": "meta-llama-3.1-70b",
         "orientation": "v",
         "showlegend": true,
         "type": "scatter",
         "x": [
          0,
          1,
          2,
          3
         ],
         "xaxis": "x5",
         "y": [
          0.5545454545454546,
          0.55,
          0.6265060240963856,
          0.538
         ],
         "yaxis": "y5"
        },
        {
         "error_y": {
          "array": [
           0.05323850100704752,
           0.06055893353723918,
           0.05063734866436631,
           0.03768035926027713
          ],
          "arrayminus": [
           0.05785551857674087,
           0.06345541757813222,
           0.05747517322678797,
           0.03946849085435944
          ]
         },
         "hovertemplate": "cmp_model=meta-llama-3.1-70b<br>desc_model=gpt-4-1106<br>Dataset & Prompts=%{x}<br>value=%{y}<extra></extra>",
         "legendgroup": "meta-llama-3.1-70b",
         "marker": {
          "color": "#ab63fa",
          "size": 10,
          "symbol": "x"
         },
         "mode": "markers",
         "name": "meta-llama-3.1-70b",
         "orientation": "v",
         "showlegend": false,
         "type": "scatter",
         "x": [
          0,
          1,
          2,
          3
         ],
         "xaxis": "x6",
         "y": [
          0.7681818181818182,
          0.6681818181818182,
          0.8306010928961749,
          0.736
         ],
         "yaxis": "y6"
        },
        {
         "error_y": {
          "array": [
           0.055067728979011576,
           0.056409470356605595,
           0.06669030621701422,
           0.04090253217061235
          ],
          "arrayminus": [
           0.059372062816703375,
           0.06047468126068678,
           0.0698455751217647,
           0.04214997714971913
          ]
         },
         "hovertemplate": "cmp_model=meta-llama-3.1-70b<br>desc_model=qwen2.5-72b<br>Dataset & Prompts=%{x}<br>value=%{y}<extra></extra>",
         "legendgroup": "meta-llama-3.1-70b",
         "marker": {
          "color": "#ab63fa",
          "size": 10,
          "symbol": "x"
         },
         "mode": "markers",
         "name": "meta-llama-3.1-70b",
         "orientation": "v",
         "showlegend": false,
         "type": "scatter",
         "x": [
          0,
          1,
          2,
          3
         ],
         "xaxis": "x3",
         "y": [
          0.7488584474885844,
          0.7339449541284404,
          0.654054054054054,
          0.6633064516129032
         ],
         "yaxis": "y3"
        },
        {
         "error_y": {
          "array": [
           0.06397290894403118,
           0.06452805975019005,
           0.06783313800991364,
           0.03900345831007235
          ],
          "arrayminus": [
           0.06553877032654332,
           0.06578076977420255,
           0.07046185036752095,
           0.0405795094236312
          ]
         },
         "hovertemplate": "cmp_model=meta-llama-3.1-70b<br>desc_model=mixtral-8x22b<br>Dataset & Prompts=%{x}<br>value=%{y}<extra></extra>",
         "legendgroup": "meta-llama-3.1-70b",
         "marker": {
          "color": "#ab63fa",
          "size": 10,
          "symbol": "x"
         },
         "mode": "markers",
         "name": "meta-llama-3.1-70b",
         "orientation": "v",
         "showlegend": false,
         "type": "scatter",
         "x": [
          0,
          1,
          2,
          3
         ],
         "xaxis": "x4",
         "y": [
          0.5909090909090909,
          0.5727272727272728,
          0.6290322580645161,
          0.708
         ],
         "yaxis": "y4"
        },
        {
         "error_y": {
          "array": [
           0.061965625141209624,
           0.06314947013366867,
           0.07047451020465734,
           0.04330291640827333
          ],
          "arrayminus": [
           0.06439254232785918,
           0.06510674413903206,
           0.07167944522341402,
           0.04371213034996091
          ]
         },
         "hovertemplate": "cmp_model=meta-llama-3.1-70b<br>desc_model=meta-llama-3.1-70b<br>Dataset & Prompts=%{x}<br>value=%{y}<extra></extra>",
         "legendgroup": "meta-llama-3.1-70b",
         "marker": {
          "color": "#ab63fa",
          "size": 10,
          "symbol": "x"
         },
         "mode": "markers",
         "name": "meta-llama-3.1-70b",
         "orientation": "v",
         "showlegend": false,
         "type": "scatter",
         "x": [
          0,
          1,
          2,
          3
         ],
         "xaxis": "x",
         "y": [
          0.6409090909090909,
          0.6136363636363636,
          0.5591397849462365,
          0.554
         ],
         "yaxis": "y"
        },
        {
         "error_y": {
          "array": [
           0.05406253962869145,
           0.06277895495175367,
           0.0672504612036513,
           0.04101899244239282
          ],
          "arrayminus": [
           0.05852326722845469,
           0.06489278379159347,
           0.07202721526958233,
           0.04258919772607572
          ]
         },
         "hovertemplate": "cmp_model=mixtral-8x22b<br>desc_model=gpt-3.5-turbo<br>Dataset & Prompts=%{x}<br>value=%{y}<extra></extra>",
         "legendgroup": "mixtral-8x22b",
         "marker": {
          "color": "#00cc96",
          "size": 10,
          "symbol": "triangle-left"
         },
         "mode": "markers",
         "name": "mixtral-8x22b",
         "orientation": "v",
         "showlegend": true,
         "type": "scatter",
         "x": [
          0.08333333333333333,
          1.0833333333333333,
          2.0833333333333335,
          3.0833333333333335
         ],
         "xaxis": "x5",
         "y": [
          0.759090909090909,
          0.6227272727272727,
          0.7055214723926381,
          0.6931330472103004
         ],
         "yaxis": "y5"
        },
        {
         "error_y": {
          "array": [
           0.02466280130084697,
           0.020463089054876815,
           0.05417037286451942,
           0.04094796421121394
          ],
          "arrayminus": [
           0.03236907841151515,
           0.02838169636600818,
           0.06044506661999027,
           0.04290001019207801
          ]
         },
         "hovertemplate": "cmp_model=mixtral-8x22b<br>desc_model=gpt-4-1106<br>Dataset & Prompts=%{x}<br>value=%{y}<extra></extra>",
         "legendgroup": "mixtral-8x22b",
         "marker": {
          "color": "#00cc96",
          "size": 10,
          "symbol": "triangle-left"
         },
         "mode": "markers",
         "name": "mixtral-8x22b",
         "orientation": "v",
         "showlegend": false,
         "type": "scatter",
         "x": [
          0.08333333333333333,
          1.0833333333333333,
          2.0833333333333335,
          3.0833333333333335
         ],
         "xaxis": "x6",
         "y": [
          0.95,
          0.9636363636363636,
          0.8032786885245902,
          0.7241379310344828
         ],
         "yaxis": "y6"
        },
        {
         "error_y": {
          "array": [
           0.015273485037932688,
           0.01715344697990584,
           0.06943753697154509,
           0.04265555095532014
          ],
          "arrayminus": [
           0.023375149864658606,
           0.025200201133106503,
           0.0717255621038837,
           0.04401898651881153
          ]
         },
         "hovertemplate": "cmp_model=mixtral-8x22b<br>desc_model=qwen2.5-72b<br>Dataset & Prompts=%{x}<br>value=%{y}<extra></extra>",
         "legendgroup": "mixtral-8x22b",
         "marker": {
          "color": "#00cc96",
          "size": 10,
          "symbol": "triangle-left"
         },
         "mode": "markers",
         "name": "mixtral-8x22b",
         "orientation": "v",
         "showlegend": false,
         "type": "scatter",
         "x": [
          0.08333333333333333,
          1.0833333333333333,
          2.0833333333333335,
          3.0833333333333335
         ],
         "xaxis": "x3",
         "y": [
          0.9772727272727273,
          0.9727272727272728,
          0.6098901098901099,
          0.6637362637362637
         ],
         "yaxis": "y3"
        },
        {
         "error_y": {
          "array": [
           0.0678488355700928,
           0.053654976520220776,
           0.0583138225305474,
           0.038468394196797595
          ],
          "arrayminus": [
           0.07064689535744162,
           0.05819385348113981,
           0.06183622926373589,
           0.04060056723313621
          ]
         },
         "hovertemplate": "cmp_model=mixtral-8x22b<br>desc_model=mixtral-8x22b<br>Dataset & Prompts=%{x}<br>value=%{y}<extra></extra>",
         "legendgroup": "mixtral-8x22b",
         "marker": {
          "color": "#00cc96",
          "size": 10,
          "symbol": "triangle-left"
         },
         "mode": "markers",
         "name": "mixtral-8x22b",
         "orientation": "v",
         "showlegend": false,
         "type": "scatter",
         "x": [
          2.0833333333333335,
          0.08333333333333333,
          1.0833333333333333,
          3.0833333333333335
         ],
         "xaxis": "x4",
         "y": [
          0.6358695652173914,
          0.7636363636363637,
          0.7045454545454546,
          0.7549668874172185
         ],
         "yaxis": "y4"
        },
        {
         "error_y": {
          "array": [
           0.07069199236414858,
           0.03423096937911563,
           0.038383484096472964,
           0.04340065255799852
          ],
          "arrayminus": [
           0.07229367836028011,
           0.04125847322548237,
           0.04502547741320262,
           0.044624636782567784
          ]
         },
         "hovertemplate": "cmp_model=mixtral-8x22b<br>desc_model=meta-llama-3.1-70b<br>Dataset & Prompts=%{x}<br>value=%{y}<extra></extra>",
         "legendgroup": "mixtral-8x22b",
         "marker": {
          "color": "#00cc96",
          "size": 10,
          "symbol": "triangle-left"
         },
         "mode": "markers",
         "name": "mixtral-8x22b",
         "orientation": "v",
         "showlegend": false,
         "type": "scatter",
         "x": [
          2.0833333333333335,
          0.08333333333333333,
          1.0833333333333333,
          3.0833333333333335
         ],
         "xaxis": "x",
         "y": [
          0.5769230769230769,
          0.9090909090909091,
          0.8863636363636364,
          0.6460176991150443
         ],
         "yaxis": "y"
        },
        {
         "error_y": {
          "array": [
           0.06258472656538994,
           0.06509525159345042,
           0.07585131773200643,
           0.04261510612471281
          ],
          "arrayminus": [
           0.06477683029726178,
           0.06595650290120036,
           0.07557625377239985,
           0.04154568808323872
          ]
         },
         "hovertemplate": "cmp_model=qwen2.5-72b<br>desc_model=gpt-3.5-turbo<br>Dataset & Prompts=%{x}<br>value=%{y}<extra></extra>",
         "legendgroup": "qwen2.5-72b",
         "marker": {
          "color": "#FFA15A",
          "size": 10,
          "symbol": "triangle-up"
         },
         "mode": "markers",
         "name": "qwen2.5-72b",
         "orientation": "v",
         "showlegend": true,
         "type": "scatter",
         "x": [
          0.16666666666666666,
          1.1666666666666667,
          2.1666666666666665,
          3.1666666666666665
         ],
         "xaxis": "x5",
         "y": [
          0.6272727272727273,
          0.55,
          0.4879518072289157,
          0.35943775100401604
         ],
         "yaxis": "y5"
        },
        {
         "error_y": {
          "array": [
           0.03760106820965503,
           0.03988500642427806,
           0.056994033384359266,
           0.042225848990785186
          ],
          "arrayminus": [
           0.044320380078942345,
           0.04637212337345009,
           0.06269875469938058,
           0.043074568850067774
          ]
         },
         "hovertemplate": "cmp_model=qwen2.5-72b<br>desc_model=gpt-4-1106<br>Dataset & Prompts=%{x}<br>value=%{y}<extra></extra>",
         "legendgroup": "qwen2.5-72b",
         "marker": {
          "color": "#FFA15A",
          "size": 10,
          "symbol": "triangle-up"
         },
         "mode": "markers",
         "name": "qwen2.5-72b",
         "orientation": "v",
         "showlegend": false,
         "type": "scatter",
         "x": [
          0.16666666666666666,
          1.1666666666666667,
          2.1666666666666665,
          3.1666666666666665
         ],
         "xaxis": "x6",
         "y": [
          0.8909090909090909,
          0.8772727272727273,
          0.7771739130434783,
          0.612
         ],
         "yaxis": "y6"
        },
        {
         "error_y": {
          "array": [
           0.03039309921419553,
           0.043949526648511705,
           0.06970412378871271,
           0.03959537588269124
          ],
          "arrayminus": [
           0.03772606655362687,
           0.04997062926940732,
           0.07153106697551903,
           0.041065373947318906
          ]
         },
         "hovertemplate": "cmp_model=qwen2.5-72b<br>desc_model=qwen2.5-72b<br>Dataset & Prompts=%{x}<br>value=%{y}<extra></extra>",
         "legendgroup": "qwen2.5-72b",
         "marker": {
          "color": "#FFA15A",
          "size": 10,
          "symbol": "triangle-up"
         },
         "mode": "markers",
         "name": "qwen2.5-72b",
         "orientation": "v",
         "showlegend": false,
         "type": "scatter",
         "x": [
          0.16666666666666666,
          1.1666666666666667,
          2.1666666666666665,
          3.1666666666666665
         ],
         "xaxis": "x3",
         "y": [
          0.9272727272727272,
          0.85,
          0.5891891891891892,
          0.694
         ],
         "yaxis": "y3"
        },
        {
         "error_y": {
          "array": [
           0.07032346747958163,
           0.06366098532609987,
           0.06559301137510098,
           0.039577297125457434
          ],
          "arrayminus": [
           0.07163793636742638,
           0.0653834157373423,
           0.06598449341607249,
           0.04106079800709206
          ]
         },
         "hovertemplate": "cmp_model=qwen2.5-72b<br>desc_model=mixtral-8x22b<br>Dataset & Prompts=%{x}<br>value=%{y}<extra></extra>",
         "legendgroup": "qwen2.5-72b",
         "marker": {
          "color": "#FFA15A",
          "size": 10,
          "symbol": "triangle-up"
         },
         "mode": "markers",
         "name": "qwen2.5-72b",
         "orientation": "v",
         "showlegend": false,
         "type": "scatter",
         "x": [
          2.1666666666666665,
          0.16666666666666666,
          1.1666666666666667,
          3.1666666666666665
         ],
         "xaxis": "x4",
         "y": [
          0.5645161290322581,
          0.6,
          0.5227272727272727,
          0.6953907815631263
         ],
         "yaxis": "y4"
        },
        {
         "error_y": {
          "array": [
           0.07158133975891301,
           0.056679523105576446,
           0.0583138225305474,
           0.043502377832958405
          ],
          "arrayminus": [
           0.07158133975891301,
           0.06059299861683287,
           0.06183622926373589,
           0.042896140037371244
          ]
         },
         "hovertemplate": "cmp_model=qwen2.5-72b<br>desc_model=meta-llama-3.1-70b<br>Dataset & Prompts=%{x}<br>value=%{y}<extra></extra>",
         "legendgroup": "qwen2.5-72b",
         "marker": {
          "color": "#FFA15A",
          "size": 10,
          "symbol": "triangle-up"
         },
         "mode": "markers",
         "name": "qwen2.5-72b",
         "orientation": "v",
         "showlegend": false,
         "type": "scatter",
         "x": [
          2.1666666666666665,
          0.16666666666666666,
          1.1666666666666667,
          3.1666666666666665
         ],
         "xaxis": "x",
         "y": [
          0.5,
          0.7272727272727273,
          0.7045454545454546,
          0.42
         ],
         "yaxis": "y"
        }
       ],
       "layout": {
        "annotations": [
         {
          "showarrow": false,
          "text": "desc_model meta-llama-3.1-70b",
          "x": 0.245,
          "xanchor": "center",
          "xref": "paper",
          "y": 0.2866666666666666,
          "yanchor": "bottom",
          "yref": "paper"
         },
         {
          "showarrow": false,
          "text": "desc_model qwen2.5-72b",
          "x": 0.245,
          "xanchor": "center",
          "xref": "paper",
          "y": 0.6433333333333333,
          "yanchor": "bottom",
          "yref": "paper"
         },
         {
          "showarrow": false,
          "text": "desc_model mixtral-8x22b",
          "x": 0.755,
          "xanchor": "center",
          "xref": "paper",
          "y": 0.6433333333333333,
          "yanchor": "bottom",
          "yref": "paper"
         },
         {
          "showarrow": false,
          "text": "desc_model gpt-3.5-turbo",
          "x": 0.245,
          "xanchor": "center",
          "xref": "paper",
          "y": 0.9999999999999999,
          "yanchor": "bottom",
          "yref": "paper"
         },
         {
          "showarrow": false,
          "text": "desc_model gpt-4-1106",
          "x": 0.755,
          "xanchor": "center",
          "xref": "paper",
          "y": 0.9999999999999999,
          "yanchor": "bottom",
          "yref": "paper"
         }
        ],
        "height": 1200,
        "legend": {
         "title": {
          "text": "cmp_model"
         },
         "tracegroupgap": 0
        },
        "margin": {
         "t": 60
        },
        "plot_bgcolor": "rgba(0, 0, 0, 0)",
        "shapes": [
         {
          "line": {
           "width": 0.5
          },
          "type": "line",
          "x0": 0,
          "x1": 1,
          "xref": "x domain",
          "y0": 0.5,
          "y1": 0.5,
          "yref": "y"
         },
         {
          "line": {
           "width": 0.5
          },
          "type": "line",
          "x0": 0,
          "x1": 1,
          "xref": "x3 domain",
          "y0": 0.5,
          "y1": 0.5,
          "yref": "y3"
         },
         {
          "line": {
           "width": 0.5
          },
          "type": "line",
          "x0": 0,
          "x1": 1,
          "xref": "x4 domain",
          "y0": 0.5,
          "y1": 0.5,
          "yref": "y4"
         },
         {
          "line": {
           "width": 0.5
          },
          "type": "line",
          "x0": 0,
          "x1": 1,
          "xref": "x5 domain",
          "y0": 0.5,
          "y1": 0.5,
          "yref": "y5"
         },
         {
          "line": {
           "width": 0.5
          },
          "type": "line",
          "x0": 0,
          "x1": 1,
          "xref": "x6 domain",
          "y0": 0.5,
          "y1": 0.5,
          "yref": "y6"
         },
         {
          "line": {
           "width": 1
          },
          "type": "line",
          "x0": 0,
          "x1": 1,
          "xref": "x domain",
          "y0": 1,
          "y1": 1,
          "yref": "y"
         },
         {
          "line": {
           "width": 1
          },
          "type": "line",
          "x0": 0,
          "x1": 1,
          "xref": "x3 domain",
          "y0": 1,
          "y1": 1,
          "yref": "y3"
         },
         {
          "line": {
           "width": 1
          },
          "type": "line",
          "x0": 0,
          "x1": 1,
          "xref": "x4 domain",
          "y0": 1,
          "y1": 1,
          "yref": "y4"
         },
         {
          "line": {
           "width": 1
          },
          "type": "line",
          "x0": 0,
          "x1": 1,
          "xref": "x5 domain",
          "y0": 1,
          "y1": 1,
          "yref": "y5"
         },
         {
          "line": {
           "width": 1
          },
          "type": "line",
          "x0": 0,
          "x1": 1,
          "xref": "x6 domain",
          "y0": 1,
          "y1": 1,
          "yref": "y6"
         },
         {
          "line": {
           "dash": "10px 10px",
           "width": 0.5
          },
          "type": "line",
          "x0": 0,
          "x1": 1,
          "xref": "x domain",
          "y0": 0.25,
          "y1": 0.25,
          "yref": "y"
         },
         {
          "line": {
           "dash": "10px 10px",
           "width": 0.5
          },
          "type": "line",
          "x0": 0,
          "x1": 1,
          "xref": "x3 domain",
          "y0": 0.25,
          "y1": 0.25,
          "yref": "y3"
         },
         {
          "line": {
           "dash": "10px 10px",
           "width": 0.5
          },
          "type": "line",
          "x0": 0,
          "x1": 1,
          "xref": "x4 domain",
          "y0": 0.25,
          "y1": 0.25,
          "yref": "y4"
         },
         {
          "line": {
           "dash": "10px 10px",
           "width": 0.5
          },
          "type": "line",
          "x0": 0,
          "x1": 1,
          "xref": "x5 domain",
          "y0": 0.25,
          "y1": 0.25,
          "yref": "y5"
         },
         {
          "line": {
           "dash": "10px 10px",
           "width": 0.5
          },
          "type": "line",
          "x0": 0,
          "x1": 1,
          "xref": "x6 domain",
          "y0": 0.25,
          "y1": 0.25,
          "yref": "y6"
         },
         {
          "line": {
           "dash": "10px 10px",
           "width": 0.5
          },
          "type": "line",
          "x0": 0,
          "x1": 1,
          "xref": "x domain",
          "y0": 0.75,
          "y1": 0.75,
          "yref": "y"
         },
         {
          "line": {
           "dash": "10px 10px",
           "width": 0.5
          },
          "type": "line",
          "x0": 0,
          "x1": 1,
          "xref": "x3 domain",
          "y0": 0.75,
          "y1": 0.75,
          "yref": "y3"
         },
         {
          "line": {
           "dash": "10px 10px",
           "width": 0.5
          },
          "type": "line",
          "x0": 0,
          "x1": 1,
          "xref": "x4 domain",
          "y0": 0.75,
          "y1": 0.75,
          "yref": "y4"
         },
         {
          "line": {
           "dash": "10px 10px",
           "width": 0.5
          },
          "type": "line",
          "x0": 0,
          "x1": 1,
          "xref": "x5 domain",
          "y0": 0.75,
          "y1": 0.75,
          "yref": "y5"
         },
         {
          "line": {
           "dash": "10px 10px",
           "width": 0.5
          },
          "type": "line",
          "x0": 0,
          "x1": 1,
          "xref": "x6 domain",
          "y0": 0.75,
          "y1": 0.75,
          "yref": "y6"
         }
        ],
        "template": {
         "data": {
          "bar": [
           {
            "error_x": {
             "color": "#2a3f5f"
            },
            "error_y": {
             "color": "#2a3f5f"
            },
            "marker": {
             "line": {
              "color": "#E5ECF6",
              "width": 0.5
             },
             "pattern": {
              "fillmode": "overlay",
              "size": 10,
              "solidity": 0.2
             }
            },
            "type": "bar"
           }
          ],
          "barpolar": [
           {
            "marker": {
             "line": {
              "color": "#E5ECF6",
              "width": 0.5
             },
             "pattern": {
              "fillmode": "overlay",
              "size": 10,
              "solidity": 0.2
             }
            },
            "type": "barpolar"
           }
          ],
          "carpet": [
           {
            "aaxis": {
             "endlinecolor": "#2a3f5f",
             "gridcolor": "white",
             "linecolor": "white",
             "minorgridcolor": "white",
             "startlinecolor": "#2a3f5f"
            },
            "baxis": {
             "endlinecolor": "#2a3f5f",
             "gridcolor": "white",
             "linecolor": "white",
             "minorgridcolor": "white",
             "startlinecolor": "#2a3f5f"
            },
            "type": "carpet"
           }
          ],
          "choropleth": [
           {
            "colorbar": {
             "outlinewidth": 0,
             "ticks": ""
            },
            "type": "choropleth"
           }
          ],
          "contour": [
           {
            "colorbar": {
             "outlinewidth": 0,
             "ticks": ""
            },
            "colorscale": [
             [
              0,
              "#0d0887"
             ],
             [
              0.1111111111111111,
              "#46039f"
             ],
             [
              0.2222222222222222,
              "#7201a8"
             ],
             [
              0.3333333333333333,
              "#9c179e"
             ],
             [
              0.4444444444444444,
              "#bd3786"
             ],
             [
              0.5555555555555556,
              "#d8576b"
             ],
             [
              0.6666666666666666,
              "#ed7953"
             ],
             [
              0.7777777777777778,
              "#fb9f3a"
             ],
             [
              0.8888888888888888,
              "#fdca26"
             ],
             [
              1,
              "#f0f921"
             ]
            ],
            "type": "contour"
           }
          ],
          "contourcarpet": [
           {
            "colorbar": {
             "outlinewidth": 0,
             "ticks": ""
            },
            "type": "contourcarpet"
           }
          ],
          "heatmap": [
           {
            "colorbar": {
             "outlinewidth": 0,
             "ticks": ""
            },
            "colorscale": [
             [
              0,
              "#0d0887"
             ],
             [
              0.1111111111111111,
              "#46039f"
             ],
             [
              0.2222222222222222,
              "#7201a8"
             ],
             [
              0.3333333333333333,
              "#9c179e"
             ],
             [
              0.4444444444444444,
              "#bd3786"
             ],
             [
              0.5555555555555556,
              "#d8576b"
             ],
             [
              0.6666666666666666,
              "#ed7953"
             ],
             [
              0.7777777777777778,
              "#fb9f3a"
             ],
             [
              0.8888888888888888,
              "#fdca26"
             ],
             [
              1,
              "#f0f921"
             ]
            ],
            "type": "heatmap"
           }
          ],
          "heatmapgl": [
           {
            "colorbar": {
             "outlinewidth": 0,
             "ticks": ""
            },
            "colorscale": [
             [
              0,
              "#0d0887"
             ],
             [
              0.1111111111111111,
              "#46039f"
             ],
             [
              0.2222222222222222,
              "#7201a8"
             ],
             [
              0.3333333333333333,
              "#9c179e"
             ],
             [
              0.4444444444444444,
              "#bd3786"
             ],
             [
              0.5555555555555556,
              "#d8576b"
             ],
             [
              0.6666666666666666,
              "#ed7953"
             ],
             [
              0.7777777777777778,
              "#fb9f3a"
             ],
             [
              0.8888888888888888,
              "#fdca26"
             ],
             [
              1,
              "#f0f921"
             ]
            ],
            "type": "heatmapgl"
           }
          ],
          "histogram": [
           {
            "marker": {
             "pattern": {
              "fillmode": "overlay",
              "size": 10,
              "solidity": 0.2
             }
            },
            "type": "histogram"
           }
          ],
          "histogram2d": [
           {
            "colorbar": {
             "outlinewidth": 0,
             "ticks": ""
            },
            "colorscale": [
             [
              0,
              "#0d0887"
             ],
             [
              0.1111111111111111,
              "#46039f"
             ],
             [
              0.2222222222222222,
              "#7201a8"
             ],
             [
              0.3333333333333333,
              "#9c179e"
             ],
             [
              0.4444444444444444,
              "#bd3786"
             ],
             [
              0.5555555555555556,
              "#d8576b"
             ],
             [
              0.6666666666666666,
              "#ed7953"
             ],
             [
              0.7777777777777778,
              "#fb9f3a"
             ],
             [
              0.8888888888888888,
              "#fdca26"
             ],
             [
              1,
              "#f0f921"
             ]
            ],
            "type": "histogram2d"
           }
          ],
          "histogram2dcontour": [
           {
            "colorbar": {
             "outlinewidth": 0,
             "ticks": ""
            },
            "colorscale": [
             [
              0,
              "#0d0887"
             ],
             [
              0.1111111111111111,
              "#46039f"
             ],
             [
              0.2222222222222222,
              "#7201a8"
             ],
             [
              0.3333333333333333,
              "#9c179e"
             ],
             [
              0.4444444444444444,
              "#bd3786"
             ],
             [
              0.5555555555555556,
              "#d8576b"
             ],
             [
              0.6666666666666666,
              "#ed7953"
             ],
             [
              0.7777777777777778,
              "#fb9f3a"
             ],
             [
              0.8888888888888888,
              "#fdca26"
             ],
             [
              1,
              "#f0f921"
             ]
            ],
            "type": "histogram2dcontour"
           }
          ],
          "mesh3d": [
           {
            "colorbar": {
             "outlinewidth": 0,
             "ticks": ""
            },
            "type": "mesh3d"
           }
          ],
          "parcoords": [
           {
            "line": {
             "colorbar": {
              "outlinewidth": 0,
              "ticks": ""
             }
            },
            "type": "parcoords"
           }
          ],
          "pie": [
           {
            "automargin": true,
            "type": "pie"
           }
          ],
          "scatter": [
           {
            "fillpattern": {
             "fillmode": "overlay",
             "size": 10,
             "solidity": 0.2
            },
            "type": "scatter"
           }
          ],
          "scatter3d": [
           {
            "line": {
             "colorbar": {
              "outlinewidth": 0,
              "ticks": ""
             }
            },
            "marker": {
             "colorbar": {
              "outlinewidth": 0,
              "ticks": ""
             }
            },
            "type": "scatter3d"
           }
          ],
          "scattercarpet": [
           {
            "marker": {
             "colorbar": {
              "outlinewidth": 0,
              "ticks": ""
             }
            },
            "type": "scattercarpet"
           }
          ],
          "scattergeo": [
           {
            "marker": {
             "colorbar": {
              "outlinewidth": 0,
              "ticks": ""
             }
            },
            "type": "scattergeo"
           }
          ],
          "scattergl": [
           {
            "marker": {
             "colorbar": {
              "outlinewidth": 0,
              "ticks": ""
             }
            },
            "type": "scattergl"
           }
          ],
          "scattermapbox": [
           {
            "marker": {
             "colorbar": {
              "outlinewidth": 0,
              "ticks": ""
             }
            },
            "type": "scattermapbox"
           }
          ],
          "scatterpolar": [
           {
            "marker": {
             "colorbar": {
              "outlinewidth": 0,
              "ticks": ""
             }
            },
            "type": "scatterpolar"
           }
          ],
          "scatterpolargl": [
           {
            "marker": {
             "colorbar": {
              "outlinewidth": 0,
              "ticks": ""
             }
            },
            "type": "scatterpolargl"
           }
          ],
          "scatterternary": [
           {
            "marker": {
             "colorbar": {
              "outlinewidth": 0,
              "ticks": ""
             }
            },
            "type": "scatterternary"
           }
          ],
          "surface": [
           {
            "colorbar": {
             "outlinewidth": 0,
             "ticks": ""
            },
            "colorscale": [
             [
              0,
              "#0d0887"
             ],
             [
              0.1111111111111111,
              "#46039f"
             ],
             [
              0.2222222222222222,
              "#7201a8"
             ],
             [
              0.3333333333333333,
              "#9c179e"
             ],
             [
              0.4444444444444444,
              "#bd3786"
             ],
             [
              0.5555555555555556,
              "#d8576b"
             ],
             [
              0.6666666666666666,
              "#ed7953"
             ],
             [
              0.7777777777777778,
              "#fb9f3a"
             ],
             [
              0.8888888888888888,
              "#fdca26"
             ],
             [
              1,
              "#f0f921"
             ]
            ],
            "type": "surface"
           }
          ],
          "table": [
           {
            "cells": {
             "fill": {
              "color": "#EBF0F8"
             },
             "line": {
              "color": "white"
             }
            },
            "header": {
             "fill": {
              "color": "#C8D4E3"
             },
             "line": {
              "color": "white"
             }
            },
            "type": "table"
           }
          ]
         },
         "layout": {
          "annotationdefaults": {
           "arrowcolor": "#2a3f5f",
           "arrowhead": 0,
           "arrowwidth": 1
          },
          "autotypenumbers": "strict",
          "coloraxis": {
           "colorbar": {
            "outlinewidth": 0,
            "ticks": ""
           }
          },
          "colorscale": {
           "diverging": [
            [
             0,
             "#8e0152"
            ],
            [
             0.1,
             "#c51b7d"
            ],
            [
             0.2,
             "#de77ae"
            ],
            [
             0.3,
             "#f1b6da"
            ],
            [
             0.4,
             "#fde0ef"
            ],
            [
             0.5,
             "#f7f7f7"
            ],
            [
             0.6,
             "#e6f5d0"
            ],
            [
             0.7,
             "#b8e186"
            ],
            [
             0.8,
             "#7fbc41"
            ],
            [
             0.9,
             "#4d9221"
            ],
            [
             1,
             "#276419"
            ]
           ],
           "sequential": [
            [
             0,
             "#0d0887"
            ],
            [
             0.1111111111111111,
             "#46039f"
            ],
            [
             0.2222222222222222,
             "#7201a8"
            ],
            [
             0.3333333333333333,
             "#9c179e"
            ],
            [
             0.4444444444444444,
             "#bd3786"
            ],
            [
             0.5555555555555556,
             "#d8576b"
            ],
            [
             0.6666666666666666,
             "#ed7953"
            ],
            [
             0.7777777777777778,
             "#fb9f3a"
            ],
            [
             0.8888888888888888,
             "#fdca26"
            ],
            [
             1,
             "#f0f921"
            ]
           ],
           "sequentialminus": [
            [
             0,
             "#0d0887"
            ],
            [
             0.1111111111111111,
             "#46039f"
            ],
            [
             0.2222222222222222,
             "#7201a8"
            ],
            [
             0.3333333333333333,
             "#9c179e"
            ],
            [
             0.4444444444444444,
             "#bd3786"
            ],
            [
             0.5555555555555556,
             "#d8576b"
            ],
            [
             0.6666666666666666,
             "#ed7953"
            ],
            [
             0.7777777777777778,
             "#fb9f3a"
            ],
            [
             0.8888888888888888,
             "#fdca26"
            ],
            [
             1,
             "#f0f921"
            ]
           ]
          },
          "colorway": [
           "#636efa",
           "#EF553B",
           "#00cc96",
           "#ab63fa",
           "#FFA15A",
           "#19d3f3",
           "#FF6692",
           "#B6E880",
           "#FF97FF",
           "#FECB52"
          ],
          "font": {
           "color": "#2a3f5f"
          },
          "geo": {
           "bgcolor": "white",
           "lakecolor": "white",
           "landcolor": "#E5ECF6",
           "showlakes": true,
           "showland": true,
           "subunitcolor": "white"
          },
          "hoverlabel": {
           "align": "left"
          },
          "hovermode": "closest",
          "mapbox": {
           "style": "light"
          },
          "paper_bgcolor": "white",
          "plot_bgcolor": "#E5ECF6",
          "polar": {
           "angularaxis": {
            "gridcolor": "white",
            "linecolor": "white",
            "ticks": ""
           },
           "bgcolor": "#E5ECF6",
           "radialaxis": {
            "gridcolor": "white",
            "linecolor": "white",
            "ticks": ""
           }
          },
          "scene": {
           "xaxis": {
            "backgroundcolor": "#E5ECF6",
            "gridcolor": "white",
            "gridwidth": 2,
            "linecolor": "white",
            "showbackground": true,
            "ticks": "",
            "zerolinecolor": "white"
           },
           "yaxis": {
            "backgroundcolor": "#E5ECF6",
            "gridcolor": "white",
            "gridwidth": 2,
            "linecolor": "white",
            "showbackground": true,
            "ticks": "",
            "zerolinecolor": "white"
           },
           "zaxis": {
            "backgroundcolor": "#E5ECF6",
            "gridcolor": "white",
            "gridwidth": 2,
            "linecolor": "white",
            "showbackground": true,
            "ticks": "",
            "zerolinecolor": "white"
           }
          },
          "shapedefaults": {
           "line": {
            "color": "#2a3f5f"
           }
          },
          "ternary": {
           "aaxis": {
            "gridcolor": "white",
            "linecolor": "white",
            "ticks": ""
           },
           "baxis": {
            "gridcolor": "white",
            "linecolor": "white",
            "ticks": ""
           },
           "bgcolor": "#E5ECF6",
           "caxis": {
            "gridcolor": "white",
            "linecolor": "white",
            "ticks": ""
           }
          },
          "title": {
           "x": 0.05
          },
          "xaxis": {
           "automargin": true,
           "gridcolor": "white",
           "linecolor": "white",
           "ticks": "",
           "title": {
            "standoff": 15
           },
           "zerolinecolor": "white",
           "zerolinewidth": 2
          },
          "yaxis": {
           "automargin": true,
           "gridcolor": "white",
           "linecolor": "white",
           "ticks": "",
           "title": {
            "standoff": 15
           },
           "zerolinecolor": "white",
           "zerolinewidth": 2
          }
         }
        },
        "width": 1400,
        "xaxis": {
         "anchor": "y",
         "domain": [
          0,
          0.49
         ],
         "linecolor": "black",
         "linewidth": 2,
         "mirror": false,
         "showline": true,
         "ticktext": [
          "product/details",
          "product/listing",
          "paper",
          "movie"
         ],
         "tickvals": [
          0,
          1,
          2,
          3
         ],
         "title": {
          "text": "Dataset & Prompts"
         }
        },
        "xaxis2": {
         "anchor": "y2",
         "domain": [
          0.51,
          1
         ],
         "linecolor": "black",
         "linewidth": 2,
         "matches": "x",
         "mirror": false,
         "showline": true,
         "ticktext": [
          "product/details",
          "product/listing",
          "paper",
          "movie"
         ],
         "tickvals": [
          0,
          1,
          2,
          3
         ],
         "title": {
          "text": "Dataset & Prompts"
         }
        },
        "xaxis3": {
         "anchor": "y3",
         "domain": [
          0,
          0.49
         ],
         "linecolor": "black",
         "linewidth": 2,
         "matches": "x",
         "mirror": false,
         "showline": true,
         "showticklabels": false,
         "ticktext": [
          "product/details",
          "product/listing",
          "paper",
          "movie"
         ],
         "tickvals": [
          0,
          1,
          2,
          3
         ]
        },
        "xaxis4": {
         "anchor": "y4",
         "domain": [
          0.51,
          1
         ],
         "linecolor": "black",
         "linewidth": 2,
         "matches": "x",
         "mirror": false,
         "showline": true,
         "showticklabels": false,
         "ticktext": [
          "product/details",
          "product/listing",
          "paper",
          "movie"
         ],
         "tickvals": [
          0,
          1,
          2,
          3
         ]
        },
        "xaxis5": {
         "anchor": "y5",
         "domain": [
          0,
          0.49
         ],
         "linecolor": "black",
         "linewidth": 2,
         "matches": "x",
         "mirror": false,
         "showline": true,
         "showticklabels": false,
         "ticktext": [
          "product/details",
          "product/listing",
          "paper",
          "movie"
         ],
         "tickvals": [
          0,
          1,
          2,
          3
         ]
        },
        "xaxis6": {
         "anchor": "y6",
         "domain": [
          0.51,
          1
         ],
         "linecolor": "black",
         "linewidth": 2,
         "matches": "x",
         "mirror": false,
         "showline": true,
         "showticklabels": false,
         "ticktext": [
          "product/details",
          "product/listing",
          "paper",
          "movie"
         ],
         "tickvals": [
          0,
          1,
          2,
          3
         ]
        },
        "yaxis": {
         "anchor": "x",
         "domain": [
          0,
          0.2866666666666666
         ],
         "dtick": 0.25,
         "linecolor": "black",
         "linewidth": 2,
         "mirror": false,
         "range": [
          0,
          1
         ],
         "showline": true,
         "title": {
          "text": "value"
         }
        },
        "yaxis2": {
         "anchor": "x2",
         "domain": [
          0,
          0.2866666666666666
         ],
         "dtick": 0.25,
         "linecolor": "black",
         "linewidth": 2,
         "matches": "y",
         "mirror": false,
         "range": [
          0,
          1
         ],
         "showline": true,
         "showticklabels": false
        },
        "yaxis3": {
         "anchor": "x3",
         "domain": [
          0.35666666666666663,
          0.6433333333333333
         ],
         "dtick": 0.25,
         "linecolor": "black",
         "linewidth": 2,
         "matches": "y",
         "mirror": false,
         "range": [
          0,
          1
         ],
         "showline": true,
         "title": {
          "text": "value"
         }
        },
        "yaxis4": {
         "anchor": "x4",
         "domain": [
          0.35666666666666663,
          0.6433333333333333
         ],
         "dtick": 0.25,
         "linecolor": "black",
         "linewidth": 2,
         "matches": "y",
         "mirror": false,
         "range": [
          0,
          1
         ],
         "showline": true,
         "showticklabels": false
        },
        "yaxis5": {
         "anchor": "x5",
         "domain": [
          0.7133333333333333,
          0.9999999999999999
         ],
         "dtick": 0.25,
         "linecolor": "black",
         "linewidth": 2,
         "matches": "y",
         "mirror": false,
         "range": [
          0,
          1
         ],
         "showline": true,
         "title": {
          "text": "value"
         }
        },
        "yaxis6": {
         "anchor": "x6",
         "domain": [
          0.7133333333333333,
          0.9999999999999999
         ],
         "dtick": 0.25,
         "linecolor": "black",
         "linewidth": 2,
         "matches": "y",
         "mirror": false,
         "range": [
          0,
          1
         ],
         "showline": true,
         "showticklabels": false
        }
       }
      }
     },
     "metadata": {},
     "output_type": "display_data"
    }
   ],
   "source": [
    "df = df2.copy()\n",
    "etype_order = {etype: i for i, etype in enumerate(df[\"title\"].unique())}\n",
    "df[\"title_numeric\"] = df[\"title\"].map(etype_order)\n",
    "df[\"xindex\"] = df[\"title_numeric\"] + df[\"offset\"]\n",
    "df.sort_values(\"cmp_model\")\n",
    "syms = [\"circle\", \"square\", \"diamond\", \"x\", \"triangle-left\", \"triangle-up\", \"triangle-down\", \"star\", \"pentagon\"]\n",
    "symbol_map = { name: s for name, s in zip(OFFSET_NAMES, syms) }\n",
    "fig = px.scatter(df, y=\"value\", x=\"xindex\", error_y=\"ci1\", error_y_minus=\"ci0\", symbol=\"cmp_model\", color=\"cmp_model\", facet_col=\"desc_model\", facet_col_wrap=2, width=1400, height=1200, labels={\"xindex\": \"Dataset & Prompts\", \"gen_name\": \"Generator\"}, symbol_map=symbol_map)\n",
    "data = list(fig.data)\n",
    "data.sort(key=lambda x: x.name)\n",
    "fig.data = tuple(data)\n",
    "fig.data\n",
    "fig.update_traces(marker=dict(size=10))\n",
    "fig.update_yaxes(range=[0, 1], dtick = 0.25)\n",
    "fig.update_layout(\n",
    "    plot_bgcolor=\"rgba(0, 0, 0, 0)\",\n",
    ")\n",
    "\n",
    "fig.update_xaxes(\n",
    "    tickvals=list(etype_order.values()),\n",
    "    ticktext=list(etype_order.keys()))\n",
    "fig.add_hline(0.5, line_width=0.5)\n",
    "fig.add_hline(1, line_width=1)\n",
    "fig.add_hline(0.25, line_width=0.5, line_dash=\"10px 10px\")\n",
    "fig.add_hline(0.75, line_width=0.5, line_dash=\"10px 10px\")\n",
    "\n",
    "fig.update_xaxes(showline=True, linewidth=2, linecolor='black', mirror=False)\n",
    "fig.update_yaxes(showline=True, linewidth=2, linecolor='black', mirror=False)\n",
    "fig.for_each_annotation(lambda a: a.update(text=a.text.replace(\"=\", \" \")))\n",
    "#fig.update_layout(legend={\"xanchor\": \"center\", \"x\": 0.5, \"y\": 1.0})"
   ]
  },
  {
   "cell_type": "code",
   "execution_count": 11,
   "id": "acb547c2",
   "metadata": {},
   "outputs": [],
   "source": [
    "def compute_ci(value, size):\n",
    "    alpha = value * size\n",
    "    beta_ = (1 - value) * size\n",
    "    a, b = scipy.stats.beta.interval(0.95, alpha, beta_)\n",
    "    return value - a, b - value "
   ]
  },
  {
   "cell_type": "code",
   "execution_count": 12,
   "id": "e588710b-2946-47c1-bd22-02ccd6ed3d44",
   "metadata": {},
   "outputs": [
    {
     "data": {
      "application/vnd.plotly.v1+json": {
       "config": {
        "plotlyServerURL": "https://plot.ly"
       },
       "data": [
        {
         "error_y": {
          "array": [
           0.05893765695420061,
           0.06959879765890942,
           0.03660626437966685,
           0.041486679504087354
          ],
          "arrayminus": [
           0.06280338118547879,
           0.07270067614921849,
           0.04357494336444667,
           0.04783720329494301
          ]
         },
         "hovertemplate": "cmp_model=LLM<br>desc_model=gpt-3.5-turbo<br>Dataset & Prompts=%{x}<br>value=%{y}<extra></extra>",
         "legendgroup": "LLM",
         "marker": {
          "color": "#636efa",
          "size": 10,
          "symbol": "diamond"
         },
         "mode": "markers",
         "name": "LLM",
         "orientation": "v",
         "showlegend": true,
         "type": "scatter",
         "x": [
          0,
          1,
          2,
          3
         ],
         "xaxis": "x",
         "y": [
          0.5344898802147873,
          0.5423076923076923,
          0.5524060646011866,
          0.5756704980842912
         ],
         "yaxis": "y"
        },
        {
         "error_y": {
          "array": [
           0.03298737243566707,
           0.04301422279217948,
           0.061962737695019365,
           0.06691180278294517
          ],
          "arrayminus": [
           0.04195295910900021,
           0.05112878655671904,
           0.06445135942129887,
           0.06737995686319498
          ]
         },
         "hovertemplate": "cmp_model=LLM<br>desc_model=gpt-4-1106<br>Dataset & Prompts=%{x}<br>value=%{y}<extra></extra>",
         "legendgroup": "LLM",
         "marker": {
          "color": "#636efa",
          "size": 10,
          "symbol": "diamond"
         },
         "mode": "markers",
         "name": "LLM",
         "orientation": "v",
         "showlegend": false,
         "type": "scatter",
         "x": [
          0,
          1,
          2,
          3
         ],
         "xaxis": "x2",
         "y": [
          0.6816447647308181,
          0.7183183183183183,
          0.7850393700787401,
          0.8505203405865658
         ],
         "yaxis": "y2"
        },
        {
         "error_y": {
          "array": [
           0.060461875945063914,
           0.03790496570834123,
           0.0776043923633275,
           0.03571014160970698
          ],
          "arrayminus": [
           0.06609125201524879,
           0.03801668407517511,
           0.07924471732429861,
           0.036883008801648964
          ]
         },
         "hovertemplate": "cmp_model=LLM<br>desc_model=meta-llama-3.1-70b<br>Dataset & Prompts=%{x}<br>value=%{y}<extra></extra>",
         "legendgroup": "LLM",
         "marker": {
          "color": "#636efa",
          "size": 10,
          "symbol": "diamond"
         },
         "mode": "markers",
         "name": "LLM",
         "orientation": "v",
         "showlegend": false,
         "type": "scatter",
         "x": [
          0,
          1,
          2,
          3
         ],
         "xaxis": "x3",
         "y": [
          0.5459991442019684,
          0.5295454545454545,
          0.7909090909090909,
          0.7579617834394905
         ],
         "yaxis": "y3"
        },
        {
         "error_y": {
          "array": [
           0.05406253962869145,
           0.06277895495175367,
           0.02466280130084686,
           0.020463089054876815
          ],
          "arrayminus": [
           0.05852326722845469,
           0.06489278379159347,
           0.03236907841151526,
           0.02838169636600818
          ]
         },
         "hovertemplate": "cmp_model=LLM<br>desc_model=mixtral-8x22b<br>Dataset & Prompts=%{x}<br>value=%{y}<extra></extra>",
         "legendgroup": "LLM",
         "marker": {
          "color": "#636efa",
          "size": 10,
          "symbol": "diamond"
         },
         "mode": "markers",
         "name": "LLM",
         "orientation": "v",
         "showlegend": false,
         "type": "scatter",
         "x": [
          0,
          1,
          2,
          3
         ],
         "xaxis": "x4",
         "y": [
          0.7190189328743546,
          0.5940706955530216,
          0.6436363636363637,
          0.600909090909091
         ],
         "yaxis": "y4"
        },
        {
         "error_y": {
          "array": [
           0.06725046120365141,
           0.05417037286451942,
           0.06499296777389973,
           0.06509525159345053
          ],
          "arrayminus": [
           0.07202721526958233,
           0.06044506661999027,
           0.06593251223109586,
           0.06595650290120031
          ]
         },
         "hovertemplate": "cmp_model=LLM<br>desc_model=qwen2.5-72b<br>Dataset & Prompts=%{x}<br>value=%{y}<extra></extra>",
         "legendgroup": "LLM",
         "marker": {
          "color": "#636efa",
          "size": 10,
          "symbol": "diamond"
         },
         "mode": "markers",
         "name": "LLM",
         "orientation": "v",
         "showlegend": false,
         "type": "scatter",
         "x": [
          0,
          1,
          2,
          3
         ],
         "xaxis": "x5",
         "y": [
          0.6430098332620778,
          0.5988700564971752,
          0.9064220183486239,
          0.8755718206770357
         ],
         "yaxis": "y5"
        }
       ],
       "layout": {
        "annotations": [
         {
          "showarrow": false,
          "text": "desc_model gpt-3.5-turbo",
          "x": 0.09200000000000001,
          "xanchor": "center",
          "xref": "paper",
          "y": 1,
          "yanchor": "bottom",
          "yref": "paper"
         },
         {
          "showarrow": false,
          "text": "desc_model gpt-4-1106",
          "x": 0.29600000000000004,
          "xanchor": "center",
          "xref": "paper",
          "y": 1,
          "yanchor": "bottom",
          "yref": "paper"
         },
         {
          "showarrow": false,
          "text": "desc_model meta-llama-3.1-70b",
          "x": 0.5,
          "xanchor": "center",
          "xref": "paper",
          "y": 1,
          "yanchor": "bottom",
          "yref": "paper"
         },
         {
          "showarrow": false,
          "text": "desc_model mixtral-8x22b",
          "x": 0.7040000000000002,
          "xanchor": "center",
          "xref": "paper",
          "y": 1,
          "yanchor": "bottom",
          "yref": "paper"
         },
         {
          "showarrow": false,
          "text": "desc_model qwen2.5-72b",
          "x": 0.908,
          "xanchor": "center",
          "xref": "paper",
          "y": 1,
          "yanchor": "bottom",
          "yref": "paper"
         }
        ],
        "height": 400,
        "legend": {
         "title": {
          "text": "cmp_model"
         },
         "tracegroupgap": 0
        },
        "margin": {
         "t": 60
        },
        "plot_bgcolor": "rgba(0, 0, 0, 0)",
        "shapes": [
         {
          "line": {
           "width": 0.5
          },
          "type": "line",
          "x0": 0,
          "x1": 1,
          "xref": "x domain",
          "y0": 0.5,
          "y1": 0.5,
          "yref": "y"
         },
         {
          "line": {
           "width": 0.5
          },
          "type": "line",
          "x0": 0,
          "x1": 1,
          "xref": "x2 domain",
          "y0": 0.5,
          "y1": 0.5,
          "yref": "y2"
         },
         {
          "line": {
           "width": 0.5
          },
          "type": "line",
          "x0": 0,
          "x1": 1,
          "xref": "x3 domain",
          "y0": 0.5,
          "y1": 0.5,
          "yref": "y3"
         },
         {
          "line": {
           "width": 0.5
          },
          "type": "line",
          "x0": 0,
          "x1": 1,
          "xref": "x4 domain",
          "y0": 0.5,
          "y1": 0.5,
          "yref": "y4"
         },
         {
          "line": {
           "width": 0.5
          },
          "type": "line",
          "x0": 0,
          "x1": 1,
          "xref": "x5 domain",
          "y0": 0.5,
          "y1": 0.5,
          "yref": "y5"
         },
         {
          "line": {
           "width": 1
          },
          "type": "line",
          "x0": 0,
          "x1": 1,
          "xref": "x domain",
          "y0": 1,
          "y1": 1,
          "yref": "y"
         },
         {
          "line": {
           "width": 1
          },
          "type": "line",
          "x0": 0,
          "x1": 1,
          "xref": "x2 domain",
          "y0": 1,
          "y1": 1,
          "yref": "y2"
         },
         {
          "line": {
           "width": 1
          },
          "type": "line",
          "x0": 0,
          "x1": 1,
          "xref": "x3 domain",
          "y0": 1,
          "y1": 1,
          "yref": "y3"
         },
         {
          "line": {
           "width": 1
          },
          "type": "line",
          "x0": 0,
          "x1": 1,
          "xref": "x4 domain",
          "y0": 1,
          "y1": 1,
          "yref": "y4"
         },
         {
          "line": {
           "width": 1
          },
          "type": "line",
          "x0": 0,
          "x1": 1,
          "xref": "x5 domain",
          "y0": 1,
          "y1": 1,
          "yref": "y5"
         },
         {
          "line": {
           "dash": "10px 10px",
           "width": 0.5
          },
          "type": "line",
          "x0": 0,
          "x1": 1,
          "xref": "x domain",
          "y0": 0.25,
          "y1": 0.25,
          "yref": "y"
         },
         {
          "line": {
           "dash": "10px 10px",
           "width": 0.5
          },
          "type": "line",
          "x0": 0,
          "x1": 1,
          "xref": "x2 domain",
          "y0": 0.25,
          "y1": 0.25,
          "yref": "y2"
         },
         {
          "line": {
           "dash": "10px 10px",
           "width": 0.5
          },
          "type": "line",
          "x0": 0,
          "x1": 1,
          "xref": "x3 domain",
          "y0": 0.25,
          "y1": 0.25,
          "yref": "y3"
         },
         {
          "line": {
           "dash": "10px 10px",
           "width": 0.5
          },
          "type": "line",
          "x0": 0,
          "x1": 1,
          "xref": "x4 domain",
          "y0": 0.25,
          "y1": 0.25,
          "yref": "y4"
         },
         {
          "line": {
           "dash": "10px 10px",
           "width": 0.5
          },
          "type": "line",
          "x0": 0,
          "x1": 1,
          "xref": "x5 domain",
          "y0": 0.25,
          "y1": 0.25,
          "yref": "y5"
         },
         {
          "line": {
           "dash": "10px 10px",
           "width": 0.5
          },
          "type": "line",
          "x0": 0,
          "x1": 1,
          "xref": "x domain",
          "y0": 0.75,
          "y1": 0.75,
          "yref": "y"
         },
         {
          "line": {
           "dash": "10px 10px",
           "width": 0.5
          },
          "type": "line",
          "x0": 0,
          "x1": 1,
          "xref": "x2 domain",
          "y0": 0.75,
          "y1": 0.75,
          "yref": "y2"
         },
         {
          "line": {
           "dash": "10px 10px",
           "width": 0.5
          },
          "type": "line",
          "x0": 0,
          "x1": 1,
          "xref": "x3 domain",
          "y0": 0.75,
          "y1": 0.75,
          "yref": "y3"
         },
         {
          "line": {
           "dash": "10px 10px",
           "width": 0.5
          },
          "type": "line",
          "x0": 0,
          "x1": 1,
          "xref": "x4 domain",
          "y0": 0.75,
          "y1": 0.75,
          "yref": "y4"
         },
         {
          "line": {
           "dash": "10px 10px",
           "width": 0.5
          },
          "type": "line",
          "x0": 0,
          "x1": 1,
          "xref": "x5 domain",
          "y0": 0.75,
          "y1": 0.75,
          "yref": "y5"
         }
        ],
        "template": {
         "data": {
          "bar": [
           {
            "error_x": {
             "color": "#2a3f5f"
            },
            "error_y": {
             "color": "#2a3f5f"
            },
            "marker": {
             "line": {
              "color": "#E5ECF6",
              "width": 0.5
             },
             "pattern": {
              "fillmode": "overlay",
              "size": 10,
              "solidity": 0.2
             }
            },
            "type": "bar"
           }
          ],
          "barpolar": [
           {
            "marker": {
             "line": {
              "color": "#E5ECF6",
              "width": 0.5
             },
             "pattern": {
              "fillmode": "overlay",
              "size": 10,
              "solidity": 0.2
             }
            },
            "type": "barpolar"
           }
          ],
          "carpet": [
           {
            "aaxis": {
             "endlinecolor": "#2a3f5f",
             "gridcolor": "white",
             "linecolor": "white",
             "minorgridcolor": "white",
             "startlinecolor": "#2a3f5f"
            },
            "baxis": {
             "endlinecolor": "#2a3f5f",
             "gridcolor": "white",
             "linecolor": "white",
             "minorgridcolor": "white",
             "startlinecolor": "#2a3f5f"
            },
            "type": "carpet"
           }
          ],
          "choropleth": [
           {
            "colorbar": {
             "outlinewidth": 0,
             "ticks": ""
            },
            "type": "choropleth"
           }
          ],
          "contour": [
           {
            "colorbar": {
             "outlinewidth": 0,
             "ticks": ""
            },
            "colorscale": [
             [
              0,
              "#0d0887"
             ],
             [
              0.1111111111111111,
              "#46039f"
             ],
             [
              0.2222222222222222,
              "#7201a8"
             ],
             [
              0.3333333333333333,
              "#9c179e"
             ],
             [
              0.4444444444444444,
              "#bd3786"
             ],
             [
              0.5555555555555556,
              "#d8576b"
             ],
             [
              0.6666666666666666,
              "#ed7953"
             ],
             [
              0.7777777777777778,
              "#fb9f3a"
             ],
             [
              0.8888888888888888,
              "#fdca26"
             ],
             [
              1,
              "#f0f921"
             ]
            ],
            "type": "contour"
           }
          ],
          "contourcarpet": [
           {
            "colorbar": {
             "outlinewidth": 0,
             "ticks": ""
            },
            "type": "contourcarpet"
           }
          ],
          "heatmap": [
           {
            "colorbar": {
             "outlinewidth": 0,
             "ticks": ""
            },
            "colorscale": [
             [
              0,
              "#0d0887"
             ],
             [
              0.1111111111111111,
              "#46039f"
             ],
             [
              0.2222222222222222,
              "#7201a8"
             ],
             [
              0.3333333333333333,
              "#9c179e"
             ],
             [
              0.4444444444444444,
              "#bd3786"
             ],
             [
              0.5555555555555556,
              "#d8576b"
             ],
             [
              0.6666666666666666,
              "#ed7953"
             ],
             [
              0.7777777777777778,
              "#fb9f3a"
             ],
             [
              0.8888888888888888,
              "#fdca26"
             ],
             [
              1,
              "#f0f921"
             ]
            ],
            "type": "heatmap"
           }
          ],
          "heatmapgl": [
           {
            "colorbar": {
             "outlinewidth": 0,
             "ticks": ""
            },
            "colorscale": [
             [
              0,
              "#0d0887"
             ],
             [
              0.1111111111111111,
              "#46039f"
             ],
             [
              0.2222222222222222,
              "#7201a8"
             ],
             [
              0.3333333333333333,
              "#9c179e"
             ],
             [
              0.4444444444444444,
              "#bd3786"
             ],
             [
              0.5555555555555556,
              "#d8576b"
             ],
             [
              0.6666666666666666,
              "#ed7953"
             ],
             [
              0.7777777777777778,
              "#fb9f3a"
             ],
             [
              0.8888888888888888,
              "#fdca26"
             ],
             [
              1,
              "#f0f921"
             ]
            ],
            "type": "heatmapgl"
           }
          ],
          "histogram": [
           {
            "marker": {
             "pattern": {
              "fillmode": "overlay",
              "size": 10,
              "solidity": 0.2
             }
            },
            "type": "histogram"
           }
          ],
          "histogram2d": [
           {
            "colorbar": {
             "outlinewidth": 0,
             "ticks": ""
            },
            "colorscale": [
             [
              0,
              "#0d0887"
             ],
             [
              0.1111111111111111,
              "#46039f"
             ],
             [
              0.2222222222222222,
              "#7201a8"
             ],
             [
              0.3333333333333333,
              "#9c179e"
             ],
             [
              0.4444444444444444,
              "#bd3786"
             ],
             [
              0.5555555555555556,
              "#d8576b"
             ],
             [
              0.6666666666666666,
              "#ed7953"
             ],
             [
              0.7777777777777778,
              "#fb9f3a"
             ],
             [
              0.8888888888888888,
              "#fdca26"
             ],
             [
              1,
              "#f0f921"
             ]
            ],
            "type": "histogram2d"
           }
          ],
          "histogram2dcontour": [
           {
            "colorbar": {
             "outlinewidth": 0,
             "ticks": ""
            },
            "colorscale": [
             [
              0,
              "#0d0887"
             ],
             [
              0.1111111111111111,
              "#46039f"
             ],
             [
              0.2222222222222222,
              "#7201a8"
             ],
             [
              0.3333333333333333,
              "#9c179e"
             ],
             [
              0.4444444444444444,
              "#bd3786"
             ],
             [
              0.5555555555555556,
              "#d8576b"
             ],
             [
              0.6666666666666666,
              "#ed7953"
             ],
             [
              0.7777777777777778,
              "#fb9f3a"
             ],
             [
              0.8888888888888888,
              "#fdca26"
             ],
             [
              1,
              "#f0f921"
             ]
            ],
            "type": "histogram2dcontour"
           }
          ],
          "mesh3d": [
           {
            "colorbar": {
             "outlinewidth": 0,
             "ticks": ""
            },
            "type": "mesh3d"
           }
          ],
          "parcoords": [
           {
            "line": {
             "colorbar": {
              "outlinewidth": 0,
              "ticks": ""
             }
            },
            "type": "parcoords"
           }
          ],
          "pie": [
           {
            "automargin": true,
            "type": "pie"
           }
          ],
          "scatter": [
           {
            "fillpattern": {
             "fillmode": "overlay",
             "size": 10,
             "solidity": 0.2
            },
            "type": "scatter"
           }
          ],
          "scatter3d": [
           {
            "line": {
             "colorbar": {
              "outlinewidth": 0,
              "ticks": ""
             }
            },
            "marker": {
             "colorbar": {
              "outlinewidth": 0,
              "ticks": ""
             }
            },
            "type": "scatter3d"
           }
          ],
          "scattercarpet": [
           {
            "marker": {
             "colorbar": {
              "outlinewidth": 0,
              "ticks": ""
             }
            },
            "type": "scattercarpet"
           }
          ],
          "scattergeo": [
           {
            "marker": {
             "colorbar": {
              "outlinewidth": 0,
              "ticks": ""
             }
            },
            "type": "scattergeo"
           }
          ],
          "scattergl": [
           {
            "marker": {
             "colorbar": {
              "outlinewidth": 0,
              "ticks": ""
             }
            },
            "type": "scattergl"
           }
          ],
          "scattermapbox": [
           {
            "marker": {
             "colorbar": {
              "outlinewidth": 0,
              "ticks": ""
             }
            },
            "type": "scattermapbox"
           }
          ],
          "scatterpolar": [
           {
            "marker": {
             "colorbar": {
              "outlinewidth": 0,
              "ticks": ""
             }
            },
            "type": "scatterpolar"
           }
          ],
          "scatterpolargl": [
           {
            "marker": {
             "colorbar": {
              "outlinewidth": 0,
              "ticks": ""
             }
            },
            "type": "scatterpolargl"
           }
          ],
          "scatterternary": [
           {
            "marker": {
             "colorbar": {
              "outlinewidth": 0,
              "ticks": ""
             }
            },
            "type": "scatterternary"
           }
          ],
          "surface": [
           {
            "colorbar": {
             "outlinewidth": 0,
             "ticks": ""
            },
            "colorscale": [
             [
              0,
              "#0d0887"
             ],
             [
              0.1111111111111111,
              "#46039f"
             ],
             [
              0.2222222222222222,
              "#7201a8"
             ],
             [
              0.3333333333333333,
              "#9c179e"
             ],
             [
              0.4444444444444444,
              "#bd3786"
             ],
             [
              0.5555555555555556,
              "#d8576b"
             ],
             [
              0.6666666666666666,
              "#ed7953"
             ],
             [
              0.7777777777777778,
              "#fb9f3a"
             ],
             [
              0.8888888888888888,
              "#fdca26"
             ],
             [
              1,
              "#f0f921"
             ]
            ],
            "type": "surface"
           }
          ],
          "table": [
           {
            "cells": {
             "fill": {
              "color": "#EBF0F8"
             },
             "line": {
              "color": "white"
             }
            },
            "header": {
             "fill": {
              "color": "#C8D4E3"
             },
             "line": {
              "color": "white"
             }
            },
            "type": "table"
           }
          ]
         },
         "layout": {
          "annotationdefaults": {
           "arrowcolor": "#2a3f5f",
           "arrowhead": 0,
           "arrowwidth": 1
          },
          "autotypenumbers": "strict",
          "coloraxis": {
           "colorbar": {
            "outlinewidth": 0,
            "ticks": ""
           }
          },
          "colorscale": {
           "diverging": [
            [
             0,
             "#8e0152"
            ],
            [
             0.1,
             "#c51b7d"
            ],
            [
             0.2,
             "#de77ae"
            ],
            [
             0.3,
             "#f1b6da"
            ],
            [
             0.4,
             "#fde0ef"
            ],
            [
             0.5,
             "#f7f7f7"
            ],
            [
             0.6,
             "#e6f5d0"
            ],
            [
             0.7,
             "#b8e186"
            ],
            [
             0.8,
             "#7fbc41"
            ],
            [
             0.9,
             "#4d9221"
            ],
            [
             1,
             "#276419"
            ]
           ],
           "sequential": [
            [
             0,
             "#0d0887"
            ],
            [
             0.1111111111111111,
             "#46039f"
            ],
            [
             0.2222222222222222,
             "#7201a8"
            ],
            [
             0.3333333333333333,
             "#9c179e"
            ],
            [
             0.4444444444444444,
             "#bd3786"
            ],
            [
             0.5555555555555556,
             "#d8576b"
            ],
            [
             0.6666666666666666,
             "#ed7953"
            ],
            [
             0.7777777777777778,
             "#fb9f3a"
            ],
            [
             0.8888888888888888,
             "#fdca26"
            ],
            [
             1,
             "#f0f921"
            ]
           ],
           "sequentialminus": [
            [
             0,
             "#0d0887"
            ],
            [
             0.1111111111111111,
             "#46039f"
            ],
            [
             0.2222222222222222,
             "#7201a8"
            ],
            [
             0.3333333333333333,
             "#9c179e"
            ],
            [
             0.4444444444444444,
             "#bd3786"
            ],
            [
             0.5555555555555556,
             "#d8576b"
            ],
            [
             0.6666666666666666,
             "#ed7953"
            ],
            [
             0.7777777777777778,
             "#fb9f3a"
            ],
            [
             0.8888888888888888,
             "#fdca26"
            ],
            [
             1,
             "#f0f921"
            ]
           ]
          },
          "colorway": [
           "#636efa",
           "#EF553B",
           "#00cc96",
           "#ab63fa",
           "#FFA15A",
           "#19d3f3",
           "#FF6692",
           "#B6E880",
           "#FF97FF",
           "#FECB52"
          ],
          "font": {
           "color": "#2a3f5f"
          },
          "geo": {
           "bgcolor": "white",
           "lakecolor": "white",
           "landcolor": "#E5ECF6",
           "showlakes": true,
           "showland": true,
           "subunitcolor": "white"
          },
          "hoverlabel": {
           "align": "left"
          },
          "hovermode": "closest",
          "mapbox": {
           "style": "light"
          },
          "paper_bgcolor": "white",
          "plot_bgcolor": "#E5ECF6",
          "polar": {
           "angularaxis": {
            "gridcolor": "white",
            "linecolor": "white",
            "ticks": ""
           },
           "bgcolor": "#E5ECF6",
           "radialaxis": {
            "gridcolor": "white",
            "linecolor": "white",
            "ticks": ""
           }
          },
          "scene": {
           "xaxis": {
            "backgroundcolor": "#E5ECF6",
            "gridcolor": "white",
            "gridwidth": 2,
            "linecolor": "white",
            "showbackground": true,
            "ticks": "",
            "zerolinecolor": "white"
           },
           "yaxis": {
            "backgroundcolor": "#E5ECF6",
            "gridcolor": "white",
            "gridwidth": 2,
            "linecolor": "white",
            "showbackground": true,
            "ticks": "",
            "zerolinecolor": "white"
           },
           "zaxis": {
            "backgroundcolor": "#E5ECF6",
            "gridcolor": "white",
            "gridwidth": 2,
            "linecolor": "white",
            "showbackground": true,
            "ticks": "",
            "zerolinecolor": "white"
           }
          },
          "shapedefaults": {
           "line": {
            "color": "#2a3f5f"
           }
          },
          "ternary": {
           "aaxis": {
            "gridcolor": "white",
            "linecolor": "white",
            "ticks": ""
           },
           "baxis": {
            "gridcolor": "white",
            "linecolor": "white",
            "ticks": ""
           },
           "bgcolor": "#E5ECF6",
           "caxis": {
            "gridcolor": "white",
            "linecolor": "white",
            "ticks": ""
           }
          },
          "title": {
           "x": 0.05
          },
          "xaxis": {
           "automargin": true,
           "gridcolor": "white",
           "linecolor": "white",
           "ticks": "",
           "title": {
            "standoff": 15
           },
           "zerolinecolor": "white",
           "zerolinewidth": 2
          },
          "yaxis": {
           "automargin": true,
           "gridcolor": "white",
           "linecolor": "white",
           "ticks": "",
           "title": {
            "standoff": 15
           },
           "zerolinecolor": "white",
           "zerolinewidth": 2
          }
         }
        },
        "width": 1400,
        "xaxis": {
         "anchor": "y",
         "domain": [
          0,
          0.18400000000000002
         ],
         "linecolor": "black",
         "linewidth": 2,
         "mirror": false,
         "showline": true,
         "ticktext": [
          "movie",
          "paper",
          "product/details",
          "product/listing"
         ],
         "tickvals": [
          0,
          1,
          2,
          3
         ],
         "title": {
          "text": "Dataset & Prompts"
         }
        },
        "xaxis2": {
         "anchor": "y2",
         "domain": [
          0.20400000000000001,
          0.388
         ],
         "linecolor": "black",
         "linewidth": 2,
         "matches": "x",
         "mirror": false,
         "showline": true,
         "ticktext": [
          "movie",
          "paper",
          "product/details",
          "product/listing"
         ],
         "tickvals": [
          0,
          1,
          2,
          3
         ],
         "title": {
          "text": "Dataset & Prompts"
         }
        },
        "xaxis3": {
         "anchor": "y3",
         "domain": [
          0.40800000000000003,
          0.5920000000000001
         ],
         "linecolor": "black",
         "linewidth": 2,
         "matches": "x",
         "mirror": false,
         "showline": true,
         "ticktext": [
          "movie",
          "paper",
          "product/details",
          "product/listing"
         ],
         "tickvals": [
          0,
          1,
          2,
          3
         ],
         "title": {
          "text": "Dataset & Prompts"
         }
        },
        "xaxis4": {
         "anchor": "y4",
         "domain": [
          0.6120000000000001,
          0.7960000000000002
         ],
         "linecolor": "black",
         "linewidth": 2,
         "matches": "x",
         "mirror": false,
         "showline": true,
         "ticktext": [
          "movie",
          "paper",
          "product/details",
          "product/listing"
         ],
         "tickvals": [
          0,
          1,
          2,
          3
         ],
         "title": {
          "text": "Dataset & Prompts"
         }
        },
        "xaxis5": {
         "anchor": "y5",
         "domain": [
          0.8160000000000001,
          1
         ],
         "linecolor": "black",
         "linewidth": 2,
         "matches": "x",
         "mirror": false,
         "showline": true,
         "ticktext": [
          "movie",
          "paper",
          "product/details",
          "product/listing"
         ],
         "tickvals": [
          0,
          1,
          2,
          3
         ],
         "title": {
          "text": "Dataset & Prompts"
         }
        },
        "yaxis": {
         "anchor": "x",
         "domain": [
          0,
          1
         ],
         "dtick": 0.25,
         "linecolor": "black",
         "linewidth": 2,
         "mirror": false,
         "range": [
          0,
          1
         ],
         "showline": true,
         "title": {
          "text": "value"
         }
        },
        "yaxis2": {
         "anchor": "x2",
         "domain": [
          0,
          1
         ],
         "dtick": 0.25,
         "linecolor": "black",
         "linewidth": 2,
         "matches": "y",
         "mirror": false,
         "range": [
          0,
          1
         ],
         "showline": true,
         "showticklabels": false
        },
        "yaxis3": {
         "anchor": "x3",
         "domain": [
          0,
          1
         ],
         "dtick": 0.25,
         "linecolor": "black",
         "linewidth": 2,
         "matches": "y",
         "mirror": false,
         "range": [
          0,
          1
         ],
         "showline": true,
         "showticklabels": false
        },
        "yaxis4": {
         "anchor": "x4",
         "domain": [
          0,
          1
         ],
         "dtick": 0.25,
         "linecolor": "black",
         "linewidth": 2,
         "matches": "y",
         "mirror": false,
         "range": [
          0,
          1
         ],
         "showline": true,
         "showticklabels": false
        },
        "yaxis5": {
         "anchor": "x5",
         "domain": [
          0,
          1
         ],
         "dtick": 0.25,
         "linecolor": "black",
         "linewidth": 2,
         "matches": "y",
         "mirror": false,
         "range": [
          0,
          1
         ],
         "showline": true,
         "showticklabels": false
        }
       }
      }
     },
     "metadata": {},
     "output_type": "display_data"
    }
   ],
   "source": [
    "df = df2.copy()\n",
    "df[\"cmp_model\"] = df.cmp_model.apply(lambda x: \"Humans\" if x == \"Humans\" else \"LLM\")\n",
    "def f1(x):\n",
    "    return (x[\"value\"] * x[\"size\"]).sum() / x[\"size\"].sum()\n",
    "g = df.groupby([\"desc_model\", \"cmp_model\", \"title\"])\n",
    "df = pd.DataFrame({\"value\": g.apply(f1, include_groups=False), \"size\": g[\"size\"].sum()}).reset_index()\n",
    "df[[\"ci0\", \"ci1\"]] = df2.apply(lambda x: compute_ci(x[\"value\"], x[\"size\"]), axis=1, result_type='expand')\n",
    "df[\"offset\"] = df.cmp_model.apply(lambda x: -0.1 if x == \"Humans\" else 0)\n",
    "df.sort_values(\"cmp_model\")\n",
    "etype_order = {etype: i for i, etype in sorted(enumerate(df[\"title\"].unique()))}\n",
    "df[\"title_numeric\"] = df[\"title\"].map(etype_order)\n",
    "df[\"xindex\"] = df[\"title_numeric\"] + df[\"offset\"]\n",
    "syms = [\"circle\", \"square\", \"diamond\", \"x\", \"triangle-left\", \"triangle-up\", \"triangle-down\", \"star\", \"pentagon\"]\n",
    "symbol_map = { name: s for name, s in zip(OFFSET_NAMES, syms) }\n",
    "fig = px.scatter(df, y=\"value\", x=\"xindex\", error_y=\"ci1\", error_y_minus=\"ci0\", symbol=\"cmp_model\", color=\"cmp_model\", facet_col=\"desc_model\", width=1400, height=400, labels={\"xindex\": \"Dataset & Prompts\", \"gen_name\": \"Generator\"}, symbol_map=symbol_map)\n",
    "data = list(fig.data)\n",
    "data.sort(key=lambda x: x.name)\n",
    "fig.data = tuple(data)\n",
    "fig.data\n",
    "fig.update_traces(marker=dict(size=10))\n",
    "fig.update_yaxes(range=[0, 1], dtick = 0.25)\n",
    "fig.update_layout(\n",
    "    plot_bgcolor=\"rgba(0, 0, 0, 0)\",\n",
    ")\n",
    "\n",
    "fig.update_xaxes(\n",
    "    tickvals=list(etype_order.values()),\n",
    "    ticktext=list(etype_order.keys()))\n",
    "fig.add_hline(0.5, line_width=0.5)\n",
    "fig.add_hline(1, line_width=1)\n",
    "fig.add_hline(0.25, line_width=0.5, line_dash=\"10px 10px\")\n",
    "fig.add_hline(0.75, line_width=0.5, line_dash=\"10px 10px\")\n",
    "\n",
    "fig.update_xaxes(showline=True, linewidth=2, linecolor='black', mirror=False)\n",
    "fig.update_yaxes(showline=True, linewidth=2, linecolor='black', mirror=False)\n",
    "fig.for_each_annotation(lambda a: a.update(text=a.text.replace(\"=\", \" \")))\n",
    "#fig.update_layout(legend={\"xanchor\": \"center\", \"x\": 0.5, \"y\": 1.0})"
   ]
  },
  {
   "cell_type": "code",
   "execution_count": 13,
   "id": "21cd259b-875f-4fd3-b9f3-c2ce47ae79e5",
   "metadata": {},
   "outputs": [
    {
     "data": {
      "application/vnd.plotly.v1+json": {
       "config": {
        "plotlyServerURL": "https://plot.ly"
       },
       "data": [
        {
         "error_y": {
          "array": [
           0.05893765695420061,
           0.06959879765890942,
           0.03660626437966685,
           0.041486679504087354
          ],
          "arrayminus": [
           0.06280338118547879,
           0.07270067614921849,
           0.04357494336444667,
           0.04783720329494301
          ]
         },
         "hovertemplate": "cmp_model=LLM<br>Dataset & Prompts=%{x}<br>value=%{y}<extra></extra>",
         "legendgroup": "LLM",
         "marker": {
          "color": "#636efa",
          "size": 10,
          "symbol": "diamond"
         },
         "mode": "markers",
         "name": "LLM",
         "orientation": "v",
         "showlegend": true,
         "type": "scatter",
         "x": [
          0,
          1,
          2,
          3
         ],
         "xaxis": "x",
         "y": [
          0.6241935483870967,
          0.6066132606101926,
          0.7242060227085733,
          0.7326163545336547
         ],
         "yaxis": "y"
        }
       ],
       "layout": {
        "height": 400,
        "legend": {
         "title": {
          "text": "cmp_model"
         },
         "tracegroupgap": 0
        },
        "margin": {
         "t": 60
        },
        "plot_bgcolor": "rgba(0, 0, 0, 0)",
        "shapes": [
         {
          "line": {
           "width": 0.5
          },
          "type": "line",
          "x0": 0,
          "x1": 1,
          "xref": "x domain",
          "y0": 0.5,
          "y1": 0.5,
          "yref": "y"
         },
         {
          "line": {
           "width": 1
          },
          "type": "line",
          "x0": 0,
          "x1": 1,
          "xref": "x domain",
          "y0": 1,
          "y1": 1,
          "yref": "y"
         },
         {
          "line": {
           "dash": "10px 10px",
           "width": 0.5
          },
          "type": "line",
          "x0": 0,
          "x1": 1,
          "xref": "x domain",
          "y0": 0.25,
          "y1": 0.25,
          "yref": "y"
         },
         {
          "line": {
           "dash": "10px 10px",
           "width": 0.5
          },
          "type": "line",
          "x0": 0,
          "x1": 1,
          "xref": "x domain",
          "y0": 0.75,
          "y1": 0.75,
          "yref": "y"
         }
        ],
        "template": {
         "data": {
          "bar": [
           {
            "error_x": {
             "color": "#2a3f5f"
            },
            "error_y": {
             "color": "#2a3f5f"
            },
            "marker": {
             "line": {
              "color": "#E5ECF6",
              "width": 0.5
             },
             "pattern": {
              "fillmode": "overlay",
              "size": 10,
              "solidity": 0.2
             }
            },
            "type": "bar"
           }
          ],
          "barpolar": [
           {
            "marker": {
             "line": {
              "color": "#E5ECF6",
              "width": 0.5
             },
             "pattern": {
              "fillmode": "overlay",
              "size": 10,
              "solidity": 0.2
             }
            },
            "type": "barpolar"
           }
          ],
          "carpet": [
           {
            "aaxis": {
             "endlinecolor": "#2a3f5f",
             "gridcolor": "white",
             "linecolor": "white",
             "minorgridcolor": "white",
             "startlinecolor": "#2a3f5f"
            },
            "baxis": {
             "endlinecolor": "#2a3f5f",
             "gridcolor": "white",
             "linecolor": "white",
             "minorgridcolor": "white",
             "startlinecolor": "#2a3f5f"
            },
            "type": "carpet"
           }
          ],
          "choropleth": [
           {
            "colorbar": {
             "outlinewidth": 0,
             "ticks": ""
            },
            "type": "choropleth"
           }
          ],
          "contour": [
           {
            "colorbar": {
             "outlinewidth": 0,
             "ticks": ""
            },
            "colorscale": [
             [
              0,
              "#0d0887"
             ],
             [
              0.1111111111111111,
              "#46039f"
             ],
             [
              0.2222222222222222,
              "#7201a8"
             ],
             [
              0.3333333333333333,
              "#9c179e"
             ],
             [
              0.4444444444444444,
              "#bd3786"
             ],
             [
              0.5555555555555556,
              "#d8576b"
             ],
             [
              0.6666666666666666,
              "#ed7953"
             ],
             [
              0.7777777777777778,
              "#fb9f3a"
             ],
             [
              0.8888888888888888,
              "#fdca26"
             ],
             [
              1,
              "#f0f921"
             ]
            ],
            "type": "contour"
           }
          ],
          "contourcarpet": [
           {
            "colorbar": {
             "outlinewidth": 0,
             "ticks": ""
            },
            "type": "contourcarpet"
           }
          ],
          "heatmap": [
           {
            "colorbar": {
             "outlinewidth": 0,
             "ticks": ""
            },
            "colorscale": [
             [
              0,
              "#0d0887"
             ],
             [
              0.1111111111111111,
              "#46039f"
             ],
             [
              0.2222222222222222,
              "#7201a8"
             ],
             [
              0.3333333333333333,
              "#9c179e"
             ],
             [
              0.4444444444444444,
              "#bd3786"
             ],
             [
              0.5555555555555556,
              "#d8576b"
             ],
             [
              0.6666666666666666,
              "#ed7953"
             ],
             [
              0.7777777777777778,
              "#fb9f3a"
             ],
             [
              0.8888888888888888,
              "#fdca26"
             ],
             [
              1,
              "#f0f921"
             ]
            ],
            "type": "heatmap"
           }
          ],
          "heatmapgl": [
           {
            "colorbar": {
             "outlinewidth": 0,
             "ticks": ""
            },
            "colorscale": [
             [
              0,
              "#0d0887"
             ],
             [
              0.1111111111111111,
              "#46039f"
             ],
             [
              0.2222222222222222,
              "#7201a8"
             ],
             [
              0.3333333333333333,
              "#9c179e"
             ],
             [
              0.4444444444444444,
              "#bd3786"
             ],
             [
              0.5555555555555556,
              "#d8576b"
             ],
             [
              0.6666666666666666,
              "#ed7953"
             ],
             [
              0.7777777777777778,
              "#fb9f3a"
             ],
             [
              0.8888888888888888,
              "#fdca26"
             ],
             [
              1,
              "#f0f921"
             ]
            ],
            "type": "heatmapgl"
           }
          ],
          "histogram": [
           {
            "marker": {
             "pattern": {
              "fillmode": "overlay",
              "size": 10,
              "solidity": 0.2
             }
            },
            "type": "histogram"
           }
          ],
          "histogram2d": [
           {
            "colorbar": {
             "outlinewidth": 0,
             "ticks": ""
            },
            "colorscale": [
             [
              0,
              "#0d0887"
             ],
             [
              0.1111111111111111,
              "#46039f"
             ],
             [
              0.2222222222222222,
              "#7201a8"
             ],
             [
              0.3333333333333333,
              "#9c179e"
             ],
             [
              0.4444444444444444,
              "#bd3786"
             ],
             [
              0.5555555555555556,
              "#d8576b"
             ],
             [
              0.6666666666666666,
              "#ed7953"
             ],
             [
              0.7777777777777778,
              "#fb9f3a"
             ],
             [
              0.8888888888888888,
              "#fdca26"
             ],
             [
              1,
              "#f0f921"
             ]
            ],
            "type": "histogram2d"
           }
          ],
          "histogram2dcontour": [
           {
            "colorbar": {
             "outlinewidth": 0,
             "ticks": ""
            },
            "colorscale": [
             [
              0,
              "#0d0887"
             ],
             [
              0.1111111111111111,
              "#46039f"
             ],
             [
              0.2222222222222222,
              "#7201a8"
             ],
             [
              0.3333333333333333,
              "#9c179e"
             ],
             [
              0.4444444444444444,
              "#bd3786"
             ],
             [
              0.5555555555555556,
              "#d8576b"
             ],
             [
              0.6666666666666666,
              "#ed7953"
             ],
             [
              0.7777777777777778,
              "#fb9f3a"
             ],
             [
              0.8888888888888888,
              "#fdca26"
             ],
             [
              1,
              "#f0f921"
             ]
            ],
            "type": "histogram2dcontour"
           }
          ],
          "mesh3d": [
           {
            "colorbar": {
             "outlinewidth": 0,
             "ticks": ""
            },
            "type": "mesh3d"
           }
          ],
          "parcoords": [
           {
            "line": {
             "colorbar": {
              "outlinewidth": 0,
              "ticks": ""
             }
            },
            "type": "parcoords"
           }
          ],
          "pie": [
           {
            "automargin": true,
            "type": "pie"
           }
          ],
          "scatter": [
           {
            "fillpattern": {
             "fillmode": "overlay",
             "size": 10,
             "solidity": 0.2
            },
            "type": "scatter"
           }
          ],
          "scatter3d": [
           {
            "line": {
             "colorbar": {
              "outlinewidth": 0,
              "ticks": ""
             }
            },
            "marker": {
             "colorbar": {
              "outlinewidth": 0,
              "ticks": ""
             }
            },
            "type": "scatter3d"
           }
          ],
          "scattercarpet": [
           {
            "marker": {
             "colorbar": {
              "outlinewidth": 0,
              "ticks": ""
             }
            },
            "type": "scattercarpet"
           }
          ],
          "scattergeo": [
           {
            "marker": {
             "colorbar": {
              "outlinewidth": 0,
              "ticks": ""
             }
            },
            "type": "scattergeo"
           }
          ],
          "scattergl": [
           {
            "marker": {
             "colorbar": {
              "outlinewidth": 0,
              "ticks": ""
             }
            },
            "type": "scattergl"
           }
          ],
          "scattermapbox": [
           {
            "marker": {
             "colorbar": {
              "outlinewidth": 0,
              "ticks": ""
             }
            },
            "type": "scattermapbox"
           }
          ],
          "scatterpolar": [
           {
            "marker": {
             "colorbar": {
              "outlinewidth": 0,
              "ticks": ""
             }
            },
            "type": "scatterpolar"
           }
          ],
          "scatterpolargl": [
           {
            "marker": {
             "colorbar": {
              "outlinewidth": 0,
              "ticks": ""
             }
            },
            "type": "scatterpolargl"
           }
          ],
          "scatterternary": [
           {
            "marker": {
             "colorbar": {
              "outlinewidth": 0,
              "ticks": ""
             }
            },
            "type": "scatterternary"
           }
          ],
          "surface": [
           {
            "colorbar": {
             "outlinewidth": 0,
             "ticks": ""
            },
            "colorscale": [
             [
              0,
              "#0d0887"
             ],
             [
              0.1111111111111111,
              "#46039f"
             ],
             [
              0.2222222222222222,
              "#7201a8"
             ],
             [
              0.3333333333333333,
              "#9c179e"
             ],
             [
              0.4444444444444444,
              "#bd3786"
             ],
             [
              0.5555555555555556,
              "#d8576b"
             ],
             [
              0.6666666666666666,
              "#ed7953"
             ],
             [
              0.7777777777777778,
              "#fb9f3a"
             ],
             [
              0.8888888888888888,
              "#fdca26"
             ],
             [
              1,
              "#f0f921"
             ]
            ],
            "type": "surface"
           }
          ],
          "table": [
           {
            "cells": {
             "fill": {
              "color": "#EBF0F8"
             },
             "line": {
              "color": "white"
             }
            },
            "header": {
             "fill": {
              "color": "#C8D4E3"
             },
             "line": {
              "color": "white"
             }
            },
            "type": "table"
           }
          ]
         },
         "layout": {
          "annotationdefaults": {
           "arrowcolor": "#2a3f5f",
           "arrowhead": 0,
           "arrowwidth": 1
          },
          "autotypenumbers": "strict",
          "coloraxis": {
           "colorbar": {
            "outlinewidth": 0,
            "ticks": ""
           }
          },
          "colorscale": {
           "diverging": [
            [
             0,
             "#8e0152"
            ],
            [
             0.1,
             "#c51b7d"
            ],
            [
             0.2,
             "#de77ae"
            ],
            [
             0.3,
             "#f1b6da"
            ],
            [
             0.4,
             "#fde0ef"
            ],
            [
             0.5,
             "#f7f7f7"
            ],
            [
             0.6,
             "#e6f5d0"
            ],
            [
             0.7,
             "#b8e186"
            ],
            [
             0.8,
             "#7fbc41"
            ],
            [
             0.9,
             "#4d9221"
            ],
            [
             1,
             "#276419"
            ]
           ],
           "sequential": [
            [
             0,
             "#0d0887"
            ],
            [
             0.1111111111111111,
             "#46039f"
            ],
            [
             0.2222222222222222,
             "#7201a8"
            ],
            [
             0.3333333333333333,
             "#9c179e"
            ],
            [
             0.4444444444444444,
             "#bd3786"
            ],
            [
             0.5555555555555556,
             "#d8576b"
            ],
            [
             0.6666666666666666,
             "#ed7953"
            ],
            [
             0.7777777777777778,
             "#fb9f3a"
            ],
            [
             0.8888888888888888,
             "#fdca26"
            ],
            [
             1,
             "#f0f921"
            ]
           ],
           "sequentialminus": [
            [
             0,
             "#0d0887"
            ],
            [
             0.1111111111111111,
             "#46039f"
            ],
            [
             0.2222222222222222,
             "#7201a8"
            ],
            [
             0.3333333333333333,
             "#9c179e"
            ],
            [
             0.4444444444444444,
             "#bd3786"
            ],
            [
             0.5555555555555556,
             "#d8576b"
            ],
            [
             0.6666666666666666,
             "#ed7953"
            ],
            [
             0.7777777777777778,
             "#fb9f3a"
            ],
            [
             0.8888888888888888,
             "#fdca26"
            ],
            [
             1,
             "#f0f921"
            ]
           ]
          },
          "colorway": [
           "#636efa",
           "#EF553B",
           "#00cc96",
           "#ab63fa",
           "#FFA15A",
           "#19d3f3",
           "#FF6692",
           "#B6E880",
           "#FF97FF",
           "#FECB52"
          ],
          "font": {
           "color": "#2a3f5f"
          },
          "geo": {
           "bgcolor": "white",
           "lakecolor": "white",
           "landcolor": "#E5ECF6",
           "showlakes": true,
           "showland": true,
           "subunitcolor": "white"
          },
          "hoverlabel": {
           "align": "left"
          },
          "hovermode": "closest",
          "mapbox": {
           "style": "light"
          },
          "paper_bgcolor": "white",
          "plot_bgcolor": "#E5ECF6",
          "polar": {
           "angularaxis": {
            "gridcolor": "white",
            "linecolor": "white",
            "ticks": ""
           },
           "bgcolor": "#E5ECF6",
           "radialaxis": {
            "gridcolor": "white",
            "linecolor": "white",
            "ticks": ""
           }
          },
          "scene": {
           "xaxis": {
            "backgroundcolor": "#E5ECF6",
            "gridcolor": "white",
            "gridwidth": 2,
            "linecolor": "white",
            "showbackground": true,
            "ticks": "",
            "zerolinecolor": "white"
           },
           "yaxis": {
            "backgroundcolor": "#E5ECF6",
            "gridcolor": "white",
            "gridwidth": 2,
            "linecolor": "white",
            "showbackground": true,
            "ticks": "",
            "zerolinecolor": "white"
           },
           "zaxis": {
            "backgroundcolor": "#E5ECF6",
            "gridcolor": "white",
            "gridwidth": 2,
            "linecolor": "white",
            "showbackground": true,
            "ticks": "",
            "zerolinecolor": "white"
           }
          },
          "shapedefaults": {
           "line": {
            "color": "#2a3f5f"
           }
          },
          "ternary": {
           "aaxis": {
            "gridcolor": "white",
            "linecolor": "white",
            "ticks": ""
           },
           "baxis": {
            "gridcolor": "white",
            "linecolor": "white",
            "ticks": ""
           },
           "bgcolor": "#E5ECF6",
           "caxis": {
            "gridcolor": "white",
            "linecolor": "white",
            "ticks": ""
           }
          },
          "title": {
           "x": 0.05
          },
          "xaxis": {
           "automargin": true,
           "gridcolor": "white",
           "linecolor": "white",
           "ticks": "",
           "title": {
            "standoff": 15
           },
           "zerolinecolor": "white",
           "zerolinewidth": 2
          },
          "yaxis": {
           "automargin": true,
           "gridcolor": "white",
           "linecolor": "white",
           "ticks": "",
           "title": {
            "standoff": 15
           },
           "zerolinecolor": "white",
           "zerolinewidth": 2
          }
         }
        },
        "width": 500,
        "xaxis": {
         "anchor": "y",
         "domain": [
          0,
          1
         ],
         "linecolor": "black",
         "linewidth": 2,
         "mirror": false,
         "showline": true,
         "ticktext": [
          "movie",
          "paper",
          "product/details",
          "product/listing"
         ],
         "tickvals": [
          0,
          1,
          2,
          3
         ],
         "title": {
          "text": "Dataset & Prompts"
         }
        },
        "yaxis": {
         "anchor": "x",
         "domain": [
          0,
          1
         ],
         "dtick": 0.25,
         "linecolor": "black",
         "linewidth": 2,
         "mirror": false,
         "range": [
          0,
          1
         ],
         "showline": true,
         "title": {
          "text": "value"
         }
        }
       }
      }
     },
     "metadata": {},
     "output_type": "display_data"
    }
   ],
   "source": [
    "df = df2.copy()\n",
    "df[\"cmp_model\"] = df.cmp_model.apply(lambda x: \"Humans\" if x == \"Humans\" else \"LLM\")\n",
    "def f1(x):\n",
    "    return (x[\"value\"] * x[\"size\"]).sum() / x[\"size\"].sum()\n",
    "g = df.groupby([\"cmp_model\", \"title\"])\n",
    "df = pd.DataFrame({\"value\": g.apply(f1, include_groups=False), \"size\": g[\"size\"].sum()}).reset_index()\n",
    "df[[\"ci0\", \"ci1\"]] = df2.apply(lambda x: compute_ci(x[\"value\"], x[\"size\"]), axis=1, result_type='expand')\n",
    "df[\"offset\"] = df.cmp_model.apply(lambda x: -0.1 if x == \"Humans\" else 0)\n",
    "df.sort_values(\"cmp_model\")\n",
    "etype_order = {etype: i for i, etype in sorted(enumerate(df[\"title\"].unique()))}\n",
    "df[\"title_numeric\"] = df[\"title\"].map(etype_order)\n",
    "df[\"xindex\"] = df[\"title_numeric\"] + df[\"offset\"]\n",
    "syms = [\"circle\", \"square\", \"diamond\", \"x\", \"triangle-left\", \"triangle-up\", \"triangle-down\", \"star\", \"pentagon\"]\n",
    "symbol_map = { name: s for name, s in zip(OFFSET_NAMES, syms) }\n",
    "fig = px.scatter(df, y=\"value\", x=\"xindex\", error_y=\"ci1\", error_y_minus=\"ci0\", symbol=\"cmp_model\", color=\"cmp_model\", width=500, height=400, labels={\"xindex\": \"Dataset & Prompts\", \"gen_name\": \"Generator\"}, symbol_map=symbol_map)\n",
    "data = list(fig.data)\n",
    "data.sort(key=lambda x: x.name)\n",
    "fig.data = tuple(data)\n",
    "fig.data\n",
    "fig.update_traces(marker=dict(size=10))\n",
    "fig.update_yaxes(range=[0, 1], dtick = 0.25)\n",
    "fig.update_layout(\n",
    "    plot_bgcolor=\"rgba(0, 0, 0, 0)\",\n",
    ")\n",
    "\n",
    "fig.update_xaxes(\n",
    "    tickvals=list(etype_order.values()),\n",
    "    ticktext=list(etype_order.keys()))\n",
    "fig.add_hline(0.5, line_width=0.5)\n",
    "fig.add_hline(1, line_width=1)\n",
    "fig.add_hline(0.25, line_width=0.5, line_dash=\"10px 10px\")\n",
    "fig.add_hline(0.75, line_width=0.5, line_dash=\"10px 10px\")\n",
    "\n",
    "fig.update_xaxes(showline=True, linewidth=2, linecolor='black', mirror=False)\n",
    "fig.update_yaxes(showline=True, linewidth=2, linecolor='black', mirror=False)\n",
    "fig.for_each_annotation(lambda a: a.update(text=a.text.replace(\"=\", \" \")))\n",
    "#fig.update_layout(legend={\"xanchor\": \"center\", \"x\": 0.5, \"y\": 1.0})"
   ]
  },
  {
   "cell_type": "code",
   "execution_count": 14,
   "id": "66bd4690-62cd-47d8-9d11-f076d44b3976",
   "metadata": {},
   "outputs": [
    {
     "data": {
      "text/plain": [
       "0    0\n",
       "1    0\n",
       "2    0\n",
       "3    0\n",
       "Name: offset, dtype: int64"
      ]
     },
     "execution_count": 14,
     "metadata": {},
     "output_type": "execute_result"
    }
   ],
   "source": [
    "df.offset"
   ]
  },
  {
   "cell_type": "code",
   "execution_count": null,
   "id": "5cf41c4a-9f68-4e76-b88e-2f17d9dc08ea",
   "metadata": {},
   "outputs": [],
   "source": []
  }
 ],
 "metadata": {
  "kernelspec": {
   "display_name": "Python 3 (ipykernel)",
   "language": "python",
   "name": "python3"
  },
  "language_info": {
   "codemirror_mode": {
    "name": "ipython",
    "version": 3
   },
   "file_extension": ".py",
   "mimetype": "text/x-python",
   "name": "python",
   "nbconvert_exporter": "python",
   "pygments_lexer": "ipython3",
   "version": "3.10.12"
  }
 },
 "nbformat": 4,
 "nbformat_minor": 5
}
